{
 "cells": [
  {
   "cell_type": "markdown",
   "id": "3b624e60",
   "metadata": {},
   "source": [
    "# **Process Mining y AI Agents basados en LLM y uso de Técnicas RAG para la optimización de procesos hospitalarios.**\n",
    "## **Chatbot AI Event Log Generator**\n",
    "\n",
    "**Autor**: Sergio Arias Ruiz  \n",
    "**Área TFM**: Área 3  \n",
    "**Fecha**: Mayo 2025  \n",
    "**Repositorio**: [Github-AI Event Log Generator](https://github.com/sariasruiz/AIeventLogGenerator)  \n",
    "**Universitat Oberta de Catalunya**\n"
   ]
  },
  {
   "cell_type": "markdown",
   "id": "ac6fc7f4-2c1d-4c29-be5e-b648173195ce",
   "metadata": {},
   "source": [
    "### **Experimento Controlado de evaluación del AI Agent experto en generación de scripts SQL para la extracción de logs de eventos en bases de datos Hospitalarias.**\n",
    "\n",
    "### **1. Resumen Método.**\n",
    "\n",
    "### **1.1. Sistema propuesto.**\n",
    "\n",
    "Se desarrolló un **AI Agent** basado en **RAG (Retrieval-Augmented Generation)** que genera *scripts* SQL para extraer logs de eventos a partir del *conocimiento* estructural de la base de datos corporativa. El flujo incluye cuatro componentes principales (Fig. 1):\n",
    "\n",
    "| Nº | Componente | Configuración |\n",
    "|----|------------|---------------|\n",
    "|1|**AI Agent LLM para tareas de Diálogo**|'gpt-4o-mini', *temperature* = 0.0 (determinista). Formula **5 preguntas metodológicas** y **2 técnicas** para generar el contexto de necesidad del usuario.|\n",
    "|2|**AI Tool 'search_and_generate_sql'**|Accesible por el AI Agent y orquestar la fase RAG y generación de Script SQL.|\n",
    "|3|**Recuperador semántico**|Búsqueda el conocimiento relevante sobre una base vectorial de embeddings del esquema relacional de la base de datos corporativa.|\n",
    "|4|**Doble Cadena de razonamiento LLM**|Dos instancias de 'o4-mini', *temperature* = 1.0.<br> • **R1** genera la primera versión del script.<br> • **R2** revisa y depura la salida de R1.|\n",
    "\n",
    "**Fig. 1.**\n",
    "\n",
    "El Agente sintetiza un contexto en una variable 'user_need' y llama a la AI Tool.  \n",
    "La Tool recupera contexto desde una base de datos vectorial, invoca R1 para generar una primera versión del script y luego R2 para tareas de depuración de errores y mejora visual; la versión mejorada del script se envía directamente al usuario sin pasar por el agente.\n",
    "\n",
    "\n",
    "### **1.2. Resumen Diseño experimental.**\n",
    "\n",
    "**Prompt controlado para reproducir el dataset de [MIMICEL v2.1.0](https://physionet.org/content/mimicel-ed/2.1.0/)** lanzado **20 veces**.  \n",
    "**Carga de datos [MIMIC-IV Módulo ED v2.2](https://physionet.org/content/mimic-iv-ed/2.2/)** utilizando scripts de la publicación de [MIMICEL](https://physionet.org/content/mimicel-ed/2.1.0/).\n",
    "\n",
    "**Para todas las invocaciones a la AI Tool se registraron**:\n",
    "\n",
    "---\n",
    "\n",
    "**Métricas operacionales**:  \n",
    "- **tokens consumidos:** (Total AI Tool, Retriever, Generación SQL, Generación SQL Enhanced)  \n",
    "- **tiempo ejecución:** (Total AI Tool y por componente: Retriever, Generación SQL y Generación SQL Enhanced)  \n",
    "- **coste USD (Tarifas OpenAI Mayo-2025):** (Total AI Tool y por componente: Retriever, Generación SQL y Generación SQL Enhanced).\n",
    "\n",
    "Monitorizan las invocaciones a la AI Tool por parte del AI Agent.\n",
    "\n",
    "**Referencias importantes:**\n",
    "- **Lógica:** *'agent/experiment_log.py'*\n",
    "- **Salida:** *'output/'*\n",
    "- **Formato:** *(JSON File) 'TestToolAgent_'uuid'.json'*\n",
    "\n",
    "---\n",
    "\n",
    "**Para todas las invocaciones a la AI Tool, que devolvieron un script SQL exitoso:**\n",
    "\n",
    "**Éxito de ejecución** = script SQL compila y se ejecuta sin manipulación en (PostgreSQL 16.8).  \n",
    "**15(ne) de 20(n) ejecuciones exitosas.** (n=20, ne=15, tasa éxito: 75 %).\n",
    "\n",
    "**Se registraron las siguientes métricas:**\n",
    "\n",
    "**Métricas de rendimiento de la generación**:\n",
    "\n",
    "Evaluan el rendimiento de la AI Tool en la replicación del dataset de control [MIMICEL](https://physionet.org/content/mimicel-ed/2.1.0/).\n",
    "\n",
    "- **Lógica:** *'results/evaluator.py'* y *'results/result_generator.py'*.  \n",
    "- **Salida:** *'results/json'*  \n",
    "- **Formato:** (JSON File) *'Result_TestToolAgent_'uuid'.json'*  \n",
    "\n",
    "**Nota:**  \n",
    "Los archivos **JSON comparten 'uuid' para garantizar la trazabilidad** de toda la monitorización.\n",
    "\n",
    "**Rendimiento de la generación de columnas** del dataset del control MIMICEL:\n",
    "\n",
    "- **F1 Score**:  Media Armónica entre Precisión y Recall.\n",
    "$$ F_{1_col} = 2 \\cdot \\frac{\\text{Precision}_{col} \\cdot \\text{Recall}_{col}}{\\text{Precision}_{col} + \\text{Recall}_{col}} $$\n",
    "\n",
    "- **Precisión**: Proporción de las columnas generadas por la AI Tool presentes en dataset de control MIMICEL y la totalidad de columnas generadas por la AI Tool.\n",
    "$$ \\text{Precision}_{col} = \\frac{TP_{col}}{TP_{col} + FP_{col}} $$\n",
    "\n",
    "\n",
    "- **Recall**:  Proporción de las columnas generadas por la AI Tool presentes en dataset de control MIMICEL y la totalidad de columnas esperadas en dataset de control.\n",
    "\n",
    "$$ \\text{Recall}_{col} = \\frac{TP_{col}}{TP_{col} + FN_{col}} $$\n",
    "- **True Positive (TP)**: Columnas **esperadas** en dataset de control (MIMICEL) y **generadas** por la AI Tool.\n",
    "- **False Negative (FN)**: Colomnas **esperadas** en dataset de control (MIMICEL) y **no generadas** por la AI Tool.\n",
    "- **False Positive (FP)**: Columnas **no esperadas** en dataset de control (MIMICEL) y **generadas** por la AI Tool.\n",
    "\n",
    "**Rendimiento de la generación de eventos** del dataset del control MIMICEL:\n",
    "\n",
    "- **F1 Score**:  Media Armónica entre Precisión y Recall.\n",
    "$$ F_{1_eve} = 2 \\cdot \\frac{\\text{Precision}_{eve} \\cdot \\text{Recall}_{eve}}{\\text{Precision}_{eve} + \\text{Recall}_{eve}} $$\n",
    "\n",
    "- **Precisión**: Proporción de las eventos generados por la AI Tool presentes en dataset de control MIMICEL y la totalidad de eventos generados por la AI Tool.\n",
    "$$ \\text{Precision}_{eve} = \\frac{TP_{eve}}{TP_{eve} + FP_{eve}} $$\n",
    "\n",
    "\n",
    "- **Recall**:  Proporción de los eventos generados por la AI Tool presentes en dataset de control MIMICEL y la totalidad de eventos esperados en dataset de control.\n",
    "\n",
    "$$ \\text{Recall}_{eve} = \\frac{TP_{eve}}{TP_{eve} + FN_{eve}} $$\n",
    "- **True Positive (TP)**: Eventos **esperados** en dataset de control (MIMICEL) y **generados** por la AI Tool.\n",
    "- **False Negative (FN)**: Eventos **esperados** en dataset de control (MIMICEL) y **no generados** por la AI Tool.\n",
    "- **False Positive (FP)**: Eventos **no esperados** en dataset de control (MIMICEL) y **generados** por la AI Tool.\n",
    "\n",
    "**Rendimiento de la generación de filas** del dataset del control MIMICEL:\n",
    "- **Coverage**: Índice de cobertura entre las filas generadas por la AI Tool y las filas esperadas por el dataset de control MIMICEL.\n",
    " $$ \\text{Coverage} = \\frac{\\text{Rows}_{\\text{AI Tool}}}{\\text{Rows}_{\\text{MIMICEL}}} $$\n",
    "\n",
    "Métrica complementaria. Adquiere valor si viene acompañado de métricas columns_F1 = 1 y events_F1 = 1. En este caso, si coverage=1, significa que el script SQL generado por la AI Tool podría ser una replicación exacta del dataset de control MIMICEL.\n",
    "\n",
    "En caso de aparición, se procedería a revisión manual del script para confirmación.\n",
    "\n",
    "---\n",
    "\n",
    "### **1.3. Análisis estadístico.**\n",
    "\n",
    "1. **Normalidad**: Se realiza test **Shapiro–Wilk** a las ejecuciones exitosas (n = 15).  \n",
    "   * 19 / 29 métricas no superan el test normalidad (p < 0.05).  \n",
    "\n",
    "2. **Intervalos de confianza (IC 95 %)** calculados mediante técnica **Bootstrap** para mantener coherencia de criterio en todas las métricas.\n",
    "\n",
    "3. **Se reportan las métricas de salida** \n",
    "\n",
    "- tamaño de la muestra. \n",
    "- media.\n",
    "- +-desviación estándar. \n",
    "- mediana. \n",
    "- IQR.\n",
    "- mínimo. \n",
    "- máximo.\n",
    "- IC 95 %.  \n",
    "\n",
    "---\n",
    "\n",
    "### **1.4. Reproducibilidad.**\n",
    "*Prompts*, scripts de evaluación y archivos *json* de salida están disponibles en **[Github-AI Event Log Generator](https://github.com/sariasruiz/AIeventLogGenerator)**.\n",
    "\n",
    "**Boostrap:** **librería** 'scipy.stats.bootstrap', **réplicas**='10.000' y **random_state** = '612'.\n",
    "\n",
    "**Parámetros de interés en LLM y embeddings:**\n",
    "\n",
    "| Parámetro | Valor | Configuración |\n",
    "|---|---|---|\n",
    "| modelo base AI Agent | gpt-4o-mini | temperature=0 |\n",
    "| Embeddings (RAG) | text-embedding-3-small | -- |\n",
    "| LLM Razonador 1 (R1) | 04-mini | temperature=1 |\n",
    "| LLM Razonador 2 (R2) | 04-mini | temperature=1 |\n",
    "| Embeddings F1 (columnas y eventos)*  | text-embedding-3-small | --- |\n",
    "\n",
    "**Nota:** *Se utilizó búsqueda semántica para emparejar las columnas y eventos generados por la AI Tool con las columnas y eventos esperados del datase de control [MIMICEL](https://physionet.org/content/mimicel-ed/2.1.0/)*.  \n",
    "*Para ver y auditar el proceso exacto ver 'evaluator.py' en el repositorio del proyecto.*\n",
    "\n",
    "---\n",
    "\n",
    "### **1.4.1 Prompt principal lanzado al AI Agent.**\n",
    "\n",
    "Se diseñó un prompt para intentar describir al detalle en lenguaje natural el daset de control [MIMICEL](https://physionet.org/content/mimicel-ed/2.1.0/).  \n",
    "\n",
    "Al prompt se le incorporaron diferentes elementos de control, con intencionalidad de forzar y confundir a los 2 modelos razonadores con tablas inexistentes o campos que no se podían extraer del conocimiento precargado. \n",
    "\n",
    "**Elementos inexistentes incorporados al prompt**:\n",
    "- id de intervención quirúrgica.\n",
    "- Evento de pruebas de laboratorio.\n",
    "- Evento de pruebas radiológicas.\n",
    "- Atributo edad del paciente.\n",
    "\n",
    "**Elementos ambiguos incorporados al prompt**:\n",
    "- Durante la conciliación de medicamentos, **no tengo claro que campos podemos obtener, incorpora todos los campos posibles como atributo.**\n",
    "- Durante la dispensación de medicamentos, **me ocurre lo mismo, no tengo claro que podemos obtener, introduce todos los campos posibles como atributo.**\n",
    "- De la llegada del paciente: El medio de llegada del paciente, el género, la edad y **si hay más campos disponibles captúralos.**\n",
    "\n",
    "**Prompt base:**  \n",
    "```prompt\n",
    "Objetivo: Generar un log de eventos, que involucre todo el módulo de urgencias, para trazar los eventos generados en el servicio de extremo a extremo.\n",
    "\n",
    "Grupo de pacientes: Toda la población en general.\n",
    "\n",
    "Identificadores únicos: Quiero poder captura el id del paciente, la id de estancia en urgencias, y en el caso de que dispongan, la id de estancia hospitalaria, y la id de intervención quirúrgica.\n",
    "\n",
    "Eventos a capturar:\n",
    "- Llegada del paciente de urgencias (con el nombre de 'Entrada a Urgencias (ED)').\n",
    "- Alta del paciente (con el nombre de 'Salida de Urgencias (ED)').\n",
    "- Triaje del paciente (con el nombre 'Triaje en Urgencias (ED)').\n",
    "- Toma de constantes vitales mientras está en urgencias (con el nombre de 'Toma de Constantes Vitales').\n",
    "- La entrevista de conciliación de medicamento (con el nombre 'Conciliación de Medicamentos').\n",
    "- La dispensación de medicamentos (bajo el nombre de 'Dispensación de Medicamentos').\n",
    "- Las pruebas de laboratorio (bajo el nombre de 'Pruebas de Laboratorio')\n",
    "- Y por último el evento de pruebas radiológicas. (bajo el nombre de 'Pruebas Radiológicas')\n",
    "\n",
    "Como atributos en los siguientes eventos:\n",
    "- De la llegada del paciente: El medio de llegada del paciente, el género, la edad y si hay más campos disponibles captúralos.\n",
    "- Del alta del paciente: Me gustaría registrar el motivo de alta, toda la secuencia de códigos de diagnósticos, descripciones y la versiones de codificación utilizada.\n",
    "- Del triaje: Me gustaría obtener el nivel de triaje, todas las tomas de constantes vitales realizadas en triaje, y campos de texto libre si existen.\n",
    "- De la toma de constantes vitales, me gustaría al igual que en Triaje, todas las tomas de constantes vitales.\n",
    "- Durante la conciliación de medicamentos, no tengo claro que campos podemos obtener, incorpora todos los campos posibles como atributo.\n",
    "- Durante la dispensación de medicamentos, me ocurre lo mismo, no tengo claro que podemos obtener, introduce todos los campos posibles como atributo.\n",
    "- De las pruebas de laboratorio, me gustaría capturar el nombre de tipo de prueba.\n",
    "- Del evento de pruebas radiológicas, me gustaría capturar el nombre de tipo de prueba.\n",
    "\n",
    "Validación de datos:\n",
    "- Las estancias deberían ser: 'llegada a Urgencias (ED)' < 'Alta de Urgencias (ED)'\n",
    "- Además se debe cumplir que: \n",
    "  1. 'Toma de Constantes Vitales' <= 'Alta de Urgencias (ED)'\n",
    "  2. 'Dispensación de Medicamentos' <= 'Alta de Urgencias (ED)'\n",
    "  3. 'Conciliación de Medicamentos' <= 'Alta de Urgencias (ED)'\n",
    "\n",
    "Orden de datos:\n",
    "Quiero ordenar el resultado por orden de id paciente ascendente y por marca de tiempo del evento ascendente.\n",
    "```\n",
    "\n",
    "---"
   ]
  },
  {
   "cell_type": "markdown",
   "id": "b7df5150-cf42-4cd4-92eb-fbfdfc7d194a",
   "metadata": {},
   "source": [
    "### **1. Definición de funciones para el procesado de resultados**"
   ]
  },
  {
   "cell_type": "code",
   "execution_count": 1,
   "id": "49655bae-81fd-4b9b-afba-3fde94e65a0b",
   "metadata": {},
   "outputs": [],
   "source": [
    "import os\n",
    "import json\n",
    "import pandas as pd\n",
    "from pathlib import Path\n",
    "import plotly.express as px\n",
    "import plotly.graph_objects as go\n",
    "import numpy as np\n",
    "from scipy.stats import bootstrap, shapiro\n",
    "\n",
    "\n",
    "# Carga métricas de invocación de la AI Tool\n",
    "def load_json(path_json_output: str, path_json_results: str) -> tuple[list[dict], list[dict]]:\n",
    "    \"\"\"\n",
    "    Función que carga los datos de los archivos JSON de las invocaciones de la AI Tool y los resultados.\n",
    "    \n",
    "    Necesita de:\n",
    "        path_json_output: Ruta a la carpeta con archivos donde se ubiquen las TestToolAgent_*.json\n",
    "        path_json_results: Ruta a la carpeta con archivos de resultados donde se ubiquen los Result_TestToolAgent_*.json\n",
    "        \n",
    "    Nos devuelve:\n",
    "        Tupla con dos listas de diccionarios conteniendo los datos cargados\n",
    "    \"\"\"\n",
    "    datos_output = []\n",
    "    datos_results = []\n",
    "\n",
    "    try:\n",
    "        carpeta_output = Path(path_json_output)\n",
    "        carpeta_results = Path(path_json_results)\n",
    "        \n",
    "        if not carpeta_output.exists():\n",
    "            raise FileNotFoundError(f\"Carpeta no encontrada: {path_json_output}\")\n",
    "        if not carpeta_results.exists():\n",
    "            raise FileNotFoundError(f\"Carpeta no encontrada: {path_json_results}\")\n",
    "        \n",
    "        archivos_outputs = list(carpeta_output.glob(\"TestToolAgent_*.json\"))\n",
    "        archivos_results = list(carpeta_results.glob(\"Result_TestToolAgent_*.json\"))\n",
    "\n",
    "        if not archivos_outputs:\n",
    "            raise ValueError(f\"No existen archivos en {path_json_output}\")\n",
    "        if not archivos_results:\n",
    "            raise ValueError(f\"No existen archivos en {path_json_results}\")\n",
    "\n",
    "        # Cargar invocaciones de la AI Tool TestToolAgent_*.json\n",
    "        for path_output in archivos_outputs:\n",
    "            uuid = path_output.stem.replace(\"TestToolAgent_\", \"\")\n",
    "            try:\n",
    "                with open(path_output, 'r', encoding='utf-8') as f_out:\n",
    "                    output_data = json.load(f_out)\n",
    "                datos_output.append({\n",
    "                    \"uuid\": uuid,\n",
    "                    \"output\": output_data\n",
    "                })\n",
    "            except json.JSONDecodeError as e:\n",
    "                print(f\"Error de formato JSON en {path_output.name}: {e}\")\n",
    "            except Exception as e:\n",
    "                print(f\"Error al cargar {path_output.name}: {e}\")\n",
    "        \n",
    "        # Cargar resultados de la AI Tool Result_TestToolAgent_*.json\n",
    "        for path_results in archivos_results:\n",
    "            uuid = path_results.stem.replace(\"Result_TestToolAgent_\", \"\")\n",
    "            try:\n",
    "                with open(path_results, 'r', encoding='utf-8') as f_results:\n",
    "                    results_data = json.load(f_results)\n",
    "                datos_results.append({\n",
    "                    \"uuid\": uuid,\n",
    "                    \"results\": results_data\n",
    "                })\n",
    "            except json.JSONDecodeError as e:\n",
    "                print(f\"Error de formato JSON en {path_results.name}: {e}\")\n",
    "            except Exception as e:\n",
    "                print(f\"Error al cargar {path_results.name}: {e}\")\n",
    "        \n",
    "        # Verificar que todos los UUIDs coincidan\n",
    "        output_uuids = {d[\"uuid\"] for d in datos_output}\n",
    "        results_uuids = {d[\"uuid\"] for d in datos_results}\n",
    "        \n",
    "        # Verificamos que tenemos emparejadas todas las uuid de invocaciones y resultados.\n",
    "        if output_uuids != results_uuids:\n",
    "            print(\"Advertencia: Los UUIDs no coinciden entre outputs y results\")\n",
    "            print(f\"UUIDs en outputs pero no en results: {output_uuids - results_uuids}\")\n",
    "            print(f\"UUIDs en results pero no en outputs: {results_uuids - output_uuids}\")\n",
    "        \n",
    "        return datos_output, datos_results\n",
    "        \n",
    "    except Exception as e:\n",
    "        print(f\"Error general en load_json: {e}\")\n",
    "        return [], []\n",
    "\n",
    "# Generación del dataframe con las métricas más relevantes\n",
    "def dataframe_outputs(lista_outputs):\n",
    "    \"\"\"\n",
    "    Función para convertir los datos recuperados de los archivos JSON \n",
    "    de las invocaciones de la AI Tool en un dataframe.\n",
    "\n",
    "    Necesita la lista de la función load_json de la posición 0.\n",
    "\n",
    "    Genera el dataframe con las métricas indicadas en la función.\n",
    "    \"\"\"\n",
    "    filas = []\n",
    "    for d in lista_outputs:\n",
    "        o = d[\"output\"]\n",
    "        filas.append({\n",
    "            \"uuid\": d[\"uuid\"],\n",
    "            \"datetime\": o.get(\"datetime\"),\n",
    "            \"tokens_total_tool\": o.get(\"tokens_total_tool\"),\n",
    "            \"tokens_total_retriever_embedding\": o.get(\"tokens_total_retriever_embedding\"),\n",
    "            \"tokens_total_sql_generation\": o.get(\"tokens_total_sql_generation\"),\n",
    "            \"tokens_prompt_sql_generation\": o.get(\"tokens_prompt_sql_generation\"),\n",
    "            \"tokens_completion_sql_generation\": o.get(\"tokens_completion_sql_generation\"),\n",
    "            \"tokens_total_sql_generation_enhanced\": o.get(\"tokens_total_sql_generation_enhanced\"),\n",
    "            \"tokens_prompt_sql_generation_enhanced\": o.get(\"tokens_prompt_sql_generation_enhanced\"),\n",
    "            \"tokens_completion_sql_generation_enhanced\": o.get(\"tokens_completion_sql_generation_enhanced\"),\n",
    "            \"total_cost_tool_in_dollars\": o.get(\"total_cost_tool_in_dollars\"),\n",
    "            \"total_cost_retriever_embedding_in_dollars\": o.get(\"total_cost_retriever_embedding_in_dollars\"),\n",
    "            \"total_cost_sql_generation_in_dollars\": o.get(\"total_cost_sql_generation_in_dollars\"),\n",
    "            \"total_cost_sql_generation_enhanced_in_dollars\": o.get(\"total_cost_sql_generation_enhanced_in_dollars\"),\n",
    "            \"time_in_seconds_total\": o.get(\"time_in_seconds_total\"),\n",
    "            \"time_in_seconds_retriever\": o.get(\"time_in_seconds_retriever\"),\n",
    "            \"time_in_seconds_sql_generation\": o.get(\"time_in_seconds_sql_generation\"),\n",
    "            \"time_in_seconds_sql_generation_enhanced\": o.get(\"time_in_seconds_sql_generation_enhanced\")\n",
    "        })\n",
    "    return pd.DataFrame(filas)\n",
    "\n",
    "# Generación del dataframe con las métricas más relevantes de la AI Tool vs MIMICEL (benchmark)\n",
    "def dataframe_results(lista_results):\n",
    "    \"\"\"\n",
    "    Función para convertir los datos recuperados de los archivos JSON \n",
    "    de los resultados de las invocaciones de la AI Tool vs MIMICEL (benchmark)\n",
    "    en un dataframe.\n",
    "\n",
    "    Necesita la lista de la función load_json de la posición 1.\n",
    "\n",
    "    Genera el dataframe con las métricas indicadas en la función.\n",
    "    \"\"\"\n",
    "    filas = []\n",
    "    for d in lista_results:\n",
    "        o = d[\"results\"]\n",
    "        filas.append({\n",
    "            \"uuid\": d[\"uuid\"],\n",
    "            \"evaluation_datetime\": o.get(\"evaluation_datetime\"),\n",
    "            \"execution_ok\": o.get(\"execution_ok\"),\n",
    "            \"coverage\": o.get(\"coverage\"),\n",
    "            \"openai_model\": o.get(\"openai_model\"),\n",
    "            \"columns_f1\": o.get(\"columns_f1\"),\n",
    "            \"columns_precision\": o.get(\"columns_precision\"),\n",
    "            \"columns_recall\": o.get(\"columns_recall\"),\n",
    "            \"columns_TP\": o.get(\"columns_TP\"),\n",
    "            \"columns_FP\": o.get(\"columns_FP\"),\n",
    "            \"columns_FN\": o.get(\"columns_FN\"),\n",
    "            \"events_f1\": o.get(\"events_f1\"),\n",
    "            \"events_precision\": o.get(\"events_precision\"),\n",
    "            \"events_recall\": o.get(\"events_recall\"),\n",
    "            \"events_TP\": o.get(\"events_TP\"),\n",
    "            \"events_FP\": o.get(\"events_FP\"),\n",
    "            \"events_FN\": o.get(\"events_FN\"),\n",
    "            \"columns_num_benchmark\": o.get(\"columns_num_benchmark\"),\n",
    "            \"events_num_benchmark\": o.get(\"events_num_benchmark\"),\n",
    "            \"columns_num_ai_tool\": o.get(\"columns_num_ai_tool\"),\n",
    "            \"events_num_ai_tool\": o.get(\"events_num_ai_tool\"),\n",
    "            \"total_rows_benchmark\": o.get(\"total_rows_benchmark\"),\n",
    "            \"total_rows_ai_tool\": o.get(\"total_rows_ai_tool\"),\n",
    "        })\n",
    "    return pd.DataFrame(filas)\n",
    "\n",
    "def boxplot(df, title=\"Boxplot\", value_name=\"valor\", category_name=\"categoría\"):\n",
    "    \"\"\"\n",
    "    Función genérica para visualizaciones boxplots\n",
    "    en plolty express\n",
    "\n",
    "    Necesita:\n",
    "    df: dataframe con los datos\n",
    "    title: título del gráfico\n",
    "    value_name: nombre de la columna con los valores a representar\n",
    "    category_name: nombre de la columna con las categorías\n",
    "\n",
    "    Devuelve:\n",
    "    fig: figura de plotly\n",
    "    \"\"\"\n",
    "    df_melted = df.melt(\n",
    "        id_vars=[\"uuid\"], \n",
    "        var_name=category_name, \n",
    "        value_name=value_name\n",
    "    )\n",
    "    fig = px.box(\n",
    "        df_melted, \n",
    "        x=category_name, \n",
    "        y=value_name, \n",
    "        title=title, \n",
    "        boxmode='group',\n",
    "        width=1000,\n",
    "        height=500,\n",
    "        color_discrete_sequence=['#000000'] )\n",
    "    \n",
    "    fig.update_layout(\n",
    "        plot_bgcolor='white',\n",
    "        paper_bgcolor='white',\n",
    "        boxgap=0.3,\n",
    "        boxgroupgap=0.3,\n",
    "    )\n",
    "    fig.show()\n",
    "\n",
    "def heatmap(df, \n",
    "            value_columns, \n",
    "            title, \n",
    "            text_format='%{text}', \n",
    "            height=400):\n",
    "    \"\"\"\n",
    "    Crea una matriz de calor (heatmap) usando plotly.\n",
    "    \n",
    "    Necesota:\n",
    "        df: DataFrame con los datos\n",
    "        value_columns: Lista de columnas a mostrar en el heatmap\n",
    "        title: Título del gráfico\n",
    "        text_format: Formato para mostrar los valores en las celdas 'Ejemplo: %{text:.2f}'\n",
    "        height: Altura del gráfico (píxeles), en número entero.\n",
    "    \n",
    "    Devuelve:\n",
    "        fig: figura de plotly\n",
    "    \"\"\"\n",
    "    # Adecuamos el dataframe a lo que necesita plotly\n",
    "    df_melted = df.melt(id_vars='uuid', \n",
    "                        value_vars=value_columns,\n",
    "                        var_name='Metric', \n",
    "                        value_name='Value')\n",
    "\n",
    "    # Crear el DataFrame pivotado\n",
    "    df_pivot = df_melted.pivot(index='uuid', columns='Metric', values='Value')\n",
    "    df_pivot = df_pivot.reindex(df['uuid'])  # Es necesario para que el orden funcione correctamente\n",
    "\n",
    "    # Creación del heatmap\n",
    "    fig = go.Figure(data=go.Heatmap(\n",
    "        z=df_pivot.values,\n",
    "        x=df_pivot.columns,\n",
    "        y=df_pivot.index,\n",
    "        colorscale='Greys',\n",
    "        text=df_pivot.values,\n",
    "        texttemplate=text_format,\n",
    "        textfont={\"size\": 14},\n",
    "        hoverongaps=False\n",
    "    ))\n",
    "\n",
    "    # Configuración adicional de capa\n",
    "    fig.update_layout(\n",
    "        title=title,\n",
    "        xaxis_title='Métrica',\n",
    "        yaxis_title='UUID',\n",
    "        height=height\n",
    "    )\n",
    "    \n",
    "    return fig\n",
    "\n",
    "def bootstrap_ci(\n",
    "        series: pd.Series,\n",
    "        stat_func=np.mean,\n",
    "        confidence_level: float = 0.95,\n",
    "        n_resamples: int = 10_000,\n",
    "        random_state: int = 612\n",
    "    ):\n",
    "    \"\"\"\n",
    "    Intervalo de confianza bootstrap\n",
    "    \"\"\"\n",
    "    # Hay que borrar los NaN antes de aplicar la función.\n",
    "    # No tenemos en este experimento, pero lo dejamos por buena práctica\n",
    "    data = series.dropna().to_numpy()\n",
    "    # Se aplica según la documentación de scipy.\n",
    "    results = bootstrap(\n",
    "        (data,),\n",
    "        stat_func,\n",
    "        confidence_level=confidence_level,\n",
    "        n_resamples=n_resamples,\n",
    "        method=\"percentile\", # Método más común\n",
    "        random_state=random_state\n",
    "    )\n",
    "    return results.confidence_interval.low, results.confidence_interval.high\n",
    "\n",
    "def df_metrics_bootstrap(\n",
    "        df: pd.DataFrame,\n",
    "        stat_func = np.mean,\n",
    "        confidence_level: float = 0.95,\n",
    "        n_resamples: int = 10_000,\n",
    "        random_state: int = 612\n",
    "    ) -> pd.DataFrame:\n",
    "    \"\"\"\n",
    "    Genera resultado final de métricas de la AI Tool.\n",
    "\n",
    "    Le da los parámetros a la `función bootstrap_ci`\n",
    "    Es necesaria esta función.\n",
    "\n",
    "    Necesita:\n",
    "    - df: dataframe con las métricas de la AI Tool.\n",
    "    - stat_func: función de estadística a aplicar.\n",
    "    - confidence_level: nivel de confianza.\n",
    "    - n_resamples: número de resamples.\n",
    "    - random_state: semilla para reproducibilidad.\n",
    "\n",
    "    Devuelve Tupla con todo lo calculado:\n",
    "    - dataframe con las métricas finales:\n",
    "            - metrica: nombre de la métrica.\n",
    "            - n: número de observaciones.\n",
    "            - mean: media.\n",
    "            - median: mediana.\n",
    "            - std: desviación estándar.\n",
    "            - iqr: rango intercuartílico.\n",
    "            - min_val: valor mínimo.\n",
    "            - max_val: valor máximo.\n",
    "            - low: límite inferior del intervalo de confianza.\n",
    "            - high: límite superior del intervalo de confianza.\n",
    "    \"\"\"\n",
    "    # Capturamos columnas tipo numéricas                    \n",
    "    columns = df.select_dtypes(include=[np.number]).columns\n",
    "\n",
    "    full_stats = []\n",
    "    for col in columns:\n",
    "        s = df[col].dropna()\n",
    "        low, high = bootstrap_ci(\n",
    "            s, stat_func=stat_func,\n",
    "            confidence_level=confidence_level,\n",
    "            n_resamples=n_resamples,\n",
    "            random_state=random_state\n",
    "        )\n",
    "\n",
    "        full_stats.append({\n",
    "            \"metric\": col,\n",
    "            \"n\": len(s),\n",
    "            \"mean\": round(s.mean(), 3),\n",
    "            \"median\": round(s.median(), 3),\n",
    "            \"std\": round(s.std(\n",
    "                ddof=1 # Nuestro caso es una muestra.\n",
    "                ), 3),\n",
    "            \"IQR\": round(s.quantile(0.75) - s.quantile(0.25), 3),\n",
    "            \"min\": round(s.min(), 3),\n",
    "            \"max\": round(s.max(), 3),\n",
    "            \"bootstrap_ci95_low\": round(low, 3),\n",
    "            \"bootstrap_ci95_high\": round(high, 3)\n",
    "        })\n",
    "\n",
    "    return pd.DataFrame(full_stats)"
   ]
  },
  {
   "cell_type": "markdown",
   "id": "b6a20b37",
   "metadata": {},
   "source": [
    "### **2. Generación de conjunto de datos básicos**"
   ]
  },
  {
   "cell_type": "code",
   "execution_count": 2,
   "id": "30c6746d-2d95-4df9-b811-2f97e88f229b",
   "metadata": {},
   "outputs": [],
   "source": [
    "# Definimos los directorios de los json\n",
    "carpeta_outputs = Path.cwd().parent / \"output\"\n",
    "carpeta_results = Path.cwd().parent / \"results/json\"\n",
    "\n",
    "# Cargamos los datos de las invocaciones y los resultados\n",
    "lista_outputs, lista_results = load_json(carpeta_outputs, carpeta_results)\n",
    "\n",
    "# Generamos los dataframes de interés\n",
    "df_outputs = dataframe_outputs(lista_outputs)\n",
    "df_results = dataframe_results(lista_results)\n",
    "\n",
    "# Fusionamos los dataframes para unificar los datos\n",
    "df_results_merged = pd.merge(df_outputs, df_results, on='uuid', how='inner')\n",
    "\n",
    "# Borrar las columnas datetime que no son necesarias para el análisis.\n",
    "df_results_clean = df_results_merged.drop(columns=['datetime', 'evaluation_datetime']).copy()\n"
   ]
  },
  {
   "cell_type": "code",
   "execution_count": 3,
   "id": "f2e6bd34",
   "metadata": {},
   "outputs": [
    {
     "name": "stdout",
     "output_type": "stream",
     "text": [
      "\n",
      "Comprovación de carga de datos y fusión de dataframes:\n"
     ]
    },
    {
     "data": {
      "text/html": [
       "<div>\n",
       "<style scoped>\n",
       "    .dataframe tbody tr th:only-of-type {\n",
       "        vertical-align: middle;\n",
       "    }\n",
       "\n",
       "    .dataframe tbody tr th {\n",
       "        vertical-align: top;\n",
       "    }\n",
       "\n",
       "    .dataframe thead th {\n",
       "        text-align: right;\n",
       "    }\n",
       "</style>\n",
       "<table border=\"1\" class=\"dataframe\">\n",
       "  <thead>\n",
       "    <tr style=\"text-align: right;\">\n",
       "      <th></th>\n",
       "      <th>uuid</th>\n",
       "      <th>tokens_total_tool</th>\n",
       "      <th>tokens_total_retriever_embedding</th>\n",
       "      <th>tokens_total_sql_generation</th>\n",
       "      <th>tokens_prompt_sql_generation</th>\n",
       "      <th>tokens_completion_sql_generation</th>\n",
       "      <th>tokens_total_sql_generation_enhanced</th>\n",
       "      <th>tokens_prompt_sql_generation_enhanced</th>\n",
       "      <th>tokens_completion_sql_generation_enhanced</th>\n",
       "      <th>total_cost_tool_in_dollars</th>\n",
       "      <th>...</th>\n",
       "      <th>events_recall</th>\n",
       "      <th>events_TP</th>\n",
       "      <th>events_FP</th>\n",
       "      <th>events_FN</th>\n",
       "      <th>columns_num_benchmark</th>\n",
       "      <th>events_num_benchmark</th>\n",
       "      <th>columns_num_ai_tool</th>\n",
       "      <th>events_num_ai_tool</th>\n",
       "      <th>total_rows_benchmark</th>\n",
       "      <th>total_rows_ai_tool</th>\n",
       "    </tr>\n",
       "  </thead>\n",
       "  <tbody>\n",
       "    <tr>\n",
       "      <th>0</th>\n",
       "      <td>c3586acd-7397-43a4-837d-fd51f241dbc0</td>\n",
       "      <td>42083</td>\n",
       "      <td>410</td>\n",
       "      <td>21236</td>\n",
       "      <td>13585</td>\n",
       "      <td>7651</td>\n",
       "      <td>20437</td>\n",
       "      <td>16232</td>\n",
       "      <td>4205</td>\n",
       "      <td>0.08</td>\n",
       "      <td>...</td>\n",
       "      <td>0.00</td>\n",
       "      <td>0</td>\n",
       "      <td>0</td>\n",
       "      <td>0</td>\n",
       "      <td>0</td>\n",
       "      <td>0</td>\n",
       "      <td>0</td>\n",
       "      <td>0</td>\n",
       "      <td>0</td>\n",
       "      <td>0</td>\n",
       "    </tr>\n",
       "    <tr>\n",
       "      <th>1</th>\n",
       "      <td>07ffec4c-0015-418c-93d0-aaf87f35919d</td>\n",
       "      <td>43776</td>\n",
       "      <td>440</td>\n",
       "      <td>21253</td>\n",
       "      <td>13615</td>\n",
       "      <td>7638</td>\n",
       "      <td>22083</td>\n",
       "      <td>16636</td>\n",
       "      <td>5447</td>\n",
       "      <td>0.09</td>\n",
       "      <td>...</td>\n",
       "      <td>1.00</td>\n",
       "      <td>6</td>\n",
       "      <td>0</td>\n",
       "      <td>0</td>\n",
       "      <td>31</td>\n",
       "      <td>6</td>\n",
       "      <td>39</td>\n",
       "      <td>6</td>\n",
       "      <td>7568824</td>\n",
       "      <td>7577679</td>\n",
       "    </tr>\n",
       "    <tr>\n",
       "      <th>2</th>\n",
       "      <td>b651da68-e45f-4eb6-8119-b2b0a248d470</td>\n",
       "      <td>42817</td>\n",
       "      <td>408</td>\n",
       "      <td>20122</td>\n",
       "      <td>13582</td>\n",
       "      <td>6540</td>\n",
       "      <td>22287</td>\n",
       "      <td>16212</td>\n",
       "      <td>6075</td>\n",
       "      <td>0.09</td>\n",
       "      <td>...</td>\n",
       "      <td>0.83</td>\n",
       "      <td>5</td>\n",
       "      <td>1</td>\n",
       "      <td>1</td>\n",
       "      <td>31</td>\n",
       "      <td>6</td>\n",
       "      <td>29</td>\n",
       "      <td>6</td>\n",
       "      <td>7568824</td>\n",
       "      <td>7576640</td>\n",
       "    </tr>\n",
       "    <tr>\n",
       "      <th>3</th>\n",
       "      <td>0e830609-62a3-4f2d-8912-64a3b4ca0227</td>\n",
       "      <td>40599</td>\n",
       "      <td>502</td>\n",
       "      <td>19125</td>\n",
       "      <td>13670</td>\n",
       "      <td>5455</td>\n",
       "      <td>20972</td>\n",
       "      <td>16041</td>\n",
       "      <td>4931</td>\n",
       "      <td>0.08</td>\n",
       "      <td>...</td>\n",
       "      <td>1.00</td>\n",
       "      <td>6</td>\n",
       "      <td>0</td>\n",
       "      <td>0</td>\n",
       "      <td>31</td>\n",
       "      <td>6</td>\n",
       "      <td>30</td>\n",
       "      <td>6</td>\n",
       "      <td>7568824</td>\n",
       "      <td>7576432</td>\n",
       "    </tr>\n",
       "    <tr>\n",
       "      <th>4</th>\n",
       "      <td>c1e6c798-0c39-4b3b-8c99-92d78debfe73</td>\n",
       "      <td>40129</td>\n",
       "      <td>502</td>\n",
       "      <td>18435</td>\n",
       "      <td>13670</td>\n",
       "      <td>4765</td>\n",
       "      <td>21192</td>\n",
       "      <td>16759</td>\n",
       "      <td>4433</td>\n",
       "      <td>0.07</td>\n",
       "      <td>...</td>\n",
       "      <td>0.00</td>\n",
       "      <td>0</td>\n",
       "      <td>0</td>\n",
       "      <td>0</td>\n",
       "      <td>0</td>\n",
       "      <td>0</td>\n",
       "      <td>0</td>\n",
       "      <td>0</td>\n",
       "      <td>0</td>\n",
       "      <td>0</td>\n",
       "    </tr>\n",
       "  </tbody>\n",
       "</table>\n",
       "<p>5 rows × 38 columns</p>\n",
       "</div>"
      ],
      "text/plain": [
       "                                   uuid  tokens_total_tool  \\\n",
       "0  c3586acd-7397-43a4-837d-fd51f241dbc0              42083   \n",
       "1  07ffec4c-0015-418c-93d0-aaf87f35919d              43776   \n",
       "2  b651da68-e45f-4eb6-8119-b2b0a248d470              42817   \n",
       "3  0e830609-62a3-4f2d-8912-64a3b4ca0227              40599   \n",
       "4  c1e6c798-0c39-4b3b-8c99-92d78debfe73              40129   \n",
       "\n",
       "   tokens_total_retriever_embedding  tokens_total_sql_generation  \\\n",
       "0                               410                        21236   \n",
       "1                               440                        21253   \n",
       "2                               408                        20122   \n",
       "3                               502                        19125   \n",
       "4                               502                        18435   \n",
       "\n",
       "   tokens_prompt_sql_generation  tokens_completion_sql_generation  \\\n",
       "0                         13585                              7651   \n",
       "1                         13615                              7638   \n",
       "2                         13582                              6540   \n",
       "3                         13670                              5455   \n",
       "4                         13670                              4765   \n",
       "\n",
       "   tokens_total_sql_generation_enhanced  \\\n",
       "0                                 20437   \n",
       "1                                 22083   \n",
       "2                                 22287   \n",
       "3                                 20972   \n",
       "4                                 21192   \n",
       "\n",
       "   tokens_prompt_sql_generation_enhanced  \\\n",
       "0                                  16232   \n",
       "1                                  16636   \n",
       "2                                  16212   \n",
       "3                                  16041   \n",
       "4                                  16759   \n",
       "\n",
       "   tokens_completion_sql_generation_enhanced  total_cost_tool_in_dollars  ...  \\\n",
       "0                                       4205                        0.08  ...   \n",
       "1                                       5447                        0.09  ...   \n",
       "2                                       6075                        0.09  ...   \n",
       "3                                       4931                        0.08  ...   \n",
       "4                                       4433                        0.07  ...   \n",
       "\n",
       "   events_recall  events_TP  events_FP  events_FN  columns_num_benchmark  \\\n",
       "0           0.00          0          0          0                      0   \n",
       "1           1.00          6          0          0                     31   \n",
       "2           0.83          5          1          1                     31   \n",
       "3           1.00          6          0          0                     31   \n",
       "4           0.00          0          0          0                      0   \n",
       "\n",
       "   events_num_benchmark  columns_num_ai_tool  events_num_ai_tool  \\\n",
       "0                     0                    0                   0   \n",
       "1                     6                   39                   6   \n",
       "2                     6                   29                   6   \n",
       "3                     6                   30                   6   \n",
       "4                     0                    0                   0   \n",
       "\n",
       "   total_rows_benchmark total_rows_ai_tool  \n",
       "0                     0                  0  \n",
       "1               7568824            7577679  \n",
       "2               7568824            7576640  \n",
       "3               7568824            7576432  \n",
       "4                     0                  0  \n",
       "\n",
       "[5 rows x 38 columns]"
      ]
     },
     "metadata": {},
     "output_type": "display_data"
    }
   ],
   "source": [
    "if not df_results_merged.empty:\n",
    "    print(\"\\nComprovación de carga de datos y fusión de dataframes:\")\n",
    "    display(df_results_clean.head(5).round(2))\n",
    "else:\n",
    "    print(\"Dataframe sin datos\")"
   ]
  },
  {
   "cell_type": "markdown",
   "id": "c184d689",
   "metadata": {},
   "source": [
    "### **3. Preparación conjunto de datos especializados.**"
   ]
  },
  {
   "cell_type": "code",
   "execution_count": 4,
   "id": "ea6055f4",
   "metadata": {},
   "outputs": [],
   "source": [
    "# Limpieza df_result separar execution_ok: 1 y execution_ok: 0\n",
    "# Es necesario separar de la muestra las ejecuciones que fueron exitosas y las que no.\n",
    "df_results_ok = df_results_clean[df_results_clean['execution_ok'] == 1].copy()\n",
    "df_results_no_ok = df_results_clean[df_results_clean['execution_ok'] == 0].copy()\n",
    "df_results_execution = df_results_clean[['uuid', 'execution_ok']].copy()\n",
    "# Conteo de todos los casos (tanto exitosos como no exitosos)\n",
    "total_cases = df_results_execution['execution_ok'].value_counts()\n",
    "\n",
    "# Cálculo de proporción correcto\n",
    "prop_exec = (total_cases / len(df_results_execution)) * 100\n",
    "\n",
    "# Dataframe resumen de éxito de ejecución\n",
    "df_results_execution_summary = pd.DataFrame({\n",
    "    'Execution': ['Script SQL: ejecutó', 'Script SQL: no ejecutó'],\n",
    "    'Count': [total_cases.get(1, 0), total_cases.get(0, 0)],\n",
    "    '%': [prop_exec.get(1, 0), prop_exec.get(0, 0)]\n",
    "})\n",
    "\n",
    "### Análisis de tiempos de ejecución\n",
    "df_tiempos = df_outputs[[\n",
    "    \"uuid\",\n",
    "    \"time_in_seconds_total\",\n",
    "    \"time_in_seconds_retriever\",\n",
    "    \"time_in_seconds_sql_generation\",\n",
    "    \"time_in_seconds_sql_generation_enhanced\"\n",
    "]].copy()\n",
    "\n",
    "### Análisis de tokens consumidos\n",
    "# DataFrame separado para análisis de tokens consumidos\n",
    "df_tokens = df_outputs[[\n",
    "    \"uuid\",\n",
    "    \"tokens_total_tool\",\n",
    "    \"tokens_total_retriever_embedding\",\n",
    "    \"tokens_total_sql_generation\",\n",
    "    \"tokens_total_sql_generation_enhanced\",\n",
    "    \"tokens_prompt_sql_generation\",\n",
    "    \"tokens_prompt_sql_generation_enhanced\",\n",
    "    \"tokens_completion_sql_generation\",\n",
    "    \"tokens_completion_sql_generation_enhanced\"\n",
    "]].copy()\n",
    "\n",
    "# Tokens totales\n",
    "df_tokens_totales = df_tokens[\n",
    "    [\n",
    "        \"uuid\",\n",
    "        \"tokens_total_tool\",\n",
    "        \"tokens_total_retriever_embedding\", \n",
    "        \"tokens_total_sql_generation\",\n",
    "        \"tokens_total_sql_generation_enhanced\"\n",
    "    ]].copy()\n",
    "\n",
    "# Tokens detalle prompt\n",
    "df_tokens_detail_prompt = df_outputs[[\n",
    "    \"uuid\",\n",
    "    \"tokens_prompt_sql_generation\",\n",
    "    \"tokens_prompt_sql_generation_enhanced\",\n",
    "]].copy()\n",
    "\n",
    "# Tokens detalle completion\n",
    "df_tokens_detail_completion = df_outputs[[\n",
    "    \"uuid\",\n",
    "    \"tokens_completion_sql_generation\",\n",
    "    \"tokens_completion_sql_generation_enhanced\"\n",
    "]].copy()\n",
    "\n",
    "# Tokens embedding\n",
    "df_tokens_embedding = df_outputs[[\n",
    "    \"uuid\",\n",
    "    \"tokens_total_retriever_embedding\"\n",
    "]].copy()\n",
    "\n",
    "### Análisis de costes\n",
    "df_coste = df_outputs[[\n",
    "    \"uuid\",\n",
    "    \"total_cost_tool_in_dollars\",\n",
    "    \"total_cost_retriever_embedding_in_dollars\",\n",
    "    \"total_cost_sql_generation_in_dollars\",\n",
    "    \"total_cost_sql_generation_enhanced_in_dollars\"\n",
    "]].copy()\n",
    "\n",
    "### Análisis de métricas de cobertura. Tiene sentido si f1 son buenos.\n",
    "df_coverage = df_results_ok[[\n",
    "    \"uuid\",\n",
    "    \"coverage\",\n",
    "    \"total_rows_benchmark\",\n",
    "    \"total_rows_ai_tool\",\n",
    "    \"columns_f1\",\n",
    "    \"events_f1\"\n",
    "]].copy()\n",
    "\n",
    "### Análisis de métricas de rendimiento en columnas.\n",
    "df_columns = df_results_ok[[\n",
    "    \"uuid\",\n",
    "    \"columns_f1\",\n",
    "    \"columns_precision\",\n",
    "    \"columns_recall\",\n",
    "    \"columns_TP\",\n",
    "    \"columns_FP\",\n",
    "    \"columns_FN\"\n",
    "]]\n",
    "\n",
    "### Análisis de métricas de rendimiento en eventos.\n",
    "df_events = df_results_ok[[\n",
    "    \"uuid\",\n",
    "    \"events_f1\",\n",
    "    \"events_precision\",\n",
    "    \"events_recall\",\n",
    "    \"events_TP\",\n",
    "    \"events_FP\",\n",
    "    \"events_FN\"\n",
    "]]\n"
   ]
  },
  {
   "cell_type": "markdown",
   "id": "3df08afd",
   "metadata": {},
   "source": [
    "### **4. Análisis de tiempos por invocación de la AI Tool.**"
   ]
  },
  {
   "cell_type": "code",
   "execution_count": 5,
   "id": "647fc219",
   "metadata": {},
   "outputs": [
    {
     "name": "stdout",
     "output_type": "stream",
     "text": [
      "\n",
      "Tiempos de ejecución por invocación de la AI Tool:\n"
     ]
    },
    {
     "data": {
      "text/html": [
       "<div>\n",
       "<style scoped>\n",
       "    .dataframe tbody tr th:only-of-type {\n",
       "        vertical-align: middle;\n",
       "    }\n",
       "\n",
       "    .dataframe tbody tr th {\n",
       "        vertical-align: top;\n",
       "    }\n",
       "\n",
       "    .dataframe thead th {\n",
       "        text-align: right;\n",
       "    }\n",
       "</style>\n",
       "<table border=\"1\" class=\"dataframe\">\n",
       "  <thead>\n",
       "    <tr style=\"text-align: right;\">\n",
       "      <th></th>\n",
       "      <th>time_in_seconds_total</th>\n",
       "      <th>time_in_seconds_retriever</th>\n",
       "      <th>time_in_seconds_sql_generation</th>\n",
       "      <th>time_in_seconds_sql_generation_enhanced</th>\n",
       "    </tr>\n",
       "  </thead>\n",
       "  <tbody>\n",
       "    <tr>\n",
       "      <th>count</th>\n",
       "      <td>20.00</td>\n",
       "      <td>20.00</td>\n",
       "      <td>20.00</td>\n",
       "      <td>20.00</td>\n",
       "    </tr>\n",
       "    <tr>\n",
       "      <th>mean</th>\n",
       "      <td>116.08</td>\n",
       "      <td>1.09</td>\n",
       "      <td>64.70</td>\n",
       "      <td>50.26</td>\n",
       "    </tr>\n",
       "    <tr>\n",
       "      <th>std</th>\n",
       "      <td>18.05</td>\n",
       "      <td>1.22</td>\n",
       "      <td>15.11</td>\n",
       "      <td>12.63</td>\n",
       "    </tr>\n",
       "    <tr>\n",
       "      <th>min</th>\n",
       "      <td>76.21</td>\n",
       "      <td>0.37</td>\n",
       "      <td>39.19</td>\n",
       "      <td>33.75</td>\n",
       "    </tr>\n",
       "    <tr>\n",
       "      <th>25%</th>\n",
       "      <td>108.53</td>\n",
       "      <td>0.59</td>\n",
       "      <td>52.40</td>\n",
       "      <td>42.82</td>\n",
       "    </tr>\n",
       "    <tr>\n",
       "      <th>50%</th>\n",
       "      <td>117.59</td>\n",
       "      <td>0.81</td>\n",
       "      <td>66.77</td>\n",
       "      <td>46.41</td>\n",
       "    </tr>\n",
       "    <tr>\n",
       "      <th>75%</th>\n",
       "      <td>125.71</td>\n",
       "      <td>1.15</td>\n",
       "      <td>74.36</td>\n",
       "      <td>56.16</td>\n",
       "    </tr>\n",
       "    <tr>\n",
       "      <th>max</th>\n",
       "      <td>156.79</td>\n",
       "      <td>6.08</td>\n",
       "      <td>90.27</td>\n",
       "      <td>81.19</td>\n",
       "    </tr>\n",
       "  </tbody>\n",
       "</table>\n",
       "</div>"
      ],
      "text/plain": [
       "       time_in_seconds_total  time_in_seconds_retriever  \\\n",
       "count                  20.00                      20.00   \n",
       "mean                  116.08                       1.09   \n",
       "std                    18.05                       1.22   \n",
       "min                    76.21                       0.37   \n",
       "25%                   108.53                       0.59   \n",
       "50%                   117.59                       0.81   \n",
       "75%                   125.71                       1.15   \n",
       "max                   156.79                       6.08   \n",
       "\n",
       "       time_in_seconds_sql_generation  time_in_seconds_sql_generation_enhanced  \n",
       "count                           20.00                                    20.00  \n",
       "mean                            64.70                                    50.26  \n",
       "std                             15.11                                    12.63  \n",
       "min                             39.19                                    33.75  \n",
       "25%                             52.40                                    42.82  \n",
       "50%                             66.77                                    46.41  \n",
       "75%                             74.36                                    56.16  \n",
       "max                             90.27                                    81.19  "
      ]
     },
     "execution_count": 5,
     "metadata": {},
     "output_type": "execute_result"
    }
   ],
   "source": [
    "print(\"\\nTiempos de ejecución por invocación de la AI Tool:\")\n",
    "df_tiempos.describe().round(2)"
   ]
  },
  {
   "cell_type": "code",
   "execution_count": 6,
   "id": "2ac7fb4a-dcef-48e2-bf7f-da502a3a8432",
   "metadata": {},
   "outputs": [
    {
     "data": {
      "application/vnd.plotly.v1+json": {
       "config": {
        "plotlyServerURL": "https://plot.ly"
       },
       "data": [
        {
         "alignmentgroup": "True",
         "hovertemplate": "Componente=%{x}<br>Tiempo de ejecución (segundos)=%{y}<extra></extra>",
         "legendgroup": "",
         "marker": {
          "color": "#000000"
         },
         "name": "",
         "notched": false,
         "offsetgroup": "",
         "orientation": "v",
         "showlegend": false,
         "type": "box",
         "x": [
          "time_in_seconds_total",
          "time_in_seconds_total",
          "time_in_seconds_total",
          "time_in_seconds_total",
          "time_in_seconds_total",
          "time_in_seconds_total",
          "time_in_seconds_total",
          "time_in_seconds_total",
          "time_in_seconds_total",
          "time_in_seconds_total",
          "time_in_seconds_total",
          "time_in_seconds_total",
          "time_in_seconds_total",
          "time_in_seconds_total",
          "time_in_seconds_total",
          "time_in_seconds_total",
          "time_in_seconds_total",
          "time_in_seconds_total",
          "time_in_seconds_total",
          "time_in_seconds_total",
          "time_in_seconds_retriever",
          "time_in_seconds_retriever",
          "time_in_seconds_retriever",
          "time_in_seconds_retriever",
          "time_in_seconds_retriever",
          "time_in_seconds_retriever",
          "time_in_seconds_retriever",
          "time_in_seconds_retriever",
          "time_in_seconds_retriever",
          "time_in_seconds_retriever",
          "time_in_seconds_retriever",
          "time_in_seconds_retriever",
          "time_in_seconds_retriever",
          "time_in_seconds_retriever",
          "time_in_seconds_retriever",
          "time_in_seconds_retriever",
          "time_in_seconds_retriever",
          "time_in_seconds_retriever",
          "time_in_seconds_retriever",
          "time_in_seconds_retriever",
          "time_in_seconds_sql_generation",
          "time_in_seconds_sql_generation",
          "time_in_seconds_sql_generation",
          "time_in_seconds_sql_generation",
          "time_in_seconds_sql_generation",
          "time_in_seconds_sql_generation",
          "time_in_seconds_sql_generation",
          "time_in_seconds_sql_generation",
          "time_in_seconds_sql_generation",
          "time_in_seconds_sql_generation",
          "time_in_seconds_sql_generation",
          "time_in_seconds_sql_generation",
          "time_in_seconds_sql_generation",
          "time_in_seconds_sql_generation",
          "time_in_seconds_sql_generation",
          "time_in_seconds_sql_generation",
          "time_in_seconds_sql_generation",
          "time_in_seconds_sql_generation",
          "time_in_seconds_sql_generation",
          "time_in_seconds_sql_generation",
          "time_in_seconds_sql_generation_enhanced",
          "time_in_seconds_sql_generation_enhanced",
          "time_in_seconds_sql_generation_enhanced",
          "time_in_seconds_sql_generation_enhanced",
          "time_in_seconds_sql_generation_enhanced",
          "time_in_seconds_sql_generation_enhanced",
          "time_in_seconds_sql_generation_enhanced",
          "time_in_seconds_sql_generation_enhanced",
          "time_in_seconds_sql_generation_enhanced",
          "time_in_seconds_sql_generation_enhanced",
          "time_in_seconds_sql_generation_enhanced",
          "time_in_seconds_sql_generation_enhanced",
          "time_in_seconds_sql_generation_enhanced",
          "time_in_seconds_sql_generation_enhanced",
          "time_in_seconds_sql_generation_enhanced",
          "time_in_seconds_sql_generation_enhanced",
          "time_in_seconds_sql_generation_enhanced",
          "time_in_seconds_sql_generation_enhanced",
          "time_in_seconds_sql_generation_enhanced",
          "time_in_seconds_sql_generation_enhanced"
         ],
         "x0": " ",
         "xaxis": "x",
         "y": {
          "bdata": "z9vY7MizYEA5Q3HHm8dbQL1V16GaZV9AFhbcD3i7VUDxZaIIqQ1TQNb9YyE6hF9AfLlPjgL9XkAsnnqkwRlbQOblsPuOi11AW2H6XkMwXEBi9x3DY5ljQOBm8WJhJFtA0TyARX7tXUCFfTuJCMpYQDSg3oyayF9AzsZKzLP5V0AAUps4uT9dQP+uz5z1FlxAenHiqx0eX0Dfbd44KTVhQEgZcQFolOk/svLLYIxI8z8095Dwvb/ZPwpnt5bJsPo/CW8PQkC+9D8kfsUaLlIYQA4uHXOesdk/asGLvoI06j97uyU5YFfwPwGHUKVmD/I/Lh1znrEv9T/7ljldFhPqPyx96IL6Fuo/7gc8MIDw1z8DCYofY+7iP1RuopbmVuM/NzemJyzx4j/3BInt7gHnP7E08KMa9uA/zcggdxEm5T+3YRQEj5FWQEw2HmyxKlBAo81xbhNpUUDlmCzuPzhGQFe1pKMcmENATcCvkSSZUUDCpPj4hJpLQN2271F/c1JAbjMV4pHeSEA9CtejcMFKQO/nFORnkFJA/IwLB0I0SkCEud3LfatSQAItXcE2AVBA74/3qpXPVEDD8XwG1C1KQGluhbAaOFFAqOSc2EOZRkCq7pHNVaNTQB8wD5nyYVZA8+fbgqVCRUDVlGQdjpxGQC0Kuyh6wktAiPIFLSRmREDWGkrtRdpBQDLjbaXXyEhAsB9ig4UUUUAapUv/kuBAQAbZsnxd2VBAIQGjy5sLTUDyQGSRJkxUQLyUumQcqUtA7byNzY4YRkDMQdDRql5BQH+FzJVBo0VAgQTFjzF1RUB5P26/fMBHQCL6tfXTmlBAS+guibOuRkDU8C2sG7lHQA==",
          "dtype": "f8"
         },
         "y0": " ",
         "yaxis": "y"
        }
       ],
       "layout": {
        "boxgap": 0.3,
        "boxgroupgap": 0.3,
        "boxmode": "group",
        "height": 500,
        "legend": {
         "tracegroupgap": 0
        },
        "paper_bgcolor": "white",
        "plot_bgcolor": "white",
        "template": {
         "data": {
          "bar": [
           {
            "error_x": {
             "color": "#2a3f5f"
            },
            "error_y": {
             "color": "#2a3f5f"
            },
            "marker": {
             "line": {
              "color": "#E5ECF6",
              "width": 0.5
             },
             "pattern": {
              "fillmode": "overlay",
              "size": 10,
              "solidity": 0.2
             }
            },
            "type": "bar"
           }
          ],
          "barpolar": [
           {
            "marker": {
             "line": {
              "color": "#E5ECF6",
              "width": 0.5
             },
             "pattern": {
              "fillmode": "overlay",
              "size": 10,
              "solidity": 0.2
             }
            },
            "type": "barpolar"
           }
          ],
          "carpet": [
           {
            "aaxis": {
             "endlinecolor": "#2a3f5f",
             "gridcolor": "white",
             "linecolor": "white",
             "minorgridcolor": "white",
             "startlinecolor": "#2a3f5f"
            },
            "baxis": {
             "endlinecolor": "#2a3f5f",
             "gridcolor": "white",
             "linecolor": "white",
             "minorgridcolor": "white",
             "startlinecolor": "#2a3f5f"
            },
            "type": "carpet"
           }
          ],
          "choropleth": [
           {
            "colorbar": {
             "outlinewidth": 0,
             "ticks": ""
            },
            "type": "choropleth"
           }
          ],
          "contour": [
           {
            "colorbar": {
             "outlinewidth": 0,
             "ticks": ""
            },
            "colorscale": [
             [
              0,
              "#0d0887"
             ],
             [
              0.1111111111111111,
              "#46039f"
             ],
             [
              0.2222222222222222,
              "#7201a8"
             ],
             [
              0.3333333333333333,
              "#9c179e"
             ],
             [
              0.4444444444444444,
              "#bd3786"
             ],
             [
              0.5555555555555556,
              "#d8576b"
             ],
             [
              0.6666666666666666,
              "#ed7953"
             ],
             [
              0.7777777777777778,
              "#fb9f3a"
             ],
             [
              0.8888888888888888,
              "#fdca26"
             ],
             [
              1,
              "#f0f921"
             ]
            ],
            "type": "contour"
           }
          ],
          "contourcarpet": [
           {
            "colorbar": {
             "outlinewidth": 0,
             "ticks": ""
            },
            "type": "contourcarpet"
           }
          ],
          "heatmap": [
           {
            "colorbar": {
             "outlinewidth": 0,
             "ticks": ""
            },
            "colorscale": [
             [
              0,
              "#0d0887"
             ],
             [
              0.1111111111111111,
              "#46039f"
             ],
             [
              0.2222222222222222,
              "#7201a8"
             ],
             [
              0.3333333333333333,
              "#9c179e"
             ],
             [
              0.4444444444444444,
              "#bd3786"
             ],
             [
              0.5555555555555556,
              "#d8576b"
             ],
             [
              0.6666666666666666,
              "#ed7953"
             ],
             [
              0.7777777777777778,
              "#fb9f3a"
             ],
             [
              0.8888888888888888,
              "#fdca26"
             ],
             [
              1,
              "#f0f921"
             ]
            ],
            "type": "heatmap"
           }
          ],
          "histogram": [
           {
            "marker": {
             "pattern": {
              "fillmode": "overlay",
              "size": 10,
              "solidity": 0.2
             }
            },
            "type": "histogram"
           }
          ],
          "histogram2d": [
           {
            "colorbar": {
             "outlinewidth": 0,
             "ticks": ""
            },
            "colorscale": [
             [
              0,
              "#0d0887"
             ],
             [
              0.1111111111111111,
              "#46039f"
             ],
             [
              0.2222222222222222,
              "#7201a8"
             ],
             [
              0.3333333333333333,
              "#9c179e"
             ],
             [
              0.4444444444444444,
              "#bd3786"
             ],
             [
              0.5555555555555556,
              "#d8576b"
             ],
             [
              0.6666666666666666,
              "#ed7953"
             ],
             [
              0.7777777777777778,
              "#fb9f3a"
             ],
             [
              0.8888888888888888,
              "#fdca26"
             ],
             [
              1,
              "#f0f921"
             ]
            ],
            "type": "histogram2d"
           }
          ],
          "histogram2dcontour": [
           {
            "colorbar": {
             "outlinewidth": 0,
             "ticks": ""
            },
            "colorscale": [
             [
              0,
              "#0d0887"
             ],
             [
              0.1111111111111111,
              "#46039f"
             ],
             [
              0.2222222222222222,
              "#7201a8"
             ],
             [
              0.3333333333333333,
              "#9c179e"
             ],
             [
              0.4444444444444444,
              "#bd3786"
             ],
             [
              0.5555555555555556,
              "#d8576b"
             ],
             [
              0.6666666666666666,
              "#ed7953"
             ],
             [
              0.7777777777777778,
              "#fb9f3a"
             ],
             [
              0.8888888888888888,
              "#fdca26"
             ],
             [
              1,
              "#f0f921"
             ]
            ],
            "type": "histogram2dcontour"
           }
          ],
          "mesh3d": [
           {
            "colorbar": {
             "outlinewidth": 0,
             "ticks": ""
            },
            "type": "mesh3d"
           }
          ],
          "parcoords": [
           {
            "line": {
             "colorbar": {
              "outlinewidth": 0,
              "ticks": ""
             }
            },
            "type": "parcoords"
           }
          ],
          "pie": [
           {
            "automargin": true,
            "type": "pie"
           }
          ],
          "scatter": [
           {
            "fillpattern": {
             "fillmode": "overlay",
             "size": 10,
             "solidity": 0.2
            },
            "type": "scatter"
           }
          ],
          "scatter3d": [
           {
            "line": {
             "colorbar": {
              "outlinewidth": 0,
              "ticks": ""
             }
            },
            "marker": {
             "colorbar": {
              "outlinewidth": 0,
              "ticks": ""
             }
            },
            "type": "scatter3d"
           }
          ],
          "scattercarpet": [
           {
            "marker": {
             "colorbar": {
              "outlinewidth": 0,
              "ticks": ""
             }
            },
            "type": "scattercarpet"
           }
          ],
          "scattergeo": [
           {
            "marker": {
             "colorbar": {
              "outlinewidth": 0,
              "ticks": ""
             }
            },
            "type": "scattergeo"
           }
          ],
          "scattergl": [
           {
            "marker": {
             "colorbar": {
              "outlinewidth": 0,
              "ticks": ""
             }
            },
            "type": "scattergl"
           }
          ],
          "scattermap": [
           {
            "marker": {
             "colorbar": {
              "outlinewidth": 0,
              "ticks": ""
             }
            },
            "type": "scattermap"
           }
          ],
          "scattermapbox": [
           {
            "marker": {
             "colorbar": {
              "outlinewidth": 0,
              "ticks": ""
             }
            },
            "type": "scattermapbox"
           }
          ],
          "scatterpolar": [
           {
            "marker": {
             "colorbar": {
              "outlinewidth": 0,
              "ticks": ""
             }
            },
            "type": "scatterpolar"
           }
          ],
          "scatterpolargl": [
           {
            "marker": {
             "colorbar": {
              "outlinewidth": 0,
              "ticks": ""
             }
            },
            "type": "scatterpolargl"
           }
          ],
          "scatterternary": [
           {
            "marker": {
             "colorbar": {
              "outlinewidth": 0,
              "ticks": ""
             }
            },
            "type": "scatterternary"
           }
          ],
          "surface": [
           {
            "colorbar": {
             "outlinewidth": 0,
             "ticks": ""
            },
            "colorscale": [
             [
              0,
              "#0d0887"
             ],
             [
              0.1111111111111111,
              "#46039f"
             ],
             [
              0.2222222222222222,
              "#7201a8"
             ],
             [
              0.3333333333333333,
              "#9c179e"
             ],
             [
              0.4444444444444444,
              "#bd3786"
             ],
             [
              0.5555555555555556,
              "#d8576b"
             ],
             [
              0.6666666666666666,
              "#ed7953"
             ],
             [
              0.7777777777777778,
              "#fb9f3a"
             ],
             [
              0.8888888888888888,
              "#fdca26"
             ],
             [
              1,
              "#f0f921"
             ]
            ],
            "type": "surface"
           }
          ],
          "table": [
           {
            "cells": {
             "fill": {
              "color": "#EBF0F8"
             },
             "line": {
              "color": "white"
             }
            },
            "header": {
             "fill": {
              "color": "#C8D4E3"
             },
             "line": {
              "color": "white"
             }
            },
            "type": "table"
           }
          ]
         },
         "layout": {
          "annotationdefaults": {
           "arrowcolor": "#2a3f5f",
           "arrowhead": 0,
           "arrowwidth": 1
          },
          "autotypenumbers": "strict",
          "coloraxis": {
           "colorbar": {
            "outlinewidth": 0,
            "ticks": ""
           }
          },
          "colorscale": {
           "diverging": [
            [
             0,
             "#8e0152"
            ],
            [
             0.1,
             "#c51b7d"
            ],
            [
             0.2,
             "#de77ae"
            ],
            [
             0.3,
             "#f1b6da"
            ],
            [
             0.4,
             "#fde0ef"
            ],
            [
             0.5,
             "#f7f7f7"
            ],
            [
             0.6,
             "#e6f5d0"
            ],
            [
             0.7,
             "#b8e186"
            ],
            [
             0.8,
             "#7fbc41"
            ],
            [
             0.9,
             "#4d9221"
            ],
            [
             1,
             "#276419"
            ]
           ],
           "sequential": [
            [
             0,
             "#0d0887"
            ],
            [
             0.1111111111111111,
             "#46039f"
            ],
            [
             0.2222222222222222,
             "#7201a8"
            ],
            [
             0.3333333333333333,
             "#9c179e"
            ],
            [
             0.4444444444444444,
             "#bd3786"
            ],
            [
             0.5555555555555556,
             "#d8576b"
            ],
            [
             0.6666666666666666,
             "#ed7953"
            ],
            [
             0.7777777777777778,
             "#fb9f3a"
            ],
            [
             0.8888888888888888,
             "#fdca26"
            ],
            [
             1,
             "#f0f921"
            ]
           ],
           "sequentialminus": [
            [
             0,
             "#0d0887"
            ],
            [
             0.1111111111111111,
             "#46039f"
            ],
            [
             0.2222222222222222,
             "#7201a8"
            ],
            [
             0.3333333333333333,
             "#9c179e"
            ],
            [
             0.4444444444444444,
             "#bd3786"
            ],
            [
             0.5555555555555556,
             "#d8576b"
            ],
            [
             0.6666666666666666,
             "#ed7953"
            ],
            [
             0.7777777777777778,
             "#fb9f3a"
            ],
            [
             0.8888888888888888,
             "#fdca26"
            ],
            [
             1,
             "#f0f921"
            ]
           ]
          },
          "colorway": [
           "#636efa",
           "#EF553B",
           "#00cc96",
           "#ab63fa",
           "#FFA15A",
           "#19d3f3",
           "#FF6692",
           "#B6E880",
           "#FF97FF",
           "#FECB52"
          ],
          "font": {
           "color": "#2a3f5f"
          },
          "geo": {
           "bgcolor": "white",
           "lakecolor": "white",
           "landcolor": "#E5ECF6",
           "showlakes": true,
           "showland": true,
           "subunitcolor": "white"
          },
          "hoverlabel": {
           "align": "left"
          },
          "hovermode": "closest",
          "mapbox": {
           "style": "light"
          },
          "paper_bgcolor": "white",
          "plot_bgcolor": "#E5ECF6",
          "polar": {
           "angularaxis": {
            "gridcolor": "white",
            "linecolor": "white",
            "ticks": ""
           },
           "bgcolor": "#E5ECF6",
           "radialaxis": {
            "gridcolor": "white",
            "linecolor": "white",
            "ticks": ""
           }
          },
          "scene": {
           "xaxis": {
            "backgroundcolor": "#E5ECF6",
            "gridcolor": "white",
            "gridwidth": 2,
            "linecolor": "white",
            "showbackground": true,
            "ticks": "",
            "zerolinecolor": "white"
           },
           "yaxis": {
            "backgroundcolor": "#E5ECF6",
            "gridcolor": "white",
            "gridwidth": 2,
            "linecolor": "white",
            "showbackground": true,
            "ticks": "",
            "zerolinecolor": "white"
           },
           "zaxis": {
            "backgroundcolor": "#E5ECF6",
            "gridcolor": "white",
            "gridwidth": 2,
            "linecolor": "white",
            "showbackground": true,
            "ticks": "",
            "zerolinecolor": "white"
           }
          },
          "shapedefaults": {
           "line": {
            "color": "#2a3f5f"
           }
          },
          "ternary": {
           "aaxis": {
            "gridcolor": "white",
            "linecolor": "white",
            "ticks": ""
           },
           "baxis": {
            "gridcolor": "white",
            "linecolor": "white",
            "ticks": ""
           },
           "bgcolor": "#E5ECF6",
           "caxis": {
            "gridcolor": "white",
            "linecolor": "white",
            "ticks": ""
           }
          },
          "title": {
           "x": 0.05
          },
          "xaxis": {
           "automargin": true,
           "gridcolor": "white",
           "linecolor": "white",
           "ticks": "",
           "title": {
            "standoff": 15
           },
           "zerolinecolor": "white",
           "zerolinewidth": 2
          },
          "yaxis": {
           "automargin": true,
           "gridcolor": "white",
           "linecolor": "white",
           "ticks": "",
           "title": {
            "standoff": 15
           },
           "zerolinecolor": "white",
           "zerolinewidth": 2
          }
         }
        },
        "title": {
         "text": "Boxplot: Tiempo de ejecución por invocación de la AI Tool."
        },
        "width": 1000,
        "xaxis": {
         "anchor": "y",
         "domain": [
          0,
          1
         ],
         "title": {
          "text": "Componente"
         }
        },
        "yaxis": {
         "anchor": "x",
         "domain": [
          0,
          1
         ],
         "title": {
          "text": "Tiempo de ejecución (segundos)"
         }
        }
       }
      }
     },
     "metadata": {},
     "output_type": "display_data"
    }
   ],
   "source": [
    "# Resumen de tiempos por invocación de los componentes de la AI Tool\n",
    "boxplot(\n",
    "    df_tiempos, \n",
    "    title=\"Boxplot: Tiempo de ejecución por invocación de la AI Tool.\",\n",
    "    value_name=\"Tiempo de ejecución (segundos)\",\n",
    "    category_name=\"Componente\"\n",
    ")"
   ]
  },
  {
   "cell_type": "markdown",
   "id": "4ed0bf66",
   "metadata": {},
   "source": [
    "### **5. Análisis de Tokens consumidos por invocación de la AI Tool.**"
   ]
  },
  {
   "cell_type": "markdown",
   "id": "5770403e",
   "metadata": {},
   "source": [
    "#### **5.1. Tokens totales consumidos por invocación de la AI Tool.**"
   ]
  },
  {
   "cell_type": "code",
   "execution_count": 7,
   "id": "0d8b86f1",
   "metadata": {},
   "outputs": [
    {
     "name": "stdout",
     "output_type": "stream",
     "text": [
      "\n",
      "Tokens consumidos totales por invocación de la AI Tool:\n"
     ]
    },
    {
     "data": {
      "text/html": [
       "<div>\n",
       "<style scoped>\n",
       "    .dataframe tbody tr th:only-of-type {\n",
       "        vertical-align: middle;\n",
       "    }\n",
       "\n",
       "    .dataframe tbody tr th {\n",
       "        vertical-align: top;\n",
       "    }\n",
       "\n",
       "    .dataframe thead th {\n",
       "        text-align: right;\n",
       "    }\n",
       "</style>\n",
       "<table border=\"1\" class=\"dataframe\">\n",
       "  <thead>\n",
       "    <tr style=\"text-align: right;\">\n",
       "      <th></th>\n",
       "      <th>tokens_total_tool</th>\n",
       "      <th>tokens_total_retriever_embedding</th>\n",
       "      <th>tokens_total_sql_generation</th>\n",
       "      <th>tokens_total_sql_generation_enhanced</th>\n",
       "    </tr>\n",
       "  </thead>\n",
       "  <tbody>\n",
       "    <tr>\n",
       "      <th>count</th>\n",
       "      <td>20.00</td>\n",
       "      <td>20.00</td>\n",
       "      <td>20.00</td>\n",
       "      <td>20.00</td>\n",
       "    </tr>\n",
       "    <tr>\n",
       "      <th>mean</th>\n",
       "      <td>43040.55</td>\n",
       "      <td>449.05</td>\n",
       "      <td>20439.80</td>\n",
       "      <td>22151.70</td>\n",
       "    </tr>\n",
       "    <tr>\n",
       "      <th>std</th>\n",
       "      <td>1925.14</td>\n",
       "      <td>40.30</td>\n",
       "      <td>1278.59</td>\n",
       "      <td>1382.09</td>\n",
       "    </tr>\n",
       "    <tr>\n",
       "      <th>min</th>\n",
       "      <td>39883.00</td>\n",
       "      <td>404.00</td>\n",
       "      <td>18435.00</td>\n",
       "      <td>19975.00</td>\n",
       "    </tr>\n",
       "    <tr>\n",
       "      <th>25%</th>\n",
       "      <td>42029.00</td>\n",
       "      <td>408.00</td>\n",
       "      <td>19417.00</td>\n",
       "      <td>21181.75</td>\n",
       "    </tr>\n",
       "    <tr>\n",
       "      <th>50%</th>\n",
       "      <td>43014.50</td>\n",
       "      <td>440.00</td>\n",
       "      <td>20132.00</td>\n",
       "      <td>22040.50</td>\n",
       "    </tr>\n",
       "    <tr>\n",
       "      <th>75%</th>\n",
       "      <td>43997.50</td>\n",
       "      <td>500.00</td>\n",
       "      <td>21354.75</td>\n",
       "      <td>22795.00</td>\n",
       "    </tr>\n",
       "    <tr>\n",
       "      <th>max</th>\n",
       "      <td>47526.00</td>\n",
       "      <td>502.00</td>\n",
       "      <td>22743.00</td>\n",
       "      <td>25352.00</td>\n",
       "    </tr>\n",
       "  </tbody>\n",
       "</table>\n",
       "</div>"
      ],
      "text/plain": [
       "       tokens_total_tool  tokens_total_retriever_embedding  \\\n",
       "count              20.00                             20.00   \n",
       "mean            43040.55                            449.05   \n",
       "std              1925.14                             40.30   \n",
       "min             39883.00                            404.00   \n",
       "25%             42029.00                            408.00   \n",
       "50%             43014.50                            440.00   \n",
       "75%             43997.50                            500.00   \n",
       "max             47526.00                            502.00   \n",
       "\n",
       "       tokens_total_sql_generation  tokens_total_sql_generation_enhanced  \n",
       "count                        20.00                                 20.00  \n",
       "mean                      20439.80                              22151.70  \n",
       "std                        1278.59                               1382.09  \n",
       "min                       18435.00                              19975.00  \n",
       "25%                       19417.00                              21181.75  \n",
       "50%                       20132.00                              22040.50  \n",
       "75%                       21354.75                              22795.00  \n",
       "max                       22743.00                              25352.00  "
      ]
     },
     "metadata": {},
     "output_type": "display_data"
    }
   ],
   "source": [
    "print(\"\\nTokens consumidos totales por invocación de la AI Tool:\")\n",
    "display(df_tokens_totales.describe().round(2))"
   ]
  },
  {
   "cell_type": "code",
   "execution_count": 8,
   "id": "c3852b79-185c-4e7d-a84d-9e6f3ab433fd",
   "metadata": {},
   "outputs": [
    {
     "data": {
      "application/vnd.plotly.v1+json": {
       "config": {
        "plotlyServerURL": "https://plot.ly"
       },
       "data": [
        {
         "alignmentgroup": "True",
         "hovertemplate": "Componente=%{x}<br>Tokens=%{y}<extra></extra>",
         "legendgroup": "",
         "marker": {
          "color": "#000000"
         },
         "name": "",
         "notched": false,
         "offsetgroup": "",
         "orientation": "v",
         "showlegend": false,
         "type": "box",
         "x": [
          "tokens_total_tool",
          "tokens_total_tool",
          "tokens_total_tool",
          "tokens_total_tool",
          "tokens_total_tool",
          "tokens_total_tool",
          "tokens_total_tool",
          "tokens_total_tool",
          "tokens_total_tool",
          "tokens_total_tool",
          "tokens_total_tool",
          "tokens_total_tool",
          "tokens_total_tool",
          "tokens_total_tool",
          "tokens_total_tool",
          "tokens_total_tool",
          "tokens_total_tool",
          "tokens_total_tool",
          "tokens_total_tool",
          "tokens_total_tool",
          "tokens_total_retriever_embedding",
          "tokens_total_retriever_embedding",
          "tokens_total_retriever_embedding",
          "tokens_total_retriever_embedding",
          "tokens_total_retriever_embedding",
          "tokens_total_retriever_embedding",
          "tokens_total_retriever_embedding",
          "tokens_total_retriever_embedding",
          "tokens_total_retriever_embedding",
          "tokens_total_retriever_embedding",
          "tokens_total_retriever_embedding",
          "tokens_total_retriever_embedding",
          "tokens_total_retriever_embedding",
          "tokens_total_retriever_embedding",
          "tokens_total_retriever_embedding",
          "tokens_total_retriever_embedding",
          "tokens_total_retriever_embedding",
          "tokens_total_retriever_embedding",
          "tokens_total_retriever_embedding",
          "tokens_total_retriever_embedding",
          "tokens_total_sql_generation",
          "tokens_total_sql_generation",
          "tokens_total_sql_generation",
          "tokens_total_sql_generation",
          "tokens_total_sql_generation",
          "tokens_total_sql_generation",
          "tokens_total_sql_generation",
          "tokens_total_sql_generation",
          "tokens_total_sql_generation",
          "tokens_total_sql_generation",
          "tokens_total_sql_generation",
          "tokens_total_sql_generation",
          "tokens_total_sql_generation",
          "tokens_total_sql_generation",
          "tokens_total_sql_generation",
          "tokens_total_sql_generation",
          "tokens_total_sql_generation",
          "tokens_total_sql_generation",
          "tokens_total_sql_generation",
          "tokens_total_sql_generation",
          "tokens_total_sql_generation_enhanced",
          "tokens_total_sql_generation_enhanced",
          "tokens_total_sql_generation_enhanced",
          "tokens_total_sql_generation_enhanced",
          "tokens_total_sql_generation_enhanced",
          "tokens_total_sql_generation_enhanced",
          "tokens_total_sql_generation_enhanced",
          "tokens_total_sql_generation_enhanced",
          "tokens_total_sql_generation_enhanced",
          "tokens_total_sql_generation_enhanced",
          "tokens_total_sql_generation_enhanced",
          "tokens_total_sql_generation_enhanced",
          "tokens_total_sql_generation_enhanced",
          "tokens_total_sql_generation_enhanced",
          "tokens_total_sql_generation_enhanced",
          "tokens_total_sql_generation_enhanced",
          "tokens_total_sql_generation_enhanced",
          "tokens_total_sql_generation_enhanced",
          "tokens_total_sql_generation_enhanced",
          "tokens_total_sql_generation_enhanced"
         ],
         "x0": " ",
         "xaxis": "x",
         "y": {
          "bdata": "Y6QAAACrAABBpwAAl54AAMGcAADMqAAAf68AADKmAAAmpgAACaoAAKa5AAA6oAAA5KQAAMubAADJrgAAi6MAACupAAAvqgAAdq4AADCzAACaAQAAuAEAAJgBAAD2AQAA9gEAAJgBAAD0AQAAuAEAAJgBAAC3AQAAuAEAAPYBAAC6AQAAlAEAALgBAADoAQAAlAEAAPQBAACUAQAA9AEAAPRSAAAFUwAAmk4AALVKAAADSAAAXE4AABROAACcVAAAPEkAAK5OAADmVAAABEkAAItQAAAwTAAAKFYAAJBOAACfUgAA1EoAAPRWAADXWAAA1U8AAENWAAAPVwAA7FEAAMhSAADYWAAAd18AAN5PAABSWwAApFkAAAhjAABAVQAAn1IAAAdOAADpVgAAE1MAAPhUAABnXQAA7lUAAGVYAAA=",
          "dtype": "i4"
         },
         "y0": " ",
         "yaxis": "y"
        }
       ],
       "layout": {
        "boxgap": 0.3,
        "boxgroupgap": 0.3,
        "boxmode": "group",
        "height": 500,
        "legend": {
         "tracegroupgap": 0
        },
        "paper_bgcolor": "white",
        "plot_bgcolor": "white",
        "template": {
         "data": {
          "bar": [
           {
            "error_x": {
             "color": "#2a3f5f"
            },
            "error_y": {
             "color": "#2a3f5f"
            },
            "marker": {
             "line": {
              "color": "#E5ECF6",
              "width": 0.5
             },
             "pattern": {
              "fillmode": "overlay",
              "size": 10,
              "solidity": 0.2
             }
            },
            "type": "bar"
           }
          ],
          "barpolar": [
           {
            "marker": {
             "line": {
              "color": "#E5ECF6",
              "width": 0.5
             },
             "pattern": {
              "fillmode": "overlay",
              "size": 10,
              "solidity": 0.2
             }
            },
            "type": "barpolar"
           }
          ],
          "carpet": [
           {
            "aaxis": {
             "endlinecolor": "#2a3f5f",
             "gridcolor": "white",
             "linecolor": "white",
             "minorgridcolor": "white",
             "startlinecolor": "#2a3f5f"
            },
            "baxis": {
             "endlinecolor": "#2a3f5f",
             "gridcolor": "white",
             "linecolor": "white",
             "minorgridcolor": "white",
             "startlinecolor": "#2a3f5f"
            },
            "type": "carpet"
           }
          ],
          "choropleth": [
           {
            "colorbar": {
             "outlinewidth": 0,
             "ticks": ""
            },
            "type": "choropleth"
           }
          ],
          "contour": [
           {
            "colorbar": {
             "outlinewidth": 0,
             "ticks": ""
            },
            "colorscale": [
             [
              0,
              "#0d0887"
             ],
             [
              0.1111111111111111,
              "#46039f"
             ],
             [
              0.2222222222222222,
              "#7201a8"
             ],
             [
              0.3333333333333333,
              "#9c179e"
             ],
             [
              0.4444444444444444,
              "#bd3786"
             ],
             [
              0.5555555555555556,
              "#d8576b"
             ],
             [
              0.6666666666666666,
              "#ed7953"
             ],
             [
              0.7777777777777778,
              "#fb9f3a"
             ],
             [
              0.8888888888888888,
              "#fdca26"
             ],
             [
              1,
              "#f0f921"
             ]
            ],
            "type": "contour"
           }
          ],
          "contourcarpet": [
           {
            "colorbar": {
             "outlinewidth": 0,
             "ticks": ""
            },
            "type": "contourcarpet"
           }
          ],
          "heatmap": [
           {
            "colorbar": {
             "outlinewidth": 0,
             "ticks": ""
            },
            "colorscale": [
             [
              0,
              "#0d0887"
             ],
             [
              0.1111111111111111,
              "#46039f"
             ],
             [
              0.2222222222222222,
              "#7201a8"
             ],
             [
              0.3333333333333333,
              "#9c179e"
             ],
             [
              0.4444444444444444,
              "#bd3786"
             ],
             [
              0.5555555555555556,
              "#d8576b"
             ],
             [
              0.6666666666666666,
              "#ed7953"
             ],
             [
              0.7777777777777778,
              "#fb9f3a"
             ],
             [
              0.8888888888888888,
              "#fdca26"
             ],
             [
              1,
              "#f0f921"
             ]
            ],
            "type": "heatmap"
           }
          ],
          "histogram": [
           {
            "marker": {
             "pattern": {
              "fillmode": "overlay",
              "size": 10,
              "solidity": 0.2
             }
            },
            "type": "histogram"
           }
          ],
          "histogram2d": [
           {
            "colorbar": {
             "outlinewidth": 0,
             "ticks": ""
            },
            "colorscale": [
             [
              0,
              "#0d0887"
             ],
             [
              0.1111111111111111,
              "#46039f"
             ],
             [
              0.2222222222222222,
              "#7201a8"
             ],
             [
              0.3333333333333333,
              "#9c179e"
             ],
             [
              0.4444444444444444,
              "#bd3786"
             ],
             [
              0.5555555555555556,
              "#d8576b"
             ],
             [
              0.6666666666666666,
              "#ed7953"
             ],
             [
              0.7777777777777778,
              "#fb9f3a"
             ],
             [
              0.8888888888888888,
              "#fdca26"
             ],
             [
              1,
              "#f0f921"
             ]
            ],
            "type": "histogram2d"
           }
          ],
          "histogram2dcontour": [
           {
            "colorbar": {
             "outlinewidth": 0,
             "ticks": ""
            },
            "colorscale": [
             [
              0,
              "#0d0887"
             ],
             [
              0.1111111111111111,
              "#46039f"
             ],
             [
              0.2222222222222222,
              "#7201a8"
             ],
             [
              0.3333333333333333,
              "#9c179e"
             ],
             [
              0.4444444444444444,
              "#bd3786"
             ],
             [
              0.5555555555555556,
              "#d8576b"
             ],
             [
              0.6666666666666666,
              "#ed7953"
             ],
             [
              0.7777777777777778,
              "#fb9f3a"
             ],
             [
              0.8888888888888888,
              "#fdca26"
             ],
             [
              1,
              "#f0f921"
             ]
            ],
            "type": "histogram2dcontour"
           }
          ],
          "mesh3d": [
           {
            "colorbar": {
             "outlinewidth": 0,
             "ticks": ""
            },
            "type": "mesh3d"
           }
          ],
          "parcoords": [
           {
            "line": {
             "colorbar": {
              "outlinewidth": 0,
              "ticks": ""
             }
            },
            "type": "parcoords"
           }
          ],
          "pie": [
           {
            "automargin": true,
            "type": "pie"
           }
          ],
          "scatter": [
           {
            "fillpattern": {
             "fillmode": "overlay",
             "size": 10,
             "solidity": 0.2
            },
            "type": "scatter"
           }
          ],
          "scatter3d": [
           {
            "line": {
             "colorbar": {
              "outlinewidth": 0,
              "ticks": ""
             }
            },
            "marker": {
             "colorbar": {
              "outlinewidth": 0,
              "ticks": ""
             }
            },
            "type": "scatter3d"
           }
          ],
          "scattercarpet": [
           {
            "marker": {
             "colorbar": {
              "outlinewidth": 0,
              "ticks": ""
             }
            },
            "type": "scattercarpet"
           }
          ],
          "scattergeo": [
           {
            "marker": {
             "colorbar": {
              "outlinewidth": 0,
              "ticks": ""
             }
            },
            "type": "scattergeo"
           }
          ],
          "scattergl": [
           {
            "marker": {
             "colorbar": {
              "outlinewidth": 0,
              "ticks": ""
             }
            },
            "type": "scattergl"
           }
          ],
          "scattermap": [
           {
            "marker": {
             "colorbar": {
              "outlinewidth": 0,
              "ticks": ""
             }
            },
            "type": "scattermap"
           }
          ],
          "scattermapbox": [
           {
            "marker": {
             "colorbar": {
              "outlinewidth": 0,
              "ticks": ""
             }
            },
            "type": "scattermapbox"
           }
          ],
          "scatterpolar": [
           {
            "marker": {
             "colorbar": {
              "outlinewidth": 0,
              "ticks": ""
             }
            },
            "type": "scatterpolar"
           }
          ],
          "scatterpolargl": [
           {
            "marker": {
             "colorbar": {
              "outlinewidth": 0,
              "ticks": ""
             }
            },
            "type": "scatterpolargl"
           }
          ],
          "scatterternary": [
           {
            "marker": {
             "colorbar": {
              "outlinewidth": 0,
              "ticks": ""
             }
            },
            "type": "scatterternary"
           }
          ],
          "surface": [
           {
            "colorbar": {
             "outlinewidth": 0,
             "ticks": ""
            },
            "colorscale": [
             [
              0,
              "#0d0887"
             ],
             [
              0.1111111111111111,
              "#46039f"
             ],
             [
              0.2222222222222222,
              "#7201a8"
             ],
             [
              0.3333333333333333,
              "#9c179e"
             ],
             [
              0.4444444444444444,
              "#bd3786"
             ],
             [
              0.5555555555555556,
              "#d8576b"
             ],
             [
              0.6666666666666666,
              "#ed7953"
             ],
             [
              0.7777777777777778,
              "#fb9f3a"
             ],
             [
              0.8888888888888888,
              "#fdca26"
             ],
             [
              1,
              "#f0f921"
             ]
            ],
            "type": "surface"
           }
          ],
          "table": [
           {
            "cells": {
             "fill": {
              "color": "#EBF0F8"
             },
             "line": {
              "color": "white"
             }
            },
            "header": {
             "fill": {
              "color": "#C8D4E3"
             },
             "line": {
              "color": "white"
             }
            },
            "type": "table"
           }
          ]
         },
         "layout": {
          "annotationdefaults": {
           "arrowcolor": "#2a3f5f",
           "arrowhead": 0,
           "arrowwidth": 1
          },
          "autotypenumbers": "strict",
          "coloraxis": {
           "colorbar": {
            "outlinewidth": 0,
            "ticks": ""
           }
          },
          "colorscale": {
           "diverging": [
            [
             0,
             "#8e0152"
            ],
            [
             0.1,
             "#c51b7d"
            ],
            [
             0.2,
             "#de77ae"
            ],
            [
             0.3,
             "#f1b6da"
            ],
            [
             0.4,
             "#fde0ef"
            ],
            [
             0.5,
             "#f7f7f7"
            ],
            [
             0.6,
             "#e6f5d0"
            ],
            [
             0.7,
             "#b8e186"
            ],
            [
             0.8,
             "#7fbc41"
            ],
            [
             0.9,
             "#4d9221"
            ],
            [
             1,
             "#276419"
            ]
           ],
           "sequential": [
            [
             0,
             "#0d0887"
            ],
            [
             0.1111111111111111,
             "#46039f"
            ],
            [
             0.2222222222222222,
             "#7201a8"
            ],
            [
             0.3333333333333333,
             "#9c179e"
            ],
            [
             0.4444444444444444,
             "#bd3786"
            ],
            [
             0.5555555555555556,
             "#d8576b"
            ],
            [
             0.6666666666666666,
             "#ed7953"
            ],
            [
             0.7777777777777778,
             "#fb9f3a"
            ],
            [
             0.8888888888888888,
             "#fdca26"
            ],
            [
             1,
             "#f0f921"
            ]
           ],
           "sequentialminus": [
            [
             0,
             "#0d0887"
            ],
            [
             0.1111111111111111,
             "#46039f"
            ],
            [
             0.2222222222222222,
             "#7201a8"
            ],
            [
             0.3333333333333333,
             "#9c179e"
            ],
            [
             0.4444444444444444,
             "#bd3786"
            ],
            [
             0.5555555555555556,
             "#d8576b"
            ],
            [
             0.6666666666666666,
             "#ed7953"
            ],
            [
             0.7777777777777778,
             "#fb9f3a"
            ],
            [
             0.8888888888888888,
             "#fdca26"
            ],
            [
             1,
             "#f0f921"
            ]
           ]
          },
          "colorway": [
           "#636efa",
           "#EF553B",
           "#00cc96",
           "#ab63fa",
           "#FFA15A",
           "#19d3f3",
           "#FF6692",
           "#B6E880",
           "#FF97FF",
           "#FECB52"
          ],
          "font": {
           "color": "#2a3f5f"
          },
          "geo": {
           "bgcolor": "white",
           "lakecolor": "white",
           "landcolor": "#E5ECF6",
           "showlakes": true,
           "showland": true,
           "subunitcolor": "white"
          },
          "hoverlabel": {
           "align": "left"
          },
          "hovermode": "closest",
          "mapbox": {
           "style": "light"
          },
          "paper_bgcolor": "white",
          "plot_bgcolor": "#E5ECF6",
          "polar": {
           "angularaxis": {
            "gridcolor": "white",
            "linecolor": "white",
            "ticks": ""
           },
           "bgcolor": "#E5ECF6",
           "radialaxis": {
            "gridcolor": "white",
            "linecolor": "white",
            "ticks": ""
           }
          },
          "scene": {
           "xaxis": {
            "backgroundcolor": "#E5ECF6",
            "gridcolor": "white",
            "gridwidth": 2,
            "linecolor": "white",
            "showbackground": true,
            "ticks": "",
            "zerolinecolor": "white"
           },
           "yaxis": {
            "backgroundcolor": "#E5ECF6",
            "gridcolor": "white",
            "gridwidth": 2,
            "linecolor": "white",
            "showbackground": true,
            "ticks": "",
            "zerolinecolor": "white"
           },
           "zaxis": {
            "backgroundcolor": "#E5ECF6",
            "gridcolor": "white",
            "gridwidth": 2,
            "linecolor": "white",
            "showbackground": true,
            "ticks": "",
            "zerolinecolor": "white"
           }
          },
          "shapedefaults": {
           "line": {
            "color": "#2a3f5f"
           }
          },
          "ternary": {
           "aaxis": {
            "gridcolor": "white",
            "linecolor": "white",
            "ticks": ""
           },
           "baxis": {
            "gridcolor": "white",
            "linecolor": "white",
            "ticks": ""
           },
           "bgcolor": "#E5ECF6",
           "caxis": {
            "gridcolor": "white",
            "linecolor": "white",
            "ticks": ""
           }
          },
          "title": {
           "x": 0.05
          },
          "xaxis": {
           "automargin": true,
           "gridcolor": "white",
           "linecolor": "white",
           "ticks": "",
           "title": {
            "standoff": 15
           },
           "zerolinecolor": "white",
           "zerolinewidth": 2
          },
          "yaxis": {
           "automargin": true,
           "gridcolor": "white",
           "linecolor": "white",
           "ticks": "",
           "title": {
            "standoff": 15
           },
           "zerolinecolor": "white",
           "zerolinewidth": 2
          }
         }
        },
        "title": {
         "text": "Boxplot: Tokens Totales Consumidos por Invocación de la AI Tool."
        },
        "width": 1000,
        "xaxis": {
         "anchor": "y",
         "domain": [
          0,
          1
         ],
         "title": {
          "text": "Componente"
         }
        },
        "yaxis": {
         "anchor": "x",
         "domain": [
          0,
          1
         ],
         "title": {
          "text": "Tokens"
         }
        }
       }
      }
     },
     "metadata": {},
     "output_type": "display_data"
    }
   ],
   "source": [
    "# Boxplot de tokens totales por invocación y de la AI Tool\n",
    "boxplot(\n",
    "    df_tokens_totales, \n",
    "    title=\"Boxplot: Tokens Totales Consumidos por Invocación de la AI Tool.\",\n",
    "    value_name=\"Tokens\",\n",
    "    category_name=\"Componente\"\n",
    ")"
   ]
  },
  {
   "cell_type": "markdown",
   "id": "568bbea6",
   "metadata": {},
   "source": [
    "#### **5.2. Tokens totales consumidos por invocación de la AI Tool en el prompt.**"
   ]
  },
  {
   "cell_type": "code",
   "execution_count": 9,
   "id": "dc3af0cf-1e31-4f9b-853b-d4f94988607b",
   "metadata": {},
   "outputs": [
    {
     "name": "stdout",
     "output_type": "stream",
     "text": [
      "\n",
      "Tokens consumidos por invocación de la AI Tool en el prompt:\n"
     ]
    },
    {
     "data": {
      "text/html": [
       "<div>\n",
       "<style scoped>\n",
       "    .dataframe tbody tr th:only-of-type {\n",
       "        vertical-align: middle;\n",
       "    }\n",
       "\n",
       "    .dataframe tbody tr th {\n",
       "        vertical-align: top;\n",
       "    }\n",
       "\n",
       "    .dataframe thead th {\n",
       "        text-align: right;\n",
       "    }\n",
       "</style>\n",
       "<table border=\"1\" class=\"dataframe\">\n",
       "  <thead>\n",
       "    <tr style=\"text-align: right;\">\n",
       "      <th></th>\n",
       "      <th>tokens_prompt_sql_generation</th>\n",
       "      <th>tokens_prompt_sql_generation_enhanced</th>\n",
       "    </tr>\n",
       "  </thead>\n",
       "  <tbody>\n",
       "    <tr>\n",
       "      <th>count</th>\n",
       "      <td>20.0</td>\n",
       "      <td>20.00</td>\n",
       "    </tr>\n",
       "    <tr>\n",
       "      <th>mean</th>\n",
       "      <td>13621.8</td>\n",
       "      <td>16486.50</td>\n",
       "    </tr>\n",
       "    <tr>\n",
       "      <th>std</th>\n",
       "      <td>37.4</td>\n",
       "      <td>321.27</td>\n",
       "    </tr>\n",
       "    <tr>\n",
       "      <th>min</th>\n",
       "      <td>13580.0</td>\n",
       "      <td>16041.00</td>\n",
       "    </tr>\n",
       "    <tr>\n",
       "      <th>25%</th>\n",
       "      <td>13582.0</td>\n",
       "      <td>16281.00</td>\n",
       "    </tr>\n",
       "    <tr>\n",
       "      <th>50%</th>\n",
       "      <td>13615.0</td>\n",
       "      <td>16390.50</td>\n",
       "    </tr>\n",
       "    <tr>\n",
       "      <th>75%</th>\n",
       "      <td>13669.0</td>\n",
       "      <td>16633.00</td>\n",
       "    </tr>\n",
       "    <tr>\n",
       "      <th>max</th>\n",
       "      <td>13670.0</td>\n",
       "      <td>17164.00</td>\n",
       "    </tr>\n",
       "  </tbody>\n",
       "</table>\n",
       "</div>"
      ],
      "text/plain": [
       "       tokens_prompt_sql_generation  tokens_prompt_sql_generation_enhanced\n",
       "count                          20.0                                  20.00\n",
       "mean                        13621.8                               16486.50\n",
       "std                            37.4                                 321.27\n",
       "min                         13580.0                               16041.00\n",
       "25%                         13582.0                               16281.00\n",
       "50%                         13615.0                               16390.50\n",
       "75%                         13669.0                               16633.00\n",
       "max                         13670.0                               17164.00"
      ]
     },
     "metadata": {},
     "output_type": "display_data"
    }
   ],
   "source": [
    "# Tokens consumidos en el prompt\n",
    "print(\"\\nTokens consumidos por invocación de la AI Tool en el prompt:\")\n",
    "display(df_tokens_detail_prompt.describe().round(2))\n"
   ]
  },
  {
   "cell_type": "code",
   "execution_count": 10,
   "id": "72c31622",
   "metadata": {},
   "outputs": [
    {
     "data": {
      "application/vnd.plotly.v1+json": {
       "config": {
        "plotlyServerURL": "https://plot.ly"
       },
       "data": [
        {
         "alignmentgroup": "True",
         "hovertemplate": "Componente=%{x}<br>Tokens=%{y}<extra></extra>",
         "legendgroup": "",
         "marker": {
          "color": "#000000"
         },
         "name": "",
         "notched": false,
         "offsetgroup": "",
         "orientation": "v",
         "showlegend": false,
         "type": "box",
         "x": [
          "tokens_prompt_sql_generation",
          "tokens_prompt_sql_generation",
          "tokens_prompt_sql_generation",
          "tokens_prompt_sql_generation",
          "tokens_prompt_sql_generation",
          "tokens_prompt_sql_generation",
          "tokens_prompt_sql_generation",
          "tokens_prompt_sql_generation",
          "tokens_prompt_sql_generation",
          "tokens_prompt_sql_generation",
          "tokens_prompt_sql_generation",
          "tokens_prompt_sql_generation",
          "tokens_prompt_sql_generation",
          "tokens_prompt_sql_generation",
          "tokens_prompt_sql_generation",
          "tokens_prompt_sql_generation",
          "tokens_prompt_sql_generation",
          "tokens_prompt_sql_generation",
          "tokens_prompt_sql_generation",
          "tokens_prompt_sql_generation",
          "tokens_prompt_sql_generation_enhanced",
          "tokens_prompt_sql_generation_enhanced",
          "tokens_prompt_sql_generation_enhanced",
          "tokens_prompt_sql_generation_enhanced",
          "tokens_prompt_sql_generation_enhanced",
          "tokens_prompt_sql_generation_enhanced",
          "tokens_prompt_sql_generation_enhanced",
          "tokens_prompt_sql_generation_enhanced",
          "tokens_prompt_sql_generation_enhanced",
          "tokens_prompt_sql_generation_enhanced",
          "tokens_prompt_sql_generation_enhanced",
          "tokens_prompt_sql_generation_enhanced",
          "tokens_prompt_sql_generation_enhanced",
          "tokens_prompt_sql_generation_enhanced",
          "tokens_prompt_sql_generation_enhanced",
          "tokens_prompt_sql_generation_enhanced",
          "tokens_prompt_sql_generation_enhanced",
          "tokens_prompt_sql_generation_enhanced",
          "tokens_prompt_sql_generation_enhanced",
          "tokens_prompt_sql_generation_enhanced"
         ],
         "x0": " ",
         "xaxis": "x",
         "y": {
          "bdata": "ETUvNQ41ZjVmNQ01ZTUvNQ41LzUvNWY1MTUMNS81WTUMNWU1DDVlNWg//EBUP6k+d0HQQglA0EDwPqI/GUD4QH4/pD+cQgRA0z9WQOc/DEM=",
          "dtype": "i2"
         },
         "y0": " ",
         "yaxis": "y"
        }
       ],
       "layout": {
        "boxgap": 0.3,
        "boxgroupgap": 0.3,
        "boxmode": "group",
        "height": 500,
        "legend": {
         "tracegroupgap": 0
        },
        "paper_bgcolor": "white",
        "plot_bgcolor": "white",
        "template": {
         "data": {
          "bar": [
           {
            "error_x": {
             "color": "#2a3f5f"
            },
            "error_y": {
             "color": "#2a3f5f"
            },
            "marker": {
             "line": {
              "color": "#E5ECF6",
              "width": 0.5
             },
             "pattern": {
              "fillmode": "overlay",
              "size": 10,
              "solidity": 0.2
             }
            },
            "type": "bar"
           }
          ],
          "barpolar": [
           {
            "marker": {
             "line": {
              "color": "#E5ECF6",
              "width": 0.5
             },
             "pattern": {
              "fillmode": "overlay",
              "size": 10,
              "solidity": 0.2
             }
            },
            "type": "barpolar"
           }
          ],
          "carpet": [
           {
            "aaxis": {
             "endlinecolor": "#2a3f5f",
             "gridcolor": "white",
             "linecolor": "white",
             "minorgridcolor": "white",
             "startlinecolor": "#2a3f5f"
            },
            "baxis": {
             "endlinecolor": "#2a3f5f",
             "gridcolor": "white",
             "linecolor": "white",
             "minorgridcolor": "white",
             "startlinecolor": "#2a3f5f"
            },
            "type": "carpet"
           }
          ],
          "choropleth": [
           {
            "colorbar": {
             "outlinewidth": 0,
             "ticks": ""
            },
            "type": "choropleth"
           }
          ],
          "contour": [
           {
            "colorbar": {
             "outlinewidth": 0,
             "ticks": ""
            },
            "colorscale": [
             [
              0,
              "#0d0887"
             ],
             [
              0.1111111111111111,
              "#46039f"
             ],
             [
              0.2222222222222222,
              "#7201a8"
             ],
             [
              0.3333333333333333,
              "#9c179e"
             ],
             [
              0.4444444444444444,
              "#bd3786"
             ],
             [
              0.5555555555555556,
              "#d8576b"
             ],
             [
              0.6666666666666666,
              "#ed7953"
             ],
             [
              0.7777777777777778,
              "#fb9f3a"
             ],
             [
              0.8888888888888888,
              "#fdca26"
             ],
             [
              1,
              "#f0f921"
             ]
            ],
            "type": "contour"
           }
          ],
          "contourcarpet": [
           {
            "colorbar": {
             "outlinewidth": 0,
             "ticks": ""
            },
            "type": "contourcarpet"
           }
          ],
          "heatmap": [
           {
            "colorbar": {
             "outlinewidth": 0,
             "ticks": ""
            },
            "colorscale": [
             [
              0,
              "#0d0887"
             ],
             [
              0.1111111111111111,
              "#46039f"
             ],
             [
              0.2222222222222222,
              "#7201a8"
             ],
             [
              0.3333333333333333,
              "#9c179e"
             ],
             [
              0.4444444444444444,
              "#bd3786"
             ],
             [
              0.5555555555555556,
              "#d8576b"
             ],
             [
              0.6666666666666666,
              "#ed7953"
             ],
             [
              0.7777777777777778,
              "#fb9f3a"
             ],
             [
              0.8888888888888888,
              "#fdca26"
             ],
             [
              1,
              "#f0f921"
             ]
            ],
            "type": "heatmap"
           }
          ],
          "histogram": [
           {
            "marker": {
             "pattern": {
              "fillmode": "overlay",
              "size": 10,
              "solidity": 0.2
             }
            },
            "type": "histogram"
           }
          ],
          "histogram2d": [
           {
            "colorbar": {
             "outlinewidth": 0,
             "ticks": ""
            },
            "colorscale": [
             [
              0,
              "#0d0887"
             ],
             [
              0.1111111111111111,
              "#46039f"
             ],
             [
              0.2222222222222222,
              "#7201a8"
             ],
             [
              0.3333333333333333,
              "#9c179e"
             ],
             [
              0.4444444444444444,
              "#bd3786"
             ],
             [
              0.5555555555555556,
              "#d8576b"
             ],
             [
              0.6666666666666666,
              "#ed7953"
             ],
             [
              0.7777777777777778,
              "#fb9f3a"
             ],
             [
              0.8888888888888888,
              "#fdca26"
             ],
             [
              1,
              "#f0f921"
             ]
            ],
            "type": "histogram2d"
           }
          ],
          "histogram2dcontour": [
           {
            "colorbar": {
             "outlinewidth": 0,
             "ticks": ""
            },
            "colorscale": [
             [
              0,
              "#0d0887"
             ],
             [
              0.1111111111111111,
              "#46039f"
             ],
             [
              0.2222222222222222,
              "#7201a8"
             ],
             [
              0.3333333333333333,
              "#9c179e"
             ],
             [
              0.4444444444444444,
              "#bd3786"
             ],
             [
              0.5555555555555556,
              "#d8576b"
             ],
             [
              0.6666666666666666,
              "#ed7953"
             ],
             [
              0.7777777777777778,
              "#fb9f3a"
             ],
             [
              0.8888888888888888,
              "#fdca26"
             ],
             [
              1,
              "#f0f921"
             ]
            ],
            "type": "histogram2dcontour"
           }
          ],
          "mesh3d": [
           {
            "colorbar": {
             "outlinewidth": 0,
             "ticks": ""
            },
            "type": "mesh3d"
           }
          ],
          "parcoords": [
           {
            "line": {
             "colorbar": {
              "outlinewidth": 0,
              "ticks": ""
             }
            },
            "type": "parcoords"
           }
          ],
          "pie": [
           {
            "automargin": true,
            "type": "pie"
           }
          ],
          "scatter": [
           {
            "fillpattern": {
             "fillmode": "overlay",
             "size": 10,
             "solidity": 0.2
            },
            "type": "scatter"
           }
          ],
          "scatter3d": [
           {
            "line": {
             "colorbar": {
              "outlinewidth": 0,
              "ticks": ""
             }
            },
            "marker": {
             "colorbar": {
              "outlinewidth": 0,
              "ticks": ""
             }
            },
            "type": "scatter3d"
           }
          ],
          "scattercarpet": [
           {
            "marker": {
             "colorbar": {
              "outlinewidth": 0,
              "ticks": ""
             }
            },
            "type": "scattercarpet"
           }
          ],
          "scattergeo": [
           {
            "marker": {
             "colorbar": {
              "outlinewidth": 0,
              "ticks": ""
             }
            },
            "type": "scattergeo"
           }
          ],
          "scattergl": [
           {
            "marker": {
             "colorbar": {
              "outlinewidth": 0,
              "ticks": ""
             }
            },
            "type": "scattergl"
           }
          ],
          "scattermap": [
           {
            "marker": {
             "colorbar": {
              "outlinewidth": 0,
              "ticks": ""
             }
            },
            "type": "scattermap"
           }
          ],
          "scattermapbox": [
           {
            "marker": {
             "colorbar": {
              "outlinewidth": 0,
              "ticks": ""
             }
            },
            "type": "scattermapbox"
           }
          ],
          "scatterpolar": [
           {
            "marker": {
             "colorbar": {
              "outlinewidth": 0,
              "ticks": ""
             }
            },
            "type": "scatterpolar"
           }
          ],
          "scatterpolargl": [
           {
            "marker": {
             "colorbar": {
              "outlinewidth": 0,
              "ticks": ""
             }
            },
            "type": "scatterpolargl"
           }
          ],
          "scatterternary": [
           {
            "marker": {
             "colorbar": {
              "outlinewidth": 0,
              "ticks": ""
             }
            },
            "type": "scatterternary"
           }
          ],
          "surface": [
           {
            "colorbar": {
             "outlinewidth": 0,
             "ticks": ""
            },
            "colorscale": [
             [
              0,
              "#0d0887"
             ],
             [
              0.1111111111111111,
              "#46039f"
             ],
             [
              0.2222222222222222,
              "#7201a8"
             ],
             [
              0.3333333333333333,
              "#9c179e"
             ],
             [
              0.4444444444444444,
              "#bd3786"
             ],
             [
              0.5555555555555556,
              "#d8576b"
             ],
             [
              0.6666666666666666,
              "#ed7953"
             ],
             [
              0.7777777777777778,
              "#fb9f3a"
             ],
             [
              0.8888888888888888,
              "#fdca26"
             ],
             [
              1,
              "#f0f921"
             ]
            ],
            "type": "surface"
           }
          ],
          "table": [
           {
            "cells": {
             "fill": {
              "color": "#EBF0F8"
             },
             "line": {
              "color": "white"
             }
            },
            "header": {
             "fill": {
              "color": "#C8D4E3"
             },
             "line": {
              "color": "white"
             }
            },
            "type": "table"
           }
          ]
         },
         "layout": {
          "annotationdefaults": {
           "arrowcolor": "#2a3f5f",
           "arrowhead": 0,
           "arrowwidth": 1
          },
          "autotypenumbers": "strict",
          "coloraxis": {
           "colorbar": {
            "outlinewidth": 0,
            "ticks": ""
           }
          },
          "colorscale": {
           "diverging": [
            [
             0,
             "#8e0152"
            ],
            [
             0.1,
             "#c51b7d"
            ],
            [
             0.2,
             "#de77ae"
            ],
            [
             0.3,
             "#f1b6da"
            ],
            [
             0.4,
             "#fde0ef"
            ],
            [
             0.5,
             "#f7f7f7"
            ],
            [
             0.6,
             "#e6f5d0"
            ],
            [
             0.7,
             "#b8e186"
            ],
            [
             0.8,
             "#7fbc41"
            ],
            [
             0.9,
             "#4d9221"
            ],
            [
             1,
             "#276419"
            ]
           ],
           "sequential": [
            [
             0,
             "#0d0887"
            ],
            [
             0.1111111111111111,
             "#46039f"
            ],
            [
             0.2222222222222222,
             "#7201a8"
            ],
            [
             0.3333333333333333,
             "#9c179e"
            ],
            [
             0.4444444444444444,
             "#bd3786"
            ],
            [
             0.5555555555555556,
             "#d8576b"
            ],
            [
             0.6666666666666666,
             "#ed7953"
            ],
            [
             0.7777777777777778,
             "#fb9f3a"
            ],
            [
             0.8888888888888888,
             "#fdca26"
            ],
            [
             1,
             "#f0f921"
            ]
           ],
           "sequentialminus": [
            [
             0,
             "#0d0887"
            ],
            [
             0.1111111111111111,
             "#46039f"
            ],
            [
             0.2222222222222222,
             "#7201a8"
            ],
            [
             0.3333333333333333,
             "#9c179e"
            ],
            [
             0.4444444444444444,
             "#bd3786"
            ],
            [
             0.5555555555555556,
             "#d8576b"
            ],
            [
             0.6666666666666666,
             "#ed7953"
            ],
            [
             0.7777777777777778,
             "#fb9f3a"
            ],
            [
             0.8888888888888888,
             "#fdca26"
            ],
            [
             1,
             "#f0f921"
            ]
           ]
          },
          "colorway": [
           "#636efa",
           "#EF553B",
           "#00cc96",
           "#ab63fa",
           "#FFA15A",
           "#19d3f3",
           "#FF6692",
           "#B6E880",
           "#FF97FF",
           "#FECB52"
          ],
          "font": {
           "color": "#2a3f5f"
          },
          "geo": {
           "bgcolor": "white",
           "lakecolor": "white",
           "landcolor": "#E5ECF6",
           "showlakes": true,
           "showland": true,
           "subunitcolor": "white"
          },
          "hoverlabel": {
           "align": "left"
          },
          "hovermode": "closest",
          "mapbox": {
           "style": "light"
          },
          "paper_bgcolor": "white",
          "plot_bgcolor": "#E5ECF6",
          "polar": {
           "angularaxis": {
            "gridcolor": "white",
            "linecolor": "white",
            "ticks": ""
           },
           "bgcolor": "#E5ECF6",
           "radialaxis": {
            "gridcolor": "white",
            "linecolor": "white",
            "ticks": ""
           }
          },
          "scene": {
           "xaxis": {
            "backgroundcolor": "#E5ECF6",
            "gridcolor": "white",
            "gridwidth": 2,
            "linecolor": "white",
            "showbackground": true,
            "ticks": "",
            "zerolinecolor": "white"
           },
           "yaxis": {
            "backgroundcolor": "#E5ECF6",
            "gridcolor": "white",
            "gridwidth": 2,
            "linecolor": "white",
            "showbackground": true,
            "ticks": "",
            "zerolinecolor": "white"
           },
           "zaxis": {
            "backgroundcolor": "#E5ECF6",
            "gridcolor": "white",
            "gridwidth": 2,
            "linecolor": "white",
            "showbackground": true,
            "ticks": "",
            "zerolinecolor": "white"
           }
          },
          "shapedefaults": {
           "line": {
            "color": "#2a3f5f"
           }
          },
          "ternary": {
           "aaxis": {
            "gridcolor": "white",
            "linecolor": "white",
            "ticks": ""
           },
           "baxis": {
            "gridcolor": "white",
            "linecolor": "white",
            "ticks": ""
           },
           "bgcolor": "#E5ECF6",
           "caxis": {
            "gridcolor": "white",
            "linecolor": "white",
            "ticks": ""
           }
          },
          "title": {
           "x": 0.05
          },
          "xaxis": {
           "automargin": true,
           "gridcolor": "white",
           "linecolor": "white",
           "ticks": "",
           "title": {
            "standoff": 15
           },
           "zerolinecolor": "white",
           "zerolinewidth": 2
          },
          "yaxis": {
           "automargin": true,
           "gridcolor": "white",
           "linecolor": "white",
           "ticks": "",
           "title": {
            "standoff": 15
           },
           "zerolinecolor": "white",
           "zerolinewidth": 2
          }
         }
        },
        "title": {
         "text": "Boxplot: Tokens totales consumidos por invocación de la AI Tool en el prompt."
        },
        "width": 1000,
        "xaxis": {
         "anchor": "y",
         "domain": [
          0,
          1
         ],
         "title": {
          "text": "Componente"
         }
        },
        "yaxis": {
         "anchor": "x",
         "domain": [
          0,
          1
         ],
         "title": {
          "text": "Tokens"
         }
        }
       }
      }
     },
     "metadata": {},
     "output_type": "display_data"
    }
   ],
   "source": [
    "# Boxplot de tokens consumidos en el prompt\n",
    "boxplot(\n",
    "    df_tokens_detail_prompt, \n",
    "    title=\"Boxplot: Tokens totales consumidos por invocación de la AI Tool en el prompt.\",\n",
    "    value_name=\"Tokens\",\n",
    "    category_name=\"Componente\"\n",
    ")"
   ]
  },
  {
   "cell_type": "markdown",
   "id": "7119a3af",
   "metadata": {},
   "source": [
    "#### **5.3. Tokens totales consumidos por invocación de la AI Tool en la respuesta.**\n"
   ]
  },
  {
   "cell_type": "code",
   "execution_count": 11,
   "id": "0bfa03f6",
   "metadata": {},
   "outputs": [
    {
     "name": "stdout",
     "output_type": "stream",
     "text": [
      "\n",
      "Tokens consumidos por invocación de la AI Tool en la respuesta:\n"
     ]
    },
    {
     "data": {
      "text/html": [
       "<div>\n",
       "<style scoped>\n",
       "    .dataframe tbody tr th:only-of-type {\n",
       "        vertical-align: middle;\n",
       "    }\n",
       "\n",
       "    .dataframe tbody tr th {\n",
       "        vertical-align: top;\n",
       "    }\n",
       "\n",
       "    .dataframe thead th {\n",
       "        text-align: right;\n",
       "    }\n",
       "</style>\n",
       "<table border=\"1\" class=\"dataframe\">\n",
       "  <thead>\n",
       "    <tr style=\"text-align: right;\">\n",
       "      <th></th>\n",
       "      <th>tokens_completion_sql_generation</th>\n",
       "      <th>tokens_completion_sql_generation_enhanced</th>\n",
       "    </tr>\n",
       "  </thead>\n",
       "  <tbody>\n",
       "    <tr>\n",
       "      <th>count</th>\n",
       "      <td>20.00</td>\n",
       "      <td>20.00</td>\n",
       "    </tr>\n",
       "    <tr>\n",
       "      <th>mean</th>\n",
       "      <td>6818.00</td>\n",
       "      <td>5665.20</td>\n",
       "    </tr>\n",
       "    <tr>\n",
       "      <th>std</th>\n",
       "      <td>1289.87</td>\n",
       "      <td>1385.73</td>\n",
       "    </tr>\n",
       "    <tr>\n",
       "      <th>min</th>\n",
       "      <td>4765.00</td>\n",
       "      <td>3683.00</td>\n",
       "    </tr>\n",
       "    <tr>\n",
       "      <th>25%</th>\n",
       "      <td>5814.75</td>\n",
       "      <td>4892.50</td>\n",
       "    </tr>\n",
       "    <tr>\n",
       "      <th>50%</th>\n",
       "      <td>6533.50</td>\n",
       "      <td>5430.00</td>\n",
       "    </tr>\n",
       "    <tr>\n",
       "      <th>75%</th>\n",
       "      <td>7749.50</td>\n",
       "      <td>6220.75</td>\n",
       "    </tr>\n",
       "    <tr>\n",
       "      <th>max</th>\n",
       "      <td>9074.00</td>\n",
       "      <td>8943.00</td>\n",
       "    </tr>\n",
       "  </tbody>\n",
       "</table>\n",
       "</div>"
      ],
      "text/plain": [
       "       tokens_completion_sql_generation  \\\n",
       "count                             20.00   \n",
       "mean                            6818.00   \n",
       "std                             1289.87   \n",
       "min                             4765.00   \n",
       "25%                             5814.75   \n",
       "50%                             6533.50   \n",
       "75%                             7749.50   \n",
       "max                             9074.00   \n",
       "\n",
       "       tokens_completion_sql_generation_enhanced  \n",
       "count                                      20.00  \n",
       "mean                                     5665.20  \n",
       "std                                      1385.73  \n",
       "min                                      3683.00  \n",
       "25%                                      4892.50  \n",
       "50%                                      5430.00  \n",
       "75%                                      6220.75  \n",
       "max                                      8943.00  "
      ]
     },
     "metadata": {},
     "output_type": "display_data"
    }
   ],
   "source": [
    "print(\"\\nTokens consumidos por invocación de la AI Tool en la respuesta:\")\n",
    "display(df_tokens_detail_completion.describe().round(2))"
   ]
  },
  {
   "cell_type": "code",
   "execution_count": 12,
   "id": "15e97652-f612-44b7-ba88-c1fd6cc86a81",
   "metadata": {},
   "outputs": [
    {
     "data": {
      "application/vnd.plotly.v1+json": {
       "config": {
        "plotlyServerURL": "https://plot.ly"
       },
       "data": [
        {
         "alignmentgroup": "True",
         "hovertemplate": "Componente=%{x}<br>Tokens=%{y}<extra></extra>",
         "legendgroup": "",
         "marker": {
          "color": "#000000"
         },
         "name": "",
         "notched": false,
         "offsetgroup": "",
         "orientation": "v",
         "showlegend": false,
         "type": "box",
         "x": [
          "tokens_completion_sql_generation",
          "tokens_completion_sql_generation",
          "tokens_completion_sql_generation",
          "tokens_completion_sql_generation",
          "tokens_completion_sql_generation",
          "tokens_completion_sql_generation",
          "tokens_completion_sql_generation",
          "tokens_completion_sql_generation",
          "tokens_completion_sql_generation",
          "tokens_completion_sql_generation",
          "tokens_completion_sql_generation",
          "tokens_completion_sql_generation",
          "tokens_completion_sql_generation",
          "tokens_completion_sql_generation",
          "tokens_completion_sql_generation",
          "tokens_completion_sql_generation",
          "tokens_completion_sql_generation",
          "tokens_completion_sql_generation",
          "tokens_completion_sql_generation",
          "tokens_completion_sql_generation",
          "tokens_completion_sql_generation_enhanced",
          "tokens_completion_sql_generation_enhanced",
          "tokens_completion_sql_generation_enhanced",
          "tokens_completion_sql_generation_enhanced",
          "tokens_completion_sql_generation_enhanced",
          "tokens_completion_sql_generation_enhanced",
          "tokens_completion_sql_generation_enhanced",
          "tokens_completion_sql_generation_enhanced",
          "tokens_completion_sql_generation_enhanced",
          "tokens_completion_sql_generation_enhanced",
          "tokens_completion_sql_generation_enhanced",
          "tokens_completion_sql_generation_enhanced",
          "tokens_completion_sql_generation_enhanced",
          "tokens_completion_sql_generation_enhanced",
          "tokens_completion_sql_generation_enhanced",
          "tokens_completion_sql_generation_enhanced",
          "tokens_completion_sql_generation_enhanced",
          "tokens_completion_sql_generation_enhanced",
          "tokens_completion_sql_generation_enhanced",
          "tokens_completion_sql_generation_enhanced"
         ],
         "x0": " ",
         "xaxis": "x",
         "y": {
          "bdata": "4x3WHYwZTxWdEk8ZrxhtHy4Ufxm3H54TWhskF/kgNxmTHW8V6CFyI20QRxW7F0MTUREIFm4fDg9iHAIa7yJIFCETYw5NFA8TJRURHQcWWRU=",
          "dtype": "i2"
         },
         "y0": " ",
         "yaxis": "y"
        }
       ],
       "layout": {
        "boxgap": 0.3,
        "boxgroupgap": 0.3,
        "boxmode": "group",
        "height": 500,
        "legend": {
         "tracegroupgap": 0
        },
        "paper_bgcolor": "white",
        "plot_bgcolor": "white",
        "template": {
         "data": {
          "bar": [
           {
            "error_x": {
             "color": "#2a3f5f"
            },
            "error_y": {
             "color": "#2a3f5f"
            },
            "marker": {
             "line": {
              "color": "#E5ECF6",
              "width": 0.5
             },
             "pattern": {
              "fillmode": "overlay",
              "size": 10,
              "solidity": 0.2
             }
            },
            "type": "bar"
           }
          ],
          "barpolar": [
           {
            "marker": {
             "line": {
              "color": "#E5ECF6",
              "width": 0.5
             },
             "pattern": {
              "fillmode": "overlay",
              "size": 10,
              "solidity": 0.2
             }
            },
            "type": "barpolar"
           }
          ],
          "carpet": [
           {
            "aaxis": {
             "endlinecolor": "#2a3f5f",
             "gridcolor": "white",
             "linecolor": "white",
             "minorgridcolor": "white",
             "startlinecolor": "#2a3f5f"
            },
            "baxis": {
             "endlinecolor": "#2a3f5f",
             "gridcolor": "white",
             "linecolor": "white",
             "minorgridcolor": "white",
             "startlinecolor": "#2a3f5f"
            },
            "type": "carpet"
           }
          ],
          "choropleth": [
           {
            "colorbar": {
             "outlinewidth": 0,
             "ticks": ""
            },
            "type": "choropleth"
           }
          ],
          "contour": [
           {
            "colorbar": {
             "outlinewidth": 0,
             "ticks": ""
            },
            "colorscale": [
             [
              0,
              "#0d0887"
             ],
             [
              0.1111111111111111,
              "#46039f"
             ],
             [
              0.2222222222222222,
              "#7201a8"
             ],
             [
              0.3333333333333333,
              "#9c179e"
             ],
             [
              0.4444444444444444,
              "#bd3786"
             ],
             [
              0.5555555555555556,
              "#d8576b"
             ],
             [
              0.6666666666666666,
              "#ed7953"
             ],
             [
              0.7777777777777778,
              "#fb9f3a"
             ],
             [
              0.8888888888888888,
              "#fdca26"
             ],
             [
              1,
              "#f0f921"
             ]
            ],
            "type": "contour"
           }
          ],
          "contourcarpet": [
           {
            "colorbar": {
             "outlinewidth": 0,
             "ticks": ""
            },
            "type": "contourcarpet"
           }
          ],
          "heatmap": [
           {
            "colorbar": {
             "outlinewidth": 0,
             "ticks": ""
            },
            "colorscale": [
             [
              0,
              "#0d0887"
             ],
             [
              0.1111111111111111,
              "#46039f"
             ],
             [
              0.2222222222222222,
              "#7201a8"
             ],
             [
              0.3333333333333333,
              "#9c179e"
             ],
             [
              0.4444444444444444,
              "#bd3786"
             ],
             [
              0.5555555555555556,
              "#d8576b"
             ],
             [
              0.6666666666666666,
              "#ed7953"
             ],
             [
              0.7777777777777778,
              "#fb9f3a"
             ],
             [
              0.8888888888888888,
              "#fdca26"
             ],
             [
              1,
              "#f0f921"
             ]
            ],
            "type": "heatmap"
           }
          ],
          "histogram": [
           {
            "marker": {
             "pattern": {
              "fillmode": "overlay",
              "size": 10,
              "solidity": 0.2
             }
            },
            "type": "histogram"
           }
          ],
          "histogram2d": [
           {
            "colorbar": {
             "outlinewidth": 0,
             "ticks": ""
            },
            "colorscale": [
             [
              0,
              "#0d0887"
             ],
             [
              0.1111111111111111,
              "#46039f"
             ],
             [
              0.2222222222222222,
              "#7201a8"
             ],
             [
              0.3333333333333333,
              "#9c179e"
             ],
             [
              0.4444444444444444,
              "#bd3786"
             ],
             [
              0.5555555555555556,
              "#d8576b"
             ],
             [
              0.6666666666666666,
              "#ed7953"
             ],
             [
              0.7777777777777778,
              "#fb9f3a"
             ],
             [
              0.8888888888888888,
              "#fdca26"
             ],
             [
              1,
              "#f0f921"
             ]
            ],
            "type": "histogram2d"
           }
          ],
          "histogram2dcontour": [
           {
            "colorbar": {
             "outlinewidth": 0,
             "ticks": ""
            },
            "colorscale": [
             [
              0,
              "#0d0887"
             ],
             [
              0.1111111111111111,
              "#46039f"
             ],
             [
              0.2222222222222222,
              "#7201a8"
             ],
             [
              0.3333333333333333,
              "#9c179e"
             ],
             [
              0.4444444444444444,
              "#bd3786"
             ],
             [
              0.5555555555555556,
              "#d8576b"
             ],
             [
              0.6666666666666666,
              "#ed7953"
             ],
             [
              0.7777777777777778,
              "#fb9f3a"
             ],
             [
              0.8888888888888888,
              "#fdca26"
             ],
             [
              1,
              "#f0f921"
             ]
            ],
            "type": "histogram2dcontour"
           }
          ],
          "mesh3d": [
           {
            "colorbar": {
             "outlinewidth": 0,
             "ticks": ""
            },
            "type": "mesh3d"
           }
          ],
          "parcoords": [
           {
            "line": {
             "colorbar": {
              "outlinewidth": 0,
              "ticks": ""
             }
            },
            "type": "parcoords"
           }
          ],
          "pie": [
           {
            "automargin": true,
            "type": "pie"
           }
          ],
          "scatter": [
           {
            "fillpattern": {
             "fillmode": "overlay",
             "size": 10,
             "solidity": 0.2
            },
            "type": "scatter"
           }
          ],
          "scatter3d": [
           {
            "line": {
             "colorbar": {
              "outlinewidth": 0,
              "ticks": ""
             }
            },
            "marker": {
             "colorbar": {
              "outlinewidth": 0,
              "ticks": ""
             }
            },
            "type": "scatter3d"
           }
          ],
          "scattercarpet": [
           {
            "marker": {
             "colorbar": {
              "outlinewidth": 0,
              "ticks": ""
             }
            },
            "type": "scattercarpet"
           }
          ],
          "scattergeo": [
           {
            "marker": {
             "colorbar": {
              "outlinewidth": 0,
              "ticks": ""
             }
            },
            "type": "scattergeo"
           }
          ],
          "scattergl": [
           {
            "marker": {
             "colorbar": {
              "outlinewidth": 0,
              "ticks": ""
             }
            },
            "type": "scattergl"
           }
          ],
          "scattermap": [
           {
            "marker": {
             "colorbar": {
              "outlinewidth": 0,
              "ticks": ""
             }
            },
            "type": "scattermap"
           }
          ],
          "scattermapbox": [
           {
            "marker": {
             "colorbar": {
              "outlinewidth": 0,
              "ticks": ""
             }
            },
            "type": "scattermapbox"
           }
          ],
          "scatterpolar": [
           {
            "marker": {
             "colorbar": {
              "outlinewidth": 0,
              "ticks": ""
             }
            },
            "type": "scatterpolar"
           }
          ],
          "scatterpolargl": [
           {
            "marker": {
             "colorbar": {
              "outlinewidth": 0,
              "ticks": ""
             }
            },
            "type": "scatterpolargl"
           }
          ],
          "scatterternary": [
           {
            "marker": {
             "colorbar": {
              "outlinewidth": 0,
              "ticks": ""
             }
            },
            "type": "scatterternary"
           }
          ],
          "surface": [
           {
            "colorbar": {
             "outlinewidth": 0,
             "ticks": ""
            },
            "colorscale": [
             [
              0,
              "#0d0887"
             ],
             [
              0.1111111111111111,
              "#46039f"
             ],
             [
              0.2222222222222222,
              "#7201a8"
             ],
             [
              0.3333333333333333,
              "#9c179e"
             ],
             [
              0.4444444444444444,
              "#bd3786"
             ],
             [
              0.5555555555555556,
              "#d8576b"
             ],
             [
              0.6666666666666666,
              "#ed7953"
             ],
             [
              0.7777777777777778,
              "#fb9f3a"
             ],
             [
              0.8888888888888888,
              "#fdca26"
             ],
             [
              1,
              "#f0f921"
             ]
            ],
            "type": "surface"
           }
          ],
          "table": [
           {
            "cells": {
             "fill": {
              "color": "#EBF0F8"
             },
             "line": {
              "color": "white"
             }
            },
            "header": {
             "fill": {
              "color": "#C8D4E3"
             },
             "line": {
              "color": "white"
             }
            },
            "type": "table"
           }
          ]
         },
         "layout": {
          "annotationdefaults": {
           "arrowcolor": "#2a3f5f",
           "arrowhead": 0,
           "arrowwidth": 1
          },
          "autotypenumbers": "strict",
          "coloraxis": {
           "colorbar": {
            "outlinewidth": 0,
            "ticks": ""
           }
          },
          "colorscale": {
           "diverging": [
            [
             0,
             "#8e0152"
            ],
            [
             0.1,
             "#c51b7d"
            ],
            [
             0.2,
             "#de77ae"
            ],
            [
             0.3,
             "#f1b6da"
            ],
            [
             0.4,
             "#fde0ef"
            ],
            [
             0.5,
             "#f7f7f7"
            ],
            [
             0.6,
             "#e6f5d0"
            ],
            [
             0.7,
             "#b8e186"
            ],
            [
             0.8,
             "#7fbc41"
            ],
            [
             0.9,
             "#4d9221"
            ],
            [
             1,
             "#276419"
            ]
           ],
           "sequential": [
            [
             0,
             "#0d0887"
            ],
            [
             0.1111111111111111,
             "#46039f"
            ],
            [
             0.2222222222222222,
             "#7201a8"
            ],
            [
             0.3333333333333333,
             "#9c179e"
            ],
            [
             0.4444444444444444,
             "#bd3786"
            ],
            [
             0.5555555555555556,
             "#d8576b"
            ],
            [
             0.6666666666666666,
             "#ed7953"
            ],
            [
             0.7777777777777778,
             "#fb9f3a"
            ],
            [
             0.8888888888888888,
             "#fdca26"
            ],
            [
             1,
             "#f0f921"
            ]
           ],
           "sequentialminus": [
            [
             0,
             "#0d0887"
            ],
            [
             0.1111111111111111,
             "#46039f"
            ],
            [
             0.2222222222222222,
             "#7201a8"
            ],
            [
             0.3333333333333333,
             "#9c179e"
            ],
            [
             0.4444444444444444,
             "#bd3786"
            ],
            [
             0.5555555555555556,
             "#d8576b"
            ],
            [
             0.6666666666666666,
             "#ed7953"
            ],
            [
             0.7777777777777778,
             "#fb9f3a"
            ],
            [
             0.8888888888888888,
             "#fdca26"
            ],
            [
             1,
             "#f0f921"
            ]
           ]
          },
          "colorway": [
           "#636efa",
           "#EF553B",
           "#00cc96",
           "#ab63fa",
           "#FFA15A",
           "#19d3f3",
           "#FF6692",
           "#B6E880",
           "#FF97FF",
           "#FECB52"
          ],
          "font": {
           "color": "#2a3f5f"
          },
          "geo": {
           "bgcolor": "white",
           "lakecolor": "white",
           "landcolor": "#E5ECF6",
           "showlakes": true,
           "showland": true,
           "subunitcolor": "white"
          },
          "hoverlabel": {
           "align": "left"
          },
          "hovermode": "closest",
          "mapbox": {
           "style": "light"
          },
          "paper_bgcolor": "white",
          "plot_bgcolor": "#E5ECF6",
          "polar": {
           "angularaxis": {
            "gridcolor": "white",
            "linecolor": "white",
            "ticks": ""
           },
           "bgcolor": "#E5ECF6",
           "radialaxis": {
            "gridcolor": "white",
            "linecolor": "white",
            "ticks": ""
           }
          },
          "scene": {
           "xaxis": {
            "backgroundcolor": "#E5ECF6",
            "gridcolor": "white",
            "gridwidth": 2,
            "linecolor": "white",
            "showbackground": true,
            "ticks": "",
            "zerolinecolor": "white"
           },
           "yaxis": {
            "backgroundcolor": "#E5ECF6",
            "gridcolor": "white",
            "gridwidth": 2,
            "linecolor": "white",
            "showbackground": true,
            "ticks": "",
            "zerolinecolor": "white"
           },
           "zaxis": {
            "backgroundcolor": "#E5ECF6",
            "gridcolor": "white",
            "gridwidth": 2,
            "linecolor": "white",
            "showbackground": true,
            "ticks": "",
            "zerolinecolor": "white"
           }
          },
          "shapedefaults": {
           "line": {
            "color": "#2a3f5f"
           }
          },
          "ternary": {
           "aaxis": {
            "gridcolor": "white",
            "linecolor": "white",
            "ticks": ""
           },
           "baxis": {
            "gridcolor": "white",
            "linecolor": "white",
            "ticks": ""
           },
           "bgcolor": "#E5ECF6",
           "caxis": {
            "gridcolor": "white",
            "linecolor": "white",
            "ticks": ""
           }
          },
          "title": {
           "x": 0.05
          },
          "xaxis": {
           "automargin": true,
           "gridcolor": "white",
           "linecolor": "white",
           "ticks": "",
           "title": {
            "standoff": 15
           },
           "zerolinecolor": "white",
           "zerolinewidth": 2
          },
          "yaxis": {
           "automargin": true,
           "gridcolor": "white",
           "linecolor": "white",
           "ticks": "",
           "title": {
            "standoff": 15
           },
           "zerolinecolor": "white",
           "zerolinewidth": 2
          }
         }
        },
        "title": {
         "text": "Boxplot: Tokens consumidos por invocación de la AI Tool en la respuesta."
        },
        "width": 1000,
        "xaxis": {
         "anchor": "y",
         "domain": [
          0,
          1
         ],
         "title": {
          "text": "Componente"
         }
        },
        "yaxis": {
         "anchor": "x",
         "domain": [
          0,
          1
         ],
         "title": {
          "text": "Tokens"
         }
        }
       }
      }
     },
     "metadata": {},
     "output_type": "display_data"
    }
   ],
   "source": [
    "# Boxplot de tokens consumidos en la respuesta\n",
    "boxplot(\n",
    "    df_tokens_detail_completion, \n",
    "    title=\"Boxplot: Tokens consumidos por invocación de la AI Tool en la respuesta.\",\n",
    "    value_name=\"Tokens\",\n",
    "    category_name=\"Componente\"\n",
    ")\n"
   ]
  },
  {
   "cell_type": "markdown",
   "id": "a6e6555a",
   "metadata": {},
   "source": [
    "#### **5.4. Tokens totales consumidos por invocación de la AI Tool en los embeddings.**"
   ]
  },
  {
   "cell_type": "code",
   "execution_count": 13,
   "id": "c88fc60b",
   "metadata": {},
   "outputs": [
    {
     "name": "stdout",
     "output_type": "stream",
     "text": [
      "\n",
      "Tokens consumidos por invocación de la AI Tool en los embeddings:\n"
     ]
    },
    {
     "data": {
      "text/html": [
       "<div>\n",
       "<style scoped>\n",
       "    .dataframe tbody tr th:only-of-type {\n",
       "        vertical-align: middle;\n",
       "    }\n",
       "\n",
       "    .dataframe tbody tr th {\n",
       "        vertical-align: top;\n",
       "    }\n",
       "\n",
       "    .dataframe thead th {\n",
       "        text-align: right;\n",
       "    }\n",
       "</style>\n",
       "<table border=\"1\" class=\"dataframe\">\n",
       "  <thead>\n",
       "    <tr style=\"text-align: right;\">\n",
       "      <th></th>\n",
       "      <th>tokens_total_retriever_embedding</th>\n",
       "    </tr>\n",
       "  </thead>\n",
       "  <tbody>\n",
       "    <tr>\n",
       "      <th>count</th>\n",
       "      <td>20.00</td>\n",
       "    </tr>\n",
       "    <tr>\n",
       "      <th>mean</th>\n",
       "      <td>449.05</td>\n",
       "    </tr>\n",
       "    <tr>\n",
       "      <th>std</th>\n",
       "      <td>40.30</td>\n",
       "    </tr>\n",
       "    <tr>\n",
       "      <th>min</th>\n",
       "      <td>404.00</td>\n",
       "    </tr>\n",
       "    <tr>\n",
       "      <th>25%</th>\n",
       "      <td>408.00</td>\n",
       "    </tr>\n",
       "    <tr>\n",
       "      <th>50%</th>\n",
       "      <td>440.00</td>\n",
       "    </tr>\n",
       "    <tr>\n",
       "      <th>75%</th>\n",
       "      <td>500.00</td>\n",
       "    </tr>\n",
       "    <tr>\n",
       "      <th>max</th>\n",
       "      <td>502.00</td>\n",
       "    </tr>\n",
       "  </tbody>\n",
       "</table>\n",
       "</div>"
      ],
      "text/plain": [
       "       tokens_total_retriever_embedding\n",
       "count                             20.00\n",
       "mean                             449.05\n",
       "std                               40.30\n",
       "min                              404.00\n",
       "25%                              408.00\n",
       "50%                              440.00\n",
       "75%                              500.00\n",
       "max                              502.00"
      ]
     },
     "metadata": {},
     "output_type": "display_data"
    }
   ],
   "source": [
    "# Tokens consumidos en los embeddings\n",
    "print(\"\\nTokens consumidos por invocación de la AI Tool en los embeddings:\")\n",
    "display(df_tokens_embedding.describe().round(2))"
   ]
  },
  {
   "cell_type": "code",
   "execution_count": 14,
   "id": "89bdc2ac",
   "metadata": {},
   "outputs": [
    {
     "data": {
      "application/vnd.plotly.v1+json": {
       "config": {
        "plotlyServerURL": "https://plot.ly"
       },
       "data": [
        {
         "alignmentgroup": "True",
         "hovertemplate": "Componente=%{x}<br>Tokens=%{y}<extra></extra>",
         "legendgroup": "",
         "marker": {
          "color": "#000000"
         },
         "name": "",
         "notched": false,
         "offsetgroup": "",
         "orientation": "v",
         "showlegend": false,
         "type": "box",
         "x": [
          "tokens_total_retriever_embedding",
          "tokens_total_retriever_embedding",
          "tokens_total_retriever_embedding",
          "tokens_total_retriever_embedding",
          "tokens_total_retriever_embedding",
          "tokens_total_retriever_embedding",
          "tokens_total_retriever_embedding",
          "tokens_total_retriever_embedding",
          "tokens_total_retriever_embedding",
          "tokens_total_retriever_embedding",
          "tokens_total_retriever_embedding",
          "tokens_total_retriever_embedding",
          "tokens_total_retriever_embedding",
          "tokens_total_retriever_embedding",
          "tokens_total_retriever_embedding",
          "tokens_total_retriever_embedding",
          "tokens_total_retriever_embedding",
          "tokens_total_retriever_embedding",
          "tokens_total_retriever_embedding",
          "tokens_total_retriever_embedding"
         ],
         "x0": " ",
         "xaxis": "x",
         "y": {
          "bdata": "mgG4AZgB9gH2AZgB9AG4AZgBtwG4AfYBugGUAbgB6AGUAfQBlAH0AQ==",
          "dtype": "i2"
         },
         "y0": " ",
         "yaxis": "y"
        }
       ],
       "layout": {
        "boxgap": 0.3,
        "boxgroupgap": 0.3,
        "boxmode": "group",
        "height": 500,
        "legend": {
         "tracegroupgap": 0
        },
        "paper_bgcolor": "white",
        "plot_bgcolor": "white",
        "template": {
         "data": {
          "bar": [
           {
            "error_x": {
             "color": "#2a3f5f"
            },
            "error_y": {
             "color": "#2a3f5f"
            },
            "marker": {
             "line": {
              "color": "#E5ECF6",
              "width": 0.5
             },
             "pattern": {
              "fillmode": "overlay",
              "size": 10,
              "solidity": 0.2
             }
            },
            "type": "bar"
           }
          ],
          "barpolar": [
           {
            "marker": {
             "line": {
              "color": "#E5ECF6",
              "width": 0.5
             },
             "pattern": {
              "fillmode": "overlay",
              "size": 10,
              "solidity": 0.2
             }
            },
            "type": "barpolar"
           }
          ],
          "carpet": [
           {
            "aaxis": {
             "endlinecolor": "#2a3f5f",
             "gridcolor": "white",
             "linecolor": "white",
             "minorgridcolor": "white",
             "startlinecolor": "#2a3f5f"
            },
            "baxis": {
             "endlinecolor": "#2a3f5f",
             "gridcolor": "white",
             "linecolor": "white",
             "minorgridcolor": "white",
             "startlinecolor": "#2a3f5f"
            },
            "type": "carpet"
           }
          ],
          "choropleth": [
           {
            "colorbar": {
             "outlinewidth": 0,
             "ticks": ""
            },
            "type": "choropleth"
           }
          ],
          "contour": [
           {
            "colorbar": {
             "outlinewidth": 0,
             "ticks": ""
            },
            "colorscale": [
             [
              0,
              "#0d0887"
             ],
             [
              0.1111111111111111,
              "#46039f"
             ],
             [
              0.2222222222222222,
              "#7201a8"
             ],
             [
              0.3333333333333333,
              "#9c179e"
             ],
             [
              0.4444444444444444,
              "#bd3786"
             ],
             [
              0.5555555555555556,
              "#d8576b"
             ],
             [
              0.6666666666666666,
              "#ed7953"
             ],
             [
              0.7777777777777778,
              "#fb9f3a"
             ],
             [
              0.8888888888888888,
              "#fdca26"
             ],
             [
              1,
              "#f0f921"
             ]
            ],
            "type": "contour"
           }
          ],
          "contourcarpet": [
           {
            "colorbar": {
             "outlinewidth": 0,
             "ticks": ""
            },
            "type": "contourcarpet"
           }
          ],
          "heatmap": [
           {
            "colorbar": {
             "outlinewidth": 0,
             "ticks": ""
            },
            "colorscale": [
             [
              0,
              "#0d0887"
             ],
             [
              0.1111111111111111,
              "#46039f"
             ],
             [
              0.2222222222222222,
              "#7201a8"
             ],
             [
              0.3333333333333333,
              "#9c179e"
             ],
             [
              0.4444444444444444,
              "#bd3786"
             ],
             [
              0.5555555555555556,
              "#d8576b"
             ],
             [
              0.6666666666666666,
              "#ed7953"
             ],
             [
              0.7777777777777778,
              "#fb9f3a"
             ],
             [
              0.8888888888888888,
              "#fdca26"
             ],
             [
              1,
              "#f0f921"
             ]
            ],
            "type": "heatmap"
           }
          ],
          "histogram": [
           {
            "marker": {
             "pattern": {
              "fillmode": "overlay",
              "size": 10,
              "solidity": 0.2
             }
            },
            "type": "histogram"
           }
          ],
          "histogram2d": [
           {
            "colorbar": {
             "outlinewidth": 0,
             "ticks": ""
            },
            "colorscale": [
             [
              0,
              "#0d0887"
             ],
             [
              0.1111111111111111,
              "#46039f"
             ],
             [
              0.2222222222222222,
              "#7201a8"
             ],
             [
              0.3333333333333333,
              "#9c179e"
             ],
             [
              0.4444444444444444,
              "#bd3786"
             ],
             [
              0.5555555555555556,
              "#d8576b"
             ],
             [
              0.6666666666666666,
              "#ed7953"
             ],
             [
              0.7777777777777778,
              "#fb9f3a"
             ],
             [
              0.8888888888888888,
              "#fdca26"
             ],
             [
              1,
              "#f0f921"
             ]
            ],
            "type": "histogram2d"
           }
          ],
          "histogram2dcontour": [
           {
            "colorbar": {
             "outlinewidth": 0,
             "ticks": ""
            },
            "colorscale": [
             [
              0,
              "#0d0887"
             ],
             [
              0.1111111111111111,
              "#46039f"
             ],
             [
              0.2222222222222222,
              "#7201a8"
             ],
             [
              0.3333333333333333,
              "#9c179e"
             ],
             [
              0.4444444444444444,
              "#bd3786"
             ],
             [
              0.5555555555555556,
              "#d8576b"
             ],
             [
              0.6666666666666666,
              "#ed7953"
             ],
             [
              0.7777777777777778,
              "#fb9f3a"
             ],
             [
              0.8888888888888888,
              "#fdca26"
             ],
             [
              1,
              "#f0f921"
             ]
            ],
            "type": "histogram2dcontour"
           }
          ],
          "mesh3d": [
           {
            "colorbar": {
             "outlinewidth": 0,
             "ticks": ""
            },
            "type": "mesh3d"
           }
          ],
          "parcoords": [
           {
            "line": {
             "colorbar": {
              "outlinewidth": 0,
              "ticks": ""
             }
            },
            "type": "parcoords"
           }
          ],
          "pie": [
           {
            "automargin": true,
            "type": "pie"
           }
          ],
          "scatter": [
           {
            "fillpattern": {
             "fillmode": "overlay",
             "size": 10,
             "solidity": 0.2
            },
            "type": "scatter"
           }
          ],
          "scatter3d": [
           {
            "line": {
             "colorbar": {
              "outlinewidth": 0,
              "ticks": ""
             }
            },
            "marker": {
             "colorbar": {
              "outlinewidth": 0,
              "ticks": ""
             }
            },
            "type": "scatter3d"
           }
          ],
          "scattercarpet": [
           {
            "marker": {
             "colorbar": {
              "outlinewidth": 0,
              "ticks": ""
             }
            },
            "type": "scattercarpet"
           }
          ],
          "scattergeo": [
           {
            "marker": {
             "colorbar": {
              "outlinewidth": 0,
              "ticks": ""
             }
            },
            "type": "scattergeo"
           }
          ],
          "scattergl": [
           {
            "marker": {
             "colorbar": {
              "outlinewidth": 0,
              "ticks": ""
             }
            },
            "type": "scattergl"
           }
          ],
          "scattermap": [
           {
            "marker": {
             "colorbar": {
              "outlinewidth": 0,
              "ticks": ""
             }
            },
            "type": "scattermap"
           }
          ],
          "scattermapbox": [
           {
            "marker": {
             "colorbar": {
              "outlinewidth": 0,
              "ticks": ""
             }
            },
            "type": "scattermapbox"
           }
          ],
          "scatterpolar": [
           {
            "marker": {
             "colorbar": {
              "outlinewidth": 0,
              "ticks": ""
             }
            },
            "type": "scatterpolar"
           }
          ],
          "scatterpolargl": [
           {
            "marker": {
             "colorbar": {
              "outlinewidth": 0,
              "ticks": ""
             }
            },
            "type": "scatterpolargl"
           }
          ],
          "scatterternary": [
           {
            "marker": {
             "colorbar": {
              "outlinewidth": 0,
              "ticks": ""
             }
            },
            "type": "scatterternary"
           }
          ],
          "surface": [
           {
            "colorbar": {
             "outlinewidth": 0,
             "ticks": ""
            },
            "colorscale": [
             [
              0,
              "#0d0887"
             ],
             [
              0.1111111111111111,
              "#46039f"
             ],
             [
              0.2222222222222222,
              "#7201a8"
             ],
             [
              0.3333333333333333,
              "#9c179e"
             ],
             [
              0.4444444444444444,
              "#bd3786"
             ],
             [
              0.5555555555555556,
              "#d8576b"
             ],
             [
              0.6666666666666666,
              "#ed7953"
             ],
             [
              0.7777777777777778,
              "#fb9f3a"
             ],
             [
              0.8888888888888888,
              "#fdca26"
             ],
             [
              1,
              "#f0f921"
             ]
            ],
            "type": "surface"
           }
          ],
          "table": [
           {
            "cells": {
             "fill": {
              "color": "#EBF0F8"
             },
             "line": {
              "color": "white"
             }
            },
            "header": {
             "fill": {
              "color": "#C8D4E3"
             },
             "line": {
              "color": "white"
             }
            },
            "type": "table"
           }
          ]
         },
         "layout": {
          "annotationdefaults": {
           "arrowcolor": "#2a3f5f",
           "arrowhead": 0,
           "arrowwidth": 1
          },
          "autotypenumbers": "strict",
          "coloraxis": {
           "colorbar": {
            "outlinewidth": 0,
            "ticks": ""
           }
          },
          "colorscale": {
           "diverging": [
            [
             0,
             "#8e0152"
            ],
            [
             0.1,
             "#c51b7d"
            ],
            [
             0.2,
             "#de77ae"
            ],
            [
             0.3,
             "#f1b6da"
            ],
            [
             0.4,
             "#fde0ef"
            ],
            [
             0.5,
             "#f7f7f7"
            ],
            [
             0.6,
             "#e6f5d0"
            ],
            [
             0.7,
             "#b8e186"
            ],
            [
             0.8,
             "#7fbc41"
            ],
            [
             0.9,
             "#4d9221"
            ],
            [
             1,
             "#276419"
            ]
           ],
           "sequential": [
            [
             0,
             "#0d0887"
            ],
            [
             0.1111111111111111,
             "#46039f"
            ],
            [
             0.2222222222222222,
             "#7201a8"
            ],
            [
             0.3333333333333333,
             "#9c179e"
            ],
            [
             0.4444444444444444,
             "#bd3786"
            ],
            [
             0.5555555555555556,
             "#d8576b"
            ],
            [
             0.6666666666666666,
             "#ed7953"
            ],
            [
             0.7777777777777778,
             "#fb9f3a"
            ],
            [
             0.8888888888888888,
             "#fdca26"
            ],
            [
             1,
             "#f0f921"
            ]
           ],
           "sequentialminus": [
            [
             0,
             "#0d0887"
            ],
            [
             0.1111111111111111,
             "#46039f"
            ],
            [
             0.2222222222222222,
             "#7201a8"
            ],
            [
             0.3333333333333333,
             "#9c179e"
            ],
            [
             0.4444444444444444,
             "#bd3786"
            ],
            [
             0.5555555555555556,
             "#d8576b"
            ],
            [
             0.6666666666666666,
             "#ed7953"
            ],
            [
             0.7777777777777778,
             "#fb9f3a"
            ],
            [
             0.8888888888888888,
             "#fdca26"
            ],
            [
             1,
             "#f0f921"
            ]
           ]
          },
          "colorway": [
           "#636efa",
           "#EF553B",
           "#00cc96",
           "#ab63fa",
           "#FFA15A",
           "#19d3f3",
           "#FF6692",
           "#B6E880",
           "#FF97FF",
           "#FECB52"
          ],
          "font": {
           "color": "#2a3f5f"
          },
          "geo": {
           "bgcolor": "white",
           "lakecolor": "white",
           "landcolor": "#E5ECF6",
           "showlakes": true,
           "showland": true,
           "subunitcolor": "white"
          },
          "hoverlabel": {
           "align": "left"
          },
          "hovermode": "closest",
          "mapbox": {
           "style": "light"
          },
          "paper_bgcolor": "white",
          "plot_bgcolor": "#E5ECF6",
          "polar": {
           "angularaxis": {
            "gridcolor": "white",
            "linecolor": "white",
            "ticks": ""
           },
           "bgcolor": "#E5ECF6",
           "radialaxis": {
            "gridcolor": "white",
            "linecolor": "white",
            "ticks": ""
           }
          },
          "scene": {
           "xaxis": {
            "backgroundcolor": "#E5ECF6",
            "gridcolor": "white",
            "gridwidth": 2,
            "linecolor": "white",
            "showbackground": true,
            "ticks": "",
            "zerolinecolor": "white"
           },
           "yaxis": {
            "backgroundcolor": "#E5ECF6",
            "gridcolor": "white",
            "gridwidth": 2,
            "linecolor": "white",
            "showbackground": true,
            "ticks": "",
            "zerolinecolor": "white"
           },
           "zaxis": {
            "backgroundcolor": "#E5ECF6",
            "gridcolor": "white",
            "gridwidth": 2,
            "linecolor": "white",
            "showbackground": true,
            "ticks": "",
            "zerolinecolor": "white"
           }
          },
          "shapedefaults": {
           "line": {
            "color": "#2a3f5f"
           }
          },
          "ternary": {
           "aaxis": {
            "gridcolor": "white",
            "linecolor": "white",
            "ticks": ""
           },
           "baxis": {
            "gridcolor": "white",
            "linecolor": "white",
            "ticks": ""
           },
           "bgcolor": "#E5ECF6",
           "caxis": {
            "gridcolor": "white",
            "linecolor": "white",
            "ticks": ""
           }
          },
          "title": {
           "x": 0.05
          },
          "xaxis": {
           "automargin": true,
           "gridcolor": "white",
           "linecolor": "white",
           "ticks": "",
           "title": {
            "standoff": 15
           },
           "zerolinecolor": "white",
           "zerolinewidth": 2
          },
          "yaxis": {
           "automargin": true,
           "gridcolor": "white",
           "linecolor": "white",
           "ticks": "",
           "title": {
            "standoff": 15
           },
           "zerolinecolor": "white",
           "zerolinewidth": 2
          }
         }
        },
        "title": {
         "text": "Boxplot: Tokens totales consumidos por invocación de la AI Tool en los embeddings."
        },
        "width": 1000,
        "xaxis": {
         "anchor": "y",
         "domain": [
          0,
          1
         ],
         "title": {
          "text": "Componente"
         }
        },
        "yaxis": {
         "anchor": "x",
         "domain": [
          0,
          1
         ],
         "title": {
          "text": "Tokens"
         }
        }
       }
      }
     },
     "metadata": {},
     "output_type": "display_data"
    }
   ],
   "source": [
    "# Boxplot de tokens consumidos en los embeddings\n",
    "boxplot(\n",
    "    df_tokens_embedding, \n",
    "    title=\"Boxplot: Tokens totales consumidos por invocación de la AI Tool en los embeddings.\",\n",
    "    value_name=\"Tokens\",\n",
    "    category_name=\"Componente\"\n",
    ")"
   ]
  },
  {
   "cell_type": "markdown",
   "id": "85ea111f",
   "metadata": {},
   "source": [
    "### **6. Análisis de coste por invocación de la AI Tool en (USD).**"
   ]
  },
  {
   "cell_type": "code",
   "execution_count": 15,
   "id": "04673da6",
   "metadata": {},
   "outputs": [
    {
     "name": "stdout",
     "output_type": "stream",
     "text": [
      "\n",
      "Coste por invocación de la AI Tool en USD:\n"
     ]
    },
    {
     "data": {
      "text/html": [
       "<div>\n",
       "<style scoped>\n",
       "    .dataframe tbody tr th:only-of-type {\n",
       "        vertical-align: middle;\n",
       "    }\n",
       "\n",
       "    .dataframe tbody tr th {\n",
       "        vertical-align: top;\n",
       "    }\n",
       "\n",
       "    .dataframe thead th {\n",
       "        text-align: right;\n",
       "    }\n",
       "</style>\n",
       "<table border=\"1\" class=\"dataframe\">\n",
       "  <thead>\n",
       "    <tr style=\"text-align: right;\">\n",
       "      <th></th>\n",
       "      <th>total_cost_tool_in_dollars</th>\n",
       "      <th>total_cost_retriever_embedding_in_dollars</th>\n",
       "      <th>total_cost_sql_generation_in_dollars</th>\n",
       "      <th>total_cost_sql_generation_enhanced_in_dollars</th>\n",
       "    </tr>\n",
       "  </thead>\n",
       "  <tbody>\n",
       "    <tr>\n",
       "      <th>count</th>\n",
       "      <td>20.00</td>\n",
       "      <td>20.0</td>\n",
       "      <td>20.00</td>\n",
       "      <td>20.00</td>\n",
       "    </tr>\n",
       "    <tr>\n",
       "      <th>mean</th>\n",
       "      <td>0.09</td>\n",
       "      <td>0.0</td>\n",
       "      <td>0.04</td>\n",
       "      <td>0.04</td>\n",
       "    </tr>\n",
       "    <tr>\n",
       "      <th>std</th>\n",
       "      <td>0.01</td>\n",
       "      <td>0.0</td>\n",
       "      <td>0.01</td>\n",
       "      <td>0.01</td>\n",
       "    </tr>\n",
       "    <tr>\n",
       "      <th>min</th>\n",
       "      <td>0.07</td>\n",
       "      <td>0.0</td>\n",
       "      <td>0.04</td>\n",
       "      <td>0.03</td>\n",
       "    </tr>\n",
       "    <tr>\n",
       "      <th>25%</th>\n",
       "      <td>0.08</td>\n",
       "      <td>0.0</td>\n",
       "      <td>0.04</td>\n",
       "      <td>0.04</td>\n",
       "    </tr>\n",
       "    <tr>\n",
       "      <th>50%</th>\n",
       "      <td>0.09</td>\n",
       "      <td>0.0</td>\n",
       "      <td>0.04</td>\n",
       "      <td>0.04</td>\n",
       "    </tr>\n",
       "    <tr>\n",
       "      <th>75%</th>\n",
       "      <td>0.09</td>\n",
       "      <td>0.0</td>\n",
       "      <td>0.05</td>\n",
       "      <td>0.05</td>\n",
       "    </tr>\n",
       "    <tr>\n",
       "      <th>max</th>\n",
       "      <td>0.11</td>\n",
       "      <td>0.0</td>\n",
       "      <td>0.05</td>\n",
       "      <td>0.06</td>\n",
       "    </tr>\n",
       "  </tbody>\n",
       "</table>\n",
       "</div>"
      ],
      "text/plain": [
       "       total_cost_tool_in_dollars  total_cost_retriever_embedding_in_dollars  \\\n",
       "count                       20.00                                       20.0   \n",
       "mean                         0.09                                        0.0   \n",
       "std                          0.01                                        0.0   \n",
       "min                          0.07                                        0.0   \n",
       "25%                          0.08                                        0.0   \n",
       "50%                          0.09                                        0.0   \n",
       "75%                          0.09                                        0.0   \n",
       "max                          0.11                                        0.0   \n",
       "\n",
       "       total_cost_sql_generation_in_dollars  \\\n",
       "count                                 20.00   \n",
       "mean                                   0.04   \n",
       "std                                    0.01   \n",
       "min                                    0.04   \n",
       "25%                                    0.04   \n",
       "50%                                    0.04   \n",
       "75%                                    0.05   \n",
       "max                                    0.05   \n",
       "\n",
       "       total_cost_sql_generation_enhanced_in_dollars  \n",
       "count                                          20.00  \n",
       "mean                                            0.04  \n",
       "std                                             0.01  \n",
       "min                                             0.03  \n",
       "25%                                             0.04  \n",
       "50%                                             0.04  \n",
       "75%                                             0.05  \n",
       "max                                             0.06  "
      ]
     },
     "metadata": {},
     "output_type": "display_data"
    }
   ],
   "source": [
    "# Coste por componente de la AI Tool\n",
    "print(\"\\nCoste por invocación de la AI Tool en USD:\")\n",
    "display(df_coste.describe().round(2))"
   ]
  },
  {
   "cell_type": "code",
   "execution_count": 16,
   "id": "16185aa1",
   "metadata": {},
   "outputs": [
    {
     "data": {
      "application/vnd.plotly.v1+json": {
       "config": {
        "plotlyServerURL": "https://plot.ly"
       },
       "data": [
        {
         "alignmentgroup": "True",
         "hovertemplate": "Componente=%{x}<br>Coste (USD)=%{y}<extra></extra>",
         "legendgroup": "",
         "marker": {
          "color": "#000000"
         },
         "name": "",
         "notched": false,
         "offsetgroup": "",
         "orientation": "v",
         "showlegend": false,
         "type": "box",
         "x": [
          "total_cost_tool_in_dollars",
          "total_cost_tool_in_dollars",
          "total_cost_tool_in_dollars",
          "total_cost_tool_in_dollars",
          "total_cost_tool_in_dollars",
          "total_cost_tool_in_dollars",
          "total_cost_tool_in_dollars",
          "total_cost_tool_in_dollars",
          "total_cost_tool_in_dollars",
          "total_cost_tool_in_dollars",
          "total_cost_tool_in_dollars",
          "total_cost_tool_in_dollars",
          "total_cost_tool_in_dollars",
          "total_cost_tool_in_dollars",
          "total_cost_tool_in_dollars",
          "total_cost_tool_in_dollars",
          "total_cost_tool_in_dollars",
          "total_cost_tool_in_dollars",
          "total_cost_tool_in_dollars",
          "total_cost_tool_in_dollars",
          "total_cost_retriever_embedding_in_dollars",
          "total_cost_retriever_embedding_in_dollars",
          "total_cost_retriever_embedding_in_dollars",
          "total_cost_retriever_embedding_in_dollars",
          "total_cost_retriever_embedding_in_dollars",
          "total_cost_retriever_embedding_in_dollars",
          "total_cost_retriever_embedding_in_dollars",
          "total_cost_retriever_embedding_in_dollars",
          "total_cost_retriever_embedding_in_dollars",
          "total_cost_retriever_embedding_in_dollars",
          "total_cost_retriever_embedding_in_dollars",
          "total_cost_retriever_embedding_in_dollars",
          "total_cost_retriever_embedding_in_dollars",
          "total_cost_retriever_embedding_in_dollars",
          "total_cost_retriever_embedding_in_dollars",
          "total_cost_retriever_embedding_in_dollars",
          "total_cost_retriever_embedding_in_dollars",
          "total_cost_retriever_embedding_in_dollars",
          "total_cost_retriever_embedding_in_dollars",
          "total_cost_retriever_embedding_in_dollars",
          "total_cost_sql_generation_in_dollars",
          "total_cost_sql_generation_in_dollars",
          "total_cost_sql_generation_in_dollars",
          "total_cost_sql_generation_in_dollars",
          "total_cost_sql_generation_in_dollars",
          "total_cost_sql_generation_in_dollars",
          "total_cost_sql_generation_in_dollars",
          "total_cost_sql_generation_in_dollars",
          "total_cost_sql_generation_in_dollars",
          "total_cost_sql_generation_in_dollars",
          "total_cost_sql_generation_in_dollars",
          "total_cost_sql_generation_in_dollars",
          "total_cost_sql_generation_in_dollars",
          "total_cost_sql_generation_in_dollars",
          "total_cost_sql_generation_in_dollars",
          "total_cost_sql_generation_in_dollars",
          "total_cost_sql_generation_in_dollars",
          "total_cost_sql_generation_in_dollars",
          "total_cost_sql_generation_in_dollars",
          "total_cost_sql_generation_in_dollars",
          "total_cost_sql_generation_enhanced_in_dollars",
          "total_cost_sql_generation_enhanced_in_dollars",
          "total_cost_sql_generation_enhanced_in_dollars",
          "total_cost_sql_generation_enhanced_in_dollars",
          "total_cost_sql_generation_enhanced_in_dollars",
          "total_cost_sql_generation_enhanced_in_dollars",
          "total_cost_sql_generation_enhanced_in_dollars",
          "total_cost_sql_generation_enhanced_in_dollars",
          "total_cost_sql_generation_enhanced_in_dollars",
          "total_cost_sql_generation_enhanced_in_dollars",
          "total_cost_sql_generation_enhanced_in_dollars",
          "total_cost_sql_generation_enhanced_in_dollars",
          "total_cost_sql_generation_enhanced_in_dollars",
          "total_cost_sql_generation_enhanced_in_dollars",
          "total_cost_sql_generation_enhanced_in_dollars",
          "total_cost_sql_generation_enhanced_in_dollars",
          "total_cost_sql_generation_enhanced_in_dollars",
          "total_cost_sql_generation_enhanced_in_dollars",
          "total_cost_sql_generation_enhanced_in_dollars",
          "total_cost_sql_generation_enhanced_in_dollars"
         ],
         "x0": " ",
         "xaxis": "x",
         "y": {
          "bdata": "l3+IaM/AtT/U7wxkh0K3P6X413YDmrY/wKOdBWcRtD/ji7zNl+6yP23lqTc4S7Y/JRwf0hSmuD8kxEsmXem1Pw07xvQIXrY/52Q1n2tGtz+bm29E96y7P7n0muRoCrQ/85ou9iTRtT9ow0jMPzyzP/6Cgvf6/7c/QTWYZdM6tT+ktyZ6bA23P2fhod5CDbc/rBVU8dKPuD8i2tg21g+5P0rgIGtXMuE+grhhynZ04j6+rz7c3RzhPn2ZxRcvDuU+fZnFFy8O5T6+rz7c3RzhPvFo44i1+OQ+grhhynZ04j6+rz7c3RzhPjug8AK6aeI+grhhynZ04j59mcUXLw7lPg7pQ1nwieI+pk56vurx4D6CuGHKdnTiPqdFli/cd+Q+pk56vurx4D7xaOOItfjkPqZOer7q8eA+8WjjiLX45D7Mi6d5IuOoPwDDPHX236g/w1ycQvhhpj+afol46/yjP3+jHTf8bqI/uP08V6U+pj9MOPQWD++lP+LNGryvyqk/4JgKlo9Joz9CUvr4Ol+mP97Pzg5d9ak/UgQnkTMDoz9UliGOdXGnPxxaCYJs/qQ/Lkcj+hCvqj9zXq0kwzumP6yvCcRGtKg/j0tmBjsPpD9Oet/42jOrP3IFFOrpI6w/VMHyMWmdoj+MdnAL8aOlP53QNd380KY/jEzAr5EkpD/s92mB4myjPzcJOUq5VqY/yHHxActbqz9LFBBJ4waiP1AZpIVwcak/gkjQqXUsqD88waMyamOtP8doHVVNEKU/VQs2v6svpD8QRdz3A3mhP7IYda29T6U/qxLAKJw4pD/415cRg2WlPwnphCv7Cao/Zckcy7vqpT+cIEX4cvqlPw==",
          "dtype": "f8"
         },
         "y0": " ",
         "yaxis": "y"
        }
       ],
       "layout": {
        "boxgap": 0.3,
        "boxgroupgap": 0.3,
        "boxmode": "group",
        "height": 500,
        "legend": {
         "tracegroupgap": 0
        },
        "paper_bgcolor": "white",
        "plot_bgcolor": "white",
        "template": {
         "data": {
          "bar": [
           {
            "error_x": {
             "color": "#2a3f5f"
            },
            "error_y": {
             "color": "#2a3f5f"
            },
            "marker": {
             "line": {
              "color": "#E5ECF6",
              "width": 0.5
             },
             "pattern": {
              "fillmode": "overlay",
              "size": 10,
              "solidity": 0.2
             }
            },
            "type": "bar"
           }
          ],
          "barpolar": [
           {
            "marker": {
             "line": {
              "color": "#E5ECF6",
              "width": 0.5
             },
             "pattern": {
              "fillmode": "overlay",
              "size": 10,
              "solidity": 0.2
             }
            },
            "type": "barpolar"
           }
          ],
          "carpet": [
           {
            "aaxis": {
             "endlinecolor": "#2a3f5f",
             "gridcolor": "white",
             "linecolor": "white",
             "minorgridcolor": "white",
             "startlinecolor": "#2a3f5f"
            },
            "baxis": {
             "endlinecolor": "#2a3f5f",
             "gridcolor": "white",
             "linecolor": "white",
             "minorgridcolor": "white",
             "startlinecolor": "#2a3f5f"
            },
            "type": "carpet"
           }
          ],
          "choropleth": [
           {
            "colorbar": {
             "outlinewidth": 0,
             "ticks": ""
            },
            "type": "choropleth"
           }
          ],
          "contour": [
           {
            "colorbar": {
             "outlinewidth": 0,
             "ticks": ""
            },
            "colorscale": [
             [
              0,
              "#0d0887"
             ],
             [
              0.1111111111111111,
              "#46039f"
             ],
             [
              0.2222222222222222,
              "#7201a8"
             ],
             [
              0.3333333333333333,
              "#9c179e"
             ],
             [
              0.4444444444444444,
              "#bd3786"
             ],
             [
              0.5555555555555556,
              "#d8576b"
             ],
             [
              0.6666666666666666,
              "#ed7953"
             ],
             [
              0.7777777777777778,
              "#fb9f3a"
             ],
             [
              0.8888888888888888,
              "#fdca26"
             ],
             [
              1,
              "#f0f921"
             ]
            ],
            "type": "contour"
           }
          ],
          "contourcarpet": [
           {
            "colorbar": {
             "outlinewidth": 0,
             "ticks": ""
            },
            "type": "contourcarpet"
           }
          ],
          "heatmap": [
           {
            "colorbar": {
             "outlinewidth": 0,
             "ticks": ""
            },
            "colorscale": [
             [
              0,
              "#0d0887"
             ],
             [
              0.1111111111111111,
              "#46039f"
             ],
             [
              0.2222222222222222,
              "#7201a8"
             ],
             [
              0.3333333333333333,
              "#9c179e"
             ],
             [
              0.4444444444444444,
              "#bd3786"
             ],
             [
              0.5555555555555556,
              "#d8576b"
             ],
             [
              0.6666666666666666,
              "#ed7953"
             ],
             [
              0.7777777777777778,
              "#fb9f3a"
             ],
             [
              0.8888888888888888,
              "#fdca26"
             ],
             [
              1,
              "#f0f921"
             ]
            ],
            "type": "heatmap"
           }
          ],
          "histogram": [
           {
            "marker": {
             "pattern": {
              "fillmode": "overlay",
              "size": 10,
              "solidity": 0.2
             }
            },
            "type": "histogram"
           }
          ],
          "histogram2d": [
           {
            "colorbar": {
             "outlinewidth": 0,
             "ticks": ""
            },
            "colorscale": [
             [
              0,
              "#0d0887"
             ],
             [
              0.1111111111111111,
              "#46039f"
             ],
             [
              0.2222222222222222,
              "#7201a8"
             ],
             [
              0.3333333333333333,
              "#9c179e"
             ],
             [
              0.4444444444444444,
              "#bd3786"
             ],
             [
              0.5555555555555556,
              "#d8576b"
             ],
             [
              0.6666666666666666,
              "#ed7953"
             ],
             [
              0.7777777777777778,
              "#fb9f3a"
             ],
             [
              0.8888888888888888,
              "#fdca26"
             ],
             [
              1,
              "#f0f921"
             ]
            ],
            "type": "histogram2d"
           }
          ],
          "histogram2dcontour": [
           {
            "colorbar": {
             "outlinewidth": 0,
             "ticks": ""
            },
            "colorscale": [
             [
              0,
              "#0d0887"
             ],
             [
              0.1111111111111111,
              "#46039f"
             ],
             [
              0.2222222222222222,
              "#7201a8"
             ],
             [
              0.3333333333333333,
              "#9c179e"
             ],
             [
              0.4444444444444444,
              "#bd3786"
             ],
             [
              0.5555555555555556,
              "#d8576b"
             ],
             [
              0.6666666666666666,
              "#ed7953"
             ],
             [
              0.7777777777777778,
              "#fb9f3a"
             ],
             [
              0.8888888888888888,
              "#fdca26"
             ],
             [
              1,
              "#f0f921"
             ]
            ],
            "type": "histogram2dcontour"
           }
          ],
          "mesh3d": [
           {
            "colorbar": {
             "outlinewidth": 0,
             "ticks": ""
            },
            "type": "mesh3d"
           }
          ],
          "parcoords": [
           {
            "line": {
             "colorbar": {
              "outlinewidth": 0,
              "ticks": ""
             }
            },
            "type": "parcoords"
           }
          ],
          "pie": [
           {
            "automargin": true,
            "type": "pie"
           }
          ],
          "scatter": [
           {
            "fillpattern": {
             "fillmode": "overlay",
             "size": 10,
             "solidity": 0.2
            },
            "type": "scatter"
           }
          ],
          "scatter3d": [
           {
            "line": {
             "colorbar": {
              "outlinewidth": 0,
              "ticks": ""
             }
            },
            "marker": {
             "colorbar": {
              "outlinewidth": 0,
              "ticks": ""
             }
            },
            "type": "scatter3d"
           }
          ],
          "scattercarpet": [
           {
            "marker": {
             "colorbar": {
              "outlinewidth": 0,
              "ticks": ""
             }
            },
            "type": "scattercarpet"
           }
          ],
          "scattergeo": [
           {
            "marker": {
             "colorbar": {
              "outlinewidth": 0,
              "ticks": ""
             }
            },
            "type": "scattergeo"
           }
          ],
          "scattergl": [
           {
            "marker": {
             "colorbar": {
              "outlinewidth": 0,
              "ticks": ""
             }
            },
            "type": "scattergl"
           }
          ],
          "scattermap": [
           {
            "marker": {
             "colorbar": {
              "outlinewidth": 0,
              "ticks": ""
             }
            },
            "type": "scattermap"
           }
          ],
          "scattermapbox": [
           {
            "marker": {
             "colorbar": {
              "outlinewidth": 0,
              "ticks": ""
             }
            },
            "type": "scattermapbox"
           }
          ],
          "scatterpolar": [
           {
            "marker": {
             "colorbar": {
              "outlinewidth": 0,
              "ticks": ""
             }
            },
            "type": "scatterpolar"
           }
          ],
          "scatterpolargl": [
           {
            "marker": {
             "colorbar": {
              "outlinewidth": 0,
              "ticks": ""
             }
            },
            "type": "scatterpolargl"
           }
          ],
          "scatterternary": [
           {
            "marker": {
             "colorbar": {
              "outlinewidth": 0,
              "ticks": ""
             }
            },
            "type": "scatterternary"
           }
          ],
          "surface": [
           {
            "colorbar": {
             "outlinewidth": 0,
             "ticks": ""
            },
            "colorscale": [
             [
              0,
              "#0d0887"
             ],
             [
              0.1111111111111111,
              "#46039f"
             ],
             [
              0.2222222222222222,
              "#7201a8"
             ],
             [
              0.3333333333333333,
              "#9c179e"
             ],
             [
              0.4444444444444444,
              "#bd3786"
             ],
             [
              0.5555555555555556,
              "#d8576b"
             ],
             [
              0.6666666666666666,
              "#ed7953"
             ],
             [
              0.7777777777777778,
              "#fb9f3a"
             ],
             [
              0.8888888888888888,
              "#fdca26"
             ],
             [
              1,
              "#f0f921"
             ]
            ],
            "type": "surface"
           }
          ],
          "table": [
           {
            "cells": {
             "fill": {
              "color": "#EBF0F8"
             },
             "line": {
              "color": "white"
             }
            },
            "header": {
             "fill": {
              "color": "#C8D4E3"
             },
             "line": {
              "color": "white"
             }
            },
            "type": "table"
           }
          ]
         },
         "layout": {
          "annotationdefaults": {
           "arrowcolor": "#2a3f5f",
           "arrowhead": 0,
           "arrowwidth": 1
          },
          "autotypenumbers": "strict",
          "coloraxis": {
           "colorbar": {
            "outlinewidth": 0,
            "ticks": ""
           }
          },
          "colorscale": {
           "diverging": [
            [
             0,
             "#8e0152"
            ],
            [
             0.1,
             "#c51b7d"
            ],
            [
             0.2,
             "#de77ae"
            ],
            [
             0.3,
             "#f1b6da"
            ],
            [
             0.4,
             "#fde0ef"
            ],
            [
             0.5,
             "#f7f7f7"
            ],
            [
             0.6,
             "#e6f5d0"
            ],
            [
             0.7,
             "#b8e186"
            ],
            [
             0.8,
             "#7fbc41"
            ],
            [
             0.9,
             "#4d9221"
            ],
            [
             1,
             "#276419"
            ]
           ],
           "sequential": [
            [
             0,
             "#0d0887"
            ],
            [
             0.1111111111111111,
             "#46039f"
            ],
            [
             0.2222222222222222,
             "#7201a8"
            ],
            [
             0.3333333333333333,
             "#9c179e"
            ],
            [
             0.4444444444444444,
             "#bd3786"
            ],
            [
             0.5555555555555556,
             "#d8576b"
            ],
            [
             0.6666666666666666,
             "#ed7953"
            ],
            [
             0.7777777777777778,
             "#fb9f3a"
            ],
            [
             0.8888888888888888,
             "#fdca26"
            ],
            [
             1,
             "#f0f921"
            ]
           ],
           "sequentialminus": [
            [
             0,
             "#0d0887"
            ],
            [
             0.1111111111111111,
             "#46039f"
            ],
            [
             0.2222222222222222,
             "#7201a8"
            ],
            [
             0.3333333333333333,
             "#9c179e"
            ],
            [
             0.4444444444444444,
             "#bd3786"
            ],
            [
             0.5555555555555556,
             "#d8576b"
            ],
            [
             0.6666666666666666,
             "#ed7953"
            ],
            [
             0.7777777777777778,
             "#fb9f3a"
            ],
            [
             0.8888888888888888,
             "#fdca26"
            ],
            [
             1,
             "#f0f921"
            ]
           ]
          },
          "colorway": [
           "#636efa",
           "#EF553B",
           "#00cc96",
           "#ab63fa",
           "#FFA15A",
           "#19d3f3",
           "#FF6692",
           "#B6E880",
           "#FF97FF",
           "#FECB52"
          ],
          "font": {
           "color": "#2a3f5f"
          },
          "geo": {
           "bgcolor": "white",
           "lakecolor": "white",
           "landcolor": "#E5ECF6",
           "showlakes": true,
           "showland": true,
           "subunitcolor": "white"
          },
          "hoverlabel": {
           "align": "left"
          },
          "hovermode": "closest",
          "mapbox": {
           "style": "light"
          },
          "paper_bgcolor": "white",
          "plot_bgcolor": "#E5ECF6",
          "polar": {
           "angularaxis": {
            "gridcolor": "white",
            "linecolor": "white",
            "ticks": ""
           },
           "bgcolor": "#E5ECF6",
           "radialaxis": {
            "gridcolor": "white",
            "linecolor": "white",
            "ticks": ""
           }
          },
          "scene": {
           "xaxis": {
            "backgroundcolor": "#E5ECF6",
            "gridcolor": "white",
            "gridwidth": 2,
            "linecolor": "white",
            "showbackground": true,
            "ticks": "",
            "zerolinecolor": "white"
           },
           "yaxis": {
            "backgroundcolor": "#E5ECF6",
            "gridcolor": "white",
            "gridwidth": 2,
            "linecolor": "white",
            "showbackground": true,
            "ticks": "",
            "zerolinecolor": "white"
           },
           "zaxis": {
            "backgroundcolor": "#E5ECF6",
            "gridcolor": "white",
            "gridwidth": 2,
            "linecolor": "white",
            "showbackground": true,
            "ticks": "",
            "zerolinecolor": "white"
           }
          },
          "shapedefaults": {
           "line": {
            "color": "#2a3f5f"
           }
          },
          "ternary": {
           "aaxis": {
            "gridcolor": "white",
            "linecolor": "white",
            "ticks": ""
           },
           "baxis": {
            "gridcolor": "white",
            "linecolor": "white",
            "ticks": ""
           },
           "bgcolor": "#E5ECF6",
           "caxis": {
            "gridcolor": "white",
            "linecolor": "white",
            "ticks": ""
           }
          },
          "title": {
           "x": 0.05
          },
          "xaxis": {
           "automargin": true,
           "gridcolor": "white",
           "linecolor": "white",
           "ticks": "",
           "title": {
            "standoff": 15
           },
           "zerolinecolor": "white",
           "zerolinewidth": 2
          },
          "yaxis": {
           "automargin": true,
           "gridcolor": "white",
           "linecolor": "white",
           "ticks": "",
           "title": {
            "standoff": 15
           },
           "zerolinecolor": "white",
           "zerolinewidth": 2
          }
         }
        },
        "title": {
         "text": "Boxplot: Coste por invocación de la AI Tool en USD."
        },
        "width": 1000,
        "xaxis": {
         "anchor": "y",
         "domain": [
          0,
          1
         ],
         "title": {
          "text": "Componente"
         }
        },
        "yaxis": {
         "anchor": "x",
         "domain": [
          0,
          1
         ],
         "title": {
          "text": "Coste (USD)"
         }
        }
       }
      }
     },
     "metadata": {},
     "output_type": "display_data"
    }
   ],
   "source": [
    "# Boxplot de coste por invocación de la AI Tool\n",
    "boxplot(\n",
    "    df_coste, \n",
    "    title=\"Boxplot: Coste por invocación de la AI Tool en USD.\",\n",
    "    value_name=\"Coste (USD)\",\n",
    "    category_name=\"Componente\"\n",
    ")"
   ]
  },
  {
   "cell_type": "markdown",
   "id": "eab27bf0",
   "metadata": {},
   "source": [
    "### **7. Análisis de rendimiento replicación dataset MIMICEL (benchmark).**"
   ]
  },
  {
   "cell_type": "markdown",
   "id": "8b0cddd2",
   "metadata": {},
   "source": [
    "#### **7.1. Tasa de éxito de ejecución directa del Script SQL generado por la AI Tool.**"
   ]
  },
  {
   "cell_type": "code",
   "execution_count": 17,
   "id": "7e839ea6",
   "metadata": {},
   "outputs": [
    {
     "data": {
      "text/html": [
       "<div>\n",
       "<style scoped>\n",
       "    .dataframe tbody tr th:only-of-type {\n",
       "        vertical-align: middle;\n",
       "    }\n",
       "\n",
       "    .dataframe tbody tr th {\n",
       "        vertical-align: top;\n",
       "    }\n",
       "\n",
       "    .dataframe thead th {\n",
       "        text-align: right;\n",
       "    }\n",
       "</style>\n",
       "<table border=\"1\" class=\"dataframe\">\n",
       "  <thead>\n",
       "    <tr style=\"text-align: right;\">\n",
       "      <th></th>\n",
       "      <th>Execution</th>\n",
       "      <th>Count</th>\n",
       "      <th>%</th>\n",
       "    </tr>\n",
       "  </thead>\n",
       "  <tbody>\n",
       "    <tr>\n",
       "      <th>0</th>\n",
       "      <td>Script SQL: ejecutó</td>\n",
       "      <td>15</td>\n",
       "      <td>75.0</td>\n",
       "    </tr>\n",
       "    <tr>\n",
       "      <th>1</th>\n",
       "      <td>Script SQL: no ejecutó</td>\n",
       "      <td>5</td>\n",
       "      <td>25.0</td>\n",
       "    </tr>\n",
       "  </tbody>\n",
       "</table>\n",
       "</div>"
      ],
      "text/plain": [
       "                Execution  Count     %\n",
       "0     Script SQL: ejecutó     15  75.0\n",
       "1  Script SQL: no ejecutó      5  25.0"
      ]
     },
     "metadata": {},
     "output_type": "display_data"
    }
   ],
   "source": [
    "# Tasa de éxito en ejecución directa.\n",
    "display(df_results_execution_summary)"
   ]
  },
  {
   "cell_type": "markdown",
   "id": "272169a6",
   "metadata": {},
   "source": [
    "#### **7.2. Existencia de Script SQL Dorado. Replicación perfecta de MIMICEL (benchmark).**\n",
    "\n",
    "Una replicación perfecta del dataframe de control MIMICEL, implicaría un combo de métricas perfectas.\n",
    "\n",
    "En nuestro caso un **coverage = 1**, un **columns_f1 = 1** y un **events_f1 = 1**"
   ]
  },
  {
   "cell_type": "code",
   "execution_count": 18,
   "id": "b0783ddf",
   "metadata": {},
   "outputs": [
    {
     "name": "stdout",
     "output_type": "stream",
     "text": [
      "\n",
      "Búsqueda del script SQL dorado: Replicación total de MIMICEL (benchmark):\n",
      "\n",
      "Casos encontrados: 0\n"
     ]
    },
    {
     "data": {
      "text/html": [
       "<div>\n",
       "<style scoped>\n",
       "    .dataframe tbody tr th:only-of-type {\n",
       "        vertical-align: middle;\n",
       "    }\n",
       "\n",
       "    .dataframe tbody tr th {\n",
       "        vertical-align: top;\n",
       "    }\n",
       "\n",
       "    .dataframe thead th {\n",
       "        text-align: right;\n",
       "    }\n",
       "</style>\n",
       "<table border=\"1\" class=\"dataframe\">\n",
       "  <thead>\n",
       "    <tr style=\"text-align: right;\">\n",
       "      <th></th>\n",
       "      <th>uuid</th>\n",
       "      <th>tokens_total_tool</th>\n",
       "      <th>tokens_total_retriever_embedding</th>\n",
       "      <th>tokens_total_sql_generation</th>\n",
       "      <th>tokens_prompt_sql_generation</th>\n",
       "      <th>tokens_completion_sql_generation</th>\n",
       "      <th>tokens_total_sql_generation_enhanced</th>\n",
       "      <th>tokens_prompt_sql_generation_enhanced</th>\n",
       "      <th>tokens_completion_sql_generation_enhanced</th>\n",
       "      <th>total_cost_tool_in_dollars</th>\n",
       "      <th>...</th>\n",
       "      <th>events_recall</th>\n",
       "      <th>events_TP</th>\n",
       "      <th>events_FP</th>\n",
       "      <th>events_FN</th>\n",
       "      <th>columns_num_benchmark</th>\n",
       "      <th>events_num_benchmark</th>\n",
       "      <th>columns_num_ai_tool</th>\n",
       "      <th>events_num_ai_tool</th>\n",
       "      <th>total_rows_benchmark</th>\n",
       "      <th>total_rows_ai_tool</th>\n",
       "    </tr>\n",
       "  </thead>\n",
       "  <tbody>\n",
       "  </tbody>\n",
       "</table>\n",
       "<p>0 rows × 38 columns</p>\n",
       "</div>"
      ],
      "text/plain": [
       "Empty DataFrame\n",
       "Columns: [uuid, tokens_total_tool, tokens_total_retriever_embedding, tokens_total_sql_generation, tokens_prompt_sql_generation, tokens_completion_sql_generation, tokens_total_sql_generation_enhanced, tokens_prompt_sql_generation_enhanced, tokens_completion_sql_generation_enhanced, total_cost_tool_in_dollars, total_cost_retriever_embedding_in_dollars, total_cost_sql_generation_in_dollars, total_cost_sql_generation_enhanced_in_dollars, time_in_seconds_total, time_in_seconds_retriever, time_in_seconds_sql_generation, time_in_seconds_sql_generation_enhanced, execution_ok, coverage, openai_model, columns_f1, columns_precision, columns_recall, columns_TP, columns_FP, columns_FN, events_f1, events_precision, events_recall, events_TP, events_FP, events_FN, columns_num_benchmark, events_num_benchmark, columns_num_ai_tool, events_num_ai_tool, total_rows_benchmark, total_rows_ai_tool]\n",
       "Index: []\n",
       "\n",
       "[0 rows x 38 columns]"
      ]
     },
     "metadata": {},
     "output_type": "display_data"
    }
   ],
   "source": [
    "# Dataframe de resultados de ejecuciones exitosas:\n",
    "print(\"\\nBúsqueda del script SQL dorado: Replicación total de MIMICEL (benchmark):\")\n",
    "\n",
    "# Filtra los casos donde coverage, columns_f1 y events_f1 son 1\n",
    "df_results_ok_gold = df_results_ok[\n",
    "    (df_results_ok['coverage'] == 1) &\n",
    "    (df_results_ok['columns_f1'] == 1) &\n",
    "    (df_results_ok['events_f1'] == 1)\n",
    "    ].copy()\n",
    "\n",
    "print(f\"\\nCasos encontrados: {len(df_results_ok_gold)}\")\n",
    "display(df_results_ok_gold)\n"
   ]
  },
  {
   "cell_type": "markdown",
   "id": "c75817d3",
   "metadata": {},
   "source": [
    "#### **7.3. Mejor Script SQL de replicación de MIMICEL (benchmark).**\n",
    "\n",
    "Búsqueda de combinaciones de métricas perfectas."
   ]
  },
  {
   "cell_type": "code",
   "execution_count": 19,
   "id": "718d7acc",
   "metadata": {},
   "outputs": [
    {
     "name": "stdout",
     "output_type": "stream",
     "text": [
      "\n",
      "Búsqueda del script SQL que mejor ha replicado MIMICEL (benchmark):\n",
      "\n",
      "Casos encontrados coverage = 1 y columns_f1 = 1:       0\n",
      "\n",
      "Casos encontrados coverage = 1 y events_f1 = 1:       0\n",
      "\n",
      "Casos encontrados columns_f1 = 1 y events_f1 = 1:       1\n"
     ]
    }
   ],
   "source": [
    "# Dataframe de resultados de ejecuciones exitosas:\n",
    "print(\"\\nBúsqueda del script SQL que mejor ha replicado MIMICEL (benchmark):\")\n",
    "\n",
    "# Filtra los casos donde columns_f1 y events_f1 son 1\n",
    "df_results_ok_good_performance_columnsf1_eventsf1 = df_results_ok[\n",
    "    (df_results_ok['columns_f1'] == 1) &\n",
    "    (df_results_ok['events_f1'] == 1)\n",
    "    ].copy()\n",
    "\n",
    "# Filtra los casos donde coverage, columns_f1\n",
    "df_results_ok_good_performance_coverage_columnsf1 = df_results_ok[\n",
    "    (df_results_ok['coverage'] == 1) &\n",
    "    (df_results_ok['columns_f1'] == 1)\n",
    "    ].copy()\n",
    "\n",
    "# Filtra los casos donde coverage y events_f1 son 1\n",
    "df_results_ok_good_performance_coverage_eventsf1 = df_results_ok[\n",
    "    (df_results_ok['coverage'] == 1) &\n",
    "    (df_results_ok['events_f1'] == 1)\n",
    "    ].copy()\n",
    "\n",
    "\n",
    "print(f\"\\nCasos encontrados coverage = 1 y columns_f1 = 1: \\\n",
    "      {len(df_results_ok_good_performance_coverage_columnsf1)}\")\n",
    "print(f\"\\nCasos encontrados coverage = 1 y events_f1 = 1: \\\n",
    "      {len(df_results_ok_good_performance_coverage_eventsf1)}\")\n",
    "print(f\"\\nCasos encontrados columns_f1 = 1 y events_f1 = 1: \\\n",
    "      {len(df_results_ok_good_performance_columnsf1_eventsf1)}\")\n"
   ]
  },
  {
   "cell_type": "markdown",
   "id": "0cccd5a2",
   "metadata": {},
   "source": [
    "El dasaset encontrado, tiene un desempeño casi perfecto en sus métricas f1, generando las mismas columnas y eventos que nuestro dataframe de control MIMICEL.\n",
    "\n",
    "La cobertura de filas se acera al '1', que sería una cobertura de filas perfecta."
   ]
  },
  {
   "cell_type": "code",
   "execution_count": 20,
   "id": "58d910ba",
   "metadata": {},
   "outputs": [
    {
     "data": {
      "text/html": [
       "<div>\n",
       "<style scoped>\n",
       "    .dataframe tbody tr th:only-of-type {\n",
       "        vertical-align: middle;\n",
       "    }\n",
       "\n",
       "    .dataframe tbody tr th {\n",
       "        vertical-align: top;\n",
       "    }\n",
       "\n",
       "    .dataframe thead th {\n",
       "        text-align: right;\n",
       "    }\n",
       "</style>\n",
       "<table border=\"1\" class=\"dataframe\">\n",
       "  <thead>\n",
       "    <tr style=\"text-align: right;\">\n",
       "      <th></th>\n",
       "      <th>métrica</th>\n",
       "      <th>valor</th>\n",
       "    </tr>\n",
       "  </thead>\n",
       "  <tbody>\n",
       "    <tr>\n",
       "      <th>0</th>\n",
       "      <td>uuid</td>\n",
       "      <td>a996d163-9fce-4f7e-b248-22826050010d</td>\n",
       "    </tr>\n",
       "    <tr>\n",
       "      <th>1</th>\n",
       "      <td>tokens_total_tool</td>\n",
       "      <td>41867</td>\n",
       "    </tr>\n",
       "    <tr>\n",
       "      <th>2</th>\n",
       "      <td>tokens_total_retriever_embedding</td>\n",
       "      <td>488</td>\n",
       "    </tr>\n",
       "    <tr>\n",
       "      <th>3</th>\n",
       "      <td>tokens_total_sql_generation</td>\n",
       "      <td>20112</td>\n",
       "    </tr>\n",
       "    <tr>\n",
       "      <th>4</th>\n",
       "      <td>tokens_prompt_sql_generation</td>\n",
       "      <td>13657</td>\n",
       "    </tr>\n",
       "    <tr>\n",
       "      <th>5</th>\n",
       "      <td>tokens_completion_sql_generation</td>\n",
       "      <td>6455</td>\n",
       "    </tr>\n",
       "    <tr>\n",
       "      <th>6</th>\n",
       "      <td>tokens_total_sql_generation_enhanced</td>\n",
       "      <td>21267</td>\n",
       "    </tr>\n",
       "    <tr>\n",
       "      <th>7</th>\n",
       "      <td>tokens_prompt_sql_generation_enhanced</td>\n",
       "      <td>16388</td>\n",
       "    </tr>\n",
       "    <tr>\n",
       "      <th>8</th>\n",
       "      <td>tokens_completion_sql_generation_enhanced</td>\n",
       "      <td>4879</td>\n",
       "    </tr>\n",
       "    <tr>\n",
       "      <th>9</th>\n",
       "      <td>total_cost_tool_in_dollars</td>\n",
       "      <td>0.082929</td>\n",
       "    </tr>\n",
       "    <tr>\n",
       "      <th>10</th>\n",
       "      <td>total_cost_retriever_embedding_in_dollars</td>\n",
       "      <td>0.00001</td>\n",
       "    </tr>\n",
       "    <tr>\n",
       "      <th>11</th>\n",
       "      <td>total_cost_sql_generation_in_dollars</td>\n",
       "      <td>0.043425</td>\n",
       "    </tr>\n",
       "    <tr>\n",
       "      <th>12</th>\n",
       "      <td>total_cost_sql_generation_enhanced_in_dollars</td>\n",
       "      <td>0.039494</td>\n",
       "    </tr>\n",
       "    <tr>\n",
       "      <th>13</th>\n",
       "      <td>time_in_seconds_total</td>\n",
       "      <td>95.901599</td>\n",
       "    </tr>\n",
       "    <tr>\n",
       "      <th>14</th>\n",
       "      <td>time_in_seconds_retriever</td>\n",
       "      <td>0.604358</td>\n",
       "    </tr>\n",
       "    <tr>\n",
       "      <th>15</th>\n",
       "      <td>time_in_seconds_sql_generation</td>\n",
       "      <td>52.358033</td>\n",
       "    </tr>\n",
       "    <tr>\n",
       "      <th>16</th>\n",
       "      <td>time_in_seconds_sql_generation_enhanced</td>\n",
       "      <td>42.915575</td>\n",
       "    </tr>\n",
       "    <tr>\n",
       "      <th>17</th>\n",
       "      <td>execution_ok</td>\n",
       "      <td>1</td>\n",
       "    </tr>\n",
       "    <tr>\n",
       "      <th>18</th>\n",
       "      <td>coverage</td>\n",
       "      <td>1.001017</td>\n",
       "    </tr>\n",
       "    <tr>\n",
       "      <th>19</th>\n",
       "      <td>openai_model</td>\n",
       "      <td>text-embedding-3-small</td>\n",
       "    </tr>\n",
       "    <tr>\n",
       "      <th>20</th>\n",
       "      <td>columns_f1</td>\n",
       "      <td>1.0</td>\n",
       "    </tr>\n",
       "    <tr>\n",
       "      <th>21</th>\n",
       "      <td>columns_precision</td>\n",
       "      <td>1.0</td>\n",
       "    </tr>\n",
       "    <tr>\n",
       "      <th>22</th>\n",
       "      <td>columns_recall</td>\n",
       "      <td>1.0</td>\n",
       "    </tr>\n",
       "    <tr>\n",
       "      <th>23</th>\n",
       "      <td>columns_TP</td>\n",
       "      <td>31</td>\n",
       "    </tr>\n",
       "    <tr>\n",
       "      <th>24</th>\n",
       "      <td>columns_FP</td>\n",
       "      <td>0</td>\n",
       "    </tr>\n",
       "    <tr>\n",
       "      <th>25</th>\n",
       "      <td>columns_FN</td>\n",
       "      <td>0</td>\n",
       "    </tr>\n",
       "    <tr>\n",
       "      <th>26</th>\n",
       "      <td>events_f1</td>\n",
       "      <td>1.0</td>\n",
       "    </tr>\n",
       "    <tr>\n",
       "      <th>27</th>\n",
       "      <td>events_precision</td>\n",
       "      <td>1.0</td>\n",
       "    </tr>\n",
       "    <tr>\n",
       "      <th>28</th>\n",
       "      <td>events_recall</td>\n",
       "      <td>1.0</td>\n",
       "    </tr>\n",
       "    <tr>\n",
       "      <th>29</th>\n",
       "      <td>events_TP</td>\n",
       "      <td>6</td>\n",
       "    </tr>\n",
       "    <tr>\n",
       "      <th>30</th>\n",
       "      <td>events_FP</td>\n",
       "      <td>0</td>\n",
       "    </tr>\n",
       "    <tr>\n",
       "      <th>31</th>\n",
       "      <td>events_FN</td>\n",
       "      <td>0</td>\n",
       "    </tr>\n",
       "    <tr>\n",
       "      <th>32</th>\n",
       "      <td>columns_num_benchmark</td>\n",
       "      <td>31</td>\n",
       "    </tr>\n",
       "    <tr>\n",
       "      <th>33</th>\n",
       "      <td>events_num_benchmark</td>\n",
       "      <td>6</td>\n",
       "    </tr>\n",
       "    <tr>\n",
       "      <th>34</th>\n",
       "      <td>columns_num_ai_tool</td>\n",
       "      <td>31</td>\n",
       "    </tr>\n",
       "    <tr>\n",
       "      <th>35</th>\n",
       "      <td>events_num_ai_tool</td>\n",
       "      <td>6</td>\n",
       "    </tr>\n",
       "    <tr>\n",
       "      <th>36</th>\n",
       "      <td>total_rows_benchmark</td>\n",
       "      <td>7568824</td>\n",
       "    </tr>\n",
       "    <tr>\n",
       "      <th>37</th>\n",
       "      <td>total_rows_ai_tool</td>\n",
       "      <td>7576522</td>\n",
       "    </tr>\n",
       "  </tbody>\n",
       "</table>\n",
       "</div>"
      ],
      "text/plain": [
       "                                          métrica  \\\n",
       "0                                            uuid   \n",
       "1                               tokens_total_tool   \n",
       "2                tokens_total_retriever_embedding   \n",
       "3                     tokens_total_sql_generation   \n",
       "4                    tokens_prompt_sql_generation   \n",
       "5                tokens_completion_sql_generation   \n",
       "6            tokens_total_sql_generation_enhanced   \n",
       "7           tokens_prompt_sql_generation_enhanced   \n",
       "8       tokens_completion_sql_generation_enhanced   \n",
       "9                      total_cost_tool_in_dollars   \n",
       "10      total_cost_retriever_embedding_in_dollars   \n",
       "11           total_cost_sql_generation_in_dollars   \n",
       "12  total_cost_sql_generation_enhanced_in_dollars   \n",
       "13                          time_in_seconds_total   \n",
       "14                      time_in_seconds_retriever   \n",
       "15                 time_in_seconds_sql_generation   \n",
       "16        time_in_seconds_sql_generation_enhanced   \n",
       "17                                   execution_ok   \n",
       "18                                       coverage   \n",
       "19                                   openai_model   \n",
       "20                                     columns_f1   \n",
       "21                              columns_precision   \n",
       "22                                 columns_recall   \n",
       "23                                     columns_TP   \n",
       "24                                     columns_FP   \n",
       "25                                     columns_FN   \n",
       "26                                      events_f1   \n",
       "27                               events_precision   \n",
       "28                                  events_recall   \n",
       "29                                      events_TP   \n",
       "30                                      events_FP   \n",
       "31                                      events_FN   \n",
       "32                          columns_num_benchmark   \n",
       "33                           events_num_benchmark   \n",
       "34                            columns_num_ai_tool   \n",
       "35                             events_num_ai_tool   \n",
       "36                           total_rows_benchmark   \n",
       "37                             total_rows_ai_tool   \n",
       "\n",
       "                                   valor  \n",
       "0   a996d163-9fce-4f7e-b248-22826050010d  \n",
       "1                                  41867  \n",
       "2                                    488  \n",
       "3                                  20112  \n",
       "4                                  13657  \n",
       "5                                   6455  \n",
       "6                                  21267  \n",
       "7                                  16388  \n",
       "8                                   4879  \n",
       "9                               0.082929  \n",
       "10                               0.00001  \n",
       "11                              0.043425  \n",
       "12                              0.039494  \n",
       "13                             95.901599  \n",
       "14                              0.604358  \n",
       "15                             52.358033  \n",
       "16                             42.915575  \n",
       "17                                     1  \n",
       "18                              1.001017  \n",
       "19                text-embedding-3-small  \n",
       "20                                   1.0  \n",
       "21                                   1.0  \n",
       "22                                   1.0  \n",
       "23                                    31  \n",
       "24                                     0  \n",
       "25                                     0  \n",
       "26                                   1.0  \n",
       "27                                   1.0  \n",
       "28                                   1.0  \n",
       "29                                     6  \n",
       "30                                     0  \n",
       "31                                     0  \n",
       "32                                    31  \n",
       "33                                     6  \n",
       "34                                    31  \n",
       "35                                     6  \n",
       "36                               7568824  \n",
       "37                               7576522  "
      ]
     },
     "metadata": {},
     "output_type": "display_data"
    }
   ],
   "source": [
    "# Se muestran sus métricas de desempeño reproduciendo el dataframe de MIMICEL (benchmark)\n",
    "df_results_ok_good_performance_melt = df_results_ok_good_performance_columnsf1_eventsf1.melt(\n",
    "    var_name=\"métrica\",\n",
    "    value_name=\"valor\"\n",
    ")\n",
    "\n",
    "# Métricas\n",
    "display(df_results_ok_good_performance_melt.iloc[:, 0:])"
   ]
  },
  {
   "cell_type": "markdown",
   "id": "a96a09d1",
   "metadata": {},
   "source": [
    "Si recuperamos su uuid, podemos ver la complejidad del script generado.\n",
    "\n",
    "```sql\n",
    "-- Campos y eventos NO encontrados en el esquema corporativo:\n",
    "--   • edad (no existe columna birthdate o age en módulo ED)\n",
    "--   • tablas y eventos “Pruebas de Laboratorio” y “Pruebas Radiológicas”\n",
    "\n",
    "WITH\n",
    "--------------------------------------------------------------------------------\n",
    "-- Evento: Entrada a Urgencias (ED)\n",
    "-- Tabla fuente: module_ed.edstays\n",
    "ed_arrival AS (\n",
    "    SELECT\n",
    "        -- Identificadores únicos\n",
    "        s.subject_id,                                      -- ID único del paciente\n",
    "        s.stay_id,                                         -- ID de la estancia en urgencias\n",
    "        s.hadm_id,                                         -- ID de hospitalización (NULL si no hubo)\n",
    "        -- Marca temporal\n",
    "        s.intime::TIMESTAMP        AS timestamps,          -- Fecha y hora de ingreso al ED\n",
    "        -- Nombre del evento\n",
    "        'Entrada a Urgencias (ED)'::VARCHAR   AS activity,\n",
    "        -- Atributos de llegada\n",
    "        s.arrival_transport        AS arrival_transport,   -- Medio de llegada (WALK IN, AMBULANCE, …)\n",
    "        s.gender                   AS gender,              -- Género (M/F)\n",
    "        s.race                     AS race,                -- Raza autoinformada\n",
    "        -- Atributos de alta (no aplican)\n",
    "        NULL::VARCHAR(255)         AS disposition,\n",
    "        -- Diagnósticos facturados (no aplican)\n",
    "        NULL::INTEGER              AS seq_num,\n",
    "        NULL::VARCHAR(8)           AS icd_code,\n",
    "        NULL::SMALLINT             AS icd_version,\n",
    "        NULL::VARCHAR              AS icd_title,\n",
    "        -- Triaje (no aplican)\n",
    "        NULL::NUMERIC              AS acuity,\n",
    "        NULL::VARCHAR(255)         AS chiefcomplaint,\n",
    "        -- Signos vitales (no aplican)\n",
    "        NULL::NUMERIC              AS temperature,\n",
    "        NULL::NUMERIC              AS heartrate,\n",
    "        NULL::NUMERIC(10,4)        AS resprate,\n",
    "        NULL::NUMERIC              AS o2sat,\n",
    "        NULL::NUMERIC              AS sbp,\n",
    "        NULL::NUMERIC              AS dbp,\n",
    "        NULL::VARCHAR              AS pain,\n",
    "        NULL::VARCHAR              AS rhythm,\n",
    "        -- Conciliación / Dispensación de medicamentos (no aplican)\n",
    "        NULL::SMALLINT             AS med_rn,\n",
    "        NULL::SMALLINT             AS gsn_rn,\n",
    "        NULL::VARCHAR(255)         AS name,\n",
    "        NULL::VARCHAR(10)          AS gsn,\n",
    "        NULL::VARCHAR(12)          AS ndc,\n",
    "        NULL::SMALLINT             AS etc_rn,\n",
    "        NULL::VARCHAR(8)           AS etccode,\n",
    "        NULL::VARCHAR(255)         AS etcdescription\n",
    "    FROM module_ed.edstays s\n",
    "    WHERE s.intime < s.outtime   -- Validación: ingreso antes de egreso\n",
    "),\n",
    "--------------------------------------------------------------------------------\n",
    "-- Evento: Salida de Urgencias (ED)\n",
    "-- Tablas fuente: module_ed.edstays JOIN module_ed.diagnosis\n",
    "ed_discharge AS (\n",
    "    SELECT\n",
    "        s.subject_id,                                      -- ID del paciente\n",
    "        s.stay_id,                                         -- ID de la estancia ED\n",
    "        s.hadm_id,                                         -- ID de hospitalización\n",
    "        s.outtime::TIMESTAMP       AS timestamps,          -- Fecha y hora de salida del ED\n",
    "        'Salida de Urgencias (ED)'::VARCHAR    AS activity,\n",
    "        -- Llegada (no aplica)\n",
    "        NULL::VARCHAR(50)          AS arrival_transport,\n",
    "        NULL::VARCHAR(1)           AS gender,\n",
    "        NULL::VARCHAR(60)          AS race,\n",
    "        -- Atributos de alta\n",
    "        s.disposition              AS disposition,         -- Método de salida (HOME, ADMITTED, etc.)\n",
    "        -- Diagnósticos facturados\n",
    "        d.seq_num                  AS seq_num,             -- Secuencia de diagnóstico\n",
    "        d.icd_code                 AS icd_code,            -- Código ICD-9/10\n",
    "        d.icd_version              AS icd_version,         -- Versión ICD\n",
    "        d.icd_title                AS icd_title,           -- Descripción textual del diagnóstico\n",
    "        -- Triaje (no aplica)\n",
    "        NULL::NUMERIC              AS acuity,\n",
    "        NULL::VARCHAR(255)         AS chiefcomplaint,\n",
    "        -- Signos vitales (no aplica)\n",
    "        NULL::NUMERIC              AS temperature,\n",
    "        NULL::NUMERIC              AS heartrate,\n",
    "        NULL::NUMERIC(10,4)        AS resprate,\n",
    "        NULL::NUMERIC              AS o2sat,\n",
    "        NULL::NUMERIC              AS sbp,\n",
    "        NULL::NUMERIC              AS dbp,\n",
    "        NULL::VARCHAR              AS pain,\n",
    "        NULL::VARCHAR              AS rhythm,\n",
    "        -- Conciliación / Dispensación de medicamentos (no aplican)\n",
    "        NULL::SMALLINT             AS med_rn,\n",
    "        NULL::SMALLINT             AS gsn_rn,\n",
    "        NULL::VARCHAR(255)         AS name,\n",
    "        NULL::VARCHAR(10)          AS gsn,\n",
    "        NULL::VARCHAR(12)          AS ndc,\n",
    "        NULL::SMALLINT             AS etc_rn,\n",
    "        NULL::VARCHAR(8)           AS etccode,\n",
    "        NULL::VARCHAR(255)         AS etcdescription\n",
    "    FROM module_ed.edstays s\n",
    "    JOIN module_ed.diagnosis d\n",
    "      ON s.stay_id = d.stay_id\n",
    "),\n",
    "--------------------------------------------------------------------------------\n",
    "-- Evento: Triaje en Urgencias (ED)\n",
    "-- Tablas fuente: module_ed.triage JOIN module_ed.edstays\n",
    "ed_triage AS (\n",
    "    SELECT\n",
    "        t.subject_id,                                      -- ID del paciente\n",
    "        t.stay_id,                                         -- ID de la estancia ED\n",
    "        s.hadm_id,                                         -- ID de hospitalización\n",
    "        (s.intime + INTERVAL '1 second')::TIMESTAMP AS timestamps,  -- Imputación de timestamp de triaje\n",
    "        'Triaje en Urgencias (ED)'::VARCHAR   AS activity,\n",
    "        -- Llegada / Alta / Diagnóstico (no aplican)\n",
    "        NULL::VARCHAR(50)          AS arrival_transport,\n",
    "        NULL::VARCHAR(1)           AS gender,\n",
    "        NULL::VARCHAR(60)          AS race,\n",
    "        NULL::VARCHAR(255)         AS disposition,\n",
    "        NULL::INTEGER              AS seq_num,\n",
    "        NULL::VARCHAR(8)           AS icd_code,\n",
    "        NULL::SMALLINT             AS icd_version,\n",
    "        NULL::VARCHAR              AS icd_title,\n",
    "        -- Atributos de triaje\n",
    "        t.acuity                   AS acuity,              -- Nivel de triaje (1–5)\n",
    "        t.chiefcomplaint           AS chiefcomplaint,      -- Queja principal (texto libre)\n",
    "        -- Signos vitales en triaje\n",
    "        t.temperature              AS temperature,\n",
    "        t.heartrate                AS heartrate,\n",
    "        t.resprate                 AS resprate,\n",
    "        t.o2sat                    AS o2sat,\n",
    "        t.sbp::NUMERIC             AS sbp,\n",
    "        t.dbp::NUMERIC             AS dbp,\n",
    "        t.pain                     AS pain,                -- Nivel de dolor 0–10\n",
    "        NULL::VARCHAR              AS rhythm,\n",
    "        -- Medicamentos (no aplican)\n",
    "        NULL::SMALLINT             AS med_rn,\n",
    "        NULL::SMALLINT             AS gsn_rn,\n",
    "        NULL::VARCHAR(255)         AS name,\n",
    "        NULL::VARCHAR(10)          AS gsn,\n",
    "        NULL::VARCHAR(12)          AS ndc,\n",
    "        NULL::SMALLINT             AS etc_rn,\n",
    "        NULL::VARCHAR(8)           AS etccode,\n",
    "        NULL::VARCHAR(255)         AS etcdescription\n",
    "    FROM module_ed.triage t\n",
    "    JOIN module_ed.edstays s\n",
    "      ON t.stay_id = s.stay_id\n",
    "    WHERE (s.intime + INTERVAL '1 second') < s.outtime   -- Validación: triaje antes del alta\n",
    "),\n",
    "--------------------------------------------------------------------------------\n",
    "-- Evento: Toma de Constantes Vitales\n",
    "-- Tablas fuente: module_ed.vitalsign JOIN module_ed.edstays\n",
    "ed_vitals AS (\n",
    "    SELECT\n",
    "        v.subject_id,                                      -- ID del paciente\n",
    "        v.stay_id,                                         -- ID de la estancia ED\n",
    "        s.hadm_id,                                         -- ID de hospitalización\n",
    "        v.charttime::TIMESTAMP     AS timestamps,          -- Fecha y hora de la toma de signos\n",
    "        'Toma de Constantes Vitales'::VARCHAR  AS activity,\n",
    "        -- Llegada / Alta / Diagnostics / Triage (no aplican)\n",
    "        NULL::VARCHAR(50)          AS arrival_transport,\n",
    "        NULL::VARCHAR(1)           AS gender,\n",
    "        NULL::VARCHAR(60)          AS race,\n",
    "        NULL::VARCHAR(255)         AS disposition,\n",
    "        NULL::INTEGER              AS seq_num,\n",
    "        NULL::VARCHAR(8)           AS icd_code,\n",
    "        NULL::SMALLINT             AS icd_version,\n",
    "        NULL::VARCHAR              AS icd_title,\n",
    "        NULL::NUMERIC              AS acuity,\n",
    "        NULL::VARCHAR(255)         AS chiefcomplaint,\n",
    "        -- Signos vitales registrados\n",
    "        v.temperature              AS temperature,         -- °F\n",
    "        v.heartrate                AS heartrate,           -- latidos/min\n",
    "        v.resprate                 AS resprate,            -- respiraciones/min\n",
    "        v.o2sat                    AS o2sat,               -- saturación %\n",
    "        CAST(v.sbp AS NUMERIC)     AS sbp,                 -- presión sistólica mmHg\n",
    "        CAST(v.dbp AS NUMERIC)     AS dbp,                 -- presión diastólica mmHg\n",
    "        v.pain                     AS pain,                -- dolor 0–10\n",
    "        v.rhythm                   AS rhythm,              -- ritmo cardíaco (texto libre)\n",
    "        -- Medicamentos (no aplican)\n",
    "        NULL::SMALLINT             AS med_rn,\n",
    "        NULL::SMALLINT             AS gsn_rn,\n",
    "        NULL::VARCHAR(255)         AS name,\n",
    "        NULL::VARCHAR(10)          AS gsn,\n",
    "        NULL::VARCHAR(12)          AS ndc,\n",
    "        NULL::SMALLINT             AS etc_rn,\n",
    "        NULL::VARCHAR(8)           AS etccode,\n",
    "        NULL::VARCHAR(255)         AS etcdescription\n",
    "    FROM module_ed.vitalsign v\n",
    "    JOIN module_ed.edstays s\n",
    "      ON v.stay_id = s.stay_id\n",
    "    WHERE v.charttime <= s.outtime   -- Validación: vitales antes del alta\n",
    "),\n",
    "--------------------------------------------------------------------------------\n",
    "-- Evento: Conciliación de Medicamentos\n",
    "-- Tablas fuente: module_ed.medrecon JOIN module_ed.edstays\n",
    "ed_medrecon AS (\n",
    "    SELECT\n",
    "        m.subject_id,                                      -- ID del paciente\n",
    "        m.stay_id,                                         -- ID de la estancia ED\n",
    "        s.hadm_id,                                         -- ID de hospitalización\n",
    "        m.charttime::TIMESTAMP     AS timestamps,          -- Fecha y hora de conciliación\n",
    "        'Conciliación de Medicamentos'::VARCHAR AS activity,\n",
    "        -- Llegada / Alta / Diagnostics / Triage / Vitals (no aplican)\n",
    "        NULL::VARCHAR(50)          AS arrival_transport,\n",
    "        NULL::VARCHAR(1)           AS gender,\n",
    "        NULL::VARCHAR(60)          AS race,\n",
    "        NULL::VARCHAR(255)         AS disposition,\n",
    "        NULL::INTEGER              AS seq_num,\n",
    "        NULL::VARCHAR(8)           AS icd_code,\n",
    "        NULL::SMALLINT             AS icd_version,\n",
    "        NULL::VARCHAR              AS icd_title,\n",
    "        NULL::NUMERIC              AS acuity,\n",
    "        NULL::VARCHAR(255)         AS chiefcomplaint,\n",
    "        NULL::NUMERIC              AS temperature,\n",
    "        NULL::NUMERIC              AS heartrate,\n",
    "        NULL::NUMERIC(10,4)        AS resprate,\n",
    "        NULL::NUMERIC              AS o2sat,\n",
    "        NULL::NUMERIC              AS sbp,\n",
    "        NULL::NUMERIC              AS dbp,\n",
    "        NULL::VARCHAR              AS pain,\n",
    "        NULL::VARCHAR              AS rhythm,\n",
    "        -- Atributos de conciliación\n",
    "        NULL::SMALLINT             AS med_rn,\n",
    "        NULL::SMALLINT             AS gsn_rn,\n",
    "        m.name                     AS name,                -- Nombre del medicamento\n",
    "        m.gsn                      AS gsn,                 -- Código GSN\n",
    "        m.ndc                      AS ndc,                 -- Código NDC\n",
    "        m.etc_rn                   AS etc_rn,              -- Secuencia ETC\n",
    "        m.etccode                  AS etccode,             -- Código ETC\n",
    "        m.etcdescription           AS etcdescription       -- Descripción ETC\n",
    "    FROM module_ed.medrecon m\n",
    "    JOIN module_ed.edstays s\n",
    "      ON m.stay_id = s.stay_id\n",
    "    WHERE m.charttime <= s.outtime   -- Validación: conciliación antes del alta\n",
    "),\n",
    "--------------------------------------------------------------------------------\n",
    "-- Evento: Dispensación de Medicamentos\n",
    "-- Tablas fuente: module_ed.pyxis JOIN module_ed.edstays\n",
    "ed_pyxis AS (\n",
    "    SELECT\n",
    "        p.subject_id,                                      -- ID del paciente\n",
    "        p.stay_id,                                         -- ID de la estancia ED\n",
    "        s.hadm_id,                                         -- ID de hospitalización\n",
    "        p.charttime::TIMESTAMP     AS timestamps,          -- Fecha y hora de dispensación\n",
    "        'Dispensación de Medicamentos'::VARCHAR AS activity,\n",
    "        -- Llegada / Alta / Diagnostics / Triage / Vitals (no aplican)\n",
    "        NULL::VARCHAR(50)          AS arrival_transport,\n",
    "        NULL::VARCHAR(1)           AS gender,\n",
    "        NULL::VARCHAR(60)          AS race,\n",
    "        NULL::VARCHAR(255)         AS disposition,\n",
    "        NULL::INTEGER              AS seq_num,\n",
    "        NULL::VARCHAR(8)           AS icd_code,\n",
    "        NULL::SMALLINT             AS icd_version,\n",
    "        NULL::VARCHAR              AS icd_title,\n",
    "        NULL::NUMERIC              AS acuity,\n",
    "        NULL::VARCHAR(255)         AS chiefcomplaint,\n",
    "        NULL::NUMERIC              AS temperature,\n",
    "        NULL::NUMERIC              AS heartrate,\n",
    "        NULL::NUMERIC(10,4)        AS resprate,\n",
    "        NULL::NUMERIC              AS o2sat,\n",
    "        NULL::NUMERIC              AS sbp,\n",
    "        NULL::NUMERIC              AS dbp,\n",
    "        NULL::VARCHAR              AS pain,\n",
    "        NULL::VARCHAR              AS rhythm,\n",
    "        -- Atributos de dispensación\n",
    "        p.med_rn                   AS med_rn,             -- Número de fila Pyxis\n",
    "        p.gsn_rn                   AS gsn_rn,             -- Secuencia GSN\n",
    "        p.name                     AS name,               -- Nombre del medicamento\n",
    "        p.gsn                      AS gsn,                -- Código GSN\n",
    "        NULL::VARCHAR(12)          AS ndc,\n",
    "        NULL::SMALLINT             AS etc_rn,\n",
    "        NULL::VARCHAR(8)           AS etccode,\n",
    "        NULL::VARCHAR(255)         AS etcdescription\n",
    "    FROM module_ed.pyxis p\n",
    "    JOIN module_ed.edstays s\n",
    "      ON p.stay_id = s.stay_id\n",
    "    WHERE p.charttime <= s.outtime   -- Validación: dispensación antes del alta\n",
    "),\n",
    "--------------------------------------------------------------------------------\n",
    "-- Unión de todos los eventos para formar el log final\n",
    "final_log AS (\n",
    "    SELECT * FROM ed_arrival\n",
    "    UNION ALL\n",
    "    SELECT * FROM ed_discharge\n",
    "    UNION ALL\n",
    "    SELECT * FROM ed_triage\n",
    "    UNION ALL\n",
    "    SELECT * FROM ed_vitals\n",
    "    UNION ALL\n",
    "    SELECT * FROM ed_medrecon\n",
    "    UNION ALL\n",
    "    SELECT * FROM ed_pyxis\n",
    ")\n",
    "SELECT *\n",
    "FROM final_log\n",
    "ORDER BY subject_id ASC, timestamps ASC;\n",
    "```"
   ]
  },
  {
   "cell_type": "markdown",
   "id": "0e99c8ee",
   "metadata": {},
   "source": [
    "#### **7.4. Rendimiento 'coverage' replicación filas de MIMICEL (benchmark).**"
   ]
  },
  {
   "cell_type": "markdown",
   "id": "8c055112",
   "metadata": {},
   "source": [
    "**Coverage**: Índice de cobertura entre las filas generadas por la AI Tool y las filas esperadas en el dataset de control MIMICEL.  \n",
    "  $$ \\text{Coverage} = \\frac{\\text{Rows}_{\\text{AI Tool}}}{\\text{Rows}_{\\text{MIMICEL}}} $$"
   ]
  },
  {
   "cell_type": "code",
   "execution_count": 21,
   "id": "d2be9f47",
   "metadata": {},
   "outputs": [
    {
     "name": "stdout",
     "output_type": "stream",
     "text": [
      "Casos `Coverage=1` perfecto: 0 casos.\n"
     ]
    },
    {
     "data": {
      "text/html": [
       "<div>\n",
       "<style scoped>\n",
       "    .dataframe tbody tr th:only-of-type {\n",
       "        vertical-align: middle;\n",
       "    }\n",
       "\n",
       "    .dataframe tbody tr th {\n",
       "        vertical-align: top;\n",
       "    }\n",
       "\n",
       "    .dataframe thead th {\n",
       "        text-align: right;\n",
       "    }\n",
       "</style>\n",
       "<table border=\"1\" class=\"dataframe\">\n",
       "  <thead>\n",
       "    <tr style=\"text-align: right;\">\n",
       "      <th></th>\n",
       "      <th>coverage</th>\n",
       "    </tr>\n",
       "  </thead>\n",
       "  <tbody>\n",
       "    <tr>\n",
       "      <th>count</th>\n",
       "      <td>15.00</td>\n",
       "    </tr>\n",
       "    <tr>\n",
       "      <th>mean</th>\n",
       "      <td>1.01</td>\n",
       "    </tr>\n",
       "    <tr>\n",
       "      <th>std</th>\n",
       "      <td>0.02</td>\n",
       "    </tr>\n",
       "    <tr>\n",
       "      <th>min</th>\n",
       "      <td>0.98</td>\n",
       "    </tr>\n",
       "    <tr>\n",
       "      <th>25%</th>\n",
       "      <td>1.00</td>\n",
       "    </tr>\n",
       "    <tr>\n",
       "      <th>50%</th>\n",
       "      <td>1.00</td>\n",
       "    </tr>\n",
       "    <tr>\n",
       "      <th>75%</th>\n",
       "      <td>1.00</td>\n",
       "    </tr>\n",
       "    <tr>\n",
       "      <th>max</th>\n",
       "      <td>1.06</td>\n",
       "    </tr>\n",
       "  </tbody>\n",
       "</table>\n",
       "</div>"
      ],
      "text/plain": [
       "       coverage\n",
       "count     15.00\n",
       "mean       1.01\n",
       "std        0.02\n",
       "min        0.98\n",
       "25%        1.00\n",
       "50%        1.00\n",
       "75%        1.00\n",
       "max        1.06"
      ]
     },
     "metadata": {},
     "output_type": "display_data"
    },
    {
     "data": {
      "application/vnd.plotly.v1+json": {
       "config": {
        "plotlyServerURL": "https://plot.ly"
       },
       "data": [
        {
         "alignmentgroup": "True",
         "hovertemplate": "evaluation_datetime=%{x}<br>Coverage (Filas Generadas / Filas Esperadas MIMICEL)=%{y}<extra></extra>",
         "legendgroup": "",
         "marker": {
          "color": "#000000"
         },
         "name": "",
         "notched": false,
         "offsetgroup": "",
         "orientation": "v",
         "showlegend": false,
         "type": "box",
         "x": [
          "coverage",
          "coverage",
          "coverage",
          "coverage",
          "coverage",
          "coverage",
          "coverage",
          "coverage",
          "coverage",
          "coverage",
          "coverage",
          "coverage",
          "coverage",
          "coverage",
          "coverage"
         ],
         "x0": " ",
         "xaxis": "x",
         "y": {
          "bdata": "AoPlwsoE8D/y/cjROgTwP8Sh3gAeBPA/7DYKxiPp8D/IIzq0NAPwP9moVqXEA/A/yeuvWqJX7z8/ctCGY17wP1WENs8oBPA/8v3I0ToE8D9E4s14KgTwP1WENs8oBPA/6zSMdE+s8D/Eod4AHgTwP/L9yNE6BPA/",
          "dtype": "f8"
         },
         "y0": " ",
         "yaxis": "y"
        }
       ],
       "layout": {
        "boxgap": 0.3,
        "boxgroupgap": 0.3,
        "boxmode": "group",
        "height": 500,
        "legend": {
         "tracegroupgap": 0
        },
        "paper_bgcolor": "white",
        "plot_bgcolor": "white",
        "template": {
         "data": {
          "bar": [
           {
            "error_x": {
             "color": "#2a3f5f"
            },
            "error_y": {
             "color": "#2a3f5f"
            },
            "marker": {
             "line": {
              "color": "#E5ECF6",
              "width": 0.5
             },
             "pattern": {
              "fillmode": "overlay",
              "size": 10,
              "solidity": 0.2
             }
            },
            "type": "bar"
           }
          ],
          "barpolar": [
           {
            "marker": {
             "line": {
              "color": "#E5ECF6",
              "width": 0.5
             },
             "pattern": {
              "fillmode": "overlay",
              "size": 10,
              "solidity": 0.2
             }
            },
            "type": "barpolar"
           }
          ],
          "carpet": [
           {
            "aaxis": {
             "endlinecolor": "#2a3f5f",
             "gridcolor": "white",
             "linecolor": "white",
             "minorgridcolor": "white",
             "startlinecolor": "#2a3f5f"
            },
            "baxis": {
             "endlinecolor": "#2a3f5f",
             "gridcolor": "white",
             "linecolor": "white",
             "minorgridcolor": "white",
             "startlinecolor": "#2a3f5f"
            },
            "type": "carpet"
           }
          ],
          "choropleth": [
           {
            "colorbar": {
             "outlinewidth": 0,
             "ticks": ""
            },
            "type": "choropleth"
           }
          ],
          "contour": [
           {
            "colorbar": {
             "outlinewidth": 0,
             "ticks": ""
            },
            "colorscale": [
             [
              0,
              "#0d0887"
             ],
             [
              0.1111111111111111,
              "#46039f"
             ],
             [
              0.2222222222222222,
              "#7201a8"
             ],
             [
              0.3333333333333333,
              "#9c179e"
             ],
             [
              0.4444444444444444,
              "#bd3786"
             ],
             [
              0.5555555555555556,
              "#d8576b"
             ],
             [
              0.6666666666666666,
              "#ed7953"
             ],
             [
              0.7777777777777778,
              "#fb9f3a"
             ],
             [
              0.8888888888888888,
              "#fdca26"
             ],
             [
              1,
              "#f0f921"
             ]
            ],
            "type": "contour"
           }
          ],
          "contourcarpet": [
           {
            "colorbar": {
             "outlinewidth": 0,
             "ticks": ""
            },
            "type": "contourcarpet"
           }
          ],
          "heatmap": [
           {
            "colorbar": {
             "outlinewidth": 0,
             "ticks": ""
            },
            "colorscale": [
             [
              0,
              "#0d0887"
             ],
             [
              0.1111111111111111,
              "#46039f"
             ],
             [
              0.2222222222222222,
              "#7201a8"
             ],
             [
              0.3333333333333333,
              "#9c179e"
             ],
             [
              0.4444444444444444,
              "#bd3786"
             ],
             [
              0.5555555555555556,
              "#d8576b"
             ],
             [
              0.6666666666666666,
              "#ed7953"
             ],
             [
              0.7777777777777778,
              "#fb9f3a"
             ],
             [
              0.8888888888888888,
              "#fdca26"
             ],
             [
              1,
              "#f0f921"
             ]
            ],
            "type": "heatmap"
           }
          ],
          "histogram": [
           {
            "marker": {
             "pattern": {
              "fillmode": "overlay",
              "size": 10,
              "solidity": 0.2
             }
            },
            "type": "histogram"
           }
          ],
          "histogram2d": [
           {
            "colorbar": {
             "outlinewidth": 0,
             "ticks": ""
            },
            "colorscale": [
             [
              0,
              "#0d0887"
             ],
             [
              0.1111111111111111,
              "#46039f"
             ],
             [
              0.2222222222222222,
              "#7201a8"
             ],
             [
              0.3333333333333333,
              "#9c179e"
             ],
             [
              0.4444444444444444,
              "#bd3786"
             ],
             [
              0.5555555555555556,
              "#d8576b"
             ],
             [
              0.6666666666666666,
              "#ed7953"
             ],
             [
              0.7777777777777778,
              "#fb9f3a"
             ],
             [
              0.8888888888888888,
              "#fdca26"
             ],
             [
              1,
              "#f0f921"
             ]
            ],
            "type": "histogram2d"
           }
          ],
          "histogram2dcontour": [
           {
            "colorbar": {
             "outlinewidth": 0,
             "ticks": ""
            },
            "colorscale": [
             [
              0,
              "#0d0887"
             ],
             [
              0.1111111111111111,
              "#46039f"
             ],
             [
              0.2222222222222222,
              "#7201a8"
             ],
             [
              0.3333333333333333,
              "#9c179e"
             ],
             [
              0.4444444444444444,
              "#bd3786"
             ],
             [
              0.5555555555555556,
              "#d8576b"
             ],
             [
              0.6666666666666666,
              "#ed7953"
             ],
             [
              0.7777777777777778,
              "#fb9f3a"
             ],
             [
              0.8888888888888888,
              "#fdca26"
             ],
             [
              1,
              "#f0f921"
             ]
            ],
            "type": "histogram2dcontour"
           }
          ],
          "mesh3d": [
           {
            "colorbar": {
             "outlinewidth": 0,
             "ticks": ""
            },
            "type": "mesh3d"
           }
          ],
          "parcoords": [
           {
            "line": {
             "colorbar": {
              "outlinewidth": 0,
              "ticks": ""
             }
            },
            "type": "parcoords"
           }
          ],
          "pie": [
           {
            "automargin": true,
            "type": "pie"
           }
          ],
          "scatter": [
           {
            "fillpattern": {
             "fillmode": "overlay",
             "size": 10,
             "solidity": 0.2
            },
            "type": "scatter"
           }
          ],
          "scatter3d": [
           {
            "line": {
             "colorbar": {
              "outlinewidth": 0,
              "ticks": ""
             }
            },
            "marker": {
             "colorbar": {
              "outlinewidth": 0,
              "ticks": ""
             }
            },
            "type": "scatter3d"
           }
          ],
          "scattercarpet": [
           {
            "marker": {
             "colorbar": {
              "outlinewidth": 0,
              "ticks": ""
             }
            },
            "type": "scattercarpet"
           }
          ],
          "scattergeo": [
           {
            "marker": {
             "colorbar": {
              "outlinewidth": 0,
              "ticks": ""
             }
            },
            "type": "scattergeo"
           }
          ],
          "scattergl": [
           {
            "marker": {
             "colorbar": {
              "outlinewidth": 0,
              "ticks": ""
             }
            },
            "type": "scattergl"
           }
          ],
          "scattermap": [
           {
            "marker": {
             "colorbar": {
              "outlinewidth": 0,
              "ticks": ""
             }
            },
            "type": "scattermap"
           }
          ],
          "scattermapbox": [
           {
            "marker": {
             "colorbar": {
              "outlinewidth": 0,
              "ticks": ""
             }
            },
            "type": "scattermapbox"
           }
          ],
          "scatterpolar": [
           {
            "marker": {
             "colorbar": {
              "outlinewidth": 0,
              "ticks": ""
             }
            },
            "type": "scatterpolar"
           }
          ],
          "scatterpolargl": [
           {
            "marker": {
             "colorbar": {
              "outlinewidth": 0,
              "ticks": ""
             }
            },
            "type": "scatterpolargl"
           }
          ],
          "scatterternary": [
           {
            "marker": {
             "colorbar": {
              "outlinewidth": 0,
              "ticks": ""
             }
            },
            "type": "scatterternary"
           }
          ],
          "surface": [
           {
            "colorbar": {
             "outlinewidth": 0,
             "ticks": ""
            },
            "colorscale": [
             [
              0,
              "#0d0887"
             ],
             [
              0.1111111111111111,
              "#46039f"
             ],
             [
              0.2222222222222222,
              "#7201a8"
             ],
             [
              0.3333333333333333,
              "#9c179e"
             ],
             [
              0.4444444444444444,
              "#bd3786"
             ],
             [
              0.5555555555555556,
              "#d8576b"
             ],
             [
              0.6666666666666666,
              "#ed7953"
             ],
             [
              0.7777777777777778,
              "#fb9f3a"
             ],
             [
              0.8888888888888888,
              "#fdca26"
             ],
             [
              1,
              "#f0f921"
             ]
            ],
            "type": "surface"
           }
          ],
          "table": [
           {
            "cells": {
             "fill": {
              "color": "#EBF0F8"
             },
             "line": {
              "color": "white"
             }
            },
            "header": {
             "fill": {
              "color": "#C8D4E3"
             },
             "line": {
              "color": "white"
             }
            },
            "type": "table"
           }
          ]
         },
         "layout": {
          "annotationdefaults": {
           "arrowcolor": "#2a3f5f",
           "arrowhead": 0,
           "arrowwidth": 1
          },
          "autotypenumbers": "strict",
          "coloraxis": {
           "colorbar": {
            "outlinewidth": 0,
            "ticks": ""
           }
          },
          "colorscale": {
           "diverging": [
            [
             0,
             "#8e0152"
            ],
            [
             0.1,
             "#c51b7d"
            ],
            [
             0.2,
             "#de77ae"
            ],
            [
             0.3,
             "#f1b6da"
            ],
            [
             0.4,
             "#fde0ef"
            ],
            [
             0.5,
             "#f7f7f7"
            ],
            [
             0.6,
             "#e6f5d0"
            ],
            [
             0.7,
             "#b8e186"
            ],
            [
             0.8,
             "#7fbc41"
            ],
            [
             0.9,
             "#4d9221"
            ],
            [
             1,
             "#276419"
            ]
           ],
           "sequential": [
            [
             0,
             "#0d0887"
            ],
            [
             0.1111111111111111,
             "#46039f"
            ],
            [
             0.2222222222222222,
             "#7201a8"
            ],
            [
             0.3333333333333333,
             "#9c179e"
            ],
            [
             0.4444444444444444,
             "#bd3786"
            ],
            [
             0.5555555555555556,
             "#d8576b"
            ],
            [
             0.6666666666666666,
             "#ed7953"
            ],
            [
             0.7777777777777778,
             "#fb9f3a"
            ],
            [
             0.8888888888888888,
             "#fdca26"
            ],
            [
             1,
             "#f0f921"
            ]
           ],
           "sequentialminus": [
            [
             0,
             "#0d0887"
            ],
            [
             0.1111111111111111,
             "#46039f"
            ],
            [
             0.2222222222222222,
             "#7201a8"
            ],
            [
             0.3333333333333333,
             "#9c179e"
            ],
            [
             0.4444444444444444,
             "#bd3786"
            ],
            [
             0.5555555555555556,
             "#d8576b"
            ],
            [
             0.6666666666666666,
             "#ed7953"
            ],
            [
             0.7777777777777778,
             "#fb9f3a"
            ],
            [
             0.8888888888888888,
             "#fdca26"
            ],
            [
             1,
             "#f0f921"
            ]
           ]
          },
          "colorway": [
           "#636efa",
           "#EF553B",
           "#00cc96",
           "#ab63fa",
           "#FFA15A",
           "#19d3f3",
           "#FF6692",
           "#B6E880",
           "#FF97FF",
           "#FECB52"
          ],
          "font": {
           "color": "#2a3f5f"
          },
          "geo": {
           "bgcolor": "white",
           "lakecolor": "white",
           "landcolor": "#E5ECF6",
           "showlakes": true,
           "showland": true,
           "subunitcolor": "white"
          },
          "hoverlabel": {
           "align": "left"
          },
          "hovermode": "closest",
          "mapbox": {
           "style": "light"
          },
          "paper_bgcolor": "white",
          "plot_bgcolor": "#E5ECF6",
          "polar": {
           "angularaxis": {
            "gridcolor": "white",
            "linecolor": "white",
            "ticks": ""
           },
           "bgcolor": "#E5ECF6",
           "radialaxis": {
            "gridcolor": "white",
            "linecolor": "white",
            "ticks": ""
           }
          },
          "scene": {
           "xaxis": {
            "backgroundcolor": "#E5ECF6",
            "gridcolor": "white",
            "gridwidth": 2,
            "linecolor": "white",
            "showbackground": true,
            "ticks": "",
            "zerolinecolor": "white"
           },
           "yaxis": {
            "backgroundcolor": "#E5ECF6",
            "gridcolor": "white",
            "gridwidth": 2,
            "linecolor": "white",
            "showbackground": true,
            "ticks": "",
            "zerolinecolor": "white"
           },
           "zaxis": {
            "backgroundcolor": "#E5ECF6",
            "gridcolor": "white",
            "gridwidth": 2,
            "linecolor": "white",
            "showbackground": true,
            "ticks": "",
            "zerolinecolor": "white"
           }
          },
          "shapedefaults": {
           "line": {
            "color": "#2a3f5f"
           }
          },
          "ternary": {
           "aaxis": {
            "gridcolor": "white",
            "linecolor": "white",
            "ticks": ""
           },
           "baxis": {
            "gridcolor": "white",
            "linecolor": "white",
            "ticks": ""
           },
           "bgcolor": "#E5ECF6",
           "caxis": {
            "gridcolor": "white",
            "linecolor": "white",
            "ticks": ""
           }
          },
          "title": {
           "x": 0.05
          },
          "xaxis": {
           "automargin": true,
           "gridcolor": "white",
           "linecolor": "white",
           "ticks": "",
           "title": {
            "standoff": 15
           },
           "zerolinecolor": "white",
           "zerolinewidth": 2
          },
          "yaxis": {
           "automargin": true,
           "gridcolor": "white",
           "linecolor": "white",
           "ticks": "",
           "title": {
            "standoff": 15
           },
           "zerolinecolor": "white",
           "zerolinewidth": 2
          }
         }
        },
        "title": {
         "text": "Boxplot: Cociente entre Líneas generadas AI Tool y Líneas generadas en MIMICEL (benchmark)"
        },
        "width": 1000,
        "xaxis": {
         "anchor": "y",
         "domain": [
          0,
          1
         ],
         "title": {
          "text": "evaluation_datetime"
         }
        },
        "yaxis": {
         "anchor": "x",
         "domain": [
          0,
          1
         ],
         "title": {
          "text": "Coverage (Filas Generadas / Filas Esperadas MIMICEL)"
         }
        }
       }
      }
     },
     "metadata": {},
     "output_type": "display_data"
    }
   ],
   "source": [
    "# Bloque df de métricas rendimiento coverage.\n",
    "# Nos indicaría que número de filas han generado los scripts SQL de la AI Tool\n",
    "df_results_ok_coverage = df_results_ok[['uuid', 'coverage']].copy()\n",
    "\n",
    "# Conteo de casos donde coverage es 1\n",
    "conteo_coverage_1 = len(df_results_ok_coverage['coverage'][\n",
    "    (df_results_ok_coverage['coverage'] == 1)\n",
    "])\n",
    "\n",
    "print(f\"Casos `Coverage=1` perfecto: {conteo_coverage_1} casos.\")\n",
    "# Mostramos el resumen de las métricas de coverage\n",
    "display(df_results_ok_coverage.describe().round(2))\n",
    "\n",
    "# Boxplot de coverage\n",
    "boxplot(\n",
    "    df_results_ok_coverage, \n",
    "    title=\"Boxplot: Cociente entre Líneas generadas AI Tool y Líneas generadas en MIMICEL (benchmark)\",\n",
    "    value_name=\"Coverage (Filas Generadas / Filas Esperadas MIMICEL)\",\n",
    "    category_name=\"evaluation_datetime\"\n",
    "    )\n"
   ]
  },
  {
   "cell_type": "markdown",
   "id": "c05c2082",
   "metadata": {},
   "source": [
    "Se observa como los scripts SQL ejecutados, presentan una mediana cercana al '1', exceptuando 5 casos atípicos.\n",
    "\n",
    "Esta métrica es complementaria, ya que no asegura la igualdad de los valores entre filas.\n",
    "\n",
    "Su intención es medir cuantas filas está generando la AI Tool comparándola con las filas del dataset de control MIMICEL.\n",
    "\n",
    "Valores próximos a 1, indican una cobertura en el número de filas similar entre ambos datasets. \n",
    "\n",
    "Si la métrica viene acompañada de valores F1 próximos a 1 en columnas y eventos, nos sugiere que el script generado es candidato a revisión manual para determinar la exactitud de la replicación.\n",
    "\n"
   ]
  },
  {
   "cell_type": "markdown",
   "id": "05316821",
   "metadata": {},
   "source": [
    "#### **7.5. Rendimiento de la AI Tool en la generación de columnas.**\n"
   ]
  },
  {
   "cell_type": "markdown",
   "id": "9f81c13a",
   "metadata": {},
   "source": [
    "##### **7.5.1. Rendimiento generación de columnas: True Positive (TP), False Positive (FP), False Negative (FN).**"
   ]
  },
  {
   "cell_type": "markdown",
   "id": "b6f59224",
   "metadata": {},
   "source": [
    "- **True Positive (TP)**: Columnas **esperadas** en MIMICEL y **generadas** por la AI Tool.  \n",
    "- **False Negative (FN)**: Columnas **esperadas** en MIMICEL y **no generadas** por la AI Tool.  \n",
    "- **False Positive (FP)**: Columnas **no esperadas** en MIMICEL y **generadas** por la AI Tool."
   ]
  },
  {
   "cell_type": "code",
   "execution_count": 22,
   "id": "622f2be3",
   "metadata": {},
   "outputs": [
    {
     "data": {
      "text/html": [
       "<div>\n",
       "<style scoped>\n",
       "    .dataframe tbody tr th:only-of-type {\n",
       "        vertical-align: middle;\n",
       "    }\n",
       "\n",
       "    .dataframe tbody tr th {\n",
       "        vertical-align: top;\n",
       "    }\n",
       "\n",
       "    .dataframe thead th {\n",
       "        text-align: right;\n",
       "    }\n",
       "</style>\n",
       "<table border=\"1\" class=\"dataframe\">\n",
       "  <thead>\n",
       "    <tr style=\"text-align: right;\">\n",
       "      <th></th>\n",
       "      <th>columns_f1</th>\n",
       "      <th>columns_precision</th>\n",
       "      <th>columns_recall</th>\n",
       "    </tr>\n",
       "  </thead>\n",
       "  <tbody>\n",
       "    <tr>\n",
       "      <th>count</th>\n",
       "      <td>15.00</td>\n",
       "      <td>15.00</td>\n",
       "      <td>15.00</td>\n",
       "    </tr>\n",
       "    <tr>\n",
       "      <th>mean</th>\n",
       "      <td>0.93</td>\n",
       "      <td>0.92</td>\n",
       "      <td>0.95</td>\n",
       "    </tr>\n",
       "    <tr>\n",
       "      <th>std</th>\n",
       "      <td>0.06</td>\n",
       "      <td>0.10</td>\n",
       "      <td>0.06</td>\n",
       "    </tr>\n",
       "    <tr>\n",
       "      <th>min</th>\n",
       "      <td>0.81</td>\n",
       "      <td>0.75</td>\n",
       "      <td>0.77</td>\n",
       "    </tr>\n",
       "    <tr>\n",
       "      <th>25%</th>\n",
       "      <td>0.88</td>\n",
       "      <td>0.81</td>\n",
       "      <td>0.94</td>\n",
       "    </tr>\n",
       "    <tr>\n",
       "      <th>50%</th>\n",
       "      <td>0.95</td>\n",
       "      <td>0.94</td>\n",
       "      <td>0.97</td>\n",
       "    </tr>\n",
       "    <tr>\n",
       "      <th>75%</th>\n",
       "      <td>0.97</td>\n",
       "      <td>1.00</td>\n",
       "      <td>0.98</td>\n",
       "    </tr>\n",
       "    <tr>\n",
       "      <th>max</th>\n",
       "      <td>1.00</td>\n",
       "      <td>1.00</td>\n",
       "      <td>1.00</td>\n",
       "    </tr>\n",
       "  </tbody>\n",
       "</table>\n",
       "</div>"
      ],
      "text/plain": [
       "       columns_f1  columns_precision  columns_recall\n",
       "count       15.00              15.00           15.00\n",
       "mean         0.93               0.92            0.95\n",
       "std          0.06               0.10            0.06\n",
       "min          0.81               0.75            0.77\n",
       "25%          0.88               0.81            0.94\n",
       "50%          0.95               0.94            0.97\n",
       "75%          0.97               1.00            0.98\n",
       "max          1.00               1.00            1.00"
      ]
     },
     "metadata": {},
     "output_type": "display_data"
    },
    {
     "data": {
      "application/vnd.plotly.v1+json": {
       "config": {
        "plotlyServerURL": "https://plot.ly"
       },
       "data": [
        {
         "colorscale": [
          [
           0,
           "rgb(255,255,255)"
          ],
          [
           0.125,
           "rgb(240,240,240)"
          ],
          [
           0.25,
           "rgb(217,217,217)"
          ],
          [
           0.375,
           "rgb(189,189,189)"
          ],
          [
           0.5,
           "rgb(150,150,150)"
          ],
          [
           0.625,
           "rgb(115,115,115)"
          ],
          [
           0.75,
           "rgb(82,82,82)"
          ],
          [
           0.875,
           "rgb(37,37,37)"
          ],
          [
           1,
           "rgb(0,0,0)"
          ]
         ],
         "hoverongaps": false,
         "text": {
          "bdata": "AAgfAgAdAQAeAgkdAgAdAQIeBwAYAQIeAgAdAAcfAAAfAQceAQAeAAIfBAkb",
          "dtype": "i1",
          "shape": "15, 3"
         },
         "textfont": {
          "size": 14
         },
         "texttemplate": "%{text}",
         "type": "heatmap",
         "x": [
          "columns_FN",
          "columns_FP",
          "columns_TP"
         ],
         "y": [
          "07ffec4c-0015-418c-93d0-aaf87f35919d",
          "b651da68-e45f-4eb6-8119-b2b0a248d470",
          "0e830609-62a3-4f2d-8912-64a3b4ca0227",
          "e068df1e-c9f0-492f-b6a6-a47141a349a1",
          "31658b84-d24f-4b77-ac96-3a4cb43e9439",
          "e7587a17-d499-4633-a075-6e2a5563fbee",
          "4c4a1998-9ef5-4011-affc-377db6c8b144",
          "44ce8415-27f5-4155-bf0c-5897f51a11a6",
          "b7aa6aad-78a3-4c6e-bef2-c35ea5334406",
          "39014ce4-f136-4dc2-abc3-77d3537780ce",
          "a996d163-9fce-4f7e-b248-22826050010d",
          "70f8d23e-f985-41ef-bd09-5ee7277648ad",
          "5846e510-728a-4726-956c-5331c2f69b68",
          "74c35d4c-8851-49ef-bc70-382afbc74ee7",
          "7165bfab-47a9-43fe-bc0a-131d1b571842"
         ],
         "z": {
          "bdata": "AAgfAgAdAQAeAgkdAgAdAQIeBwAYAQIeAgAdAAcfAAAfAQceAQAeAAIfBAkb",
          "dtype": "i1",
          "shape": "15, 3"
         }
        }
       ],
       "layout": {
        "height": 400,
        "template": {
         "data": {
          "bar": [
           {
            "error_x": {
             "color": "#2a3f5f"
            },
            "error_y": {
             "color": "#2a3f5f"
            },
            "marker": {
             "line": {
              "color": "#E5ECF6",
              "width": 0.5
             },
             "pattern": {
              "fillmode": "overlay",
              "size": 10,
              "solidity": 0.2
             }
            },
            "type": "bar"
           }
          ],
          "barpolar": [
           {
            "marker": {
             "line": {
              "color": "#E5ECF6",
              "width": 0.5
             },
             "pattern": {
              "fillmode": "overlay",
              "size": 10,
              "solidity": 0.2
             }
            },
            "type": "barpolar"
           }
          ],
          "carpet": [
           {
            "aaxis": {
             "endlinecolor": "#2a3f5f",
             "gridcolor": "white",
             "linecolor": "white",
             "minorgridcolor": "white",
             "startlinecolor": "#2a3f5f"
            },
            "baxis": {
             "endlinecolor": "#2a3f5f",
             "gridcolor": "white",
             "linecolor": "white",
             "minorgridcolor": "white",
             "startlinecolor": "#2a3f5f"
            },
            "type": "carpet"
           }
          ],
          "choropleth": [
           {
            "colorbar": {
             "outlinewidth": 0,
             "ticks": ""
            },
            "type": "choropleth"
           }
          ],
          "contour": [
           {
            "colorbar": {
             "outlinewidth": 0,
             "ticks": ""
            },
            "colorscale": [
             [
              0,
              "#0d0887"
             ],
             [
              0.1111111111111111,
              "#46039f"
             ],
             [
              0.2222222222222222,
              "#7201a8"
             ],
             [
              0.3333333333333333,
              "#9c179e"
             ],
             [
              0.4444444444444444,
              "#bd3786"
             ],
             [
              0.5555555555555556,
              "#d8576b"
             ],
             [
              0.6666666666666666,
              "#ed7953"
             ],
             [
              0.7777777777777778,
              "#fb9f3a"
             ],
             [
              0.8888888888888888,
              "#fdca26"
             ],
             [
              1,
              "#f0f921"
             ]
            ],
            "type": "contour"
           }
          ],
          "contourcarpet": [
           {
            "colorbar": {
             "outlinewidth": 0,
             "ticks": ""
            },
            "type": "contourcarpet"
           }
          ],
          "heatmap": [
           {
            "colorbar": {
             "outlinewidth": 0,
             "ticks": ""
            },
            "colorscale": [
             [
              0,
              "#0d0887"
             ],
             [
              0.1111111111111111,
              "#46039f"
             ],
             [
              0.2222222222222222,
              "#7201a8"
             ],
             [
              0.3333333333333333,
              "#9c179e"
             ],
             [
              0.4444444444444444,
              "#bd3786"
             ],
             [
              0.5555555555555556,
              "#d8576b"
             ],
             [
              0.6666666666666666,
              "#ed7953"
             ],
             [
              0.7777777777777778,
              "#fb9f3a"
             ],
             [
              0.8888888888888888,
              "#fdca26"
             ],
             [
              1,
              "#f0f921"
             ]
            ],
            "type": "heatmap"
           }
          ],
          "histogram": [
           {
            "marker": {
             "pattern": {
              "fillmode": "overlay",
              "size": 10,
              "solidity": 0.2
             }
            },
            "type": "histogram"
           }
          ],
          "histogram2d": [
           {
            "colorbar": {
             "outlinewidth": 0,
             "ticks": ""
            },
            "colorscale": [
             [
              0,
              "#0d0887"
             ],
             [
              0.1111111111111111,
              "#46039f"
             ],
             [
              0.2222222222222222,
              "#7201a8"
             ],
             [
              0.3333333333333333,
              "#9c179e"
             ],
             [
              0.4444444444444444,
              "#bd3786"
             ],
             [
              0.5555555555555556,
              "#d8576b"
             ],
             [
              0.6666666666666666,
              "#ed7953"
             ],
             [
              0.7777777777777778,
              "#fb9f3a"
             ],
             [
              0.8888888888888888,
              "#fdca26"
             ],
             [
              1,
              "#f0f921"
             ]
            ],
            "type": "histogram2d"
           }
          ],
          "histogram2dcontour": [
           {
            "colorbar": {
             "outlinewidth": 0,
             "ticks": ""
            },
            "colorscale": [
             [
              0,
              "#0d0887"
             ],
             [
              0.1111111111111111,
              "#46039f"
             ],
             [
              0.2222222222222222,
              "#7201a8"
             ],
             [
              0.3333333333333333,
              "#9c179e"
             ],
             [
              0.4444444444444444,
              "#bd3786"
             ],
             [
              0.5555555555555556,
              "#d8576b"
             ],
             [
              0.6666666666666666,
              "#ed7953"
             ],
             [
              0.7777777777777778,
              "#fb9f3a"
             ],
             [
              0.8888888888888888,
              "#fdca26"
             ],
             [
              1,
              "#f0f921"
             ]
            ],
            "type": "histogram2dcontour"
           }
          ],
          "mesh3d": [
           {
            "colorbar": {
             "outlinewidth": 0,
             "ticks": ""
            },
            "type": "mesh3d"
           }
          ],
          "parcoords": [
           {
            "line": {
             "colorbar": {
              "outlinewidth": 0,
              "ticks": ""
             }
            },
            "type": "parcoords"
           }
          ],
          "pie": [
           {
            "automargin": true,
            "type": "pie"
           }
          ],
          "scatter": [
           {
            "fillpattern": {
             "fillmode": "overlay",
             "size": 10,
             "solidity": 0.2
            },
            "type": "scatter"
           }
          ],
          "scatter3d": [
           {
            "line": {
             "colorbar": {
              "outlinewidth": 0,
              "ticks": ""
             }
            },
            "marker": {
             "colorbar": {
              "outlinewidth": 0,
              "ticks": ""
             }
            },
            "type": "scatter3d"
           }
          ],
          "scattercarpet": [
           {
            "marker": {
             "colorbar": {
              "outlinewidth": 0,
              "ticks": ""
             }
            },
            "type": "scattercarpet"
           }
          ],
          "scattergeo": [
           {
            "marker": {
             "colorbar": {
              "outlinewidth": 0,
              "ticks": ""
             }
            },
            "type": "scattergeo"
           }
          ],
          "scattergl": [
           {
            "marker": {
             "colorbar": {
              "outlinewidth": 0,
              "ticks": ""
             }
            },
            "type": "scattergl"
           }
          ],
          "scattermap": [
           {
            "marker": {
             "colorbar": {
              "outlinewidth": 0,
              "ticks": ""
             }
            },
            "type": "scattermap"
           }
          ],
          "scattermapbox": [
           {
            "marker": {
             "colorbar": {
              "outlinewidth": 0,
              "ticks": ""
             }
            },
            "type": "scattermapbox"
           }
          ],
          "scatterpolar": [
           {
            "marker": {
             "colorbar": {
              "outlinewidth": 0,
              "ticks": ""
             }
            },
            "type": "scatterpolar"
           }
          ],
          "scatterpolargl": [
           {
            "marker": {
             "colorbar": {
              "outlinewidth": 0,
              "ticks": ""
             }
            },
            "type": "scatterpolargl"
           }
          ],
          "scatterternary": [
           {
            "marker": {
             "colorbar": {
              "outlinewidth": 0,
              "ticks": ""
             }
            },
            "type": "scatterternary"
           }
          ],
          "surface": [
           {
            "colorbar": {
             "outlinewidth": 0,
             "ticks": ""
            },
            "colorscale": [
             [
              0,
              "#0d0887"
             ],
             [
              0.1111111111111111,
              "#46039f"
             ],
             [
              0.2222222222222222,
              "#7201a8"
             ],
             [
              0.3333333333333333,
              "#9c179e"
             ],
             [
              0.4444444444444444,
              "#bd3786"
             ],
             [
              0.5555555555555556,
              "#d8576b"
             ],
             [
              0.6666666666666666,
              "#ed7953"
             ],
             [
              0.7777777777777778,
              "#fb9f3a"
             ],
             [
              0.8888888888888888,
              "#fdca26"
             ],
             [
              1,
              "#f0f921"
             ]
            ],
            "type": "surface"
           }
          ],
          "table": [
           {
            "cells": {
             "fill": {
              "color": "#EBF0F8"
             },
             "line": {
              "color": "white"
             }
            },
            "header": {
             "fill": {
              "color": "#C8D4E3"
             },
             "line": {
              "color": "white"
             }
            },
            "type": "table"
           }
          ]
         },
         "layout": {
          "annotationdefaults": {
           "arrowcolor": "#2a3f5f",
           "arrowhead": 0,
           "arrowwidth": 1
          },
          "autotypenumbers": "strict",
          "coloraxis": {
           "colorbar": {
            "outlinewidth": 0,
            "ticks": ""
           }
          },
          "colorscale": {
           "diverging": [
            [
             0,
             "#8e0152"
            ],
            [
             0.1,
             "#c51b7d"
            ],
            [
             0.2,
             "#de77ae"
            ],
            [
             0.3,
             "#f1b6da"
            ],
            [
             0.4,
             "#fde0ef"
            ],
            [
             0.5,
             "#f7f7f7"
            ],
            [
             0.6,
             "#e6f5d0"
            ],
            [
             0.7,
             "#b8e186"
            ],
            [
             0.8,
             "#7fbc41"
            ],
            [
             0.9,
             "#4d9221"
            ],
            [
             1,
             "#276419"
            ]
           ],
           "sequential": [
            [
             0,
             "#0d0887"
            ],
            [
             0.1111111111111111,
             "#46039f"
            ],
            [
             0.2222222222222222,
             "#7201a8"
            ],
            [
             0.3333333333333333,
             "#9c179e"
            ],
            [
             0.4444444444444444,
             "#bd3786"
            ],
            [
             0.5555555555555556,
             "#d8576b"
            ],
            [
             0.6666666666666666,
             "#ed7953"
            ],
            [
             0.7777777777777778,
             "#fb9f3a"
            ],
            [
             0.8888888888888888,
             "#fdca26"
            ],
            [
             1,
             "#f0f921"
            ]
           ],
           "sequentialminus": [
            [
             0,
             "#0d0887"
            ],
            [
             0.1111111111111111,
             "#46039f"
            ],
            [
             0.2222222222222222,
             "#7201a8"
            ],
            [
             0.3333333333333333,
             "#9c179e"
            ],
            [
             0.4444444444444444,
             "#bd3786"
            ],
            [
             0.5555555555555556,
             "#d8576b"
            ],
            [
             0.6666666666666666,
             "#ed7953"
            ],
            [
             0.7777777777777778,
             "#fb9f3a"
            ],
            [
             0.8888888888888888,
             "#fdca26"
            ],
            [
             1,
             "#f0f921"
            ]
           ]
          },
          "colorway": [
           "#636efa",
           "#EF553B",
           "#00cc96",
           "#ab63fa",
           "#FFA15A",
           "#19d3f3",
           "#FF6692",
           "#B6E880",
           "#FF97FF",
           "#FECB52"
          ],
          "font": {
           "color": "#2a3f5f"
          },
          "geo": {
           "bgcolor": "white",
           "lakecolor": "white",
           "landcolor": "#E5ECF6",
           "showlakes": true,
           "showland": true,
           "subunitcolor": "white"
          },
          "hoverlabel": {
           "align": "left"
          },
          "hovermode": "closest",
          "mapbox": {
           "style": "light"
          },
          "paper_bgcolor": "white",
          "plot_bgcolor": "#E5ECF6",
          "polar": {
           "angularaxis": {
            "gridcolor": "white",
            "linecolor": "white",
            "ticks": ""
           },
           "bgcolor": "#E5ECF6",
           "radialaxis": {
            "gridcolor": "white",
            "linecolor": "white",
            "ticks": ""
           }
          },
          "scene": {
           "xaxis": {
            "backgroundcolor": "#E5ECF6",
            "gridcolor": "white",
            "gridwidth": 2,
            "linecolor": "white",
            "showbackground": true,
            "ticks": "",
            "zerolinecolor": "white"
           },
           "yaxis": {
            "backgroundcolor": "#E5ECF6",
            "gridcolor": "white",
            "gridwidth": 2,
            "linecolor": "white",
            "showbackground": true,
            "ticks": "",
            "zerolinecolor": "white"
           },
           "zaxis": {
            "backgroundcolor": "#E5ECF6",
            "gridcolor": "white",
            "gridwidth": 2,
            "linecolor": "white",
            "showbackground": true,
            "ticks": "",
            "zerolinecolor": "white"
           }
          },
          "shapedefaults": {
           "line": {
            "color": "#2a3f5f"
           }
          },
          "ternary": {
           "aaxis": {
            "gridcolor": "white",
            "linecolor": "white",
            "ticks": ""
           },
           "baxis": {
            "gridcolor": "white",
            "linecolor": "white",
            "ticks": ""
           },
           "bgcolor": "#E5ECF6",
           "caxis": {
            "gridcolor": "white",
            "linecolor": "white",
            "ticks": ""
           }
          },
          "title": {
           "x": 0.05
          },
          "xaxis": {
           "automargin": true,
           "gridcolor": "white",
           "linecolor": "white",
           "ticks": "",
           "title": {
            "standoff": 15
           },
           "zerolinecolor": "white",
           "zerolinewidth": 2
          },
          "yaxis": {
           "automargin": true,
           "gridcolor": "white",
           "linecolor": "white",
           "ticks": "",
           "title": {
            "standoff": 15
           },
           "zerolinecolor": "white",
           "zerolinewidth": 2
          }
         }
        },
        "title": {
         "text": "Boxplot: Generación de columnas TP, FP y FN AI Tool vs MIMICEL (benchmark)"
        },
        "xaxis": {
         "title": {
          "text": "Métrica"
         }
        },
        "yaxis": {
         "title": {
          "text": "UUID"
         }
        }
       }
      }
     },
     "metadata": {},
     "output_type": "display_data"
    }
   ],
   "source": [
    "# Resumen de las métricas de rendimiento de la clasificación de columnas de la AI Tool\n",
    "# en la replicación del dataset de control MIMICEL (benchmark)\n",
    "display(df_columns[['columns_f1', 'columns_precision', 'columns_recall']].describe().round(2))\n",
    "\n",
    "# Generamos un heatmap con el rendimiento de la clasificación de columnas\n",
    "# generadas por la AI Tool vs las columnas esperadas en MIMICEL (benchmark)\n",
    "heatmap(\n",
    "    df_columns,\n",
    "    title=\"Boxplot: Generación de columnas TP, FP y FN AI Tool vs MIMICEL (benchmark)\",\n",
    "    value_columns=['columns_TP', 'columns_FP', 'columns_FN'],\n",
    "    text_format='%{text}',\n",
    "    height=400\n",
    "    )"
   ]
  },
  {
   "cell_type": "markdown",
   "id": "f16729c2",
   "metadata": {},
   "source": [
    "##### **7.5.2. Rendimiento generación de columnas: F1, Precision, Recall.**"
   ]
  },
  {
   "cell_type": "markdown",
   "id": "747a3fbf",
   "metadata": {},
   "source": [
    "- **F1 Score**: Media Armónica entre Precisión y Recall.  \n",
    "  $$ F_{1_{col}} = 2 \\cdot \\frac{\\text{Precision}_{col} \\cdot \\text{Recall}_{col}}{\\text{Precision}_{col} + \\text{Recall}_{col}} $$\n",
    "\n",
    "- **Precisión**: Proporción de las columnas generadas por la AI Tool presentes en el dataset de control MIMICEL sobre el total de columnas generadas por la AI Tool.  \n",
    "  $$ \\text{Precision}_{col} = \\frac{TP_{col}}{TP_{col} + FP_{col}} $$\n",
    "\n",
    "- **Recall**: Proporción de las columnas esperadas en el dataset de control MIMICEL que fueron generadas por la AI Tool.  \n",
    "  $$ \\text{Recall}_{col} = \\frac{TP_{col}}{TP_{col} + FN_{col}} $$"
   ]
  },
  {
   "cell_type": "code",
   "execution_count": 23,
   "id": "3cbfca77",
   "metadata": {},
   "outputs": [
    {
     "data": {
      "application/vnd.plotly.v1+json": {
       "config": {
        "plotlyServerURL": "https://plot.ly"
       },
       "data": [
        {
         "colorscale": [
          [
           0,
           "rgb(255,255,255)"
          ],
          [
           0.125,
           "rgb(240,240,240)"
          ],
          [
           0.25,
           "rgb(217,217,217)"
          ],
          [
           0.375,
           "rgb(189,189,189)"
          ],
          [
           0.5,
           "rgb(150,150,150)"
          ],
          [
           0.625,
           "rgb(115,115,115)"
          ],
          [
           0.75,
           "rgb(82,82,82)"
          ],
          [
           0.875,
           "rgb(37,37,37)"
          ],
          [
           1,
           "rgb(0,0,0)"
          ]
         ],
         "hoverongaps": false,
         "text": {
          "bdata": "fcVXfMVX7D/5lm/5lm/pPwAAAAAAAPA/7u7u7u7u7j8AAAAAAADwP++999577+0/LhmCdbR57z8AAAAAAADwP/jee++99+4/rx2Yawfm6j+9hvIaymvoP++999577+0/7u7u7u7u7j8AAAAAAADwP++999577+0/nud5nud57j8AAAAAAADuP/jee++99+4/7RvWvmHt6z8AAAAAAADwP8YYY4wxxug/nud5nud57j8AAAAAAADuP/jee++99+4/7u7u7u7u7j8AAAAAAADwP++999577+0/y7UDc+3A7D+vobyG8hrqPwAAAAAAAPA/AAAAAAAA8D8AAAAAAADwPwAAAAAAAPA/PDw8PDw87D8jn3WDKfLpP/jee++99+4/LhmCdbR57z8AAAAAAADwP/jee++99+4/AAAAAAAA7z8QPvjggw/uPwAAAAAAAPA/vhoT6YHK6T8AAAAAAADoP99777333us/",
          "dtype": "f8",
          "shape": "15, 3"
         },
         "textfont": {
          "size": 14
         },
         "texttemplate": "%{text:.2f}",
         "type": "heatmap",
         "x": [
          "columns_f1",
          "columns_precision",
          "columns_recall"
         ],
         "y": [
          "07ffec4c-0015-418c-93d0-aaf87f35919d",
          "b651da68-e45f-4eb6-8119-b2b0a248d470",
          "0e830609-62a3-4f2d-8912-64a3b4ca0227",
          "e068df1e-c9f0-492f-b6a6-a47141a349a1",
          "31658b84-d24f-4b77-ac96-3a4cb43e9439",
          "e7587a17-d499-4633-a075-6e2a5563fbee",
          "4c4a1998-9ef5-4011-affc-377db6c8b144",
          "44ce8415-27f5-4155-bf0c-5897f51a11a6",
          "b7aa6aad-78a3-4c6e-bef2-c35ea5334406",
          "39014ce4-f136-4dc2-abc3-77d3537780ce",
          "a996d163-9fce-4f7e-b248-22826050010d",
          "70f8d23e-f985-41ef-bd09-5ee7277648ad",
          "5846e510-728a-4726-956c-5331c2f69b68",
          "74c35d4c-8851-49ef-bc70-382afbc74ee7",
          "7165bfab-47a9-43fe-bc0a-131d1b571842"
         ],
         "z": {
          "bdata": "fcVXfMVX7D/5lm/5lm/pPwAAAAAAAPA/7u7u7u7u7j8AAAAAAADwP++999577+0/LhmCdbR57z8AAAAAAADwP/jee++99+4/rx2Yawfm6j+9hvIaymvoP++999577+0/7u7u7u7u7j8AAAAAAADwP++999577+0/nud5nud57j8AAAAAAADuP/jee++99+4/7RvWvmHt6z8AAAAAAADwP8YYY4wxxug/nud5nud57j8AAAAAAADuP/jee++99+4/7u7u7u7u7j8AAAAAAADwP++999577+0/y7UDc+3A7D+vobyG8hrqPwAAAAAAAPA/AAAAAAAA8D8AAAAAAADwPwAAAAAAAPA/PDw8PDw87D8jn3WDKfLpP/jee++99+4/LhmCdbR57z8AAAAAAADwP/jee++99+4/AAAAAAAA7z8QPvjggw/uPwAAAAAAAPA/vhoT6YHK6T8AAAAAAADoP99777333us/",
          "dtype": "f8",
          "shape": "15, 3"
         }
        }
       ],
       "layout": {
        "height": 400,
        "template": {
         "data": {
          "bar": [
           {
            "error_x": {
             "color": "#2a3f5f"
            },
            "error_y": {
             "color": "#2a3f5f"
            },
            "marker": {
             "line": {
              "color": "#E5ECF6",
              "width": 0.5
             },
             "pattern": {
              "fillmode": "overlay",
              "size": 10,
              "solidity": 0.2
             }
            },
            "type": "bar"
           }
          ],
          "barpolar": [
           {
            "marker": {
             "line": {
              "color": "#E5ECF6",
              "width": 0.5
             },
             "pattern": {
              "fillmode": "overlay",
              "size": 10,
              "solidity": 0.2
             }
            },
            "type": "barpolar"
           }
          ],
          "carpet": [
           {
            "aaxis": {
             "endlinecolor": "#2a3f5f",
             "gridcolor": "white",
             "linecolor": "white",
             "minorgridcolor": "white",
             "startlinecolor": "#2a3f5f"
            },
            "baxis": {
             "endlinecolor": "#2a3f5f",
             "gridcolor": "white",
             "linecolor": "white",
             "minorgridcolor": "white",
             "startlinecolor": "#2a3f5f"
            },
            "type": "carpet"
           }
          ],
          "choropleth": [
           {
            "colorbar": {
             "outlinewidth": 0,
             "ticks": ""
            },
            "type": "choropleth"
           }
          ],
          "contour": [
           {
            "colorbar": {
             "outlinewidth": 0,
             "ticks": ""
            },
            "colorscale": [
             [
              0,
              "#0d0887"
             ],
             [
              0.1111111111111111,
              "#46039f"
             ],
             [
              0.2222222222222222,
              "#7201a8"
             ],
             [
              0.3333333333333333,
              "#9c179e"
             ],
             [
              0.4444444444444444,
              "#bd3786"
             ],
             [
              0.5555555555555556,
              "#d8576b"
             ],
             [
              0.6666666666666666,
              "#ed7953"
             ],
             [
              0.7777777777777778,
              "#fb9f3a"
             ],
             [
              0.8888888888888888,
              "#fdca26"
             ],
             [
              1,
              "#f0f921"
             ]
            ],
            "type": "contour"
           }
          ],
          "contourcarpet": [
           {
            "colorbar": {
             "outlinewidth": 0,
             "ticks": ""
            },
            "type": "contourcarpet"
           }
          ],
          "heatmap": [
           {
            "colorbar": {
             "outlinewidth": 0,
             "ticks": ""
            },
            "colorscale": [
             [
              0,
              "#0d0887"
             ],
             [
              0.1111111111111111,
              "#46039f"
             ],
             [
              0.2222222222222222,
              "#7201a8"
             ],
             [
              0.3333333333333333,
              "#9c179e"
             ],
             [
              0.4444444444444444,
              "#bd3786"
             ],
             [
              0.5555555555555556,
              "#d8576b"
             ],
             [
              0.6666666666666666,
              "#ed7953"
             ],
             [
              0.7777777777777778,
              "#fb9f3a"
             ],
             [
              0.8888888888888888,
              "#fdca26"
             ],
             [
              1,
              "#f0f921"
             ]
            ],
            "type": "heatmap"
           }
          ],
          "histogram": [
           {
            "marker": {
             "pattern": {
              "fillmode": "overlay",
              "size": 10,
              "solidity": 0.2
             }
            },
            "type": "histogram"
           }
          ],
          "histogram2d": [
           {
            "colorbar": {
             "outlinewidth": 0,
             "ticks": ""
            },
            "colorscale": [
             [
              0,
              "#0d0887"
             ],
             [
              0.1111111111111111,
              "#46039f"
             ],
             [
              0.2222222222222222,
              "#7201a8"
             ],
             [
              0.3333333333333333,
              "#9c179e"
             ],
             [
              0.4444444444444444,
              "#bd3786"
             ],
             [
              0.5555555555555556,
              "#d8576b"
             ],
             [
              0.6666666666666666,
              "#ed7953"
             ],
             [
              0.7777777777777778,
              "#fb9f3a"
             ],
             [
              0.8888888888888888,
              "#fdca26"
             ],
             [
              1,
              "#f0f921"
             ]
            ],
            "type": "histogram2d"
           }
          ],
          "histogram2dcontour": [
           {
            "colorbar": {
             "outlinewidth": 0,
             "ticks": ""
            },
            "colorscale": [
             [
              0,
              "#0d0887"
             ],
             [
              0.1111111111111111,
              "#46039f"
             ],
             [
              0.2222222222222222,
              "#7201a8"
             ],
             [
              0.3333333333333333,
              "#9c179e"
             ],
             [
              0.4444444444444444,
              "#bd3786"
             ],
             [
              0.5555555555555556,
              "#d8576b"
             ],
             [
              0.6666666666666666,
              "#ed7953"
             ],
             [
              0.7777777777777778,
              "#fb9f3a"
             ],
             [
              0.8888888888888888,
              "#fdca26"
             ],
             [
              1,
              "#f0f921"
             ]
            ],
            "type": "histogram2dcontour"
           }
          ],
          "mesh3d": [
           {
            "colorbar": {
             "outlinewidth": 0,
             "ticks": ""
            },
            "type": "mesh3d"
           }
          ],
          "parcoords": [
           {
            "line": {
             "colorbar": {
              "outlinewidth": 0,
              "ticks": ""
             }
            },
            "type": "parcoords"
           }
          ],
          "pie": [
           {
            "automargin": true,
            "type": "pie"
           }
          ],
          "scatter": [
           {
            "fillpattern": {
             "fillmode": "overlay",
             "size": 10,
             "solidity": 0.2
            },
            "type": "scatter"
           }
          ],
          "scatter3d": [
           {
            "line": {
             "colorbar": {
              "outlinewidth": 0,
              "ticks": ""
             }
            },
            "marker": {
             "colorbar": {
              "outlinewidth": 0,
              "ticks": ""
             }
            },
            "type": "scatter3d"
           }
          ],
          "scattercarpet": [
           {
            "marker": {
             "colorbar": {
              "outlinewidth": 0,
              "ticks": ""
             }
            },
            "type": "scattercarpet"
           }
          ],
          "scattergeo": [
           {
            "marker": {
             "colorbar": {
              "outlinewidth": 0,
              "ticks": ""
             }
            },
            "type": "scattergeo"
           }
          ],
          "scattergl": [
           {
            "marker": {
             "colorbar": {
              "outlinewidth": 0,
              "ticks": ""
             }
            },
            "type": "scattergl"
           }
          ],
          "scattermap": [
           {
            "marker": {
             "colorbar": {
              "outlinewidth": 0,
              "ticks": ""
             }
            },
            "type": "scattermap"
           }
          ],
          "scattermapbox": [
           {
            "marker": {
             "colorbar": {
              "outlinewidth": 0,
              "ticks": ""
             }
            },
            "type": "scattermapbox"
           }
          ],
          "scatterpolar": [
           {
            "marker": {
             "colorbar": {
              "outlinewidth": 0,
              "ticks": ""
             }
            },
            "type": "scatterpolar"
           }
          ],
          "scatterpolargl": [
           {
            "marker": {
             "colorbar": {
              "outlinewidth": 0,
              "ticks": ""
             }
            },
            "type": "scatterpolargl"
           }
          ],
          "scatterternary": [
           {
            "marker": {
             "colorbar": {
              "outlinewidth": 0,
              "ticks": ""
             }
            },
            "type": "scatterternary"
           }
          ],
          "surface": [
           {
            "colorbar": {
             "outlinewidth": 0,
             "ticks": ""
            },
            "colorscale": [
             [
              0,
              "#0d0887"
             ],
             [
              0.1111111111111111,
              "#46039f"
             ],
             [
              0.2222222222222222,
              "#7201a8"
             ],
             [
              0.3333333333333333,
              "#9c179e"
             ],
             [
              0.4444444444444444,
              "#bd3786"
             ],
             [
              0.5555555555555556,
              "#d8576b"
             ],
             [
              0.6666666666666666,
              "#ed7953"
             ],
             [
              0.7777777777777778,
              "#fb9f3a"
             ],
             [
              0.8888888888888888,
              "#fdca26"
             ],
             [
              1,
              "#f0f921"
             ]
            ],
            "type": "surface"
           }
          ],
          "table": [
           {
            "cells": {
             "fill": {
              "color": "#EBF0F8"
             },
             "line": {
              "color": "white"
             }
            },
            "header": {
             "fill": {
              "color": "#C8D4E3"
             },
             "line": {
              "color": "white"
             }
            },
            "type": "table"
           }
          ]
         },
         "layout": {
          "annotationdefaults": {
           "arrowcolor": "#2a3f5f",
           "arrowhead": 0,
           "arrowwidth": 1
          },
          "autotypenumbers": "strict",
          "coloraxis": {
           "colorbar": {
            "outlinewidth": 0,
            "ticks": ""
           }
          },
          "colorscale": {
           "diverging": [
            [
             0,
             "#8e0152"
            ],
            [
             0.1,
             "#c51b7d"
            ],
            [
             0.2,
             "#de77ae"
            ],
            [
             0.3,
             "#f1b6da"
            ],
            [
             0.4,
             "#fde0ef"
            ],
            [
             0.5,
             "#f7f7f7"
            ],
            [
             0.6,
             "#e6f5d0"
            ],
            [
             0.7,
             "#b8e186"
            ],
            [
             0.8,
             "#7fbc41"
            ],
            [
             0.9,
             "#4d9221"
            ],
            [
             1,
             "#276419"
            ]
           ],
           "sequential": [
            [
             0,
             "#0d0887"
            ],
            [
             0.1111111111111111,
             "#46039f"
            ],
            [
             0.2222222222222222,
             "#7201a8"
            ],
            [
             0.3333333333333333,
             "#9c179e"
            ],
            [
             0.4444444444444444,
             "#bd3786"
            ],
            [
             0.5555555555555556,
             "#d8576b"
            ],
            [
             0.6666666666666666,
             "#ed7953"
            ],
            [
             0.7777777777777778,
             "#fb9f3a"
            ],
            [
             0.8888888888888888,
             "#fdca26"
            ],
            [
             1,
             "#f0f921"
            ]
           ],
           "sequentialminus": [
            [
             0,
             "#0d0887"
            ],
            [
             0.1111111111111111,
             "#46039f"
            ],
            [
             0.2222222222222222,
             "#7201a8"
            ],
            [
             0.3333333333333333,
             "#9c179e"
            ],
            [
             0.4444444444444444,
             "#bd3786"
            ],
            [
             0.5555555555555556,
             "#d8576b"
            ],
            [
             0.6666666666666666,
             "#ed7953"
            ],
            [
             0.7777777777777778,
             "#fb9f3a"
            ],
            [
             0.8888888888888888,
             "#fdca26"
            ],
            [
             1,
             "#f0f921"
            ]
           ]
          },
          "colorway": [
           "#636efa",
           "#EF553B",
           "#00cc96",
           "#ab63fa",
           "#FFA15A",
           "#19d3f3",
           "#FF6692",
           "#B6E880",
           "#FF97FF",
           "#FECB52"
          ],
          "font": {
           "color": "#2a3f5f"
          },
          "geo": {
           "bgcolor": "white",
           "lakecolor": "white",
           "landcolor": "#E5ECF6",
           "showlakes": true,
           "showland": true,
           "subunitcolor": "white"
          },
          "hoverlabel": {
           "align": "left"
          },
          "hovermode": "closest",
          "mapbox": {
           "style": "light"
          },
          "paper_bgcolor": "white",
          "plot_bgcolor": "#E5ECF6",
          "polar": {
           "angularaxis": {
            "gridcolor": "white",
            "linecolor": "white",
            "ticks": ""
           },
           "bgcolor": "#E5ECF6",
           "radialaxis": {
            "gridcolor": "white",
            "linecolor": "white",
            "ticks": ""
           }
          },
          "scene": {
           "xaxis": {
            "backgroundcolor": "#E5ECF6",
            "gridcolor": "white",
            "gridwidth": 2,
            "linecolor": "white",
            "showbackground": true,
            "ticks": "",
            "zerolinecolor": "white"
           },
           "yaxis": {
            "backgroundcolor": "#E5ECF6",
            "gridcolor": "white",
            "gridwidth": 2,
            "linecolor": "white",
            "showbackground": true,
            "ticks": "",
            "zerolinecolor": "white"
           },
           "zaxis": {
            "backgroundcolor": "#E5ECF6",
            "gridcolor": "white",
            "gridwidth": 2,
            "linecolor": "white",
            "showbackground": true,
            "ticks": "",
            "zerolinecolor": "white"
           }
          },
          "shapedefaults": {
           "line": {
            "color": "#2a3f5f"
           }
          },
          "ternary": {
           "aaxis": {
            "gridcolor": "white",
            "linecolor": "white",
            "ticks": ""
           },
           "baxis": {
            "gridcolor": "white",
            "linecolor": "white",
            "ticks": ""
           },
           "bgcolor": "#E5ECF6",
           "caxis": {
            "gridcolor": "white",
            "linecolor": "white",
            "ticks": ""
           }
          },
          "title": {
           "x": 0.05
          },
          "xaxis": {
           "automargin": true,
           "gridcolor": "white",
           "linecolor": "white",
           "ticks": "",
           "title": {
            "standoff": 15
           },
           "zerolinecolor": "white",
           "zerolinewidth": 2
          },
          "yaxis": {
           "automargin": true,
           "gridcolor": "white",
           "linecolor": "white",
           "ticks": "",
           "title": {
            "standoff": 15
           },
           "zerolinecolor": "white",
           "zerolinewidth": 2
          }
         }
        },
        "title": {
         "text": "Boxplot: Generación de columnas F1, Precision y Recall de la AI Tool vs MIMICEL (benchmark)"
        },
        "xaxis": {
         "title": {
          "text": "Métrica"
         }
        },
        "yaxis": {
         "title": {
          "text": "UUID"
         }
        }
       }
      }
     },
     "metadata": {},
     "output_type": "display_data"
    }
   ],
   "source": [
    "# Generamos un heatmap con el rendimiento de la clasificación de columnas\n",
    "heatmap(\n",
    "    df_columns,\n",
    "    title=\"Boxplot: Generación de columnas F1, Precision y Recall de la AI Tool vs MIMICEL (benchmark)\",\n",
    "    value_columns=['columns_f1', 'columns_precision', 'columns_recall'],\n",
    "    text_format='%{text:.2f}',\n",
    "    height=400\n",
    "    )"
   ]
  },
  {
   "cell_type": "code",
   "execution_count": 24,
   "id": "7bdf9102",
   "metadata": {},
   "outputs": [
    {
     "data": {
      "text/html": [
       "<div>\n",
       "<style scoped>\n",
       "    .dataframe tbody tr th:only-of-type {\n",
       "        vertical-align: middle;\n",
       "    }\n",
       "\n",
       "    .dataframe tbody tr th {\n",
       "        vertical-align: top;\n",
       "    }\n",
       "\n",
       "    .dataframe thead th {\n",
       "        text-align: right;\n",
       "    }\n",
       "</style>\n",
       "<table border=\"1\" class=\"dataframe\">\n",
       "  <thead>\n",
       "    <tr style=\"text-align: right;\">\n",
       "      <th></th>\n",
       "      <th>columns_f1</th>\n",
       "      <th>columns_precision</th>\n",
       "      <th>columns_recall</th>\n",
       "    </tr>\n",
       "  </thead>\n",
       "  <tbody>\n",
       "    <tr>\n",
       "      <th>count</th>\n",
       "      <td>15.00</td>\n",
       "      <td>15.00</td>\n",
       "      <td>15.00</td>\n",
       "    </tr>\n",
       "    <tr>\n",
       "      <th>mean</th>\n",
       "      <td>0.93</td>\n",
       "      <td>0.92</td>\n",
       "      <td>0.95</td>\n",
       "    </tr>\n",
       "    <tr>\n",
       "      <th>std</th>\n",
       "      <td>0.06</td>\n",
       "      <td>0.10</td>\n",
       "      <td>0.06</td>\n",
       "    </tr>\n",
       "    <tr>\n",
       "      <th>min</th>\n",
       "      <td>0.81</td>\n",
       "      <td>0.75</td>\n",
       "      <td>0.77</td>\n",
       "    </tr>\n",
       "    <tr>\n",
       "      <th>25%</th>\n",
       "      <td>0.88</td>\n",
       "      <td>0.81</td>\n",
       "      <td>0.94</td>\n",
       "    </tr>\n",
       "    <tr>\n",
       "      <th>50%</th>\n",
       "      <td>0.95</td>\n",
       "      <td>0.94</td>\n",
       "      <td>0.97</td>\n",
       "    </tr>\n",
       "    <tr>\n",
       "      <th>75%</th>\n",
       "      <td>0.97</td>\n",
       "      <td>1.00</td>\n",
       "      <td>0.98</td>\n",
       "    </tr>\n",
       "    <tr>\n",
       "      <th>max</th>\n",
       "      <td>1.00</td>\n",
       "      <td>1.00</td>\n",
       "      <td>1.00</td>\n",
       "    </tr>\n",
       "  </tbody>\n",
       "</table>\n",
       "</div>"
      ],
      "text/plain": [
       "       columns_f1  columns_precision  columns_recall\n",
       "count       15.00              15.00           15.00\n",
       "mean         0.93               0.92            0.95\n",
       "std          0.06               0.10            0.06\n",
       "min          0.81               0.75            0.77\n",
       "25%          0.88               0.81            0.94\n",
       "50%          0.95               0.94            0.97\n",
       "75%          0.97               1.00            0.98\n",
       "max          1.00               1.00            1.00"
      ]
     },
     "metadata": {},
     "output_type": "display_data"
    },
    {
     "data": {
      "application/vnd.plotly.v1+json": {
       "config": {
        "plotlyServerURL": "https://plot.ly"
       },
       "data": [
        {
         "alignmentgroup": "True",
         "hovertemplate": "Métricas de rendimiento clasificación=%{x}<br>Valor=%{y}<extra></extra>",
         "legendgroup": "",
         "marker": {
          "color": "#000000"
         },
         "name": "",
         "notched": false,
         "offsetgroup": "",
         "orientation": "v",
         "showlegend": false,
         "type": "box",
         "x": [
          "columns_f1",
          "columns_f1",
          "columns_f1",
          "columns_f1",
          "columns_f1",
          "columns_f1",
          "columns_f1",
          "columns_f1",
          "columns_f1",
          "columns_f1",
          "columns_f1",
          "columns_f1",
          "columns_f1",
          "columns_f1",
          "columns_f1",
          "columns_precision",
          "columns_precision",
          "columns_precision",
          "columns_precision",
          "columns_precision",
          "columns_precision",
          "columns_precision",
          "columns_precision",
          "columns_precision",
          "columns_precision",
          "columns_precision",
          "columns_precision",
          "columns_precision",
          "columns_precision",
          "columns_precision",
          "columns_recall",
          "columns_recall",
          "columns_recall",
          "columns_recall",
          "columns_recall",
          "columns_recall",
          "columns_recall",
          "columns_recall",
          "columns_recall",
          "columns_recall",
          "columns_recall",
          "columns_recall",
          "columns_recall",
          "columns_recall",
          "columns_recall"
         ],
         "x0": " ",
         "xaxis": "x",
         "y": {
          "bdata": "fcVXfMVX7D/u7u7u7u7uPy4ZgnW0ee8/rx2Yawfm6j/u7u7u7u7uP57neZ7nee4/7RvWvmHt6z+e53me53nuP+7u7u7u7u4/y7UDc+3A7D8AAAAAAADwPzw8PDw8POw/LhmCdbR57z8AAAAAAADvP74aE+mByuk/+ZZv+ZZv6T8AAAAAAADwPwAAAAAAAPA/vYbyGspr6D8AAAAAAADwPwAAAAAAAO4/AAAAAAAA8D8AAAAAAADuPwAAAAAAAPA/r6G8hvIa6j8AAAAAAADwPyOfdYMp8uk/AAAAAAAA8D8QPvjggw/uPwAAAAAAAOg/AAAAAAAA8D/vvffee+/tP/jee++99+4/77333nvv7T/vvffee+/tP/jee++99+4/xhhjjDHG6D/43nvvvffuP++999577+0/AAAAAAAA8D8AAAAAAADwP/jee++99+4/+N5777337j8AAAAAAADwP99777333us/",
          "dtype": "f8"
         },
         "y0": " ",
         "yaxis": "y"
        }
       ],
       "layout": {
        "boxgap": 0.3,
        "boxgroupgap": 0.3,
        "boxmode": "group",
        "height": 500,
        "legend": {
         "tracegroupgap": 0
        },
        "paper_bgcolor": "white",
        "plot_bgcolor": "white",
        "template": {
         "data": {
          "bar": [
           {
            "error_x": {
             "color": "#2a3f5f"
            },
            "error_y": {
             "color": "#2a3f5f"
            },
            "marker": {
             "line": {
              "color": "#E5ECF6",
              "width": 0.5
             },
             "pattern": {
              "fillmode": "overlay",
              "size": 10,
              "solidity": 0.2
             }
            },
            "type": "bar"
           }
          ],
          "barpolar": [
           {
            "marker": {
             "line": {
              "color": "#E5ECF6",
              "width": 0.5
             },
             "pattern": {
              "fillmode": "overlay",
              "size": 10,
              "solidity": 0.2
             }
            },
            "type": "barpolar"
           }
          ],
          "carpet": [
           {
            "aaxis": {
             "endlinecolor": "#2a3f5f",
             "gridcolor": "white",
             "linecolor": "white",
             "minorgridcolor": "white",
             "startlinecolor": "#2a3f5f"
            },
            "baxis": {
             "endlinecolor": "#2a3f5f",
             "gridcolor": "white",
             "linecolor": "white",
             "minorgridcolor": "white",
             "startlinecolor": "#2a3f5f"
            },
            "type": "carpet"
           }
          ],
          "choropleth": [
           {
            "colorbar": {
             "outlinewidth": 0,
             "ticks": ""
            },
            "type": "choropleth"
           }
          ],
          "contour": [
           {
            "colorbar": {
             "outlinewidth": 0,
             "ticks": ""
            },
            "colorscale": [
             [
              0,
              "#0d0887"
             ],
             [
              0.1111111111111111,
              "#46039f"
             ],
             [
              0.2222222222222222,
              "#7201a8"
             ],
             [
              0.3333333333333333,
              "#9c179e"
             ],
             [
              0.4444444444444444,
              "#bd3786"
             ],
             [
              0.5555555555555556,
              "#d8576b"
             ],
             [
              0.6666666666666666,
              "#ed7953"
             ],
             [
              0.7777777777777778,
              "#fb9f3a"
             ],
             [
              0.8888888888888888,
              "#fdca26"
             ],
             [
              1,
              "#f0f921"
             ]
            ],
            "type": "contour"
           }
          ],
          "contourcarpet": [
           {
            "colorbar": {
             "outlinewidth": 0,
             "ticks": ""
            },
            "type": "contourcarpet"
           }
          ],
          "heatmap": [
           {
            "colorbar": {
             "outlinewidth": 0,
             "ticks": ""
            },
            "colorscale": [
             [
              0,
              "#0d0887"
             ],
             [
              0.1111111111111111,
              "#46039f"
             ],
             [
              0.2222222222222222,
              "#7201a8"
             ],
             [
              0.3333333333333333,
              "#9c179e"
             ],
             [
              0.4444444444444444,
              "#bd3786"
             ],
             [
              0.5555555555555556,
              "#d8576b"
             ],
             [
              0.6666666666666666,
              "#ed7953"
             ],
             [
              0.7777777777777778,
              "#fb9f3a"
             ],
             [
              0.8888888888888888,
              "#fdca26"
             ],
             [
              1,
              "#f0f921"
             ]
            ],
            "type": "heatmap"
           }
          ],
          "histogram": [
           {
            "marker": {
             "pattern": {
              "fillmode": "overlay",
              "size": 10,
              "solidity": 0.2
             }
            },
            "type": "histogram"
           }
          ],
          "histogram2d": [
           {
            "colorbar": {
             "outlinewidth": 0,
             "ticks": ""
            },
            "colorscale": [
             [
              0,
              "#0d0887"
             ],
             [
              0.1111111111111111,
              "#46039f"
             ],
             [
              0.2222222222222222,
              "#7201a8"
             ],
             [
              0.3333333333333333,
              "#9c179e"
             ],
             [
              0.4444444444444444,
              "#bd3786"
             ],
             [
              0.5555555555555556,
              "#d8576b"
             ],
             [
              0.6666666666666666,
              "#ed7953"
             ],
             [
              0.7777777777777778,
              "#fb9f3a"
             ],
             [
              0.8888888888888888,
              "#fdca26"
             ],
             [
              1,
              "#f0f921"
             ]
            ],
            "type": "histogram2d"
           }
          ],
          "histogram2dcontour": [
           {
            "colorbar": {
             "outlinewidth": 0,
             "ticks": ""
            },
            "colorscale": [
             [
              0,
              "#0d0887"
             ],
             [
              0.1111111111111111,
              "#46039f"
             ],
             [
              0.2222222222222222,
              "#7201a8"
             ],
             [
              0.3333333333333333,
              "#9c179e"
             ],
             [
              0.4444444444444444,
              "#bd3786"
             ],
             [
              0.5555555555555556,
              "#d8576b"
             ],
             [
              0.6666666666666666,
              "#ed7953"
             ],
             [
              0.7777777777777778,
              "#fb9f3a"
             ],
             [
              0.8888888888888888,
              "#fdca26"
             ],
             [
              1,
              "#f0f921"
             ]
            ],
            "type": "histogram2dcontour"
           }
          ],
          "mesh3d": [
           {
            "colorbar": {
             "outlinewidth": 0,
             "ticks": ""
            },
            "type": "mesh3d"
           }
          ],
          "parcoords": [
           {
            "line": {
             "colorbar": {
              "outlinewidth": 0,
              "ticks": ""
             }
            },
            "type": "parcoords"
           }
          ],
          "pie": [
           {
            "automargin": true,
            "type": "pie"
           }
          ],
          "scatter": [
           {
            "fillpattern": {
             "fillmode": "overlay",
             "size": 10,
             "solidity": 0.2
            },
            "type": "scatter"
           }
          ],
          "scatter3d": [
           {
            "line": {
             "colorbar": {
              "outlinewidth": 0,
              "ticks": ""
             }
            },
            "marker": {
             "colorbar": {
              "outlinewidth": 0,
              "ticks": ""
             }
            },
            "type": "scatter3d"
           }
          ],
          "scattercarpet": [
           {
            "marker": {
             "colorbar": {
              "outlinewidth": 0,
              "ticks": ""
             }
            },
            "type": "scattercarpet"
           }
          ],
          "scattergeo": [
           {
            "marker": {
             "colorbar": {
              "outlinewidth": 0,
              "ticks": ""
             }
            },
            "type": "scattergeo"
           }
          ],
          "scattergl": [
           {
            "marker": {
             "colorbar": {
              "outlinewidth": 0,
              "ticks": ""
             }
            },
            "type": "scattergl"
           }
          ],
          "scattermap": [
           {
            "marker": {
             "colorbar": {
              "outlinewidth": 0,
              "ticks": ""
             }
            },
            "type": "scattermap"
           }
          ],
          "scattermapbox": [
           {
            "marker": {
             "colorbar": {
              "outlinewidth": 0,
              "ticks": ""
             }
            },
            "type": "scattermapbox"
           }
          ],
          "scatterpolar": [
           {
            "marker": {
             "colorbar": {
              "outlinewidth": 0,
              "ticks": ""
             }
            },
            "type": "scatterpolar"
           }
          ],
          "scatterpolargl": [
           {
            "marker": {
             "colorbar": {
              "outlinewidth": 0,
              "ticks": ""
             }
            },
            "type": "scatterpolargl"
           }
          ],
          "scatterternary": [
           {
            "marker": {
             "colorbar": {
              "outlinewidth": 0,
              "ticks": ""
             }
            },
            "type": "scatterternary"
           }
          ],
          "surface": [
           {
            "colorbar": {
             "outlinewidth": 0,
             "ticks": ""
            },
            "colorscale": [
             [
              0,
              "#0d0887"
             ],
             [
              0.1111111111111111,
              "#46039f"
             ],
             [
              0.2222222222222222,
              "#7201a8"
             ],
             [
              0.3333333333333333,
              "#9c179e"
             ],
             [
              0.4444444444444444,
              "#bd3786"
             ],
             [
              0.5555555555555556,
              "#d8576b"
             ],
             [
              0.6666666666666666,
              "#ed7953"
             ],
             [
              0.7777777777777778,
              "#fb9f3a"
             ],
             [
              0.8888888888888888,
              "#fdca26"
             ],
             [
              1,
              "#f0f921"
             ]
            ],
            "type": "surface"
           }
          ],
          "table": [
           {
            "cells": {
             "fill": {
              "color": "#EBF0F8"
             },
             "line": {
              "color": "white"
             }
            },
            "header": {
             "fill": {
              "color": "#C8D4E3"
             },
             "line": {
              "color": "white"
             }
            },
            "type": "table"
           }
          ]
         },
         "layout": {
          "annotationdefaults": {
           "arrowcolor": "#2a3f5f",
           "arrowhead": 0,
           "arrowwidth": 1
          },
          "autotypenumbers": "strict",
          "coloraxis": {
           "colorbar": {
            "outlinewidth": 0,
            "ticks": ""
           }
          },
          "colorscale": {
           "diverging": [
            [
             0,
             "#8e0152"
            ],
            [
             0.1,
             "#c51b7d"
            ],
            [
             0.2,
             "#de77ae"
            ],
            [
             0.3,
             "#f1b6da"
            ],
            [
             0.4,
             "#fde0ef"
            ],
            [
             0.5,
             "#f7f7f7"
            ],
            [
             0.6,
             "#e6f5d0"
            ],
            [
             0.7,
             "#b8e186"
            ],
            [
             0.8,
             "#7fbc41"
            ],
            [
             0.9,
             "#4d9221"
            ],
            [
             1,
             "#276419"
            ]
           ],
           "sequential": [
            [
             0,
             "#0d0887"
            ],
            [
             0.1111111111111111,
             "#46039f"
            ],
            [
             0.2222222222222222,
             "#7201a8"
            ],
            [
             0.3333333333333333,
             "#9c179e"
            ],
            [
             0.4444444444444444,
             "#bd3786"
            ],
            [
             0.5555555555555556,
             "#d8576b"
            ],
            [
             0.6666666666666666,
             "#ed7953"
            ],
            [
             0.7777777777777778,
             "#fb9f3a"
            ],
            [
             0.8888888888888888,
             "#fdca26"
            ],
            [
             1,
             "#f0f921"
            ]
           ],
           "sequentialminus": [
            [
             0,
             "#0d0887"
            ],
            [
             0.1111111111111111,
             "#46039f"
            ],
            [
             0.2222222222222222,
             "#7201a8"
            ],
            [
             0.3333333333333333,
             "#9c179e"
            ],
            [
             0.4444444444444444,
             "#bd3786"
            ],
            [
             0.5555555555555556,
             "#d8576b"
            ],
            [
             0.6666666666666666,
             "#ed7953"
            ],
            [
             0.7777777777777778,
             "#fb9f3a"
            ],
            [
             0.8888888888888888,
             "#fdca26"
            ],
            [
             1,
             "#f0f921"
            ]
           ]
          },
          "colorway": [
           "#636efa",
           "#EF553B",
           "#00cc96",
           "#ab63fa",
           "#FFA15A",
           "#19d3f3",
           "#FF6692",
           "#B6E880",
           "#FF97FF",
           "#FECB52"
          ],
          "font": {
           "color": "#2a3f5f"
          },
          "geo": {
           "bgcolor": "white",
           "lakecolor": "white",
           "landcolor": "#E5ECF6",
           "showlakes": true,
           "showland": true,
           "subunitcolor": "white"
          },
          "hoverlabel": {
           "align": "left"
          },
          "hovermode": "closest",
          "mapbox": {
           "style": "light"
          },
          "paper_bgcolor": "white",
          "plot_bgcolor": "#E5ECF6",
          "polar": {
           "angularaxis": {
            "gridcolor": "white",
            "linecolor": "white",
            "ticks": ""
           },
           "bgcolor": "#E5ECF6",
           "radialaxis": {
            "gridcolor": "white",
            "linecolor": "white",
            "ticks": ""
           }
          },
          "scene": {
           "xaxis": {
            "backgroundcolor": "#E5ECF6",
            "gridcolor": "white",
            "gridwidth": 2,
            "linecolor": "white",
            "showbackground": true,
            "ticks": "",
            "zerolinecolor": "white"
           },
           "yaxis": {
            "backgroundcolor": "#E5ECF6",
            "gridcolor": "white",
            "gridwidth": 2,
            "linecolor": "white",
            "showbackground": true,
            "ticks": "",
            "zerolinecolor": "white"
           },
           "zaxis": {
            "backgroundcolor": "#E5ECF6",
            "gridcolor": "white",
            "gridwidth": 2,
            "linecolor": "white",
            "showbackground": true,
            "ticks": "",
            "zerolinecolor": "white"
           }
          },
          "shapedefaults": {
           "line": {
            "color": "#2a3f5f"
           }
          },
          "ternary": {
           "aaxis": {
            "gridcolor": "white",
            "linecolor": "white",
            "ticks": ""
           },
           "baxis": {
            "gridcolor": "white",
            "linecolor": "white",
            "ticks": ""
           },
           "bgcolor": "#E5ECF6",
           "caxis": {
            "gridcolor": "white",
            "linecolor": "white",
            "ticks": ""
           }
          },
          "title": {
           "x": 0.05
          },
          "xaxis": {
           "automargin": true,
           "gridcolor": "white",
           "linecolor": "white",
           "ticks": "",
           "title": {
            "standoff": 15
           },
           "zerolinecolor": "white",
           "zerolinewidth": 2
          },
          "yaxis": {
           "automargin": true,
           "gridcolor": "white",
           "linecolor": "white",
           "ticks": "",
           "title": {
            "standoff": 15
           },
           "zerolinecolor": "white",
           "zerolinewidth": 2
          }
         }
        },
        "title": {
         "text": "Boxplot: Generación de columnas F1, Precision y Recall de la AI Tool vs MIMICEL (benchmark)"
        },
        "width": 1000,
        "xaxis": {
         "anchor": "y",
         "domain": [
          0,
          1
         ],
         "title": {
          "text": "Métricas de rendimiento clasificación"
         }
        },
        "yaxis": {
         "anchor": "x",
         "domain": [
          0,
          1
         ],
         "title": {
          "text": "Valor"
         }
        }
       }
      }
     },
     "metadata": {},
     "output_type": "display_data"
    }
   ],
   "source": [
    "# Mostramos el resumen de las métricas de rendimiento de la clasificación de columnas de la AI Tool\n",
    "# en la replicación de MIMICEL (benchmark)\n",
    "display(df_columns[['columns_f1', 'columns_precision', 'columns_recall']].describe().round(2))\n",
    "\n",
    "# Generamos boxplots con las métricas de rendimiento de la clasificación de \n",
    "# columnas generadas por la AI Tool vs las columnas esperadas en MIMICEL (benchmark)    \n",
    "boxplot(\n",
    "    df_columns[['uuid','columns_f1', 'columns_precision', 'columns_recall']],\n",
    "    title=\"Boxplot: Generación de columnas F1, Precision y Recall de la AI Tool vs MIMICEL (benchmark)\",\n",
    "    value_name='Valor',\n",
    "    category_name='Métricas de rendimiento clasificación'\n",
    "    )"
   ]
  },
  {
   "cell_type": "markdown",
   "id": "9401c49b",
   "metadata": {},
   "source": [
    "#### **7.6. Rendimiento de la AI Tool en la generación de eventos.**"
   ]
  },
  {
   "cell_type": "markdown",
   "id": "e237d84e",
   "metadata": {},
   "source": [
    "##### **7.6.1. Rendimiento generación de eventos: True Positive (TP), False Positive (FP), False Negative (FN).**"
   ]
  },
  {
   "cell_type": "markdown",
   "id": "659330cd",
   "metadata": {},
   "source": [
    "- **True Positive (TP)**: Eventos **esperados** en MIMICEL y **generados** por la AI Tool.  \n",
    "- **False Negative (FN)**: Eventos **esperados** en MIMICEL y **no generados** por la AI Tool.  \n",
    "- **False Positive (FP)**: Eventos **no esperados** en MIMICEL y **generados** por la AI Tool."
   ]
  },
  {
   "cell_type": "code",
   "execution_count": 25,
   "id": "c95c3a4d",
   "metadata": {},
   "outputs": [
    {
     "data": {
      "text/html": [
       "<div>\n",
       "<style scoped>\n",
       "    .dataframe tbody tr th:only-of-type {\n",
       "        vertical-align: middle;\n",
       "    }\n",
       "\n",
       "    .dataframe tbody tr th {\n",
       "        vertical-align: top;\n",
       "    }\n",
       "\n",
       "    .dataframe thead th {\n",
       "        text-align: right;\n",
       "    }\n",
       "</style>\n",
       "<table border=\"1\" class=\"dataframe\">\n",
       "  <thead>\n",
       "    <tr style=\"text-align: right;\">\n",
       "      <th></th>\n",
       "      <th>events_TP</th>\n",
       "      <th>events_FP</th>\n",
       "      <th>events_FN</th>\n",
       "    </tr>\n",
       "  </thead>\n",
       "  <tbody>\n",
       "    <tr>\n",
       "      <th>count</th>\n",
       "      <td>15.00</td>\n",
       "      <td>15.00</td>\n",
       "      <td>15.00</td>\n",
       "    </tr>\n",
       "    <tr>\n",
       "      <th>mean</th>\n",
       "      <td>5.73</td>\n",
       "      <td>1.40</td>\n",
       "      <td>0.27</td>\n",
       "    </tr>\n",
       "    <tr>\n",
       "      <th>std</th>\n",
       "      <td>0.46</td>\n",
       "      <td>2.92</td>\n",
       "      <td>0.46</td>\n",
       "    </tr>\n",
       "    <tr>\n",
       "      <th>min</th>\n",
       "      <td>5.00</td>\n",
       "      <td>0.00</td>\n",
       "      <td>0.00</td>\n",
       "    </tr>\n",
       "    <tr>\n",
       "      <th>25%</th>\n",
       "      <td>5.50</td>\n",
       "      <td>0.00</td>\n",
       "      <td>0.00</td>\n",
       "    </tr>\n",
       "    <tr>\n",
       "      <th>50%</th>\n",
       "      <td>6.00</td>\n",
       "      <td>0.00</td>\n",
       "      <td>0.00</td>\n",
       "    </tr>\n",
       "    <tr>\n",
       "      <th>75%</th>\n",
       "      <td>6.00</td>\n",
       "      <td>1.00</td>\n",
       "      <td>0.50</td>\n",
       "    </tr>\n",
       "    <tr>\n",
       "      <th>max</th>\n",
       "      <td>6.00</td>\n",
       "      <td>9.00</td>\n",
       "      <td>1.00</td>\n",
       "    </tr>\n",
       "  </tbody>\n",
       "</table>\n",
       "</div>"
      ],
      "text/plain": [
       "       events_TP  events_FP  events_FN\n",
       "count      15.00      15.00      15.00\n",
       "mean        5.73       1.40       0.27\n",
       "std         0.46       2.92       0.46\n",
       "min         5.00       0.00       0.00\n",
       "25%         5.50       0.00       0.00\n",
       "50%         6.00       0.00       0.00\n",
       "75%         6.00       1.00       0.50\n",
       "max         6.00       9.00       1.00"
      ]
     },
     "metadata": {},
     "output_type": "display_data"
    },
    {
     "data": {
      "application/vnd.plotly.v1+json": {
       "config": {
        "plotlyServerURL": "https://plot.ly"
       },
       "data": [
        {
         "colorscale": [
          [
           0,
           "rgb(255,255,255)"
          ],
          [
           0.125,
           "rgb(240,240,240)"
          ],
          [
           0.25,
           "rgb(217,217,217)"
          ],
          [
           0.375,
           "rgb(189,189,189)"
          ],
          [
           0.5,
           "rgb(150,150,150)"
          ],
          [
           0.625,
           "rgb(115,115,115)"
          ],
          [
           0.75,
           "rgb(82,82,82)"
          ],
          [
           0.875,
           "rgb(37,37,37)"
          ],
          [
           1,
           "rgb(0,0,0)"
          ]
         ],
         "hoverongaps": false,
         "text": {
          "bdata": "AAAGAQEFAAAGAAkGAAAGAQEFAAAGAAAGAAAGAQEFAAAGAQEFAAAGAAAGAAgG",
          "dtype": "i1",
          "shape": "15, 3"
         },
         "textfont": {
          "size": 14
         },
         "texttemplate": "%{text}",
         "type": "heatmap",
         "x": [
          "events_FN",
          "events_FP",
          "events_TP"
         ],
         "y": [
          "07ffec4c-0015-418c-93d0-aaf87f35919d",
          "b651da68-e45f-4eb6-8119-b2b0a248d470",
          "0e830609-62a3-4f2d-8912-64a3b4ca0227",
          "e068df1e-c9f0-492f-b6a6-a47141a349a1",
          "31658b84-d24f-4b77-ac96-3a4cb43e9439",
          "e7587a17-d499-4633-a075-6e2a5563fbee",
          "4c4a1998-9ef5-4011-affc-377db6c8b144",
          "44ce8415-27f5-4155-bf0c-5897f51a11a6",
          "b7aa6aad-78a3-4c6e-bef2-c35ea5334406",
          "39014ce4-f136-4dc2-abc3-77d3537780ce",
          "a996d163-9fce-4f7e-b248-22826050010d",
          "70f8d23e-f985-41ef-bd09-5ee7277648ad",
          "5846e510-728a-4726-956c-5331c2f69b68",
          "74c35d4c-8851-49ef-bc70-382afbc74ee7",
          "7165bfab-47a9-43fe-bc0a-131d1b571842"
         ],
         "z": {
          "bdata": "AAAGAQEFAAAGAAkGAAAGAQEFAAAGAAAGAAAGAQEFAAAGAQEFAAAGAAAGAAgG",
          "dtype": "i1",
          "shape": "15, 3"
         }
        }
       ],
       "layout": {
        "height": 400,
        "template": {
         "data": {
          "bar": [
           {
            "error_x": {
             "color": "#2a3f5f"
            },
            "error_y": {
             "color": "#2a3f5f"
            },
            "marker": {
             "line": {
              "color": "#E5ECF6",
              "width": 0.5
             },
             "pattern": {
              "fillmode": "overlay",
              "size": 10,
              "solidity": 0.2
             }
            },
            "type": "bar"
           }
          ],
          "barpolar": [
           {
            "marker": {
             "line": {
              "color": "#E5ECF6",
              "width": 0.5
             },
             "pattern": {
              "fillmode": "overlay",
              "size": 10,
              "solidity": 0.2
             }
            },
            "type": "barpolar"
           }
          ],
          "carpet": [
           {
            "aaxis": {
             "endlinecolor": "#2a3f5f",
             "gridcolor": "white",
             "linecolor": "white",
             "minorgridcolor": "white",
             "startlinecolor": "#2a3f5f"
            },
            "baxis": {
             "endlinecolor": "#2a3f5f",
             "gridcolor": "white",
             "linecolor": "white",
             "minorgridcolor": "white",
             "startlinecolor": "#2a3f5f"
            },
            "type": "carpet"
           }
          ],
          "choropleth": [
           {
            "colorbar": {
             "outlinewidth": 0,
             "ticks": ""
            },
            "type": "choropleth"
           }
          ],
          "contour": [
           {
            "colorbar": {
             "outlinewidth": 0,
             "ticks": ""
            },
            "colorscale": [
             [
              0,
              "#0d0887"
             ],
             [
              0.1111111111111111,
              "#46039f"
             ],
             [
              0.2222222222222222,
              "#7201a8"
             ],
             [
              0.3333333333333333,
              "#9c179e"
             ],
             [
              0.4444444444444444,
              "#bd3786"
             ],
             [
              0.5555555555555556,
              "#d8576b"
             ],
             [
              0.6666666666666666,
              "#ed7953"
             ],
             [
              0.7777777777777778,
              "#fb9f3a"
             ],
             [
              0.8888888888888888,
              "#fdca26"
             ],
             [
              1,
              "#f0f921"
             ]
            ],
            "type": "contour"
           }
          ],
          "contourcarpet": [
           {
            "colorbar": {
             "outlinewidth": 0,
             "ticks": ""
            },
            "type": "contourcarpet"
           }
          ],
          "heatmap": [
           {
            "colorbar": {
             "outlinewidth": 0,
             "ticks": ""
            },
            "colorscale": [
             [
              0,
              "#0d0887"
             ],
             [
              0.1111111111111111,
              "#46039f"
             ],
             [
              0.2222222222222222,
              "#7201a8"
             ],
             [
              0.3333333333333333,
              "#9c179e"
             ],
             [
              0.4444444444444444,
              "#bd3786"
             ],
             [
              0.5555555555555556,
              "#d8576b"
             ],
             [
              0.6666666666666666,
              "#ed7953"
             ],
             [
              0.7777777777777778,
              "#fb9f3a"
             ],
             [
              0.8888888888888888,
              "#fdca26"
             ],
             [
              1,
              "#f0f921"
             ]
            ],
            "type": "heatmap"
           }
          ],
          "histogram": [
           {
            "marker": {
             "pattern": {
              "fillmode": "overlay",
              "size": 10,
              "solidity": 0.2
             }
            },
            "type": "histogram"
           }
          ],
          "histogram2d": [
           {
            "colorbar": {
             "outlinewidth": 0,
             "ticks": ""
            },
            "colorscale": [
             [
              0,
              "#0d0887"
             ],
             [
              0.1111111111111111,
              "#46039f"
             ],
             [
              0.2222222222222222,
              "#7201a8"
             ],
             [
              0.3333333333333333,
              "#9c179e"
             ],
             [
              0.4444444444444444,
              "#bd3786"
             ],
             [
              0.5555555555555556,
              "#d8576b"
             ],
             [
              0.6666666666666666,
              "#ed7953"
             ],
             [
              0.7777777777777778,
              "#fb9f3a"
             ],
             [
              0.8888888888888888,
              "#fdca26"
             ],
             [
              1,
              "#f0f921"
             ]
            ],
            "type": "histogram2d"
           }
          ],
          "histogram2dcontour": [
           {
            "colorbar": {
             "outlinewidth": 0,
             "ticks": ""
            },
            "colorscale": [
             [
              0,
              "#0d0887"
             ],
             [
              0.1111111111111111,
              "#46039f"
             ],
             [
              0.2222222222222222,
              "#7201a8"
             ],
             [
              0.3333333333333333,
              "#9c179e"
             ],
             [
              0.4444444444444444,
              "#bd3786"
             ],
             [
              0.5555555555555556,
              "#d8576b"
             ],
             [
              0.6666666666666666,
              "#ed7953"
             ],
             [
              0.7777777777777778,
              "#fb9f3a"
             ],
             [
              0.8888888888888888,
              "#fdca26"
             ],
             [
              1,
              "#f0f921"
             ]
            ],
            "type": "histogram2dcontour"
           }
          ],
          "mesh3d": [
           {
            "colorbar": {
             "outlinewidth": 0,
             "ticks": ""
            },
            "type": "mesh3d"
           }
          ],
          "parcoords": [
           {
            "line": {
             "colorbar": {
              "outlinewidth": 0,
              "ticks": ""
             }
            },
            "type": "parcoords"
           }
          ],
          "pie": [
           {
            "automargin": true,
            "type": "pie"
           }
          ],
          "scatter": [
           {
            "fillpattern": {
             "fillmode": "overlay",
             "size": 10,
             "solidity": 0.2
            },
            "type": "scatter"
           }
          ],
          "scatter3d": [
           {
            "line": {
             "colorbar": {
              "outlinewidth": 0,
              "ticks": ""
             }
            },
            "marker": {
             "colorbar": {
              "outlinewidth": 0,
              "ticks": ""
             }
            },
            "type": "scatter3d"
           }
          ],
          "scattercarpet": [
           {
            "marker": {
             "colorbar": {
              "outlinewidth": 0,
              "ticks": ""
             }
            },
            "type": "scattercarpet"
           }
          ],
          "scattergeo": [
           {
            "marker": {
             "colorbar": {
              "outlinewidth": 0,
              "ticks": ""
             }
            },
            "type": "scattergeo"
           }
          ],
          "scattergl": [
           {
            "marker": {
             "colorbar": {
              "outlinewidth": 0,
              "ticks": ""
             }
            },
            "type": "scattergl"
           }
          ],
          "scattermap": [
           {
            "marker": {
             "colorbar": {
              "outlinewidth": 0,
              "ticks": ""
             }
            },
            "type": "scattermap"
           }
          ],
          "scattermapbox": [
           {
            "marker": {
             "colorbar": {
              "outlinewidth": 0,
              "ticks": ""
             }
            },
            "type": "scattermapbox"
           }
          ],
          "scatterpolar": [
           {
            "marker": {
             "colorbar": {
              "outlinewidth": 0,
              "ticks": ""
             }
            },
            "type": "scatterpolar"
           }
          ],
          "scatterpolargl": [
           {
            "marker": {
             "colorbar": {
              "outlinewidth": 0,
              "ticks": ""
             }
            },
            "type": "scatterpolargl"
           }
          ],
          "scatterternary": [
           {
            "marker": {
             "colorbar": {
              "outlinewidth": 0,
              "ticks": ""
             }
            },
            "type": "scatterternary"
           }
          ],
          "surface": [
           {
            "colorbar": {
             "outlinewidth": 0,
             "ticks": ""
            },
            "colorscale": [
             [
              0,
              "#0d0887"
             ],
             [
              0.1111111111111111,
              "#46039f"
             ],
             [
              0.2222222222222222,
              "#7201a8"
             ],
             [
              0.3333333333333333,
              "#9c179e"
             ],
             [
              0.4444444444444444,
              "#bd3786"
             ],
             [
              0.5555555555555556,
              "#d8576b"
             ],
             [
              0.6666666666666666,
              "#ed7953"
             ],
             [
              0.7777777777777778,
              "#fb9f3a"
             ],
             [
              0.8888888888888888,
              "#fdca26"
             ],
             [
              1,
              "#f0f921"
             ]
            ],
            "type": "surface"
           }
          ],
          "table": [
           {
            "cells": {
             "fill": {
              "color": "#EBF0F8"
             },
             "line": {
              "color": "white"
             }
            },
            "header": {
             "fill": {
              "color": "#C8D4E3"
             },
             "line": {
              "color": "white"
             }
            },
            "type": "table"
           }
          ]
         },
         "layout": {
          "annotationdefaults": {
           "arrowcolor": "#2a3f5f",
           "arrowhead": 0,
           "arrowwidth": 1
          },
          "autotypenumbers": "strict",
          "coloraxis": {
           "colorbar": {
            "outlinewidth": 0,
            "ticks": ""
           }
          },
          "colorscale": {
           "diverging": [
            [
             0,
             "#8e0152"
            ],
            [
             0.1,
             "#c51b7d"
            ],
            [
             0.2,
             "#de77ae"
            ],
            [
             0.3,
             "#f1b6da"
            ],
            [
             0.4,
             "#fde0ef"
            ],
            [
             0.5,
             "#f7f7f7"
            ],
            [
             0.6,
             "#e6f5d0"
            ],
            [
             0.7,
             "#b8e186"
            ],
            [
             0.8,
             "#7fbc41"
            ],
            [
             0.9,
             "#4d9221"
            ],
            [
             1,
             "#276419"
            ]
           ],
           "sequential": [
            [
             0,
             "#0d0887"
            ],
            [
             0.1111111111111111,
             "#46039f"
            ],
            [
             0.2222222222222222,
             "#7201a8"
            ],
            [
             0.3333333333333333,
             "#9c179e"
            ],
            [
             0.4444444444444444,
             "#bd3786"
            ],
            [
             0.5555555555555556,
             "#d8576b"
            ],
            [
             0.6666666666666666,
             "#ed7953"
            ],
            [
             0.7777777777777778,
             "#fb9f3a"
            ],
            [
             0.8888888888888888,
             "#fdca26"
            ],
            [
             1,
             "#f0f921"
            ]
           ],
           "sequentialminus": [
            [
             0,
             "#0d0887"
            ],
            [
             0.1111111111111111,
             "#46039f"
            ],
            [
             0.2222222222222222,
             "#7201a8"
            ],
            [
             0.3333333333333333,
             "#9c179e"
            ],
            [
             0.4444444444444444,
             "#bd3786"
            ],
            [
             0.5555555555555556,
             "#d8576b"
            ],
            [
             0.6666666666666666,
             "#ed7953"
            ],
            [
             0.7777777777777778,
             "#fb9f3a"
            ],
            [
             0.8888888888888888,
             "#fdca26"
            ],
            [
             1,
             "#f0f921"
            ]
           ]
          },
          "colorway": [
           "#636efa",
           "#EF553B",
           "#00cc96",
           "#ab63fa",
           "#FFA15A",
           "#19d3f3",
           "#FF6692",
           "#B6E880",
           "#FF97FF",
           "#FECB52"
          ],
          "font": {
           "color": "#2a3f5f"
          },
          "geo": {
           "bgcolor": "white",
           "lakecolor": "white",
           "landcolor": "#E5ECF6",
           "showlakes": true,
           "showland": true,
           "subunitcolor": "white"
          },
          "hoverlabel": {
           "align": "left"
          },
          "hovermode": "closest",
          "mapbox": {
           "style": "light"
          },
          "paper_bgcolor": "white",
          "plot_bgcolor": "#E5ECF6",
          "polar": {
           "angularaxis": {
            "gridcolor": "white",
            "linecolor": "white",
            "ticks": ""
           },
           "bgcolor": "#E5ECF6",
           "radialaxis": {
            "gridcolor": "white",
            "linecolor": "white",
            "ticks": ""
           }
          },
          "scene": {
           "xaxis": {
            "backgroundcolor": "#E5ECF6",
            "gridcolor": "white",
            "gridwidth": 2,
            "linecolor": "white",
            "showbackground": true,
            "ticks": "",
            "zerolinecolor": "white"
           },
           "yaxis": {
            "backgroundcolor": "#E5ECF6",
            "gridcolor": "white",
            "gridwidth": 2,
            "linecolor": "white",
            "showbackground": true,
            "ticks": "",
            "zerolinecolor": "white"
           },
           "zaxis": {
            "backgroundcolor": "#E5ECF6",
            "gridcolor": "white",
            "gridwidth": 2,
            "linecolor": "white",
            "showbackground": true,
            "ticks": "",
            "zerolinecolor": "white"
           }
          },
          "shapedefaults": {
           "line": {
            "color": "#2a3f5f"
           }
          },
          "ternary": {
           "aaxis": {
            "gridcolor": "white",
            "linecolor": "white",
            "ticks": ""
           },
           "baxis": {
            "gridcolor": "white",
            "linecolor": "white",
            "ticks": ""
           },
           "bgcolor": "#E5ECF6",
           "caxis": {
            "gridcolor": "white",
            "linecolor": "white",
            "ticks": ""
           }
          },
          "title": {
           "x": 0.05
          },
          "xaxis": {
           "automargin": true,
           "gridcolor": "white",
           "linecolor": "white",
           "ticks": "",
           "title": {
            "standoff": 15
           },
           "zerolinecolor": "white",
           "zerolinewidth": 2
          },
          "yaxis": {
           "automargin": true,
           "gridcolor": "white",
           "linecolor": "white",
           "ticks": "",
           "title": {
            "standoff": 15
           },
           "zerolinecolor": "white",
           "zerolinewidth": 2
          }
         }
        },
        "title": {
         "text": "Boxplot: Generación de eventos TP, FP y FN AI Tool vs MIMICEL (benchmark)"
        },
        "xaxis": {
         "title": {
          "text": "Métrica"
         }
        },
        "yaxis": {
         "title": {
          "text": "UUID"
         }
        }
       }
      }
     },
     "metadata": {},
     "output_type": "display_data"
    }
   ],
   "source": [
    "# Generamos resumen y un heatmap de los eventos generados clasificados como TP, FP y FN\n",
    "display(df_events[['events_TP', 'events_FP', 'events_FN']].describe().round(2))\n",
    "\n",
    "heatmap(\n",
    "    df_events,\n",
    "    title=\"Boxplot: Generación de eventos TP, FP y FN AI Tool vs MIMICEL (benchmark)\",\n",
    "    value_columns=['events_TP', 'events_FP', 'events_FN'],\n",
    "    text_format='%{text}',\n",
    "    height=400\n",
    ")"
   ]
  },
  {
   "cell_type": "markdown",
   "id": "b3fda324",
   "metadata": {},
   "source": [
    "##### **7.6.2. Rendimiento generación de columnas: F1, Precision, Recall.**"
   ]
  },
  {
   "cell_type": "markdown",
   "id": "f53ce6b4",
   "metadata": {},
   "source": [
    "- **F1 Score**: Media Armónica entre Precisión y Recall.  \n",
    "  $$ F_{1_{eve}} = 2 \\cdot \\frac{\\text{Precision}_{eve} \\cdot \\text{Recall}_{eve}}{\\text{Precision}_{eve} + \\text{Recall}_{eve}} $$\n",
    "\n",
    "- **Precisión**: Proporción de los eventos generados por la AI Tool presentes en el dataset de control MIMICEL sobre el total de eventos generados por la AI Tool.  \n",
    "  $$ \\text{Precision}_{eve} = \\frac{TP_{eve}}{TP_{eve} + FP_{eve}} $$\n",
    "\n",
    "- **Recall**: Proporción de los eventos esperados en el dataset de control MIMICEL que fueron generados por la AI Tool.  \n",
    "  $$ \\text{Recall}_{eve} = \\frac{TP_{eve}}{TP_{eve} + FN_{eve}} $$"
   ]
  },
  {
   "cell_type": "code",
   "execution_count": 26,
   "id": "7ac972c0",
   "metadata": {},
   "outputs": [
    {
     "data": {
      "application/vnd.plotly.v1+json": {
       "config": {
        "plotlyServerURL": "https://plot.ly"
       },
       "data": [
        {
         "colorscale": [
          [
           0,
           "rgb(255,255,255)"
          ],
          [
           0.125,
           "rgb(240,240,240)"
          ],
          [
           0.25,
           "rgb(217,217,217)"
          ],
          [
           0.375,
           "rgb(189,189,189)"
          ],
          [
           0.5,
           "rgb(150,150,150)"
          ],
          [
           0.625,
           "rgb(115,115,115)"
          ],
          [
           0.75,
           "rgb(82,82,82)"
          ],
          [
           0.875,
           "rgb(37,37,37)"
          ],
          [
           1,
           "rgb(0,0,0)"
          ]
         ],
         "hoverongaps": false,
         "text": {
          "bdata": "AAAAAAAA8D8AAAAAAADwPwAAAAAAAPA/q6qqqqqq6j+rqqqqqqrqP6uqqqqqquo/AAAAAAAA8D8AAAAAAADwPwAAAAAAAPA/kyRJkiRJ4j+amZmZmZnZPwAAAAAAAPA/AAAAAAAA8D8AAAAAAADwPwAAAAAAAPA/q6qqqqqq6j+rqqqqqqrqP6uqqqqqquo/AAAAAAAA8D8AAAAAAADwPwAAAAAAAPA/AAAAAAAA8D8AAAAAAADwPwAAAAAAAPA/AAAAAAAA8D8AAAAAAADwPwAAAAAAAPA/q6qqqqqq6j+rqqqqqqrqP6uqqqqqquo/AAAAAAAA8D8AAAAAAADwPwAAAAAAAPA/q6qqqqqq6j+rqqqqqqrqP6uqqqqqquo/AAAAAAAA8D8AAAAAAADwPwAAAAAAAPA/AAAAAAAA8D8AAAAAAADwPwAAAAAAAPA/MzMzMzMz4z/btm3btm3bPwAAAAAAAPA/",
          "dtype": "f8",
          "shape": "15, 3"
         },
         "textfont": {
          "size": 14
         },
         "texttemplate": "%{text:.2f}",
         "type": "heatmap",
         "x": [
          "events_f1",
          "events_precision",
          "events_recall"
         ],
         "y": [
          "07ffec4c-0015-418c-93d0-aaf87f35919d",
          "b651da68-e45f-4eb6-8119-b2b0a248d470",
          "0e830609-62a3-4f2d-8912-64a3b4ca0227",
          "e068df1e-c9f0-492f-b6a6-a47141a349a1",
          "31658b84-d24f-4b77-ac96-3a4cb43e9439",
          "e7587a17-d499-4633-a075-6e2a5563fbee",
          "4c4a1998-9ef5-4011-affc-377db6c8b144",
          "44ce8415-27f5-4155-bf0c-5897f51a11a6",
          "b7aa6aad-78a3-4c6e-bef2-c35ea5334406",
          "39014ce4-f136-4dc2-abc3-77d3537780ce",
          "a996d163-9fce-4f7e-b248-22826050010d",
          "70f8d23e-f985-41ef-bd09-5ee7277648ad",
          "5846e510-728a-4726-956c-5331c2f69b68",
          "74c35d4c-8851-49ef-bc70-382afbc74ee7",
          "7165bfab-47a9-43fe-bc0a-131d1b571842"
         ],
         "z": {
          "bdata": "AAAAAAAA8D8AAAAAAADwPwAAAAAAAPA/q6qqqqqq6j+rqqqqqqrqP6uqqqqqquo/AAAAAAAA8D8AAAAAAADwPwAAAAAAAPA/kyRJkiRJ4j+amZmZmZnZPwAAAAAAAPA/AAAAAAAA8D8AAAAAAADwPwAAAAAAAPA/q6qqqqqq6j+rqqqqqqrqP6uqqqqqquo/AAAAAAAA8D8AAAAAAADwPwAAAAAAAPA/AAAAAAAA8D8AAAAAAADwPwAAAAAAAPA/AAAAAAAA8D8AAAAAAADwPwAAAAAAAPA/q6qqqqqq6j+rqqqqqqrqP6uqqqqqquo/AAAAAAAA8D8AAAAAAADwPwAAAAAAAPA/q6qqqqqq6j+rqqqqqqrqP6uqqqqqquo/AAAAAAAA8D8AAAAAAADwPwAAAAAAAPA/AAAAAAAA8D8AAAAAAADwPwAAAAAAAPA/MzMzMzMz4z/btm3btm3bPwAAAAAAAPA/",
          "dtype": "f8",
          "shape": "15, 3"
         }
        }
       ],
       "layout": {
        "height": 400,
        "template": {
         "data": {
          "bar": [
           {
            "error_x": {
             "color": "#2a3f5f"
            },
            "error_y": {
             "color": "#2a3f5f"
            },
            "marker": {
             "line": {
              "color": "#E5ECF6",
              "width": 0.5
             },
             "pattern": {
              "fillmode": "overlay",
              "size": 10,
              "solidity": 0.2
             }
            },
            "type": "bar"
           }
          ],
          "barpolar": [
           {
            "marker": {
             "line": {
              "color": "#E5ECF6",
              "width": 0.5
             },
             "pattern": {
              "fillmode": "overlay",
              "size": 10,
              "solidity": 0.2
             }
            },
            "type": "barpolar"
           }
          ],
          "carpet": [
           {
            "aaxis": {
             "endlinecolor": "#2a3f5f",
             "gridcolor": "white",
             "linecolor": "white",
             "minorgridcolor": "white",
             "startlinecolor": "#2a3f5f"
            },
            "baxis": {
             "endlinecolor": "#2a3f5f",
             "gridcolor": "white",
             "linecolor": "white",
             "minorgridcolor": "white",
             "startlinecolor": "#2a3f5f"
            },
            "type": "carpet"
           }
          ],
          "choropleth": [
           {
            "colorbar": {
             "outlinewidth": 0,
             "ticks": ""
            },
            "type": "choropleth"
           }
          ],
          "contour": [
           {
            "colorbar": {
             "outlinewidth": 0,
             "ticks": ""
            },
            "colorscale": [
             [
              0,
              "#0d0887"
             ],
             [
              0.1111111111111111,
              "#46039f"
             ],
             [
              0.2222222222222222,
              "#7201a8"
             ],
             [
              0.3333333333333333,
              "#9c179e"
             ],
             [
              0.4444444444444444,
              "#bd3786"
             ],
             [
              0.5555555555555556,
              "#d8576b"
             ],
             [
              0.6666666666666666,
              "#ed7953"
             ],
             [
              0.7777777777777778,
              "#fb9f3a"
             ],
             [
              0.8888888888888888,
              "#fdca26"
             ],
             [
              1,
              "#f0f921"
             ]
            ],
            "type": "contour"
           }
          ],
          "contourcarpet": [
           {
            "colorbar": {
             "outlinewidth": 0,
             "ticks": ""
            },
            "type": "contourcarpet"
           }
          ],
          "heatmap": [
           {
            "colorbar": {
             "outlinewidth": 0,
             "ticks": ""
            },
            "colorscale": [
             [
              0,
              "#0d0887"
             ],
             [
              0.1111111111111111,
              "#46039f"
             ],
             [
              0.2222222222222222,
              "#7201a8"
             ],
             [
              0.3333333333333333,
              "#9c179e"
             ],
             [
              0.4444444444444444,
              "#bd3786"
             ],
             [
              0.5555555555555556,
              "#d8576b"
             ],
             [
              0.6666666666666666,
              "#ed7953"
             ],
             [
              0.7777777777777778,
              "#fb9f3a"
             ],
             [
              0.8888888888888888,
              "#fdca26"
             ],
             [
              1,
              "#f0f921"
             ]
            ],
            "type": "heatmap"
           }
          ],
          "histogram": [
           {
            "marker": {
             "pattern": {
              "fillmode": "overlay",
              "size": 10,
              "solidity": 0.2
             }
            },
            "type": "histogram"
           }
          ],
          "histogram2d": [
           {
            "colorbar": {
             "outlinewidth": 0,
             "ticks": ""
            },
            "colorscale": [
             [
              0,
              "#0d0887"
             ],
             [
              0.1111111111111111,
              "#46039f"
             ],
             [
              0.2222222222222222,
              "#7201a8"
             ],
             [
              0.3333333333333333,
              "#9c179e"
             ],
             [
              0.4444444444444444,
              "#bd3786"
             ],
             [
              0.5555555555555556,
              "#d8576b"
             ],
             [
              0.6666666666666666,
              "#ed7953"
             ],
             [
              0.7777777777777778,
              "#fb9f3a"
             ],
             [
              0.8888888888888888,
              "#fdca26"
             ],
             [
              1,
              "#f0f921"
             ]
            ],
            "type": "histogram2d"
           }
          ],
          "histogram2dcontour": [
           {
            "colorbar": {
             "outlinewidth": 0,
             "ticks": ""
            },
            "colorscale": [
             [
              0,
              "#0d0887"
             ],
             [
              0.1111111111111111,
              "#46039f"
             ],
             [
              0.2222222222222222,
              "#7201a8"
             ],
             [
              0.3333333333333333,
              "#9c179e"
             ],
             [
              0.4444444444444444,
              "#bd3786"
             ],
             [
              0.5555555555555556,
              "#d8576b"
             ],
             [
              0.6666666666666666,
              "#ed7953"
             ],
             [
              0.7777777777777778,
              "#fb9f3a"
             ],
             [
              0.8888888888888888,
              "#fdca26"
             ],
             [
              1,
              "#f0f921"
             ]
            ],
            "type": "histogram2dcontour"
           }
          ],
          "mesh3d": [
           {
            "colorbar": {
             "outlinewidth": 0,
             "ticks": ""
            },
            "type": "mesh3d"
           }
          ],
          "parcoords": [
           {
            "line": {
             "colorbar": {
              "outlinewidth": 0,
              "ticks": ""
             }
            },
            "type": "parcoords"
           }
          ],
          "pie": [
           {
            "automargin": true,
            "type": "pie"
           }
          ],
          "scatter": [
           {
            "fillpattern": {
             "fillmode": "overlay",
             "size": 10,
             "solidity": 0.2
            },
            "type": "scatter"
           }
          ],
          "scatter3d": [
           {
            "line": {
             "colorbar": {
              "outlinewidth": 0,
              "ticks": ""
             }
            },
            "marker": {
             "colorbar": {
              "outlinewidth": 0,
              "ticks": ""
             }
            },
            "type": "scatter3d"
           }
          ],
          "scattercarpet": [
           {
            "marker": {
             "colorbar": {
              "outlinewidth": 0,
              "ticks": ""
             }
            },
            "type": "scattercarpet"
           }
          ],
          "scattergeo": [
           {
            "marker": {
             "colorbar": {
              "outlinewidth": 0,
              "ticks": ""
             }
            },
            "type": "scattergeo"
           }
          ],
          "scattergl": [
           {
            "marker": {
             "colorbar": {
              "outlinewidth": 0,
              "ticks": ""
             }
            },
            "type": "scattergl"
           }
          ],
          "scattermap": [
           {
            "marker": {
             "colorbar": {
              "outlinewidth": 0,
              "ticks": ""
             }
            },
            "type": "scattermap"
           }
          ],
          "scattermapbox": [
           {
            "marker": {
             "colorbar": {
              "outlinewidth": 0,
              "ticks": ""
             }
            },
            "type": "scattermapbox"
           }
          ],
          "scatterpolar": [
           {
            "marker": {
             "colorbar": {
              "outlinewidth": 0,
              "ticks": ""
             }
            },
            "type": "scatterpolar"
           }
          ],
          "scatterpolargl": [
           {
            "marker": {
             "colorbar": {
              "outlinewidth": 0,
              "ticks": ""
             }
            },
            "type": "scatterpolargl"
           }
          ],
          "scatterternary": [
           {
            "marker": {
             "colorbar": {
              "outlinewidth": 0,
              "ticks": ""
             }
            },
            "type": "scatterternary"
           }
          ],
          "surface": [
           {
            "colorbar": {
             "outlinewidth": 0,
             "ticks": ""
            },
            "colorscale": [
             [
              0,
              "#0d0887"
             ],
             [
              0.1111111111111111,
              "#46039f"
             ],
             [
              0.2222222222222222,
              "#7201a8"
             ],
             [
              0.3333333333333333,
              "#9c179e"
             ],
             [
              0.4444444444444444,
              "#bd3786"
             ],
             [
              0.5555555555555556,
              "#d8576b"
             ],
             [
              0.6666666666666666,
              "#ed7953"
             ],
             [
              0.7777777777777778,
              "#fb9f3a"
             ],
             [
              0.8888888888888888,
              "#fdca26"
             ],
             [
              1,
              "#f0f921"
             ]
            ],
            "type": "surface"
           }
          ],
          "table": [
           {
            "cells": {
             "fill": {
              "color": "#EBF0F8"
             },
             "line": {
              "color": "white"
             }
            },
            "header": {
             "fill": {
              "color": "#C8D4E3"
             },
             "line": {
              "color": "white"
             }
            },
            "type": "table"
           }
          ]
         },
         "layout": {
          "annotationdefaults": {
           "arrowcolor": "#2a3f5f",
           "arrowhead": 0,
           "arrowwidth": 1
          },
          "autotypenumbers": "strict",
          "coloraxis": {
           "colorbar": {
            "outlinewidth": 0,
            "ticks": ""
           }
          },
          "colorscale": {
           "diverging": [
            [
             0,
             "#8e0152"
            ],
            [
             0.1,
             "#c51b7d"
            ],
            [
             0.2,
             "#de77ae"
            ],
            [
             0.3,
             "#f1b6da"
            ],
            [
             0.4,
             "#fde0ef"
            ],
            [
             0.5,
             "#f7f7f7"
            ],
            [
             0.6,
             "#e6f5d0"
            ],
            [
             0.7,
             "#b8e186"
            ],
            [
             0.8,
             "#7fbc41"
            ],
            [
             0.9,
             "#4d9221"
            ],
            [
             1,
             "#276419"
            ]
           ],
           "sequential": [
            [
             0,
             "#0d0887"
            ],
            [
             0.1111111111111111,
             "#46039f"
            ],
            [
             0.2222222222222222,
             "#7201a8"
            ],
            [
             0.3333333333333333,
             "#9c179e"
            ],
            [
             0.4444444444444444,
             "#bd3786"
            ],
            [
             0.5555555555555556,
             "#d8576b"
            ],
            [
             0.6666666666666666,
             "#ed7953"
            ],
            [
             0.7777777777777778,
             "#fb9f3a"
            ],
            [
             0.8888888888888888,
             "#fdca26"
            ],
            [
             1,
             "#f0f921"
            ]
           ],
           "sequentialminus": [
            [
             0,
             "#0d0887"
            ],
            [
             0.1111111111111111,
             "#46039f"
            ],
            [
             0.2222222222222222,
             "#7201a8"
            ],
            [
             0.3333333333333333,
             "#9c179e"
            ],
            [
             0.4444444444444444,
             "#bd3786"
            ],
            [
             0.5555555555555556,
             "#d8576b"
            ],
            [
             0.6666666666666666,
             "#ed7953"
            ],
            [
             0.7777777777777778,
             "#fb9f3a"
            ],
            [
             0.8888888888888888,
             "#fdca26"
            ],
            [
             1,
             "#f0f921"
            ]
           ]
          },
          "colorway": [
           "#636efa",
           "#EF553B",
           "#00cc96",
           "#ab63fa",
           "#FFA15A",
           "#19d3f3",
           "#FF6692",
           "#B6E880",
           "#FF97FF",
           "#FECB52"
          ],
          "font": {
           "color": "#2a3f5f"
          },
          "geo": {
           "bgcolor": "white",
           "lakecolor": "white",
           "landcolor": "#E5ECF6",
           "showlakes": true,
           "showland": true,
           "subunitcolor": "white"
          },
          "hoverlabel": {
           "align": "left"
          },
          "hovermode": "closest",
          "mapbox": {
           "style": "light"
          },
          "paper_bgcolor": "white",
          "plot_bgcolor": "#E5ECF6",
          "polar": {
           "angularaxis": {
            "gridcolor": "white",
            "linecolor": "white",
            "ticks": ""
           },
           "bgcolor": "#E5ECF6",
           "radialaxis": {
            "gridcolor": "white",
            "linecolor": "white",
            "ticks": ""
           }
          },
          "scene": {
           "xaxis": {
            "backgroundcolor": "#E5ECF6",
            "gridcolor": "white",
            "gridwidth": 2,
            "linecolor": "white",
            "showbackground": true,
            "ticks": "",
            "zerolinecolor": "white"
           },
           "yaxis": {
            "backgroundcolor": "#E5ECF6",
            "gridcolor": "white",
            "gridwidth": 2,
            "linecolor": "white",
            "showbackground": true,
            "ticks": "",
            "zerolinecolor": "white"
           },
           "zaxis": {
            "backgroundcolor": "#E5ECF6",
            "gridcolor": "white",
            "gridwidth": 2,
            "linecolor": "white",
            "showbackground": true,
            "ticks": "",
            "zerolinecolor": "white"
           }
          },
          "shapedefaults": {
           "line": {
            "color": "#2a3f5f"
           }
          },
          "ternary": {
           "aaxis": {
            "gridcolor": "white",
            "linecolor": "white",
            "ticks": ""
           },
           "baxis": {
            "gridcolor": "white",
            "linecolor": "white",
            "ticks": ""
           },
           "bgcolor": "#E5ECF6",
           "caxis": {
            "gridcolor": "white",
            "linecolor": "white",
            "ticks": ""
           }
          },
          "title": {
           "x": 0.05
          },
          "xaxis": {
           "automargin": true,
           "gridcolor": "white",
           "linecolor": "white",
           "ticks": "",
           "title": {
            "standoff": 15
           },
           "zerolinecolor": "white",
           "zerolinewidth": 2
          },
          "yaxis": {
           "automargin": true,
           "gridcolor": "white",
           "linecolor": "white",
           "ticks": "",
           "title": {
            "standoff": 15
           },
           "zerolinecolor": "white",
           "zerolinewidth": 2
          }
         }
        },
        "title": {
         "text": "Boxplot: Generación de eventos F1, Precision, Recall de la AI Tool vs MIMICEL (benchmark)"
        },
        "xaxis": {
         "title": {
          "text": "Métrica"
         }
        },
        "yaxis": {
         "title": {
          "text": "UUID"
         }
        }
       }
      }
     },
     "metadata": {},
     "output_type": "display_data"
    }
   ],
   "source": [
    "# Generamos un heatmap con el rendimiento de la clasificación de eventos\n",
    "# generados por la AI Tool vs los eventos esperados en MIMICEL (benchmark)\n",
    "heatmap(\n",
    "    df_events,\n",
    "    title=\"Boxplot: Generación de eventos F1, Precision, Recall de la AI Tool vs MIMICEL (benchmark)\",\n",
    "    value_columns=['events_precision', 'events_recall', 'events_f1'],\n",
    "    text_format='%{text:.2f}',\n",
    "    height=400\n",
    ")"
   ]
  },
  {
   "cell_type": "code",
   "execution_count": 27,
   "id": "0688b935",
   "metadata": {},
   "outputs": [
    {
     "data": {
      "text/html": [
       "<div>\n",
       "<style scoped>\n",
       "    .dataframe tbody tr th:only-of-type {\n",
       "        vertical-align: middle;\n",
       "    }\n",
       "\n",
       "    .dataframe tbody tr th {\n",
       "        vertical-align: top;\n",
       "    }\n",
       "\n",
       "    .dataframe thead th {\n",
       "        text-align: right;\n",
       "    }\n",
       "</style>\n",
       "<table border=\"1\" class=\"dataframe\">\n",
       "  <thead>\n",
       "    <tr style=\"text-align: right;\">\n",
       "      <th></th>\n",
       "      <th>events_f1</th>\n",
       "      <th>events_precision</th>\n",
       "      <th>events_recall</th>\n",
       "    </tr>\n",
       "  </thead>\n",
       "  <tbody>\n",
       "    <tr>\n",
       "      <th>count</th>\n",
       "      <td>15.00</td>\n",
       "      <td>15.00</td>\n",
       "      <td>15.00</td>\n",
       "    </tr>\n",
       "    <tr>\n",
       "      <th>mean</th>\n",
       "      <td>0.90</td>\n",
       "      <td>0.88</td>\n",
       "      <td>0.96</td>\n",
       "    </tr>\n",
       "    <tr>\n",
       "      <th>std</th>\n",
       "      <td>0.15</td>\n",
       "      <td>0.20</td>\n",
       "      <td>0.08</td>\n",
       "    </tr>\n",
       "    <tr>\n",
       "      <th>min</th>\n",
       "      <td>0.57</td>\n",
       "      <td>0.40</td>\n",
       "      <td>0.83</td>\n",
       "    </tr>\n",
       "    <tr>\n",
       "      <th>25%</th>\n",
       "      <td>0.83</td>\n",
       "      <td>0.83</td>\n",
       "      <td>0.92</td>\n",
       "    </tr>\n",
       "    <tr>\n",
       "      <th>50%</th>\n",
       "      <td>1.00</td>\n",
       "      <td>1.00</td>\n",
       "      <td>1.00</td>\n",
       "    </tr>\n",
       "    <tr>\n",
       "      <th>75%</th>\n",
       "      <td>1.00</td>\n",
       "      <td>1.00</td>\n",
       "      <td>1.00</td>\n",
       "    </tr>\n",
       "    <tr>\n",
       "      <th>max</th>\n",
       "      <td>1.00</td>\n",
       "      <td>1.00</td>\n",
       "      <td>1.00</td>\n",
       "    </tr>\n",
       "  </tbody>\n",
       "</table>\n",
       "</div>"
      ],
      "text/plain": [
       "       events_f1  events_precision  events_recall\n",
       "count      15.00             15.00          15.00\n",
       "mean        0.90              0.88           0.96\n",
       "std         0.15              0.20           0.08\n",
       "min         0.57              0.40           0.83\n",
       "25%         0.83              0.83           0.92\n",
       "50%         1.00              1.00           1.00\n",
       "75%         1.00              1.00           1.00\n",
       "max         1.00              1.00           1.00"
      ]
     },
     "metadata": {},
     "output_type": "display_data"
    },
    {
     "data": {
      "application/vnd.plotly.v1+json": {
       "config": {
        "plotlyServerURL": "https://plot.ly"
       },
       "data": [
        {
         "alignmentgroup": "True",
         "hovertemplate": "Métricas de rendimiento clasificación=%{x}<br>Valor=%{y}<extra></extra>",
         "legendgroup": "",
         "marker": {
          "color": "#000000"
         },
         "name": "",
         "notched": false,
         "offsetgroup": "",
         "orientation": "v",
         "showlegend": false,
         "type": "box",
         "x": [
          "events_f1",
          "events_f1",
          "events_f1",
          "events_f1",
          "events_f1",
          "events_f1",
          "events_f1",
          "events_f1",
          "events_f1",
          "events_f1",
          "events_f1",
          "events_f1",
          "events_f1",
          "events_f1",
          "events_f1",
          "events_precision",
          "events_precision",
          "events_precision",
          "events_precision",
          "events_precision",
          "events_precision",
          "events_precision",
          "events_precision",
          "events_precision",
          "events_precision",
          "events_precision",
          "events_precision",
          "events_precision",
          "events_precision",
          "events_precision",
          "events_recall",
          "events_recall",
          "events_recall",
          "events_recall",
          "events_recall",
          "events_recall",
          "events_recall",
          "events_recall",
          "events_recall",
          "events_recall",
          "events_recall",
          "events_recall",
          "events_recall",
          "events_recall",
          "events_recall"
         ],
         "x0": " ",
         "xaxis": "x",
         "y": {
          "bdata": "AAAAAAAA8D+rqqqqqqrqPwAAAAAAAPA/kyRJkiRJ4j8AAAAAAADwP6uqqqqqquo/AAAAAAAA8D8AAAAAAADwPwAAAAAAAPA/q6qqqqqq6j8AAAAAAADwP6uqqqqqquo/AAAAAAAA8D8AAAAAAADwPzMzMzMzM+M/AAAAAAAA8D+rqqqqqqrqPwAAAAAAAPA/mpmZmZmZ2T8AAAAAAADwP6uqqqqqquo/AAAAAAAA8D8AAAAAAADwPwAAAAAAAPA/q6qqqqqq6j8AAAAAAADwP6uqqqqqquo/AAAAAAAA8D8AAAAAAADwP9u2bdu2bds/AAAAAAAA8D+rqqqqqqrqPwAAAAAAAPA/AAAAAAAA8D8AAAAAAADwP6uqqqqqquo/AAAAAAAA8D8AAAAAAADwPwAAAAAAAPA/q6qqqqqq6j8AAAAAAADwP6uqqqqqquo/AAAAAAAA8D8AAAAAAADwPwAAAAAAAPA/",
          "dtype": "f8"
         },
         "y0": " ",
         "yaxis": "y"
        }
       ],
       "layout": {
        "boxgap": 0.3,
        "boxgroupgap": 0.3,
        "boxmode": "group",
        "height": 500,
        "legend": {
         "tracegroupgap": 0
        },
        "paper_bgcolor": "white",
        "plot_bgcolor": "white",
        "template": {
         "data": {
          "bar": [
           {
            "error_x": {
             "color": "#2a3f5f"
            },
            "error_y": {
             "color": "#2a3f5f"
            },
            "marker": {
             "line": {
              "color": "#E5ECF6",
              "width": 0.5
             },
             "pattern": {
              "fillmode": "overlay",
              "size": 10,
              "solidity": 0.2
             }
            },
            "type": "bar"
           }
          ],
          "barpolar": [
           {
            "marker": {
             "line": {
              "color": "#E5ECF6",
              "width": 0.5
             },
             "pattern": {
              "fillmode": "overlay",
              "size": 10,
              "solidity": 0.2
             }
            },
            "type": "barpolar"
           }
          ],
          "carpet": [
           {
            "aaxis": {
             "endlinecolor": "#2a3f5f",
             "gridcolor": "white",
             "linecolor": "white",
             "minorgridcolor": "white",
             "startlinecolor": "#2a3f5f"
            },
            "baxis": {
             "endlinecolor": "#2a3f5f",
             "gridcolor": "white",
             "linecolor": "white",
             "minorgridcolor": "white",
             "startlinecolor": "#2a3f5f"
            },
            "type": "carpet"
           }
          ],
          "choropleth": [
           {
            "colorbar": {
             "outlinewidth": 0,
             "ticks": ""
            },
            "type": "choropleth"
           }
          ],
          "contour": [
           {
            "colorbar": {
             "outlinewidth": 0,
             "ticks": ""
            },
            "colorscale": [
             [
              0,
              "#0d0887"
             ],
             [
              0.1111111111111111,
              "#46039f"
             ],
             [
              0.2222222222222222,
              "#7201a8"
             ],
             [
              0.3333333333333333,
              "#9c179e"
             ],
             [
              0.4444444444444444,
              "#bd3786"
             ],
             [
              0.5555555555555556,
              "#d8576b"
             ],
             [
              0.6666666666666666,
              "#ed7953"
             ],
             [
              0.7777777777777778,
              "#fb9f3a"
             ],
             [
              0.8888888888888888,
              "#fdca26"
             ],
             [
              1,
              "#f0f921"
             ]
            ],
            "type": "contour"
           }
          ],
          "contourcarpet": [
           {
            "colorbar": {
             "outlinewidth": 0,
             "ticks": ""
            },
            "type": "contourcarpet"
           }
          ],
          "heatmap": [
           {
            "colorbar": {
             "outlinewidth": 0,
             "ticks": ""
            },
            "colorscale": [
             [
              0,
              "#0d0887"
             ],
             [
              0.1111111111111111,
              "#46039f"
             ],
             [
              0.2222222222222222,
              "#7201a8"
             ],
             [
              0.3333333333333333,
              "#9c179e"
             ],
             [
              0.4444444444444444,
              "#bd3786"
             ],
             [
              0.5555555555555556,
              "#d8576b"
             ],
             [
              0.6666666666666666,
              "#ed7953"
             ],
             [
              0.7777777777777778,
              "#fb9f3a"
             ],
             [
              0.8888888888888888,
              "#fdca26"
             ],
             [
              1,
              "#f0f921"
             ]
            ],
            "type": "heatmap"
           }
          ],
          "histogram": [
           {
            "marker": {
             "pattern": {
              "fillmode": "overlay",
              "size": 10,
              "solidity": 0.2
             }
            },
            "type": "histogram"
           }
          ],
          "histogram2d": [
           {
            "colorbar": {
             "outlinewidth": 0,
             "ticks": ""
            },
            "colorscale": [
             [
              0,
              "#0d0887"
             ],
             [
              0.1111111111111111,
              "#46039f"
             ],
             [
              0.2222222222222222,
              "#7201a8"
             ],
             [
              0.3333333333333333,
              "#9c179e"
             ],
             [
              0.4444444444444444,
              "#bd3786"
             ],
             [
              0.5555555555555556,
              "#d8576b"
             ],
             [
              0.6666666666666666,
              "#ed7953"
             ],
             [
              0.7777777777777778,
              "#fb9f3a"
             ],
             [
              0.8888888888888888,
              "#fdca26"
             ],
             [
              1,
              "#f0f921"
             ]
            ],
            "type": "histogram2d"
           }
          ],
          "histogram2dcontour": [
           {
            "colorbar": {
             "outlinewidth": 0,
             "ticks": ""
            },
            "colorscale": [
             [
              0,
              "#0d0887"
             ],
             [
              0.1111111111111111,
              "#46039f"
             ],
             [
              0.2222222222222222,
              "#7201a8"
             ],
             [
              0.3333333333333333,
              "#9c179e"
             ],
             [
              0.4444444444444444,
              "#bd3786"
             ],
             [
              0.5555555555555556,
              "#d8576b"
             ],
             [
              0.6666666666666666,
              "#ed7953"
             ],
             [
              0.7777777777777778,
              "#fb9f3a"
             ],
             [
              0.8888888888888888,
              "#fdca26"
             ],
             [
              1,
              "#f0f921"
             ]
            ],
            "type": "histogram2dcontour"
           }
          ],
          "mesh3d": [
           {
            "colorbar": {
             "outlinewidth": 0,
             "ticks": ""
            },
            "type": "mesh3d"
           }
          ],
          "parcoords": [
           {
            "line": {
             "colorbar": {
              "outlinewidth": 0,
              "ticks": ""
             }
            },
            "type": "parcoords"
           }
          ],
          "pie": [
           {
            "automargin": true,
            "type": "pie"
           }
          ],
          "scatter": [
           {
            "fillpattern": {
             "fillmode": "overlay",
             "size": 10,
             "solidity": 0.2
            },
            "type": "scatter"
           }
          ],
          "scatter3d": [
           {
            "line": {
             "colorbar": {
              "outlinewidth": 0,
              "ticks": ""
             }
            },
            "marker": {
             "colorbar": {
              "outlinewidth": 0,
              "ticks": ""
             }
            },
            "type": "scatter3d"
           }
          ],
          "scattercarpet": [
           {
            "marker": {
             "colorbar": {
              "outlinewidth": 0,
              "ticks": ""
             }
            },
            "type": "scattercarpet"
           }
          ],
          "scattergeo": [
           {
            "marker": {
             "colorbar": {
              "outlinewidth": 0,
              "ticks": ""
             }
            },
            "type": "scattergeo"
           }
          ],
          "scattergl": [
           {
            "marker": {
             "colorbar": {
              "outlinewidth": 0,
              "ticks": ""
             }
            },
            "type": "scattergl"
           }
          ],
          "scattermap": [
           {
            "marker": {
             "colorbar": {
              "outlinewidth": 0,
              "ticks": ""
             }
            },
            "type": "scattermap"
           }
          ],
          "scattermapbox": [
           {
            "marker": {
             "colorbar": {
              "outlinewidth": 0,
              "ticks": ""
             }
            },
            "type": "scattermapbox"
           }
          ],
          "scatterpolar": [
           {
            "marker": {
             "colorbar": {
              "outlinewidth": 0,
              "ticks": ""
             }
            },
            "type": "scatterpolar"
           }
          ],
          "scatterpolargl": [
           {
            "marker": {
             "colorbar": {
              "outlinewidth": 0,
              "ticks": ""
             }
            },
            "type": "scatterpolargl"
           }
          ],
          "scatterternary": [
           {
            "marker": {
             "colorbar": {
              "outlinewidth": 0,
              "ticks": ""
             }
            },
            "type": "scatterternary"
           }
          ],
          "surface": [
           {
            "colorbar": {
             "outlinewidth": 0,
             "ticks": ""
            },
            "colorscale": [
             [
              0,
              "#0d0887"
             ],
             [
              0.1111111111111111,
              "#46039f"
             ],
             [
              0.2222222222222222,
              "#7201a8"
             ],
             [
              0.3333333333333333,
              "#9c179e"
             ],
             [
              0.4444444444444444,
              "#bd3786"
             ],
             [
              0.5555555555555556,
              "#d8576b"
             ],
             [
              0.6666666666666666,
              "#ed7953"
             ],
             [
              0.7777777777777778,
              "#fb9f3a"
             ],
             [
              0.8888888888888888,
              "#fdca26"
             ],
             [
              1,
              "#f0f921"
             ]
            ],
            "type": "surface"
           }
          ],
          "table": [
           {
            "cells": {
             "fill": {
              "color": "#EBF0F8"
             },
             "line": {
              "color": "white"
             }
            },
            "header": {
             "fill": {
              "color": "#C8D4E3"
             },
             "line": {
              "color": "white"
             }
            },
            "type": "table"
           }
          ]
         },
         "layout": {
          "annotationdefaults": {
           "arrowcolor": "#2a3f5f",
           "arrowhead": 0,
           "arrowwidth": 1
          },
          "autotypenumbers": "strict",
          "coloraxis": {
           "colorbar": {
            "outlinewidth": 0,
            "ticks": ""
           }
          },
          "colorscale": {
           "diverging": [
            [
             0,
             "#8e0152"
            ],
            [
             0.1,
             "#c51b7d"
            ],
            [
             0.2,
             "#de77ae"
            ],
            [
             0.3,
             "#f1b6da"
            ],
            [
             0.4,
             "#fde0ef"
            ],
            [
             0.5,
             "#f7f7f7"
            ],
            [
             0.6,
             "#e6f5d0"
            ],
            [
             0.7,
             "#b8e186"
            ],
            [
             0.8,
             "#7fbc41"
            ],
            [
             0.9,
             "#4d9221"
            ],
            [
             1,
             "#276419"
            ]
           ],
           "sequential": [
            [
             0,
             "#0d0887"
            ],
            [
             0.1111111111111111,
             "#46039f"
            ],
            [
             0.2222222222222222,
             "#7201a8"
            ],
            [
             0.3333333333333333,
             "#9c179e"
            ],
            [
             0.4444444444444444,
             "#bd3786"
            ],
            [
             0.5555555555555556,
             "#d8576b"
            ],
            [
             0.6666666666666666,
             "#ed7953"
            ],
            [
             0.7777777777777778,
             "#fb9f3a"
            ],
            [
             0.8888888888888888,
             "#fdca26"
            ],
            [
             1,
             "#f0f921"
            ]
           ],
           "sequentialminus": [
            [
             0,
             "#0d0887"
            ],
            [
             0.1111111111111111,
             "#46039f"
            ],
            [
             0.2222222222222222,
             "#7201a8"
            ],
            [
             0.3333333333333333,
             "#9c179e"
            ],
            [
             0.4444444444444444,
             "#bd3786"
            ],
            [
             0.5555555555555556,
             "#d8576b"
            ],
            [
             0.6666666666666666,
             "#ed7953"
            ],
            [
             0.7777777777777778,
             "#fb9f3a"
            ],
            [
             0.8888888888888888,
             "#fdca26"
            ],
            [
             1,
             "#f0f921"
            ]
           ]
          },
          "colorway": [
           "#636efa",
           "#EF553B",
           "#00cc96",
           "#ab63fa",
           "#FFA15A",
           "#19d3f3",
           "#FF6692",
           "#B6E880",
           "#FF97FF",
           "#FECB52"
          ],
          "font": {
           "color": "#2a3f5f"
          },
          "geo": {
           "bgcolor": "white",
           "lakecolor": "white",
           "landcolor": "#E5ECF6",
           "showlakes": true,
           "showland": true,
           "subunitcolor": "white"
          },
          "hoverlabel": {
           "align": "left"
          },
          "hovermode": "closest",
          "mapbox": {
           "style": "light"
          },
          "paper_bgcolor": "white",
          "plot_bgcolor": "#E5ECF6",
          "polar": {
           "angularaxis": {
            "gridcolor": "white",
            "linecolor": "white",
            "ticks": ""
           },
           "bgcolor": "#E5ECF6",
           "radialaxis": {
            "gridcolor": "white",
            "linecolor": "white",
            "ticks": ""
           }
          },
          "scene": {
           "xaxis": {
            "backgroundcolor": "#E5ECF6",
            "gridcolor": "white",
            "gridwidth": 2,
            "linecolor": "white",
            "showbackground": true,
            "ticks": "",
            "zerolinecolor": "white"
           },
           "yaxis": {
            "backgroundcolor": "#E5ECF6",
            "gridcolor": "white",
            "gridwidth": 2,
            "linecolor": "white",
            "showbackground": true,
            "ticks": "",
            "zerolinecolor": "white"
           },
           "zaxis": {
            "backgroundcolor": "#E5ECF6",
            "gridcolor": "white",
            "gridwidth": 2,
            "linecolor": "white",
            "showbackground": true,
            "ticks": "",
            "zerolinecolor": "white"
           }
          },
          "shapedefaults": {
           "line": {
            "color": "#2a3f5f"
           }
          },
          "ternary": {
           "aaxis": {
            "gridcolor": "white",
            "linecolor": "white",
            "ticks": ""
           },
           "baxis": {
            "gridcolor": "white",
            "linecolor": "white",
            "ticks": ""
           },
           "bgcolor": "#E5ECF6",
           "caxis": {
            "gridcolor": "white",
            "linecolor": "white",
            "ticks": ""
           }
          },
          "title": {
           "x": 0.05
          },
          "xaxis": {
           "automargin": true,
           "gridcolor": "white",
           "linecolor": "white",
           "ticks": "",
           "title": {
            "standoff": 15
           },
           "zerolinecolor": "white",
           "zerolinewidth": 2
          },
          "yaxis": {
           "automargin": true,
           "gridcolor": "white",
           "linecolor": "white",
           "ticks": "",
           "title": {
            "standoff": 15
           },
           "zerolinecolor": "white",
           "zerolinewidth": 2
          }
         }
        },
        "title": {
         "text": "Boxplot: Generación de eventos F1, Precision, Recall de la AI Tool vs MIMICEL (benchmark)"
        },
        "width": 1000,
        "xaxis": {
         "anchor": "y",
         "domain": [
          0,
          1
         ],
         "title": {
          "text": "Métricas de rendimiento clasificación"
         }
        },
        "yaxis": {
         "anchor": "x",
         "domain": [
          0,
          1
         ],
         "title": {
          "text": "Valor"
         }
        }
       }
      }
     },
     "metadata": {},
     "output_type": "display_data"
    }
   ],
   "source": [
    "# Generamos boxplots con las métricas de rendimiento de la clasificación de \n",
    "# eventos generados por la AI Tool vs los eventos esperados en MIMICEL (benchmark)\n",
    "\n",
    "display(df_events[['events_f1', 'events_precision', 'events_recall']].describe().round(2))\n",
    "\n",
    "boxplot(\n",
    "    df_events[['uuid','events_f1', 'events_precision', 'events_recall']],\n",
    "    title=\"Boxplot: Generación de eventos F1, Precision, Recall de la AI Tool vs MIMICEL (benchmark)\",\n",
    "    value_name='Valor',\n",
    "    category_name='Métricas de rendimiento clasificación'\n",
    "    )\n",
    "\n",
    "# Histograma en plotly\n",
    "\n"
   ]
  },
  {
   "cell_type": "markdown",
   "id": "2ac0fb5d",
   "metadata": {},
   "source": [
    "### **8. Resultado final.**"
   ]
  },
  {
   "cell_type": "markdown",
   "id": "228d6012",
   "metadata": {},
   "source": [
    "#### **8.1. Test Normalidad (Schapiro)**"
   ]
  },
  {
   "cell_type": "code",
   "execution_count": 28,
   "id": "ef79c360",
   "metadata": {},
   "outputs": [],
   "source": [
    "df_final_stats_n20 = df_results_clean.iloc[:,:17].copy()\n",
    "\n",
    "# Bloque n15 de resultados exitosos\n",
    "df_final_stats_n15 = df_results_ok.iloc[:,18:32].copy()"
   ]
  },
  {
   "cell_type": "code",
   "execution_count": 29,
   "id": "afc61a94",
   "metadata": {},
   "outputs": [
    {
     "name": "stdout",
     "output_type": "stream",
     "text": [
      "Total Métricas que han superado el test de normalidad Schapiro:12 de 29.\n"
     ]
    },
    {
     "data": {
      "text/html": [
       "<div>\n",
       "<style scoped>\n",
       "    .dataframe tbody tr th:only-of-type {\n",
       "        vertical-align: middle;\n",
       "    }\n",
       "\n",
       "    .dataframe tbody tr th {\n",
       "        vertical-align: top;\n",
       "    }\n",
       "\n",
       "    .dataframe thead th {\n",
       "        text-align: right;\n",
       "    }\n",
       "</style>\n",
       "<table border=\"1\" class=\"dataframe\">\n",
       "  <thead>\n",
       "    <tr style=\"text-align: right;\">\n",
       "      <th></th>\n",
       "      <th>metric</th>\n",
       "      <th>n</th>\n",
       "      <th>W</th>\n",
       "      <th>pval</th>\n",
       "      <th>normal</th>\n",
       "    </tr>\n",
       "  </thead>\n",
       "  <tbody>\n",
       "    <tr>\n",
       "      <th>0</th>\n",
       "      <td>tokens_total_tool</td>\n",
       "      <td>20</td>\n",
       "      <td>0.9765</td>\n",
       "      <td>0.8812</td>\n",
       "      <td>True</td>\n",
       "    </tr>\n",
       "    <tr>\n",
       "      <th>1</th>\n",
       "      <td>tokens_total_retriever_embedding</td>\n",
       "      <td>20</td>\n",
       "      <td>0.8096</td>\n",
       "      <td>0.0012</td>\n",
       "      <td>False</td>\n",
       "    </tr>\n",
       "    <tr>\n",
       "      <th>2</th>\n",
       "      <td>tokens_total_sql_generation</td>\n",
       "      <td>20</td>\n",
       "      <td>0.9592</td>\n",
       "      <td>0.5288</td>\n",
       "      <td>True</td>\n",
       "    </tr>\n",
       "    <tr>\n",
       "      <th>3</th>\n",
       "      <td>tokens_prompt_sql_generation</td>\n",
       "      <td>20</td>\n",
       "      <td>0.8092</td>\n",
       "      <td>0.0012</td>\n",
       "      <td>False</td>\n",
       "    </tr>\n",
       "    <tr>\n",
       "      <th>4</th>\n",
       "      <td>tokens_completion_sql_generation</td>\n",
       "      <td>20</td>\n",
       "      <td>0.9593</td>\n",
       "      <td>0.5290</td>\n",
       "      <td>True</td>\n",
       "    </tr>\n",
       "    <tr>\n",
       "      <th>5</th>\n",
       "      <td>tokens_total_sql_generation_enhanced</td>\n",
       "      <td>20</td>\n",
       "      <td>0.9676</td>\n",
       "      <td>0.7028</td>\n",
       "      <td>True</td>\n",
       "    </tr>\n",
       "    <tr>\n",
       "      <th>6</th>\n",
       "      <td>tokens_prompt_sql_generation_enhanced</td>\n",
       "      <td>20</td>\n",
       "      <td>0.8984</td>\n",
       "      <td>0.0385</td>\n",
       "      <td>False</td>\n",
       "    </tr>\n",
       "    <tr>\n",
       "      <th>7</th>\n",
       "      <td>tokens_completion_sql_generation_enhanced</td>\n",
       "      <td>20</td>\n",
       "      <td>0.9313</td>\n",
       "      <td>0.1636</td>\n",
       "      <td>True</td>\n",
       "    </tr>\n",
       "    <tr>\n",
       "      <th>8</th>\n",
       "      <td>total_cost_tool_in_dollars</td>\n",
       "      <td>20</td>\n",
       "      <td>0.9702</td>\n",
       "      <td>0.7598</td>\n",
       "      <td>True</td>\n",
       "    </tr>\n",
       "    <tr>\n",
       "      <th>9</th>\n",
       "      <td>total_cost_retriever_embedding_in_dollars</td>\n",
       "      <td>20</td>\n",
       "      <td>0.8096</td>\n",
       "      <td>0.0012</td>\n",
       "      <td>False</td>\n",
       "    </tr>\n",
       "    <tr>\n",
       "      <th>10</th>\n",
       "      <td>total_cost_sql_generation_in_dollars</td>\n",
       "      <td>20</td>\n",
       "      <td>0.9592</td>\n",
       "      <td>0.5272</td>\n",
       "      <td>True</td>\n",
       "    </tr>\n",
       "    <tr>\n",
       "      <th>11</th>\n",
       "      <td>total_cost_sql_generation_enhanced_in_dollars</td>\n",
       "      <td>20</td>\n",
       "      <td>0.9424</td>\n",
       "      <td>0.2666</td>\n",
       "      <td>True</td>\n",
       "    </tr>\n",
       "    <tr>\n",
       "      <th>12</th>\n",
       "      <td>time_in_seconds_total</td>\n",
       "      <td>20</td>\n",
       "      <td>0.9746</td>\n",
       "      <td>0.8478</td>\n",
       "      <td>True</td>\n",
       "    </tr>\n",
       "    <tr>\n",
       "      <th>13</th>\n",
       "      <td>time_in_seconds_retriever</td>\n",
       "      <td>20</td>\n",
       "      <td>0.4902</td>\n",
       "      <td>0.0000</td>\n",
       "      <td>False</td>\n",
       "    </tr>\n",
       "    <tr>\n",
       "      <th>14</th>\n",
       "      <td>time_in_seconds_sql_generation</td>\n",
       "      <td>20</td>\n",
       "      <td>0.9600</td>\n",
       "      <td>0.5436</td>\n",
       "      <td>True</td>\n",
       "    </tr>\n",
       "    <tr>\n",
       "      <th>15</th>\n",
       "      <td>time_in_seconds_sql_generation_enhanced</td>\n",
       "      <td>20</td>\n",
       "      <td>0.9174</td>\n",
       "      <td>0.0885</td>\n",
       "      <td>True</td>\n",
       "    </tr>\n",
       "  </tbody>\n",
       "</table>\n",
       "</div>"
      ],
      "text/plain": [
       "                                           metric   n       W    pval  normal\n",
       "0                               tokens_total_tool  20  0.9765  0.8812    True\n",
       "1                tokens_total_retriever_embedding  20  0.8096  0.0012   False\n",
       "2                     tokens_total_sql_generation  20  0.9592  0.5288    True\n",
       "3                    tokens_prompt_sql_generation  20  0.8092  0.0012   False\n",
       "4                tokens_completion_sql_generation  20  0.9593  0.5290    True\n",
       "5            tokens_total_sql_generation_enhanced  20  0.9676  0.7028    True\n",
       "6           tokens_prompt_sql_generation_enhanced  20  0.8984  0.0385   False\n",
       "7       tokens_completion_sql_generation_enhanced  20  0.9313  0.1636    True\n",
       "8                      total_cost_tool_in_dollars  20  0.9702  0.7598    True\n",
       "9       total_cost_retriever_embedding_in_dollars  20  0.8096  0.0012   False\n",
       "10           total_cost_sql_generation_in_dollars  20  0.9592  0.5272    True\n",
       "11  total_cost_sql_generation_enhanced_in_dollars  20  0.9424  0.2666    True\n",
       "12                          time_in_seconds_total  20  0.9746  0.8478    True\n",
       "13                      time_in_seconds_retriever  20  0.4902  0.0000   False\n",
       "14                 time_in_seconds_sql_generation  20  0.9600  0.5436    True\n",
       "15        time_in_seconds_sql_generation_enhanced  20  0.9174  0.0885    True"
      ]
     },
     "metadata": {},
     "output_type": "display_data"
    },
    {
     "data": {
      "text/html": [
       "<div>\n",
       "<style scoped>\n",
       "    .dataframe tbody tr th:only-of-type {\n",
       "        vertical-align: middle;\n",
       "    }\n",
       "\n",
       "    .dataframe tbody tr th {\n",
       "        vertical-align: top;\n",
       "    }\n",
       "\n",
       "    .dataframe thead th {\n",
       "        text-align: right;\n",
       "    }\n",
       "</style>\n",
       "<table border=\"1\" class=\"dataframe\">\n",
       "  <thead>\n",
       "    <tr style=\"text-align: right;\">\n",
       "      <th></th>\n",
       "      <th>metric</th>\n",
       "      <th>n</th>\n",
       "      <th>W</th>\n",
       "      <th>pval</th>\n",
       "      <th>normal</th>\n",
       "    </tr>\n",
       "  </thead>\n",
       "  <tbody>\n",
       "    <tr>\n",
       "      <th>0</th>\n",
       "      <td>coverage</td>\n",
       "      <td>15</td>\n",
       "      <td>0.6809</td>\n",
       "      <td>0.0002</td>\n",
       "      <td>False</td>\n",
       "    </tr>\n",
       "    <tr>\n",
       "      <th>1</th>\n",
       "      <td>columns_f1</td>\n",
       "      <td>15</td>\n",
       "      <td>0.8882</td>\n",
       "      <td>0.0631</td>\n",
       "      <td>True</td>\n",
       "    </tr>\n",
       "    <tr>\n",
       "      <th>2</th>\n",
       "      <td>columns_precision</td>\n",
       "      <td>15</td>\n",
       "      <td>0.7770</td>\n",
       "      <td>0.0019</td>\n",
       "      <td>False</td>\n",
       "    </tr>\n",
       "    <tr>\n",
       "      <th>3</th>\n",
       "      <td>columns_recall</td>\n",
       "      <td>15</td>\n",
       "      <td>0.7628</td>\n",
       "      <td>0.0013</td>\n",
       "      <td>False</td>\n",
       "    </tr>\n",
       "    <tr>\n",
       "      <th>4</th>\n",
       "      <td>columns_TP</td>\n",
       "      <td>15</td>\n",
       "      <td>0.7628</td>\n",
       "      <td>0.0013</td>\n",
       "      <td>False</td>\n",
       "    </tr>\n",
       "    <tr>\n",
       "      <th>5</th>\n",
       "      <td>columns_FP</td>\n",
       "      <td>15</td>\n",
       "      <td>0.7550</td>\n",
       "      <td>0.0010</td>\n",
       "      <td>False</td>\n",
       "    </tr>\n",
       "    <tr>\n",
       "      <th>6</th>\n",
       "      <td>columns_FN</td>\n",
       "      <td>15</td>\n",
       "      <td>0.7628</td>\n",
       "      <td>0.0013</td>\n",
       "      <td>False</td>\n",
       "    </tr>\n",
       "    <tr>\n",
       "      <th>7</th>\n",
       "      <td>events_f1</td>\n",
       "      <td>15</td>\n",
       "      <td>0.7016</td>\n",
       "      <td>0.0003</td>\n",
       "      <td>False</td>\n",
       "    </tr>\n",
       "    <tr>\n",
       "      <th>8</th>\n",
       "      <td>events_precision</td>\n",
       "      <td>15</td>\n",
       "      <td>0.6462</td>\n",
       "      <td>0.0001</td>\n",
       "      <td>False</td>\n",
       "    </tr>\n",
       "    <tr>\n",
       "      <th>9</th>\n",
       "      <td>events_recall</td>\n",
       "      <td>15</td>\n",
       "      <td>0.5609</td>\n",
       "      <td>0.0000</td>\n",
       "      <td>False</td>\n",
       "    </tr>\n",
       "    <tr>\n",
       "      <th>10</th>\n",
       "      <td>events_TP</td>\n",
       "      <td>15</td>\n",
       "      <td>0.5609</td>\n",
       "      <td>0.0000</td>\n",
       "      <td>False</td>\n",
       "    </tr>\n",
       "    <tr>\n",
       "      <th>11</th>\n",
       "      <td>events_FP</td>\n",
       "      <td>15</td>\n",
       "      <td>0.5275</td>\n",
       "      <td>0.0000</td>\n",
       "      <td>False</td>\n",
       "    </tr>\n",
       "    <tr>\n",
       "      <th>12</th>\n",
       "      <td>events_FN</td>\n",
       "      <td>15</td>\n",
       "      <td>0.5609</td>\n",
       "      <td>0.0000</td>\n",
       "      <td>False</td>\n",
       "    </tr>\n",
       "  </tbody>\n",
       "</table>\n",
       "</div>"
      ],
      "text/plain": [
       "               metric   n       W    pval  normal\n",
       "0            coverage  15  0.6809  0.0002   False\n",
       "1          columns_f1  15  0.8882  0.0631    True\n",
       "2   columns_precision  15  0.7770  0.0019   False\n",
       "3      columns_recall  15  0.7628  0.0013   False\n",
       "4          columns_TP  15  0.7628  0.0013   False\n",
       "5          columns_FP  15  0.7550  0.0010   False\n",
       "6          columns_FN  15  0.7628  0.0013   False\n",
       "7           events_f1  15  0.7016  0.0003   False\n",
       "8    events_precision  15  0.6462  0.0001   False\n",
       "9       events_recall  15  0.5609  0.0000   False\n",
       "10          events_TP  15  0.5609  0.0000   False\n",
       "11          events_FP  15  0.5275  0.0000   False\n",
       "12          events_FN  15  0.5609  0.0000   False"
      ]
     },
     "metadata": {},
     "output_type": "display_data"
    }
   ],
   "source": [
    "def shapiro_summary(df):\n",
    "    result = []\n",
    "    for col in df.select_dtypes(include=[np.number]).columns:\n",
    "        # usamos la librería scipy para el test de shapiro\n",
    "        stat, p = shapiro(df[col].dropna())\n",
    "        # Creamos un diccionario con los resultados\n",
    "        result.append({\n",
    "            \"metric\": col,\n",
    "            \"n\":     df[col].count(),\n",
    "            \"W\":     round(stat, 4),\n",
    "            \"pval\":  round(p, 4),\n",
    "            \"normal\": p >= 0.05       # True se acepta normalidad\n",
    "        })\n",
    "\n",
    "    # Lo pasamos a dataframe para evaluar comportamiento.\n",
    "    return pd.DataFrame(result)\n",
    "\n",
    "# Test de Shapiro para el bloque n20: Métricas de rendimiento de generación de scripts SQL\n",
    "schapiro_results_n20 = shapiro_summary(df_final_stats_n20)\n",
    "\n",
    "# Test de Shapiro para el bloque n15: Métricas de rendimiento replicación de dataset de control MIMICEL\n",
    "schapiro_results_n15 = shapiro_summary(df_final_stats_n15)\n",
    "\n",
    "# Capturamos el total de métricas que superan el test\n",
    "schapiro_true_results_n20 = len(schapiro_results_n20[schapiro_results_n20['normal'] == True])\n",
    "schapiro_true_results_n15 = len(schapiro_results_n15[schapiro_results_n15['normal'] == True])\n",
    "\n",
    "print(f\"Total Métricas que han superado el test de normalidad Schapiro:\" +\n",
    "        f\"{schapiro_true_results_n20 + schapiro_true_results_n15} de \" +\n",
    "        f\"{len(schapiro_results_n20) + len(schapiro_results_n15)}.\")\n",
    "\n",
    "# Mostramos los resultados de todas.\n",
    "display(schapiro_results_n20)\n",
    "display(schapiro_results_n15)"
   ]
  },
  {
   "cell_type": "markdown",
   "id": "ce34b3cf",
   "metadata": {},
   "source": [
    "**Nota:**  \n",
    "Dado que las dos muestras analizadas (n=20 y n=15) son pequeñas y en su mayoría las métricas no superan el test de normalidad. Se decide homogeneizar los cálculos de intervalos de confianza con técnicas bootstrap, para mantener homogeneidad y coherencia sobre los criterios aplicados a las métricas."
   ]
  },
  {
   "cell_type": "markdown",
   "id": "cbb29bfc",
   "metadata": {},
   "source": [
    "#### **8.2. IC mediante Bootstrap**"
   ]
  },
  {
   "cell_type": "code",
   "execution_count": 30,
   "id": "97802f56",
   "metadata": {},
   "outputs": [],
   "source": [
    "# Calculamos estadísticas completas junto con IC bootstrap para las métricas de tokens\n",
    "\n",
    "# Tiempo\n",
    "df_results_stats_time = df_metrics_bootstrap(df_tiempos)\n",
    "\n",
    "# Tokens\n",
    "df_results_stats_tokens = df_metrics_bootstrap(df_tokens)\n",
    "\n",
    "# Coste\n",
    "df_results_stats_cost = df_metrics_bootstrap(df_coste)\n",
    "\n",
    "# Coverage\n",
    "df_results_stats_coverage = df_metrics_bootstrap(df_results_ok_coverage)\n",
    "\n",
    "# Generación de eventos\n",
    "df_results_stats_events = df_metrics_bootstrap(df_events)\n",
    "\n",
    "# Generación de columnas\n",
    "df_results_stats_columns = df_metrics_bootstrap(df_columns)\n"
   ]
  },
  {
   "cell_type": "markdown",
   "id": "e1556b2a",
   "metadata": {},
   "source": [
    "##### **8.2.1. Rendimiento Tiempos de Ejecución por invocación AI Tool.**"
   ]
  },
  {
   "cell_type": "code",
   "execution_count": 31,
   "id": "440957a2",
   "metadata": {},
   "outputs": [
    {
     "name": "stdout",
     "output_type": "stream",
     "text": [
      "Métricas rendimiento Tiempo\n"
     ]
    },
    {
     "data": {
      "text/html": [
       "<div>\n",
       "<style scoped>\n",
       "    .dataframe tbody tr th:only-of-type {\n",
       "        vertical-align: middle;\n",
       "    }\n",
       "\n",
       "    .dataframe tbody tr th {\n",
       "        vertical-align: top;\n",
       "    }\n",
       "\n",
       "    .dataframe thead th {\n",
       "        text-align: right;\n",
       "    }\n",
       "</style>\n",
       "<table border=\"1\" class=\"dataframe\">\n",
       "  <thead>\n",
       "    <tr style=\"text-align: right;\">\n",
       "      <th></th>\n",
       "      <th>metric</th>\n",
       "      <th>n</th>\n",
       "      <th>mean</th>\n",
       "      <th>median</th>\n",
       "      <th>std</th>\n",
       "      <th>IQR</th>\n",
       "      <th>min</th>\n",
       "      <th>max</th>\n",
       "      <th>bootstrap_ci95_low</th>\n",
       "      <th>bootstrap_ci95_high</th>\n",
       "    </tr>\n",
       "  </thead>\n",
       "  <tbody>\n",
       "    <tr>\n",
       "      <th>0</th>\n",
       "      <td>time_in_seconds_total</td>\n",
       "      <td>20</td>\n",
       "      <td>116.079</td>\n",
       "      <td>117.588</td>\n",
       "      <td>18.052</td>\n",
       "      <td>17.180</td>\n",
       "      <td>76.213</td>\n",
       "      <td>156.793</td>\n",
       "      <td>108.241</td>\n",
       "      <td>123.735</td>\n",
       "    </tr>\n",
       "    <tr>\n",
       "      <th>1</th>\n",
       "      <td>time_in_seconds_retriever</td>\n",
       "      <td>20</td>\n",
       "      <td>1.092</td>\n",
       "      <td>0.807</td>\n",
       "      <td>1.225</td>\n",
       "      <td>0.556</td>\n",
       "      <td>0.374</td>\n",
       "      <td>6.080</td>\n",
       "      <td>0.721</td>\n",
       "      <td>1.691</td>\n",
       "    </tr>\n",
       "    <tr>\n",
       "      <th>2</th>\n",
       "      <td>time_in_seconds_sql_generation</td>\n",
       "      <td>20</td>\n",
       "      <td>64.699</td>\n",
       "      <td>66.772</td>\n",
       "      <td>15.112</td>\n",
       "      <td>21.966</td>\n",
       "      <td>39.188</td>\n",
       "      <td>90.274</td>\n",
       "      <td>58.206</td>\n",
       "      <td>71.258</td>\n",
       "    </tr>\n",
       "    <tr>\n",
       "      <th>3</th>\n",
       "      <td>time_in_seconds_sql_generation_enhanced</td>\n",
       "      <td>20</td>\n",
       "      <td>50.263</td>\n",
       "      <td>46.406</td>\n",
       "      <td>12.632</td>\n",
       "      <td>13.345</td>\n",
       "      <td>33.754</td>\n",
       "      <td>81.190</td>\n",
       "      <td>45.100</td>\n",
       "      <td>55.904</td>\n",
       "    </tr>\n",
       "  </tbody>\n",
       "</table>\n",
       "</div>"
      ],
      "text/plain": [
       "                                    metric   n     mean   median     std  \\\n",
       "0                    time_in_seconds_total  20  116.079  117.588  18.052   \n",
       "1                time_in_seconds_retriever  20    1.092    0.807   1.225   \n",
       "2           time_in_seconds_sql_generation  20   64.699   66.772  15.112   \n",
       "3  time_in_seconds_sql_generation_enhanced  20   50.263   46.406  12.632   \n",
       "\n",
       "      IQR     min      max  bootstrap_ci95_low  bootstrap_ci95_high  \n",
       "0  17.180  76.213  156.793             108.241              123.735  \n",
       "1   0.556   0.374    6.080               0.721                1.691  \n",
       "2  21.966  39.188   90.274              58.206               71.258  \n",
       "3  13.345  33.754   81.190              45.100               55.904  "
      ]
     },
     "metadata": {},
     "output_type": "display_data"
    }
   ],
   "source": [
    "# Visualización de los resultados\n",
    "print(\"Métricas rendimiento Tiempo\")\n",
    "display(df_results_stats_time)"
   ]
  },
  {
   "cell_type": "markdown",
   "id": "3eb7b6f8",
   "metadata": {},
   "source": [
    "##### **8.2.2. Rendimiento Consumo de tokens por invocación AI Tool.**"
   ]
  },
  {
   "cell_type": "code",
   "execution_count": 32,
   "id": "625fa00e",
   "metadata": {},
   "outputs": [
    {
     "name": "stdout",
     "output_type": "stream",
     "text": [
      "Métricas rendimiento Tokens\n"
     ]
    },
    {
     "data": {
      "text/html": [
       "<div>\n",
       "<style scoped>\n",
       "    .dataframe tbody tr th:only-of-type {\n",
       "        vertical-align: middle;\n",
       "    }\n",
       "\n",
       "    .dataframe tbody tr th {\n",
       "        vertical-align: top;\n",
       "    }\n",
       "\n",
       "    .dataframe thead th {\n",
       "        text-align: right;\n",
       "    }\n",
       "</style>\n",
       "<table border=\"1\" class=\"dataframe\">\n",
       "  <thead>\n",
       "    <tr style=\"text-align: right;\">\n",
       "      <th></th>\n",
       "      <th>metric</th>\n",
       "      <th>n</th>\n",
       "      <th>mean</th>\n",
       "      <th>median</th>\n",
       "      <th>std</th>\n",
       "      <th>IQR</th>\n",
       "      <th>min</th>\n",
       "      <th>max</th>\n",
       "      <th>bootstrap_ci95_low</th>\n",
       "      <th>bootstrap_ci95_high</th>\n",
       "    </tr>\n",
       "  </thead>\n",
       "  <tbody>\n",
       "    <tr>\n",
       "      <th>0</th>\n",
       "      <td>tokens_total_tool</td>\n",
       "      <td>20</td>\n",
       "      <td>43040.55</td>\n",
       "      <td>43014.5</td>\n",
       "      <td>1925.141</td>\n",
       "      <td>1968.50</td>\n",
       "      <td>39883</td>\n",
       "      <td>47526</td>\n",
       "      <td>42242.250</td>\n",
       "      <td>43866.186</td>\n",
       "    </tr>\n",
       "    <tr>\n",
       "      <th>1</th>\n",
       "      <td>tokens_total_retriever_embedding</td>\n",
       "      <td>20</td>\n",
       "      <td>449.05</td>\n",
       "      <td>440.0</td>\n",
       "      <td>40.303</td>\n",
       "      <td>92.00</td>\n",
       "      <td>404</td>\n",
       "      <td>502</td>\n",
       "      <td>432.249</td>\n",
       "      <td>466.900</td>\n",
       "    </tr>\n",
       "    <tr>\n",
       "      <th>2</th>\n",
       "      <td>tokens_total_sql_generation</td>\n",
       "      <td>20</td>\n",
       "      <td>20439.80</td>\n",
       "      <td>20132.0</td>\n",
       "      <td>1278.594</td>\n",
       "      <td>1937.75</td>\n",
       "      <td>18435</td>\n",
       "      <td>22743</td>\n",
       "      <td>19896.184</td>\n",
       "      <td>20995.474</td>\n",
       "    </tr>\n",
       "    <tr>\n",
       "      <th>3</th>\n",
       "      <td>tokens_total_sql_generation_enhanced</td>\n",
       "      <td>20</td>\n",
       "      <td>22151.70</td>\n",
       "      <td>22040.5</td>\n",
       "      <td>1382.085</td>\n",
       "      <td>1613.25</td>\n",
       "      <td>19975</td>\n",
       "      <td>25352</td>\n",
       "      <td>21582.278</td>\n",
       "      <td>22760.259</td>\n",
       "    </tr>\n",
       "    <tr>\n",
       "      <th>4</th>\n",
       "      <td>tokens_prompt_sql_generation</td>\n",
       "      <td>20</td>\n",
       "      <td>13621.80</td>\n",
       "      <td>13615.0</td>\n",
       "      <td>37.399</td>\n",
       "      <td>87.00</td>\n",
       "      <td>13580</td>\n",
       "      <td>13670</td>\n",
       "      <td>13606.099</td>\n",
       "      <td>13638.300</td>\n",
       "    </tr>\n",
       "    <tr>\n",
       "      <th>5</th>\n",
       "      <td>tokens_prompt_sql_generation_enhanced</td>\n",
       "      <td>20</td>\n",
       "      <td>16486.50</td>\n",
       "      <td>16390.5</td>\n",
       "      <td>321.271</td>\n",
       "      <td>352.00</td>\n",
       "      <td>16041</td>\n",
       "      <td>17164</td>\n",
       "      <td>16356.600</td>\n",
       "      <td>16631.005</td>\n",
       "    </tr>\n",
       "    <tr>\n",
       "      <th>6</th>\n",
       "      <td>tokens_completion_sql_generation</td>\n",
       "      <td>20</td>\n",
       "      <td>6818.00</td>\n",
       "      <td>6533.5</td>\n",
       "      <td>1289.874</td>\n",
       "      <td>1934.75</td>\n",
       "      <td>4765</td>\n",
       "      <td>9074</td>\n",
       "      <td>6266.645</td>\n",
       "      <td>7377.354</td>\n",
       "    </tr>\n",
       "    <tr>\n",
       "      <th>7</th>\n",
       "      <td>tokens_completion_sql_generation_enhanced</td>\n",
       "      <td>20</td>\n",
       "      <td>5665.20</td>\n",
       "      <td>5430.0</td>\n",
       "      <td>1385.734</td>\n",
       "      <td>1328.25</td>\n",
       "      <td>3683</td>\n",
       "      <td>8943</td>\n",
       "      <td>5103.449</td>\n",
       "      <td>6284.001</td>\n",
       "    </tr>\n",
       "  </tbody>\n",
       "</table>\n",
       "</div>"
      ],
      "text/plain": [
       "                                      metric   n      mean   median       std  \\\n",
       "0                          tokens_total_tool  20  43040.55  43014.5  1925.141   \n",
       "1           tokens_total_retriever_embedding  20    449.05    440.0    40.303   \n",
       "2                tokens_total_sql_generation  20  20439.80  20132.0  1278.594   \n",
       "3       tokens_total_sql_generation_enhanced  20  22151.70  22040.5  1382.085   \n",
       "4               tokens_prompt_sql_generation  20  13621.80  13615.0    37.399   \n",
       "5      tokens_prompt_sql_generation_enhanced  20  16486.50  16390.5   321.271   \n",
       "6           tokens_completion_sql_generation  20   6818.00   6533.5  1289.874   \n",
       "7  tokens_completion_sql_generation_enhanced  20   5665.20   5430.0  1385.734   \n",
       "\n",
       "       IQR    min    max  bootstrap_ci95_low  bootstrap_ci95_high  \n",
       "0  1968.50  39883  47526           42242.250            43866.186  \n",
       "1    92.00    404    502             432.249              466.900  \n",
       "2  1937.75  18435  22743           19896.184            20995.474  \n",
       "3  1613.25  19975  25352           21582.278            22760.259  \n",
       "4    87.00  13580  13670           13606.099            13638.300  \n",
       "5   352.00  16041  17164           16356.600            16631.005  \n",
       "6  1934.75   4765   9074            6266.645             7377.354  \n",
       "7  1328.25   3683   8943            5103.449             6284.001  "
      ]
     },
     "metadata": {},
     "output_type": "display_data"
    }
   ],
   "source": [
    "print(\"Métricas rendimiento Tokens\")\n",
    "display(df_results_stats_tokens)\n"
   ]
  },
  {
   "cell_type": "markdown",
   "id": "27c0551c",
   "metadata": {},
   "source": [
    "##### **8.2.3. Rendimiento Costes por invocación (USD) AI Tool.**"
   ]
  },
  {
   "cell_type": "code",
   "execution_count": 33,
   "id": "ec1c8cf9",
   "metadata": {},
   "outputs": [
    {
     "name": "stdout",
     "output_type": "stream",
     "text": [
      "Métricas rendimiento Coste\n"
     ]
    },
    {
     "data": {
      "text/html": [
       "<div>\n",
       "<style scoped>\n",
       "    .dataframe tbody tr th:only-of-type {\n",
       "        vertical-align: middle;\n",
       "    }\n",
       "\n",
       "    .dataframe tbody tr th {\n",
       "        vertical-align: top;\n",
       "    }\n",
       "\n",
       "    .dataframe thead th {\n",
       "        text-align: right;\n",
       "    }\n",
       "</style>\n",
       "<table border=\"1\" class=\"dataframe\">\n",
       "  <thead>\n",
       "    <tr style=\"text-align: right;\">\n",
       "      <th></th>\n",
       "      <th>metric</th>\n",
       "      <th>n</th>\n",
       "      <th>mean</th>\n",
       "      <th>median</th>\n",
       "      <th>std</th>\n",
       "      <th>IQR</th>\n",
       "      <th>min</th>\n",
       "      <th>max</th>\n",
       "      <th>bootstrap_ci95_low</th>\n",
       "      <th>bootstrap_ci95_high</th>\n",
       "    </tr>\n",
       "  </thead>\n",
       "  <tbody>\n",
       "    <tr>\n",
       "      <th>0</th>\n",
       "      <td>total_cost_tool_in_dollars</td>\n",
       "      <td>20</td>\n",
       "      <td>0.088</td>\n",
       "      <td>0.088</td>\n",
       "      <td>0.008</td>\n",
       "      <td>0.007</td>\n",
       "      <td>0.074</td>\n",
       "      <td>0.108</td>\n",
       "      <td>0.085</td>\n",
       "      <td>0.092</td>\n",
       "    </tr>\n",
       "    <tr>\n",
       "      <th>1</th>\n",
       "      <td>total_cost_retriever_embedding_in_dollars</td>\n",
       "      <td>20</td>\n",
       "      <td>0.000</td>\n",
       "      <td>0.000</td>\n",
       "      <td>0.000</td>\n",
       "      <td>0.000</td>\n",
       "      <td>0.000</td>\n",
       "      <td>0.000</td>\n",
       "      <td>0.000</td>\n",
       "      <td>0.000</td>\n",
       "    </tr>\n",
       "    <tr>\n",
       "      <th>2</th>\n",
       "      <td>total_cost_sql_generation_in_dollars</td>\n",
       "      <td>20</td>\n",
       "      <td>0.045</td>\n",
       "      <td>0.044</td>\n",
       "      <td>0.006</td>\n",
       "      <td>0.009</td>\n",
       "      <td>0.036</td>\n",
       "      <td>0.055</td>\n",
       "      <td>0.043</td>\n",
       "      <td>0.047</td>\n",
       "    </tr>\n",
       "    <tr>\n",
       "      <th>3</th>\n",
       "      <td>total_cost_sql_generation_enhanced_in_dollars</td>\n",
       "      <td>20</td>\n",
       "      <td>0.043</td>\n",
       "      <td>0.042</td>\n",
       "      <td>0.006</td>\n",
       "      <td>0.006</td>\n",
       "      <td>0.034</td>\n",
       "      <td>0.057</td>\n",
       "      <td>0.041</td>\n",
       "      <td>0.046</td>\n",
       "    </tr>\n",
       "  </tbody>\n",
       "</table>\n",
       "</div>"
      ],
      "text/plain": [
       "                                          metric   n   mean  median    std  \\\n",
       "0                     total_cost_tool_in_dollars  20  0.088   0.088  0.008   \n",
       "1      total_cost_retriever_embedding_in_dollars  20  0.000   0.000  0.000   \n",
       "2           total_cost_sql_generation_in_dollars  20  0.045   0.044  0.006   \n",
       "3  total_cost_sql_generation_enhanced_in_dollars  20  0.043   0.042  0.006   \n",
       "\n",
       "     IQR    min    max  bootstrap_ci95_low  bootstrap_ci95_high  \n",
       "0  0.007  0.074  0.108               0.085                0.092  \n",
       "1  0.000  0.000  0.000               0.000                0.000  \n",
       "2  0.009  0.036  0.055               0.043                0.047  \n",
       "3  0.006  0.034  0.057               0.041                0.046  "
      ]
     },
     "metadata": {},
     "output_type": "display_data"
    }
   ],
   "source": [
    "print(\"Métricas rendimiento Coste\")\n",
    "display(df_results_stats_cost)"
   ]
  },
  {
   "cell_type": "markdown",
   "id": "dab7cfc7",
   "metadata": {},
   "source": [
    "##### **8.2.4. Rendimiento Coverage. (Líneas generadas / Líneas esperadas en dataset de control MIMICEL)**"
   ]
  },
  {
   "cell_type": "code",
   "execution_count": 34,
   "id": "26968584",
   "metadata": {},
   "outputs": [
    {
     "name": "stdout",
     "output_type": "stream",
     "text": [
      "Métricas rendimiento Coverage\n"
     ]
    },
    {
     "data": {
      "text/html": [
       "<div>\n",
       "<style scoped>\n",
       "    .dataframe tbody tr th:only-of-type {\n",
       "        vertical-align: middle;\n",
       "    }\n",
       "\n",
       "    .dataframe tbody tr th {\n",
       "        vertical-align: top;\n",
       "    }\n",
       "\n",
       "    .dataframe thead th {\n",
       "        text-align: right;\n",
       "    }\n",
       "</style>\n",
       "<table border=\"1\" class=\"dataframe\">\n",
       "  <thead>\n",
       "    <tr style=\"text-align: right;\">\n",
       "      <th></th>\n",
       "      <th>metric</th>\n",
       "      <th>n</th>\n",
       "      <th>mean</th>\n",
       "      <th>median</th>\n",
       "      <th>std</th>\n",
       "      <th>IQR</th>\n",
       "      <th>min</th>\n",
       "      <th>max</th>\n",
       "      <th>bootstrap_ci95_low</th>\n",
       "      <th>bootstrap_ci95_high</th>\n",
       "    </tr>\n",
       "  </thead>\n",
       "  <tbody>\n",
       "    <tr>\n",
       "      <th>0</th>\n",
       "      <td>coverage</td>\n",
       "      <td>15</td>\n",
       "      <td>1.008</td>\n",
       "      <td>1.001</td>\n",
       "      <td>0.019</td>\n",
       "      <td>0.0</td>\n",
       "      <td>0.979</td>\n",
       "      <td>1.057</td>\n",
       "      <td>1.0</td>\n",
       "      <td>1.018</td>\n",
       "    </tr>\n",
       "  </tbody>\n",
       "</table>\n",
       "</div>"
      ],
      "text/plain": [
       "     metric   n   mean  median    std  IQR    min    max  bootstrap_ci95_low  \\\n",
       "0  coverage  15  1.008   1.001  0.019  0.0  0.979  1.057                 1.0   \n",
       "\n",
       "   bootstrap_ci95_high  \n",
       "0                1.018  "
      ]
     },
     "metadata": {},
     "output_type": "display_data"
    }
   ],
   "source": [
    "print(\"Métricas rendimiento Coverage\")\n",
    "display(df_results_stats_coverage)"
   ]
  },
  {
   "cell_type": "markdown",
   "id": "161d4403",
   "metadata": {},
   "source": [
    "##### **8.2.5. Rendimiento Generación de Columnas AI Tool vs Columnas esperadas en dataset de control MIMICEL**"
   ]
  },
  {
   "cell_type": "code",
   "execution_count": 35,
   "id": "138a7d52",
   "metadata": {},
   "outputs": [
    {
     "name": "stdout",
     "output_type": "stream",
     "text": [
      "Métricas rendimiento Generación de Columnas\n"
     ]
    },
    {
     "data": {
      "text/html": [
       "<div>\n",
       "<style scoped>\n",
       "    .dataframe tbody tr th:only-of-type {\n",
       "        vertical-align: middle;\n",
       "    }\n",
       "\n",
       "    .dataframe tbody tr th {\n",
       "        vertical-align: top;\n",
       "    }\n",
       "\n",
       "    .dataframe thead th {\n",
       "        text-align: right;\n",
       "    }\n",
       "</style>\n",
       "<table border=\"1\" class=\"dataframe\">\n",
       "  <thead>\n",
       "    <tr style=\"text-align: right;\">\n",
       "      <th></th>\n",
       "      <th>metric</th>\n",
       "      <th>n</th>\n",
       "      <th>mean</th>\n",
       "      <th>median</th>\n",
       "      <th>std</th>\n",
       "      <th>IQR</th>\n",
       "      <th>min</th>\n",
       "      <th>max</th>\n",
       "      <th>bootstrap_ci95_low</th>\n",
       "      <th>bootstrap_ci95_high</th>\n",
       "    </tr>\n",
       "  </thead>\n",
       "  <tbody>\n",
       "    <tr>\n",
       "      <th>0</th>\n",
       "      <td>events_f1</td>\n",
       "      <td>15</td>\n",
       "      <td>0.900</td>\n",
       "      <td>1.0</td>\n",
       "      <td>0.148</td>\n",
       "      <td>0.167</td>\n",
       "      <td>0.571</td>\n",
       "      <td>1.0</td>\n",
       "      <td>0.821</td>\n",
       "      <td>0.967</td>\n",
       "    </tr>\n",
       "    <tr>\n",
       "      <th>1</th>\n",
       "      <td>events_precision</td>\n",
       "      <td>15</td>\n",
       "      <td>0.877</td>\n",
       "      <td>1.0</td>\n",
       "      <td>0.202</td>\n",
       "      <td>0.167</td>\n",
       "      <td>0.400</td>\n",
       "      <td>1.0</td>\n",
       "      <td>0.766</td>\n",
       "      <td>0.967</td>\n",
       "    </tr>\n",
       "    <tr>\n",
       "      <th>2</th>\n",
       "      <td>events_recall</td>\n",
       "      <td>15</td>\n",
       "      <td>0.956</td>\n",
       "      <td>1.0</td>\n",
       "      <td>0.076</td>\n",
       "      <td>0.083</td>\n",
       "      <td>0.833</td>\n",
       "      <td>1.0</td>\n",
       "      <td>0.911</td>\n",
       "      <td>0.989</td>\n",
       "    </tr>\n",
       "    <tr>\n",
       "      <th>3</th>\n",
       "      <td>events_TP</td>\n",
       "      <td>15</td>\n",
       "      <td>5.733</td>\n",
       "      <td>6.0</td>\n",
       "      <td>0.458</td>\n",
       "      <td>0.500</td>\n",
       "      <td>5.000</td>\n",
       "      <td>6.0</td>\n",
       "      <td>5.467</td>\n",
       "      <td>5.933</td>\n",
       "    </tr>\n",
       "    <tr>\n",
       "      <th>4</th>\n",
       "      <td>events_FP</td>\n",
       "      <td>15</td>\n",
       "      <td>1.400</td>\n",
       "      <td>0.0</td>\n",
       "      <td>2.923</td>\n",
       "      <td>1.000</td>\n",
       "      <td>0.000</td>\n",
       "      <td>9.0</td>\n",
       "      <td>0.200</td>\n",
       "      <td>3.067</td>\n",
       "    </tr>\n",
       "    <tr>\n",
       "      <th>5</th>\n",
       "      <td>events_FN</td>\n",
       "      <td>15</td>\n",
       "      <td>0.267</td>\n",
       "      <td>0.0</td>\n",
       "      <td>0.458</td>\n",
       "      <td>0.500</td>\n",
       "      <td>0.000</td>\n",
       "      <td>1.0</td>\n",
       "      <td>0.067</td>\n",
       "      <td>0.533</td>\n",
       "    </tr>\n",
       "  </tbody>\n",
       "</table>\n",
       "</div>"
      ],
      "text/plain": [
       "             metric   n   mean  median    std    IQR    min  max  \\\n",
       "0         events_f1  15  0.900     1.0  0.148  0.167  0.571  1.0   \n",
       "1  events_precision  15  0.877     1.0  0.202  0.167  0.400  1.0   \n",
       "2     events_recall  15  0.956     1.0  0.076  0.083  0.833  1.0   \n",
       "3         events_TP  15  5.733     6.0  0.458  0.500  5.000  6.0   \n",
       "4         events_FP  15  1.400     0.0  2.923  1.000  0.000  9.0   \n",
       "5         events_FN  15  0.267     0.0  0.458  0.500  0.000  1.0   \n",
       "\n",
       "   bootstrap_ci95_low  bootstrap_ci95_high  \n",
       "0               0.821                0.967  \n",
       "1               0.766                0.967  \n",
       "2               0.911                0.989  \n",
       "3               5.467                5.933  \n",
       "4               0.200                3.067  \n",
       "5               0.067                0.533  "
      ]
     },
     "metadata": {},
     "output_type": "display_data"
    }
   ],
   "source": [
    "print(\"Métricas rendimiento Generación de Columnas\")\n",
    "display(df_results_stats_events)"
   ]
  },
  {
   "cell_type": "markdown",
   "id": "deeab265",
   "metadata": {},
   "source": [
    "##### **8.2.6. Rendimiento Generación de Eventos AI Tool vs Columnas esperadas en dataset de control MIMICEL**"
   ]
  },
  {
   "cell_type": "code",
   "execution_count": 36,
   "id": "72772c1b",
   "metadata": {},
   "outputs": [
    {
     "name": "stdout",
     "output_type": "stream",
     "text": [
      "Métricas rendimiento Generación de Eventos\n"
     ]
    },
    {
     "data": {
      "text/html": [
       "<div>\n",
       "<style scoped>\n",
       "    .dataframe tbody tr th:only-of-type {\n",
       "        vertical-align: middle;\n",
       "    }\n",
       "\n",
       "    .dataframe tbody tr th {\n",
       "        vertical-align: top;\n",
       "    }\n",
       "\n",
       "    .dataframe thead th {\n",
       "        text-align: right;\n",
       "    }\n",
       "</style>\n",
       "<table border=\"1\" class=\"dataframe\">\n",
       "  <thead>\n",
       "    <tr style=\"text-align: right;\">\n",
       "      <th></th>\n",
       "      <th>metric</th>\n",
       "      <th>n</th>\n",
       "      <th>mean</th>\n",
       "      <th>median</th>\n",
       "      <th>std</th>\n",
       "      <th>IQR</th>\n",
       "      <th>min</th>\n",
       "      <th>max</th>\n",
       "      <th>bootstrap_ci95_low</th>\n",
       "      <th>bootstrap_ci95_high</th>\n",
       "    </tr>\n",
       "  </thead>\n",
       "  <tbody>\n",
       "    <tr>\n",
       "      <th>0</th>\n",
       "      <td>events_f1</td>\n",
       "      <td>15</td>\n",
       "      <td>0.900</td>\n",
       "      <td>1.0</td>\n",
       "      <td>0.148</td>\n",
       "      <td>0.167</td>\n",
       "      <td>0.571</td>\n",
       "      <td>1.0</td>\n",
       "      <td>0.821</td>\n",
       "      <td>0.967</td>\n",
       "    </tr>\n",
       "    <tr>\n",
       "      <th>1</th>\n",
       "      <td>events_precision</td>\n",
       "      <td>15</td>\n",
       "      <td>0.877</td>\n",
       "      <td>1.0</td>\n",
       "      <td>0.202</td>\n",
       "      <td>0.167</td>\n",
       "      <td>0.400</td>\n",
       "      <td>1.0</td>\n",
       "      <td>0.766</td>\n",
       "      <td>0.967</td>\n",
       "    </tr>\n",
       "    <tr>\n",
       "      <th>2</th>\n",
       "      <td>events_recall</td>\n",
       "      <td>15</td>\n",
       "      <td>0.956</td>\n",
       "      <td>1.0</td>\n",
       "      <td>0.076</td>\n",
       "      <td>0.083</td>\n",
       "      <td>0.833</td>\n",
       "      <td>1.0</td>\n",
       "      <td>0.911</td>\n",
       "      <td>0.989</td>\n",
       "    </tr>\n",
       "    <tr>\n",
       "      <th>3</th>\n",
       "      <td>events_TP</td>\n",
       "      <td>15</td>\n",
       "      <td>5.733</td>\n",
       "      <td>6.0</td>\n",
       "      <td>0.458</td>\n",
       "      <td>0.500</td>\n",
       "      <td>5.000</td>\n",
       "      <td>6.0</td>\n",
       "      <td>5.467</td>\n",
       "      <td>5.933</td>\n",
       "    </tr>\n",
       "    <tr>\n",
       "      <th>4</th>\n",
       "      <td>events_FP</td>\n",
       "      <td>15</td>\n",
       "      <td>1.400</td>\n",
       "      <td>0.0</td>\n",
       "      <td>2.923</td>\n",
       "      <td>1.000</td>\n",
       "      <td>0.000</td>\n",
       "      <td>9.0</td>\n",
       "      <td>0.200</td>\n",
       "      <td>3.067</td>\n",
       "    </tr>\n",
       "    <tr>\n",
       "      <th>5</th>\n",
       "      <td>events_FN</td>\n",
       "      <td>15</td>\n",
       "      <td>0.267</td>\n",
       "      <td>0.0</td>\n",
       "      <td>0.458</td>\n",
       "      <td>0.500</td>\n",
       "      <td>0.000</td>\n",
       "      <td>1.0</td>\n",
       "      <td>0.067</td>\n",
       "      <td>0.533</td>\n",
       "    </tr>\n",
       "  </tbody>\n",
       "</table>\n",
       "</div>"
      ],
      "text/plain": [
       "             metric   n   mean  median    std    IQR    min  max  \\\n",
       "0         events_f1  15  0.900     1.0  0.148  0.167  0.571  1.0   \n",
       "1  events_precision  15  0.877     1.0  0.202  0.167  0.400  1.0   \n",
       "2     events_recall  15  0.956     1.0  0.076  0.083  0.833  1.0   \n",
       "3         events_TP  15  5.733     6.0  0.458  0.500  5.000  6.0   \n",
       "4         events_FP  15  1.400     0.0  2.923  1.000  0.000  9.0   \n",
       "5         events_FN  15  0.267     0.0  0.458  0.500  0.000  1.0   \n",
       "\n",
       "   bootstrap_ci95_low  bootstrap_ci95_high  \n",
       "0               0.821                0.967  \n",
       "1               0.766                0.967  \n",
       "2               0.911                0.989  \n",
       "3               5.467                5.933  \n",
       "4               0.200                3.067  \n",
       "5               0.067                0.533  "
      ]
     },
     "metadata": {},
     "output_type": "display_data"
    }
   ],
   "source": [
    "print(\"Métricas rendimiento Generación de Eventos\")\n",
    "display(df_results_stats_events)"
   ]
  }
 ],
 "metadata": {
  "kernelspec": {
   "display_name": "venv",
   "language": "python",
   "name": "python3"
  },
  "language_info": {
   "codemirror_mode": {
    "name": "ipython",
    "version": 3
   },
   "file_extension": ".py",
   "mimetype": "text/x-python",
   "name": "python",
   "nbconvert_exporter": "python",
   "pygments_lexer": "ipython3",
   "version": "3.12.3"
  }
 },
 "nbformat": 4,
 "nbformat_minor": 5
}
